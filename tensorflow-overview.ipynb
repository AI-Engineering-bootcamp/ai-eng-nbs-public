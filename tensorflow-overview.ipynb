{
 "cells": [
  {
   "cell_type": "markdown",
   "id": "fc472cd7-3335-47e1-9bf2-355ce45295c9",
   "metadata": {},
   "source": [
    "<div>\n",
    "<img src=\"https://education-team-2020.s3.eu-west-1.amazonaws.com/ai-eng/tensorflow.png\" alt=\"tensorflow log\" width=\"1000\"/>\n",
    "</div>"
   ]
  },
  {
   "cell_type": "markdown",
   "id": "9a4382c7-2d1e-4fe4-bee6-aea4a215aa09",
   "metadata": {},
   "source": [
    "# Tensorflow Overview"
   ]
  },
  {
   "cell_type": "markdown",
   "id": "da845383-6ca2-493f-9848-96ddcc5e525c",
   "metadata": {},
   "source": [
    "## Overview\n",
    "\n",
    "TensorFlow is an end-to-end open-source platform for machine learning. It provides a comprehensive ecosystem of tools, libraries, and community resources that allows researchers and developers to build and deploy machine learning applications. TensorFlow facilitates the creation of machine learning models for desktop, mobile, web, and cloud environments, and supports tasks such as training deep neural networks and performing inference with dataflow and differentiable programming.\n",
    "\n",
    "Here are some key features of TensorFlow:\n",
    "\n",
    "•  Flexible: TensorFlow offers multiple levels of abstraction so you can choose the right one for your needs. You can build and train models using high-level Keras APIs or dive into lower-level details if required.\n",
    "\n",
    "•  Easily Deployable: It supports deployment across a variety of platforms, including servers, edge devices, browsers, and mobile devices.\n",
    "\n",
    "•  Robust ML Production Anywhere: TensorFlow can be used to deploy machine learning models in production on various types of processors, including Google's custom Tensor Processing Units (TPUs).\n",
    "\n",
    "•  Tools and Libraries: TensorFlow provides tools like TensorBoard for visualization, TensorFlow Lite for mobile and edge devices, and TensorFlow.js for browser-based applications.\n",
    "\n",
    "•  Community and Support: Being open-source, TensorFlow has a large community that contributes to its continuous development and provides extensive support through forums and documentation.\n",
    "\n",
    "TensorFlow is widely used in the industry and academia for a range of tasks from simple classification to complex tasks like image recognition, natural language processing, and more\n",
    "\n",
    "## Ojectives\n",
    "\n",
    "These objectives are designed to guide learners through the process of becoming proficient in using TensorFlow for a variety of machine learning tasks. "
   ]
  },
  {
   "cell_type": "markdown",
   "id": "a36b1d22-3fde-4762-ab80-74a490612897",
   "metadata": {},
   "source": [
    "### TF Architecture\n",
    "\n",
    "<div>\n",
    "<img src=\"https://education-team-2020.s3.eu-west-1.amazonaws.com/ai-eng/tensorflow_arch.png\" alt='tensorflow architecture' width=\"500\"/>\n",
    "</div>\n",
    "\n",
    "\n",
    "The TensorFlow API architecture, particularly for the latest models, is structured around several key components that facilitate the building, training, and deployment of machine learning models. Here's an overview of the TensorFlow API architecture:\n",
    "\n",
    " \n",
    "1. Core TensorFlow API: This is the foundation of TensorFlow, providing low-level operations and tensors. It allows for the creation of computational graphs and the execution of sessions where these graphs are run.\n",
    " \n",
    "2. Layers API: Built on top of the core, the Layers API offers high-level building blocks for creating neural network layers, encapsulating both state (weights) and computation.\n",
    " \n",
    "3. Keras API: Keras is a high-level API for TensorFlow, designed for easy and fast prototyping of deep learning models.It includes components for building models layer by layer or through the functional API for more complex architectures.\n",
    " \n",
    "4. Models: In TensorFlow, models can be created using the Sequential class for linear stacks of layers or the functional API for arbitrary graphs of layers.Models group layers together and can be trained on data.\n",
    "\n",
    "5. Training and Evaluation Methods: The tf.keras.Model class includes built-in methods for training (fit), evaluation (evaluate), and prediction (predict), streamlining these common tasks.\n",
    "\n",
    "6. Preprocessing Layers: TensorFlow provides layers for data preprocessing tasks like normalization and text vectorization, which can be included directly in models.\n"
   ]
  },
  {
   "cell_type": "markdown",
   "id": "b0c8f723-e791-4f5f-9fd6-7c914b4cd417",
   "metadata": {},
   "source": [
    "You can easily create a tensor, using tf.constant(). For example, here is a tensor\n",
    "representing a matrix with two rows and three columns of floats:"
   ]
  },
  {
   "cell_type": "code",
   "execution_count": null,
   "id": "8002b4f0-7e90-4e9b-aec0-661dce3e9dd4",
   "metadata": {},
   "outputs": [],
   "source": [
    "tf.constant([[1., 2., 3.], [4., 5., 6.]]) # matrix"
   ]
  },
  {
   "cell_type": "code",
   "execution_count": null,
   "id": "23a4b0b3-e1d7-425f-9da5-2efa58a46522",
   "metadata": {},
   "outputs": [],
   "source": [
    "tf.constant(42) # scalar"
   ]
  },
  {
   "cell_type": "markdown",
   "id": "96b2069a-829a-482d-bbd5-72d83985294f",
   "metadata": {},
   "source": [
    "Just like an ndarray, a tf.Tensor has a shape and a data type (dtype):"
   ]
  },
  {
   "cell_type": "code",
   "execution_count": null,
   "id": "80deaaf9-0d00-4993-9af5-e0c15d6b2713",
   "metadata": {},
   "outputs": [],
   "source": [
    "t = tf.constant([[1., 2., 3.], [4., 5., 6.]])\n",
    "t.shape"
   ]
  },
  {
   "cell_type": "code",
   "execution_count": null,
   "id": "e93c2da0-a4f7-4ffd-99ae-4decf3566297",
   "metadata": {},
   "outputs": [],
   "source": [
    "t.dtype"
   ]
  },
  {
   "cell_type": "markdown",
   "id": "28dafea4-6b98-4900-8650-de59c6ed21ca",
   "metadata": {},
   "source": [
    "Indexing works much like in NumPy:"
   ]
  },
  {
   "cell_type": "code",
   "execution_count": null,
   "id": "e6b43b01-184d-4187-95cb-05c440484409",
   "metadata": {},
   "outputs": [],
   "source": [
    "t[:, 1:]"
   ]
  },
  {
   "cell_type": "code",
   "execution_count": null,
   "id": "ade0c370-8d55-4280-937d-1bea91c886a4",
   "metadata": {},
   "outputs": [],
   "source": [
    "t[..., 1, tf.newaxis]"
   ]
  },
  {
   "cell_type": "markdown",
   "id": "703597c4-75f4-4906-9337-caac1d6dc312",
   "metadata": {},
   "source": [
    "### Tensor and Numpy\n",
    "Tensors play nice with NumPy: you can create a tensor from a NumPy array, and vice\n",
    "versa, and you can even apply TensorFlow operations to NumPy arrays and NumPy\n",
    "operations to tensors:"
   ]
  },
  {
   "cell_type": "code",
   "execution_count": null,
   "id": "23d04bea-4ce0-4c5c-9b56-5bb4fd0d96be",
   "metadata": {},
   "outputs": [],
   "source": [
    "a = np.array([2., 4., 5.])"
   ]
  },
  {
   "cell_type": "code",
   "execution_count": null,
   "id": "80810737-5275-4e17-97e8-3fd38b2edd98",
   "metadata": {},
   "outputs": [],
   "source": [
    "tf.constant(a)"
   ]
  },
  {
   "cell_type": "code",
   "execution_count": null,
   "id": "3c1c225a-a609-43c8-bcfd-cc2de476ba1e",
   "metadata": {},
   "outputs": [],
   "source": [
    "t.numpy() # or np.array(t)"
   ]
  },
  {
   "cell_type": "code",
   "execution_count": null,
   "id": "a7bd9b0b-dfb9-4e80-8e11-794cd8faf8f8",
   "metadata": {},
   "outputs": [],
   "source": [
    "tf.square(a)"
   ]
  },
  {
   "cell_type": "markdown",
   "id": "e148ec6a-7f01-4874-a8b7-e1fc2ddff338",
   "metadata": {},
   "source": [
    "Notice that NumPy uses 64-bit precision by default, while Tensor‐\n",
    "Flow uses 32-bit. This is because 32-bit precision is generally more\n",
    "than enough for neural networks, plus it runs faster and uses less\n",
    "RAM. So when you create a tensor from a NumPy array, make sure\n",
    "to set dtype=tf.float32."
   ]
  },
  {
   "cell_type": "code",
   "execution_count": null,
   "id": "118e1ea0-779d-4618-aaa7-864f4f0e534d",
   "metadata": {},
   "outputs": [],
   "source": []
  }
 ],
 "metadata": {
  "kernelspec": {
   "display_name": "Python 3 (ipykernel)",
   "language": "python",
   "name": "python3"
  },
  "language_info": {
   "codemirror_mode": {
    "name": "ipython",
    "version": 3
   },
   "file_extension": ".py",
   "mimetype": "text/x-python",
   "name": "python",
   "nbconvert_exporter": "python",
   "pygments_lexer": "ipython3",
   "version": "3.11.8"
  }
 },
 "nbformat": 4,
 "nbformat_minor": 5
}
