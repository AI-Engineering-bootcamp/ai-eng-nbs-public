{
 "cells": [
  {
   "cell_type": "markdown",
   "metadata": {
    "toc": true
   },
   "source": [
    "<h1>Bash<span class=\"tocSkip\"></span></h1>\n",
    "<h3>Table of Contents<span class=\"tocSkip\"></span></h3>\n",
    "<div class=\"toc\"><ul class=\"toc-item\"><li><span><a href=\"#What-is-the-Terminal?\" data-toc-modified-id=\"What-is-the-Terminal?-1\"><span class=\"toc-item-num\">1&nbsp;&nbsp;</span>What is the Terminal?</a></span></li><li><span><a href=\"#Bash\" data-toc-modified-id=\"Bash-2\"><span class=\"toc-item-num\">2&nbsp;&nbsp;</span>Bash</a></span></li><li><span><a href=\"#Intro\" data-toc-modified-id=\"Intro-3\"><span class=\"toc-item-num\">3&nbsp;&nbsp;</span>Intro</a></span></li><li><span><a href=\"#Basic-commands\" data-toc-modified-id=\"Basic-commands-4\"><span class=\"toc-item-num\">4&nbsp;&nbsp;</span>Basic commands</a></span><ul class=\"toc-item\"><li><span><a href=\"#Getting-info\" data-toc-modified-id=\"Getting-info-4.1\"><span class=\"toc-item-num\">4.1&nbsp;&nbsp;</span>Getting info</a></span></li><li><span><a href=\"#Navigating-your-own-system\" data-toc-modified-id=\"Navigating-your-own-system-4.2\"><span class=\"toc-item-num\">4.2&nbsp;&nbsp;</span>Navigating your own system</a></span></li><li><span><a href=\"#Creating-files\" data-toc-modified-id=\"Creating-files-4.3\"><span class=\"toc-item-num\">4.3&nbsp;&nbsp;</span>Creating files</a></span><ul class=\"toc-item\"><li><span><a href=\"#Create,-edit,-explore\" data-toc-modified-id=\"Create,-edit,-explore-4.3.1\"><span class=\"toc-item-num\">4.3.1&nbsp;&nbsp;</span>Create, edit, explore</a></span></li></ul></li></ul></li><li><span><a href=\"#MINI---RECAP\" data-toc-modified-id=\"MINI---RECAP-5\"><span class=\"toc-item-num\">5&nbsp;&nbsp;</span>MINI - RECAP</a></span><ul class=\"toc-item\"><li><span><a href=\"#Previewing-files\" data-toc-modified-id=\"Previewing-files-5.1\"><span class=\"toc-item-num\">5.1&nbsp;&nbsp;</span>Previewing files</a></span></li><li><span><a href=\"#Editing-files\" data-toc-modified-id=\"Editing-files-5.2\"><span class=\"toc-item-num\">5.2&nbsp;&nbsp;</span>Editing files</a></span></li><li><span><a href=\"#Aliases\" data-toc-modified-id=\"Aliases-5.3\"><span class=\"toc-item-num\">5.3&nbsp;&nbsp;</span>Aliases</a></span><ul class=\"toc-item\"><li><span><a href=\"#On-macOS\" data-toc-modified-id=\"On-macOS-5.3.1\"><span class=\"toc-item-num\">5.3.1&nbsp;&nbsp;</span>On macOS</a></span></li><li><span><a href=\"#On-windows\" data-toc-modified-id=\"On-windows-5.3.2\"><span class=\"toc-item-num\">5.3.2&nbsp;&nbsp;</span>On windows</a></span></li></ul></li><li><span><a href=\"#Scripting\" data-toc-modified-id=\"Scripting-5.4\"><span class=\"toc-item-num\">5.4&nbsp;&nbsp;</span>Scripting</a></span><ul class=\"toc-item\"><li><span><a href=\"#Logic\" data-toc-modified-id=\"Logic-5.4.1\"><span class=\"toc-item-num\">5.4.1&nbsp;&nbsp;</span>Logic</a></span></li></ul></li><li><span><a href=\"#Loops,-conditionals-and-functions\" data-toc-modified-id=\"Loops,-conditionals-and-functions-5.5\"><span class=\"toc-item-num\">5.5&nbsp;&nbsp;</span>Loops, conditionals and functions</a></span><ul class=\"toc-item\"><li><span><a href=\"#For\" data-toc-modified-id=\"For-5.5.1\"><span class=\"toc-item-num\">5.5.1&nbsp;&nbsp;</span>For</a></span></li><li><span><a href=\"#start-stop-step\" data-toc-modified-id=\"start-stop-step-5.5.2\"><span class=\"toc-item-num\">5.5.2&nbsp;&nbsp;</span>start-stop-step</a></span></li><li><span><a href=\"#infinite-loop\" data-toc-modified-id=\"infinite-loop-5.5.3\"><span class=\"toc-item-num\">5.5.3&nbsp;&nbsp;</span>infinite loop</a></span></li><li><span><a href=\"#while\" data-toc-modified-id=\"while-5.5.4\"><span class=\"toc-item-num\">5.5.4&nbsp;&nbsp;</span>while</a></span></li><li><span><a href=\"#conditional\" data-toc-modified-id=\"conditional-5.5.5\"><span class=\"toc-item-num\">5.5.5&nbsp;&nbsp;</span>conditional</a></span></li><li><span><a href=\"#function\" data-toc-modified-id=\"function-5.5.6\"><span class=\"toc-item-num\">5.5.6&nbsp;&nbsp;</span>function</a></span></li></ul></li><li><span><a href=\"#Bash-scripts\" data-toc-modified-id=\"Bash-scripts-5.6\"><span class=\"toc-item-num\">5.6&nbsp;&nbsp;</span>Bash scripts</a></span></li><li><span><a href=\"#More-Stuff\" data-toc-modified-id=\"More-Stuff-5.7\"><span class=\"toc-item-num\">5.7&nbsp;&nbsp;</span>More Stuff</a></span><ul class=\"toc-item\"><li><span><a href=\"#Examples\" data-toc-modified-id=\"Examples-5.7.1\"><span class=\"toc-item-num\">5.7.1&nbsp;&nbsp;</span>Examples</a></span></li></ul></li><li><span><a href=\"#RECAP\" data-toc-modified-id=\"RECAP-5.8\"><span class=\"toc-item-num\">5.8&nbsp;&nbsp;</span>RECAP</a></span><ul class=\"toc-item\"><li><span><a href=\"#References\" data-toc-modified-id=\"References-5.8.1\"><span class=\"toc-item-num\">5.8.1&nbsp;&nbsp;</span>References</a></span></li></ul></li><li><span><a href=\"#Games-in-bash:\" data-toc-modified-id=\"Games-in-bash:-5.9\"><span class=\"toc-item-num\">5.9&nbsp;&nbsp;</span>Games in bash:</a></span></li></ul></li></ul></div>"
   ]
  },
  {
   "cell_type": "markdown",
   "metadata": {},
   "source": [
    "![elgif](https://media.giphy.com/media/f9k1tV7HyORcngKF8v/giphy.gif)"
   ]
  },
  {
   "cell_type": "markdown",
   "metadata": {},
   "source": [
    "## What is the Terminal?"
   ]
  },
  {
   "cell_type": "markdown",
   "metadata": {},
   "source": [
    "The terminal is a way of interacting with our computer, but instead of doing it through icons and mouse movements, as you are used to doing (and it is what we know as GUI (Graphical User Interface)), those interactions are carried out with lines of commands. And that's why the terminal is a CLI (Command Line Interface).\n",
    "\n",
    "In the case of terminal, many terms are used interchangeably: bash, shell, zsh, iTerm, etc. That is, all of these are \"programs\". Although we are not going to delve into it.\n",
    "\n",
    "Either if you're a macOS 🍎 or Linux 🐧 user, the terminal you will be using will use the Bash language.\n",
    "\n",
    "On Windows 🪟, however, things are a bit different. The Windows CLI, also known as cmd.exe or Command Prompt is different, although it shares many similarities in syntax, there are also many incompatibilities.\n",
    "\n",
    "For example, the `ls` command used on both mac and Linux is equivalent to the `dir` in cmd.exe\n",
    "\n",
    "But fear not, Windows users can have the same program with a few different options like Git BASH, or install WSL (Windows Subsystem for Linux) with the Hyper program as a terminal.\n",
    "\n",
    "Let's not be fooled by its antiquity and simple aesthetics. Although it seems to you taken from the world of the Matrix... the terminal is a very concise technology that remains very up-to-date."
   ]
  },
  {
   "cell_type": "markdown",
   "metadata": {},
   "source": [
    "## Bash\n",
    "\n",
    "What is bash? Bash is a command interpreter that executes, one by one, the instructions entered by the user or contained in a script and returns the results.\n",
    "\n",
    "On the other hand, Bash is not a terminal. It's also not the only shell available. In fact, we can see the available shells on our machine by looking at the contents of the /etc/shells file. If we deem it necessary, we can assign common users something else (other than Bash). This way we can restrict the scope of what they can do using the command line. Of course, it is the administrator who decides this. There is also ZSH, another form of terminal:\n",
    "\n",
    "ZSH, also called Z shell, is an extended version of the Bourne Shell (sh), with many new features and support for plugins and themes. Since it is based on the same shell as Bash, ZSH has many of the same features. Starting to use it is very simple.\n",
    "\n",
    "https://github.com/ohmyzsh/ohmyzsh/wiki/Installing-ZSH"
   ]
  },
  {
   "cell_type": "markdown",
   "metadata": {},
   "source": [
    "## Intro\n",
    "- GUI: Graphical User Interface: user-machine interaction through graphics, icons, images, texts.\n",
    "- CLI: Command Line Interface: user-machine interaction through text commands.\n",
    "\n",
    "CLIs:\n",
    "\n",
    "- Mac, Linux: UNIX shell\n",
    "- Windows: Git-Bash\n",
    "\n",
    "\n",
    "CLI synonyms:\n",
    "\n",
    "- shell\n",
    "- console\n",
    "- terminal\n",
    "\n",
    "A terminal is useful for:\n",
    "\n",
    "- SSH connections (Secure Shell): SSH is a cryptographic protocol to operate safely on insecure networks\n",
    "- Create small programs\n",
    "- Manage servers\n",
    "- Pretend you're a cool programmer\n",
    "- Enjoy administrator permissions. (Carefully!)\n",
    "- Overall managing your computer faster\n",
    "\n"
   ]
  },
  {
   "cell_type": "markdown",
   "metadata": {},
   "source": [
    "## Basic commands"
   ]
  },
  {
   "cell_type": "markdown",
   "metadata": {},
   "source": [
    "### Getting info"
   ]
  },
  {
   "cell_type": "markdown",
   "metadata": {
    "lang": "en"
   },
   "source": [
    "The general syntax for bash commands is: `command [options] [arguments]` <br>\n",
    "Some commands REQUIRE options and/or arguments!<br>\n",
    "Plus....<br>\n",
    "You can use the `<TAB>` key for autocompletion.<br>"
   ]
  },
  {
   "cell_type": "markdown",
   "metadata": {},
   "source": [
    "`bash --version`: bash version"
   ]
  },
  {
   "cell_type": "markdown",
   "metadata": {},
   "source": [
    "- `man`: manual\n",
    "- `help`: manual #windows"
   ]
  },
  {
   "cell_type": "markdown",
   "metadata": {},
   "source": [
    "Tip: to leave man command: press q"
   ]
  },
  {
   "cell_type": "markdown",
   "metadata": {},
   "source": [
    "for git bash: `ls --help`"
   ]
  },
  {
   "cell_type": "markdown",
   "metadata": {},
   "source": [
    "`date`: date"
   ]
  },
  {
   "cell_type": "markdown",
   "metadata": {},
   "source": [
    "`cal`: calendar #windows ?"
   ]
  },
  {
   "cell_type": "markdown",
   "metadata": {},
   "source": [
    "`-help`: you get more helpful info"
   ]
  },
  {
   "cell_type": "markdown",
   "metadata": {},
   "source": [
    "`whoami`: current user"
   ]
  },
  {
   "cell_type": "markdown",
   "metadata": {},
   "source": [
    "`pwd`: prints the current directory"
   ]
  },
  {
   "cell_type": "markdown",
   "metadata": {
    "lang": "en"
   },
   "source": [
    "`clear`: clear the terminal"
   ]
  },
  {
   "cell_type": "markdown",
   "metadata": {
    "lang": "en"
   },
   "source": [
    "`echo`: print to screen"
   ]
  },
  {
   "cell_type": "markdown",
   "metadata": {},
   "source": [
    "### Navigating your own system"
   ]
  },
  {
   "cell_type": "markdown",
   "metadata": {},
   "source": [
    "`echo -n`: same line (avoids new line)"
   ]
  },
  {
   "cell_type": "markdown",
   "metadata": {},
   "source": [
    "`cd`: change directory (into root)\n",
    "\n",
    "`cd [argument]`: changes into another directory\n",
    "\n",
    "`cd ..`: goes up one level"
   ]
  },
  {
   "cell_type": "markdown",
   "metadata": {},
   "source": [
    "`ls`: list of files within that location\n",
    "\n",
    "`ls -a`: all of the files, including hidden\n",
    "\n",
    "`ls -l`: long list\n",
    "\n",
    "`ls -al`: both\n",
    "\n",
    "`ls -als`: both w/ kb"
   ]
  },
  {
   "cell_type": "markdown",
   "metadata": {},
   "source": [
    "### Creating files"
   ]
  },
  {
   "cell_type": "markdown",
   "metadata": {
    "lang": "en"
   },
   "source": [
    "#### Create, edit, explore"
   ]
  },
  {
   "cell_type": "markdown",
   "metadata": {},
   "source": [
    "`mkdir`: creates directory"
   ]
  },
  {
   "cell_type": "markdown",
   "metadata": {},
   "source": [
    "`touch`: creates a blank file"
   ]
  },
  {
   "cell_type": "markdown",
   "metadata": {},
   "source": [
    "`echo \"something\" >> file`: appends to a file or creates the file if it doesn't exist."
   ]
  },
  {
   "cell_type": "markdown",
   "metadata": {},
   "source": [
    "`echo \"something\" > file`: overwrites the file if it exists or creates it if it doesn't exist."
   ]
  },
  {
   "cell_type": "markdown",
   "metadata": {},
   "source": [
    "- Open file browser\n",
    "    - `open .`: on MacOS; where the dot means \"THIS\" location\n",
    "    - `start .`: on windows"
   ]
  },
  {
   "cell_type": "markdown",
   "metadata": {},
   "source": [
    "### Previewing files"
   ]
  },
  {
   "cell_type": "markdown",
   "metadata": {},
   "source": [
    "`cat`: shows the content of the file"
   ]
  },
  {
   "cell_type": "markdown",
   "metadata": {},
   "source": [
    "`head`: shows the beginning of the file"
   ]
  },
  {
   "cell_type": "markdown",
   "metadata": {},
   "source": [
    "`tail`: shows the end of the file"
   ]
  },
  {
   "cell_type": "markdown",
   "metadata": {},
   "source": [
    "`wc`: counts lines/words/characters "
   ]
  },
  {
   "cell_type": "markdown",
   "metadata": {},
   "source": [
    "## MINI - RECAP\n",
    "\n",
    "- Terminal / Consola / Shell\n",
    "- Terminal / iTerm / git-bash: GUI\n",
    "- Bash\n",
    "\n",
    "- Bash: lenguaje. \n",
    "    - Sintaxis concreta\n",
    "    - comandos\n",
    "        - opciones: `ls -a`, `ls`\n",
    "        - argumentos: `cd Desktop`, `mkdir nombre_carpeta`\n",
    "\n",
    "- NAVEGAR POR EL SISTEMA\n",
    "- GIT\n",
    "\n",
    "- Comandos comunes: \n",
    "    - pwd: saber dónde estoy\n",
    "    - ls: saber qué tengo\n",
    "    - clear\n",
    "    - mkdir: crear carpetas\n",
    "    - touch: crear archivos\n",
    "    - GIT\n",
    "    - ...\n",
    "    - open ./start .\n",
    "    - VsCode"
   ]
  },
  {
   "cell_type": "markdown",
   "metadata": {},
   "source": [
    "### Editing files"
   ]
  },
  {
   "cell_type": "markdown",
   "metadata": {},
   "source": [
    "Another way to edit files is by using the \"nano\" editor. \n",
    "Here's some commands [commands](https://www.nano-editor.org/dist/latest/cheatsheet.html)."
   ]
  },
  {
   "cell_type": "markdown",
   "metadata": {},
   "source": [
    "`nano`: edit the content of the file and then \n",
    "--> Ctrl + x: leave the editor"
   ]
  },
  {
   "cell_type": "markdown",
   "metadata": {},
   "source": [
    "`mv`: moves the file\n",
    "\n",
    "`mv file location`"
   ]
  },
  {
   "cell_type": "markdown",
   "metadata": {},
   "source": [
    "`cp`: copies the file"
   ]
  },
  {
   "cell_type": "markdown",
   "metadata": {},
   "source": [
    "`rm`: deletes the file"
   ]
  },
  {
   "cell_type": "markdown",
   "metadata": {},
   "source": [
    "`rm -r`: deletes the directory"
   ]
  },
  {
   "cell_type": "markdown",
   "metadata": {
    "lang": "en"
   },
   "source": [
    "`find`: find files <br>\n",
    "The find command has many options and parameters...[check here](https://www.diskinternals.com/linux-reader/bash-find-command/)\n",
    "\n",
    "\n",
    "```bash\n",
    "find . -name hello.txt\n",
    "```"
   ]
  },
  {
   "cell_type": "markdown",
   "metadata": {},
   "source": [
    "`grep`: find in the text\n",
    "\n",
    "```bash\n",
    "grep \"hey\" hello.txt\n",
    "```"
   ]
  },
  {
   "cell_type": "markdown",
   "metadata": {},
   "source": [
    "[Grep commands](https://docs.oracle.com/cd/E19253-01/806-7612/filesearch-96061/index.html)"
   ]
  },
  {
   "cell_type": "markdown",
   "metadata": {},
   "source": [
    "`|`: pipeline \n",
    "\n",
    "\n",
    "```bash\n",
    "ls | wc -l\n",
    "````\n",
    "\n",
    "```bash\n",
    "cat hello.txt | grep h\n",
    "```"
   ]
  },
  {
   "cell_type": "markdown",
   "metadata": {},
   "source": [
    "`history`: it shows the history of executed commands"
   ]
  },
  {
   "cell_type": "markdown",
   "metadata": {
    "lang": "en"
   },
   "source": [
    "- `top` and `htop`: show RAM and CPU usage\n",
    "- `tasklist`: same for windows"
   ]
  },
  {
   "cell_type": "markdown",
   "metadata": {},
   "source": [
    "`Ctrl+R`: to find previous commands"
   ]
  },
  {
   "cell_type": "markdown",
   "metadata": {},
   "source": [
    "### Aliases"
   ]
  },
  {
   "cell_type": "markdown",
   "metadata": {},
   "source": [
    "#### On macOS\n",
    "```bash\n",
    "# on your .bash_profile or .zshrc on your root\n",
    "alias new_name=\"command\"\n",
    "```"
   ]
  },
  {
   "cell_type": "markdown",
   "metadata": {},
   "source": [
    "#### On windows\n",
    "\n",
    "0. On root:\n",
    "1. `touch .bash_profile`\n",
    "2. Maybe: `source ~/.bash_profile` - may be optional\n",
    "3. Edit the file and add an alias: `alias k='clear'\"\n",
    "4. Save, exit and re-start git-bash"
   ]
  },
  {
   "cell_type": "markdown",
   "metadata": {},
   "source": [
    "### Scripting"
   ]
  },
  {
   "cell_type": "markdown",
   "metadata": {},
   "source": [
    "`age=31`: create a variable"
   ]
  },
  {
   "cell_type": "markdown",
   "metadata": {},
   "source": [
    "`$age`: access the variable"
   ]
  },
  {
   "cell_type": "markdown",
   "metadata": {},
   "source": [
    "`echo $age`: printing the value"
   ]
  },
  {
   "cell_type": "markdown",
   "metadata": {},
   "source": [
    "#### Logic"
   ]
  },
  {
   "cell_type": "markdown",
   "metadata": {
    "lang": "en"
   },
   "source": [
    "Aliases are shortcuts for frequent commands:\n",
    "\n",
    "There is a `.bashrc` or `.zshrc` file in your root directory. Find it and add an alias command:\n",
    "`alias jn=\"jupyter notebook\"`\n",
    "**The terminal needs to be restarted**"
   ]
  },
  {
   "cell_type": "markdown",
   "metadata": {
    "lang": "en"
   },
   "source": [
    "### Loops, conditionals and functions"
   ]
  },
  {
   "cell_type": "markdown",
   "metadata": {},
   "source": [
    "#### For\n"
   ]
  },
  {
   "cell_type": "markdown",
   "metadata": {},
   "source": [
    "```bash\n",
    "for i in 1 2 3\n",
    "do\n",
    "    echo $i\n",
    "done\n",
    "```"
   ]
  },
  {
   "cell_type": "markdown",
   "metadata": {},
   "source": [
    "#### start-stop-step"
   ]
  },
  {
   "cell_type": "markdown",
   "metadata": {},
   "source": [
    "```bash\n",
    "for i in {0..10..2}\n",
    "do\n",
    "    echo $i\n",
    "done\n",
    "```"
   ]
  },
  {
   "cell_type": "markdown",
   "metadata": {},
   "source": [
    "#### infinite loop\n"
   ]
  },
  {
   "cell_type": "markdown",
   "metadata": {},
   "source": [
    "```bash\n",
    "for (( ; ; ))\n",
    "do\n",
    "    echo 1\n",
    "done\n",
    "```"
   ]
  },
  {
   "cell_type": "markdown",
   "metadata": {},
   "source": [
    "`ctrl + c`: stops running process"
   ]
  },
  {
   "cell_type": "markdown",
   "metadata": {},
   "source": [
    "#### while"
   ]
  },
  {
   "cell_type": "markdown",
   "metadata": {},
   "source": [
    "```bash\n",
    "age=2\n",
    "while [ $age -le 10 ]\n",
    "do\n",
    "    age=$(($age + 1))\n",
    "    echo $age\n",
    "done\n",
    "```"
   ]
  },
  {
   "cell_type": "markdown",
   "metadata": {},
   "source": [
    "#### conditional"
   ]
  },
  {
   "cell_type": "markdown",
   "metadata": {},
   "source": [
    "```bash\n",
    "number=10\n",
    "if [ $number -le 13 ]\n",
    "then\n",
    "    echo \"hello\"\n",
    "else\n",
    "    echo \"something else\"\n",
    "fi\n",
    "```"
   ]
  },
  {
   "cell_type": "markdown",
   "metadata": {},
   "source": [
    "#### function"
   ]
  },
  {
   "cell_type": "markdown",
   "metadata": {},
   "source": [
    "```bash\n",
    "function hey () {\n",
    "    echo 'Hey, Im inside the function!'\n",
    "};\n",
    "```"
   ]
  },
  {
   "cell_type": "markdown",
   "metadata": {},
   "source": [
    "### Bash scripts"
   ]
  },
  {
   "cell_type": "markdown",
   "metadata": {},
   "source": [
    "- Create a file with a `.sh` format\n",
    "- To run that file: `bash my_script.sh`"
   ]
  },
  {
   "cell_type": "code",
   "execution_count": null,
   "metadata": {},
   "outputs": [],
   "source": []
  },
  {
   "cell_type": "markdown",
   "metadata": {
    "lang": "en"
   },
   "source": [
    "### More Stuff"
   ]
  },
  {
   "cell_type": "markdown",
   "metadata": {
    "lang": "en"
   },
   "source": [
    "#### Examples"
   ]
  },
  {
   "cell_type": "markdown",
   "metadata": {
    "lang": "en"
   },
   "source": [
    "**Create directory, text file, fill and delete**"
   ]
  },
  {
   "cell_type": "code",
   "execution_count": null,
   "metadata": {},
   "outputs": [],
   "source": []
  },
  {
   "cell_type": "markdown",
   "metadata": {
    "lang": "en"
   },
   "source": [
    "**With loop and function**"
   ]
  },
  {
   "cell_type": "code",
   "execution_count": null,
   "metadata": {},
   "outputs": [],
   "source": []
  },
  {
   "cell_type": "markdown",
   "metadata": {
    "lang": "en"
   },
   "source": [
    "### RECAP\n",
    "It's your turn. What have we learned in this class?\n"
   ]
  },
  {
   "cell_type": "markdown",
   "metadata": {},
   "source": [
    "- Bash: lenguaje (python, sql, javascript, etc)\n",
    "- nos permite\n",
    "    - manejar nuestro sistema\n",
    "        - navegando\n",
    "        - creando / editando archivos\n",
    "        - implementar lógica\n",
    "        - cuántos archivos tengo, automarizar procesos\n",
    "        - alias: tareas repetitivas\n",
    "    - git\n",
    "- alias\n",
    "    - modificar el arhchivo config: zshrc, bash_profile\n",
    "- scripting\n",
    "    - concatenar comandos \n",
    "    - \"pipeline\" procesos: descarga, muevelo, ábrelo"
   ]
  },
  {
   "cell_type": "markdown",
   "metadata": {
    "lang": "en"
   },
   "source": [
    "#### References"
   ]
  },
  {
   "cell_type": "markdown",
   "metadata": {},
   "source": [
    "**Manual:**\n",
    "\n",
    "https://www.gnu.org/savannah-checkouts/gnu/bash/manual/bash.html"
   ]
  },
  {
   "cell_type": "markdown",
   "metadata": {},
   "source": [
    "**Cheat Sheets:**\n",
    "\n",
    "[Bash](https://devhints.io/bash)"
   ]
  },
  {
   "cell_type": "markdown",
   "metadata": {
    "lang": "en"
   },
   "source": [
    "### Games in bash:\n",
    "\n",
    "[Terminus - Graphic adventure](https://web.mit.edu/mprat/Public/web/Terminus/Web/main.html)\n",
    "\n",
    "[The Command Line Murders](https://github.com/veltman/clmystery)"
   ]
  }
 ],
 "metadata": {
  "finalized": {
   "timestamp": 1619446289233,
   "trusted": true
  },
  "kernelspec": {
   "display_name": "Python 3 (ipykernel)",
   "language": "python",
   "name": "python3"
  },
  "language_info": {
   "codemirror_mode": {
    "name": "ipython",
    "version": 3
   },
   "file_extension": ".py",
   "mimetype": "text/x-python",
   "name": "python",
   "nbconvert_exporter": "python",
   "pygments_lexer": "ipython3",
   "version": "3.11.8"
  },
  "nbTranslate": {
   "displayLangs": [],
   "hotkey": "alt-t",
   "langInMainMenu": true,
   "sourceLang": "es",
   "targetLang": "en",
   "useGoogleTranslate": true
  },
  "toc": {
   "base_numbering": 1,
   "nav_menu": {},
   "number_sections": true,
   "sideBar": true,
   "skip_h1_title": true,
   "title_cell": "Table of Contents",
   "title_sidebar": "Contents",
   "toc_cell": true,
   "toc_position": {
    "height": "calc(100% - 180px)",
    "left": "10px",
    "top": "150px",
    "width": "196px"
   },
   "toc_section_display": true,
   "toc_window_display": false
  },
  "varInspector": {
   "cols": {
    "lenName": 16,
    "lenType": 16,
    "lenVar": 40
   },
   "kernels_config": {
    "python": {
     "delete_cmd_postfix": "",
     "delete_cmd_prefix": "del ",
     "library": "var_list.py",
     "varRefreshCmd": "print(var_dic_list())"
    },
    "r": {
     "delete_cmd_postfix": ") ",
     "delete_cmd_prefix": "rm(",
     "library": "var_list.r",
     "varRefreshCmd": "cat(var_dic_list()) "
    }
   },
   "types_to_exclude": [
    "module",
    "function",
    "builtin_function_or_method",
    "instance",
    "_Feature"
   ],
   "window_display": false
  }
 },
 "nbformat": 4,
 "nbformat_minor": 4
}
