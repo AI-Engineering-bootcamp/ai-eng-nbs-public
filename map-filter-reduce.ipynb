{
 "cells": [
  {
   "cell_type": "markdown",
   "id": "bottom-commerce",
   "metadata": {},
   "source": [
    "# Map, Filter, Reduce\n",
    "\n",
    "In the world of programming, data transformation is a fundamental skill. Whether you're dealing with lists, arrays, or any other data structure, you often need to perform operations on the data to extract meaningful insights or manipulate it for various purposes.\n",
    "\n",
    "\"Map, Filter, Reduce\" are three powerful techniques that can help you streamline your data manipulation tasks. These methods allow you to:\n",
    "\n",
    "- **Map:** Apply a given function to each item in a collection (e.g., a list) and return the results as a new collection.\n",
    "- **Filter:** Select elements from a collection that meet a specified condition, creating a new collection that contains only the matching elements.\n",
    "- **Reduce:** Combine elements of a collection into a single value by applying a given function cumulatively.\n",
    "\n",
    "In this notebook, we'll explore these techniques in depth, providing practical examples and real-world scenarios where \"Map, Filter, Reduce\" can greatly simplify your code. Whether you're a beginner or an experienced developer, mastering these techniques will make you more efficient and effective in data manipulation tasks.\n",
    "\n",
    "Let's get started and unlock the full potential of \"Map, Filter, Reduce\"!\n"
   ]
  },
  {
   "cell_type": "markdown",
   "id": "rising-buyer",
   "metadata": {
    "toc": true
   },
   "source": [
    "<h1>Table of Contents<span class=\"tocSkip\"></span></h1>\n",
    "<div class=\"toc\"><ul class=\"toc-item\"><li><ul class=\"toc-item\"><li><span><a href=\"#Each-student-is-randomly-assigned-a-topic\" data-toc-modified-id=\"Each-student-is-randomly-assigned-a-topic-0.1\"><span class=\"toc-item-num\">0.1&nbsp;&nbsp;</span>Each student is randomly assigned a topic</a></span></li></ul></li><li><span><a href=\"#Let's-start\" data-toc-modified-id=\"Let's-start-1\"><span class=\"toc-item-num\">1&nbsp;&nbsp;</span>Let's start</a></span><ul class=\"toc-item\"><li><span><a href=\"#Create-groups-with-other-people-who-have-studied-the-same-function\" data-toc-modified-id=\"Create-groups-with-other-people-who-have-studied-the-same-function-1.1\"><span class=\"toc-item-num\">1.1&nbsp;&nbsp;</span>Create groups with other people who have studied the same function</a></span></li></ul></li><li><span><a href=\"#Map,-Filter,-Reduce\" data-toc-modified-id=\"Map,-Filter,-Reduce-2\"><span class=\"toc-item-num\">2&nbsp;&nbsp;</span>Map, Filter, Reduce</a></span><ul class=\"toc-item\"><li><span><a href=\"#Map\" data-toc-modified-id=\"Map-2.1\"><span class=\"toc-item-num\">2.1&nbsp;&nbsp;</span>Map</a></span><ul class=\"toc-item\"><li><span><a href=\"#First-we-do-it-with-functions\" data-toc-modified-id=\"First-we-do-it-with-functions-2.1.1\"><span class=\"toc-item-num\">2.1.1&nbsp;&nbsp;</span>First we do it with functions</a></span></li><li><span><a href=\"#Extra:-Do-it-with-lambda!\" data-toc-modified-id=\"Extra:-Do-it-with-lambda!-2.1.2\"><span class=\"toc-item-num\">2.1.2&nbsp;&nbsp;</span>Extra: Do it with lambda!</a></span></li></ul></li><li><span><a href=\"#Filter\" data-toc-modified-id=\"Filter-2.2\"><span class=\"toc-item-num\">2.2&nbsp;&nbsp;</span>Filter</a></span><ul class=\"toc-item\"><li><span><a href=\"#First-we-do-it-with-functions\" data-toc-modified-id=\"First-we-do-it-with-functions-2.2.1\"><span class=\"toc-item-num\">2.2.1&nbsp;&nbsp;</span>First we do it with functions</a></span></li><li><span><a href=\"#Extra:-Do-it-with-lambda!\" data-toc-modified-id=\"Extra:-Do-it-with-lambda!-2.2.2\"><span class=\"toc-item-num\">2.2.2&nbsp;&nbsp;</span>Extra: Do it with lambda!</a></span></li></ul></li><li><span><a href=\"#Reduce\" data-toc-modified-id=\"Reduce-2.3\"><span class=\"toc-item-num\">2.3&nbsp;&nbsp;</span>Reduce</a></span><ul class=\"toc-item\"><li><span><a href=\"#What-happened?\" data-toc-modified-id=\"What-happened?-2.3.1\"><span class=\"toc-item-num\">2.3.1&nbsp;&nbsp;</span>What happened?</a></span></li></ul></li><li><span><a href=\"#First-we-do-it-with-functions\" data-toc-modified-id=\"First-we-do-it-with-functions-2.4\"><span class=\"toc-item-num\">2.4&nbsp;&nbsp;</span>First we do it with functions</a></span></li><li><span><a href=\"#Bonus:-Do-it-with-lambda!\" data-toc-modified-id=\"Bonus:-Do-it-with-lambda!-2.5\"><span class=\"toc-item-num\">2.5&nbsp;&nbsp;</span>Bonus: Do it with lambda!</a></span></li></ul></li><li><span><a href=\"#Summary\" data-toc-modified-id=\"Summary-3\"><span class=\"toc-item-num\">3&nbsp;&nbsp;</span>Summary</a></span></li><li><span><a href=\"#Further-materials\" data-toc-modified-id=\"Further-materials-4\"><span class=\"toc-item-num\">4&nbsp;&nbsp;</span>Further materials</a></span></li></ul></div>"
   ]
  },
  {
   "cell_type": "markdown",
   "id": "07c5496e",
   "metadata": {
    "lang": "en"
   },
   "source": [
    "### Each student is randomly assigned a topic\n",
    "In this exercise, you will form two random groups of students, and each group will explore one of the fundamental concepts in Python: map, reduce, or filter. Your task is to understand these concepts thoroughly and prepare a clear explanation to share with the class."
   ]
  },
  {
   "cell_type": "code",
   "execution_count": null,
   "id": "161d63c9",
   "metadata": {},
   "outputs": [],
   "source": [
    "import random\n",
    "from typing import List, Tuple\n",
    "\n",
    "def assign_students_to_groups(students: List[str], roles: List[str], num_groups: int) -> List[List[Tuple[str, str]]]:\n",
    "    \"\"\"\n",
    "    Assign students to groups randomly, each with a specified role.\n",
    "\n",
    "    Args:\n",
    "    - students (List[str]): A list of student names.\n",
    "    - roles (List[str]): A list of roles to assign to students.\n",
    "    - num_groups (int): The number of groups to create.\n",
    "\n",
    "    Returns:\n",
    "    - List[List[Tuple[str, str]]]: A list of groups, where each group is a list of tuples.\n",
    "      Each tuple contains a student's name and their assigned role.\n",
    "    \"\"\"\n",
    "    # Shuffle the list of students randomly\n",
    "    random.shuffle(students)\n",
    "    \n",
    "    # Divide the students into groups\n",
    "    groups = [[] for _ in range(num_groups)]\n",
    "    \n",
    "    for i, student in enumerate(students):\n",
    "        group_index = i % num_groups\n",
    "        role = roles[i % len(roles)]\n",
    "        groups[group_index].append((student, role))\n",
    "    \n",
    "    return groups"
   ]
  },
  {
   "cell_type": "code",
   "execution_count": null,
   "id": "8e97a7ba",
   "metadata": {},
   "outputs": [],
   "source": [
    "# What happens, if I click run? (Functions spoiler alert)\n",
    "help(assign_students_to_groups)"
   ]
  },
  {
   "cell_type": "code",
   "execution_count": null,
   "id": "91b5081e",
   "metadata": {},
   "outputs": [],
   "source": [
    "# List of students\n",
    "students = [\"Sara\", \"Glennys\", \"Alex\", \"Adrían\", \"Andrés\", \"Marta\"]\n",
    "\n",
    "# List of roles\n",
    "roles = [\"map\", \"filter\", \"reduce\"]\n",
    "\n",
    "# Number of groups\n",
    "num_groups = 2\n",
    "\n",
    "# Assign students to groups\n",
    "groups = assign_students_to_groups(students, roles, num_groups)\n",
    "\n",
    "# Print the groups\n",
    "for i, group in enumerate(groups, start=1):\n",
    "    print(f\"Group {i}: {group}\")"
   ]
  },
  {
   "cell_type": "markdown",
   "id": "67ba83fd",
   "metadata": {
    "lang": "en"
   },
   "source": [
    "## Let's start"
   ]
  },
  {
   "cell_type": "markdown",
   "id": "2044e738",
   "metadata": {
    "lang": "en"
   },
   "source": [
    "You have 10 minutes to explore and understand the role you have been assigned on your own. You may find these links useful:\n",
    "\n",
    "- [map, filter, reduce - I](https://medium.com/swlh/higher-order-functions-in-python-map-filter-and-reduce-34299fee1b21)\n",
    "- [map, filter, reduce - II](https://www.learnpython.org/en/Map,_Filter,_Reduce)\n",
    "- [map, filter, reduce - III](https://stackabuse.com/map-filter-and-reduce-in-python-with-examples)"
   ]
  },
  {
   "cell_type": "markdown",
   "id": "1494059b",
   "metadata": {},
   "source": [
    "### Create groups with other people who have studied the same function"
   ]
  },
  {
   "cell_type": "markdown",
   "id": "closing-referral",
   "metadata": {},
   "source": [
    "![otrogif](https://media.giphy.com/media/UatRnEUNX8iCQ/giphy.gif)"
   ]
  },
  {
   "cell_type": "markdown",
   "id": "8fd5c1b9",
   "metadata": {
    "lang": "en"
   },
   "source": [
    "## Map, Filter, Reduce"
   ]
  },
  {
   "cell_type": "markdown",
   "id": "55e1da7a",
   "metadata": {
    "lang": "en"
   },
   "source": [
    "There are three functions that will come in very handy when working with iterators. These functions facilitate certain basic and common operations on iterable collections of data, such as removing elements that do not meet a certain condition, calculating a result from the contained data, or applying a transformation to each element. Let's see them with examples of use:"
   ]
  },
  {
   "cell_type": "markdown",
   "id": "distinct-translator",
   "metadata": {},
   "source": [
    "### Map"
   ]
  },
  {
   "cell_type": "markdown",
   "id": "3bbb0048",
   "metadata": {
    "lang": "en"
   },
   "source": [
    "The map() function takes a function and a list and applies that function to each element in that list, producing a new list.\n",
    "```python\n",
    "map(function_to_apply, list_of_inputs)\n",
    "```"
   ]
  },
  {
   "cell_type": "code",
   "execution_count": null,
   "id": "e1e835ea",
   "metadata": {},
   "outputs": [],
   "source": []
  },
  {
   "cell_type": "markdown",
   "id": "6279886e",
   "metadata": {},
   "source": [
    "- function\n",
    "    - does things: combine iterables, it can combine\n",
    "    - it can be one\n",
    "    - tell them what to do\n",
    "    \n",
    "    - like a for loop: takes iterables & functions\n",
    "    - returns a map object\n",
    "    - which you can cast into a list"
   ]
  },
  {
   "cell_type": "markdown",
   "id": "3a2fc244",
   "metadata": {},
   "source": [
    "`goal: square of numbers`"
   ]
  },
  {
   "cell_type": "markdown",
   "id": "848ef234",
   "metadata": {
    "lang": "en"
   },
   "source": [
    "#### First we do it with functions"
   ]
  },
  {
   "cell_type": "code",
   "execution_count": null,
   "id": "faca82e0",
   "metadata": {},
   "outputs": [],
   "source": []
  },
  {
   "cell_type": "markdown",
   "id": "209cfe9b",
   "metadata": {
    "lang": "en"
   },
   "source": [
    "The map function returns an iterator, so we have to use `list(map_iterator)`"
   ]
  },
  {
   "cell_type": "code",
   "execution_count": null,
   "id": "c438a51a",
   "metadata": {
    "scrolled": true
   },
   "outputs": [],
   "source": []
  },
  {
   "cell_type": "markdown",
   "id": "connected-found",
   "metadata": {},
   "source": [
    "### Filter"
   ]
  },
  {
   "cell_type": "markdown",
   "id": "b0fd2478",
   "metadata": {
    "lang": "en"
   },
   "source": [
    "The filter() function filters a list of items for which a function returns True.\n",
    "```python\n",
    "filter(a_function, a_list)\n",
    "```"
   ]
  },
  {
   "cell_type": "markdown",
   "id": "3ac537c7",
   "metadata": {
    "lang": "en"
   },
   "source": [
    "Imagine you want to filter a list of numbers to get only even values."
   ]
  },
  {
   "cell_type": "code",
   "execution_count": null,
   "id": "3d3129d4",
   "metadata": {},
   "outputs": [],
   "source": [
    "#filter_experts"
   ]
  },
  {
   "cell_type": "markdown",
   "id": "1df16233",
   "metadata": {
    "lang": "en"
   },
   "source": [
    "#### First we do it with functions"
   ]
  },
  {
   "cell_type": "code",
   "execution_count": null,
   "id": "630ee78a",
   "metadata": {},
   "outputs": [],
   "source": []
  },
  {
   "cell_type": "markdown",
   "id": "24d5f21b",
   "metadata": {
    "lang": "en"
   },
   "source": [
    "Imagine that you want to filter a list and keep only the groups that start with the letter R"
   ]
  },
  {
   "cell_type": "code",
   "execution_count": null,
   "id": "7ce695c1",
   "metadata": {},
   "outputs": [],
   "source": []
  },
  {
   "cell_type": "markdown",
   "id": "9b923a35",
   "metadata": {
    "lang": "en"
   },
   "source": [
    "### Reduce"
   ]
  },
  {
   "cell_type": "markdown",
   "id": "5e2eb96a",
   "metadata": {
    "lang": "en"
   },
   "source": [
    "This function is not a built-in function, which means you must first import the functools library for use. The reduce() function cumulatively applies the f() function to the elements of the iterable. The accumulator can be initialized with an optional third argument. The result is the final value of the accumulator.\n",
    "\n",
    "```python\n",
    "reduce(function, iterable[, initial])\n",
    "```"
   ]
  },
  {
   "cell_type": "code",
   "execution_count": null,
   "id": "c731b8db",
   "metadata": {},
   "outputs": [],
   "source": [
    "#random.choice(reduce_experts)"
   ]
  },
  {
   "cell_type": "code",
   "execution_count": null,
   "id": "408b7fe6",
   "metadata": {},
   "outputs": [],
   "source": [
    "from functools import reduce "
   ]
  },
  {
   "cell_type": "markdown",
   "id": "54940f3b",
   "metadata": {},
   "source": [
    "- one final VALUE\n",
    "- two arguments:\n",
    "    - 1st: function\n",
    "    - 2nd: looped object\n",
    "    - needs to be imported\n",
    "    - flow:\n",
    "        - first item: apply function -> one value\n",
    "        - one value: apply function -> another value\n",
    "        - another value: apply function -> last result\n",
    "        - return last result\n",
    "    - optional argument: initial: first value you want to begin with\n",
    "    "
   ]
  },
  {
   "cell_type": "code",
   "execution_count": null,
   "id": "5600b022",
   "metadata": {},
   "outputs": [],
   "source": []
  },
  {
   "cell_type": "markdown",
   "id": "be41def2",
   "metadata": {
    "lang": "en"
   },
   "source": [
    "⚠️ Reduce is a bit more complicated to understand than map() and filter() so let's walk through the following example ⚠️"
   ]
  },
  {
   "cell_type": "code",
   "execution_count": null,
   "id": "52fcf783",
   "metadata": {},
   "outputs": [],
   "source": [
    "from functools import reduce\n",
    "\n",
    "# Define a list of numbers for which we want to calculate the product.\n",
    "numbers = [1, 2, 3, 4, 5]\n",
    "\n",
    "# Create a function that takes two arguments and returns their product.\n",
    "# We will use this function as the \"accumulator\" in reduce(). \n",
    "#The reduce() function will apply this function cumulatively to the items in the list.\n",
    "def multiply(x, y):\n",
    "    return x * y\n",
    "\n",
    "# Use the reduce() function to calculate the product of all numbers in the list.\n",
    "# Pass in the multiply function and the list of numbers as arguments to reduce().\n",
    "product = reduce(multiply, numbers)\n",
    "\n",
    "# Print the result\n",
    "print(product)  # Output: 120"
   ]
  },
  {
   "cell_type": "markdown",
   "id": "9bcc559e",
   "metadata": {
    "lang": "en"
   },
   "source": [
    "#### What happened?\n",
    "- We start with a list [1, 2, 3, 4, 5] and pass the function multiply (x, y) to reduce ( ) along with this list, without an initial value\n",
    "\n",
    "- reduce() calls multiply(1, 2), and multiply() returns 2\n",
    "\n",
    "- It takes the result (2) and the next element from the list (3).\n",
    "\n",
    "- It applies the multiply function again: 2 * 3 = 6.\n",
    "\n",
    "- It continues this process until all elements in the list have been processed.\n",
    "\n",
    "Since there are no more elements left in the sequence, reduce() returns 16"
   ]
  },
  {
   "cell_type": "markdown",
   "id": "04ecdfe8",
   "metadata": {
    "lang": "en"
   },
   "source": [
    "Factorial:\n",
    "Amount that results from the multiplication of a certain natural number by all the natural numbers that precede it, excluding zero; is represented by n!"
   ]
  },
  {
   "cell_type": "markdown",
   "id": "0334080d",
   "metadata": {
    "lang": "en"
   },
   "source": [
    "### First we do it with functions"
   ]
  },
  {
   "cell_type": "code",
   "execution_count": null,
   "id": "electrical-knitting",
   "metadata": {},
   "outputs": [],
   "source": []
  },
  {
   "cell_type": "markdown",
   "id": "d678c6ca",
   "metadata": {
    "lang": "en"
   },
   "source": [
    "### Bonus: Do it with lambda!"
   ]
  },
  {
   "cell_type": "markdown",
   "id": "69ae8c39",
   "metadata": {
    "lang": "en"
   },
   "source": [
    "## Summary"
   ]
  },
  {
   "cell_type": "code",
   "execution_count": null,
   "id": "73bd382a",
   "metadata": {},
   "outputs": [],
   "source": []
  },
  {
   "cell_type": "markdown",
   "id": "jewish-configuration",
   "metadata": {},
   "source": [
    "## Further materials\n",
    "http://web.mit.edu/6.005/www/sp16/classes/25-map-filter-reduce/    \n"
   ]
  }
 ],
 "metadata": {
  "kernelspec": {
   "display_name": "Python 3 (ipykernel)",
   "language": "python",
   "name": "python3"
  },
  "language_info": {
   "codemirror_mode": {
    "name": "ipython",
    "version": 3
   },
   "file_extension": ".py",
   "mimetype": "text/x-python",
   "name": "python",
   "nbconvert_exporter": "python",
   "pygments_lexer": "ipython3",
   "version": "3.11.8"
  },
  "nbTranslate": {
   "displayLangs": [
    "en",
    "es"
   ],
   "hotkey": "alt-a",
   "langInMainMenu": true,
   "sourceLang": "es",
   "targetLang": "en",
   "useGoogleTranslate": true
  },
  "toc": {
   "base_numbering": 1,
   "nav_menu": {},
   "number_sections": true,
   "sideBar": true,
   "skip_h1_title": true,
   "title_cell": "Table of Contents",
   "title_sidebar": "Contents",
   "toc_cell": true,
   "toc_position": {
    "height": "calc(100% - 180px)",
    "left": "10px",
    "top": "150px",
    "width": "266px"
   },
   "toc_section_display": true,
   "toc_window_display": false
  }
 },
 "nbformat": 4,
 "nbformat_minor": 5
}
