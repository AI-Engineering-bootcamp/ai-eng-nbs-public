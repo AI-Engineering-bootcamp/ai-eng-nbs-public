{
 "cells": [
  {
   "cell_type": "markdown",
   "id": "decent-profit",
   "metadata": {},
   "source": [
    "# Error handling\n",
    "\n",
    "Errors are an inevitable part of programming. Whether you're a beginner or an experienced developer, you will encounter errors in your code. Python provides a robust mechanism for dealing with these errors, known as \"error handling\" or \"exception handling.\"\n",
    "\n",
    "In this notebook, we'll explore the world of error handling in Python. We'll learn about different types of errors, how to detect and handle them gracefully, and best practices for writing reliable and robust code.\n",
    "\n",
    "By the end of this notebook, you'll have a solid understanding of:\n",
    "\n",
    "- Common types of errors in Python.\n",
    "- How to use try-except blocks to catch and handle exceptions.\n",
    "- The role of the else and finally clauses in exception handling.\n",
    "- Customizing error messages and creating custom exceptions.\n",
    "- Best practices for writing error-resistant code.\n",
    "\n",
    "Whether you're building small scripts or large applications, mastering error handling is a crucial skill that will help you write more reliable and maintainable Python code.\n"
   ]
  },
  {
   "cell_type": "markdown",
   "id": "passive-electricity",
   "metadata": {},
   "source": [
    "![elgif](https://media.giphy.com/media/WhFfFPCEDXpBe/giphy.gif)"
   ]
  },
  {
   "cell_type": "markdown",
   "id": "positive-length",
   "metadata": {
    "toc": true
   },
   "source": [
    "<h3>Table of Contents<span class=\"tocSkip\"></span></h3>\n",
    "<div class=\"toc\"><ul class=\"toc-item\"><li><span><a href=\"#Introduction\" data-toc-modified-id=\"Introduction-1\"><span class=\"toc-item-num\">1&nbsp;&nbsp;</span>Introduction</a></span></li><li><span><a href=\"#Syntax-Errors\" data-toc-modified-id=\"Syntax-Errors-2\"><span class=\"toc-item-num\">2&nbsp;&nbsp;</span>Syntax Errors</a></span></li><li><span><a href=\"#Exceptions-/-Errors\" data-toc-modified-id=\"Exceptions-/-Errors-3\"><span class=\"toc-item-num\">3&nbsp;&nbsp;</span>Exceptions / Errors</a></span><ul class=\"toc-item\"><li><span><a href=\"#LookupError\" data-toc-modified-id=\"LookupError-3.1\"><span class=\"toc-item-num\">3.1&nbsp;&nbsp;</span>LookupError</a></span><ul class=\"toc-item\"><li><span><a href=\"#KeyError\" data-toc-modified-id=\"KeyError-3.1.1\"><span class=\"toc-item-num\">3.1.1&nbsp;&nbsp;</span>KeyError</a></span></li><li><span><a href=\"#IndexError\" data-toc-modified-id=\"IndexError-3.1.2\"><span class=\"toc-item-num\">3.1.2&nbsp;&nbsp;</span>IndexError</a></span></li></ul></li><li><span><a href=\"#ImportError\" data-toc-modified-id=\"ImportError-3.2\"><span class=\"toc-item-num\">3.2&nbsp;&nbsp;</span>ImportError</a></span></li><li><span><a href=\"#AttributeError\" data-toc-modified-id=\"AttributeError-3.3\"><span class=\"toc-item-num\">3.3&nbsp;&nbsp;</span>AttributeError</a></span></li><li><span><a href=\"#ValueError\" data-toc-modified-id=\"ValueError-3.4\"><span class=\"toc-item-num\">3.4&nbsp;&nbsp;</span>ValueError</a></span></li><li><span><a href=\"#TypeError\" data-toc-modified-id=\"TypeError-3.5\"><span class=\"toc-item-num\">3.5&nbsp;&nbsp;</span>TypeError</a></span></li><li><span><a href=\"#OSError\" data-toc-modified-id=\"OSError-3.6\"><span class=\"toc-item-num\">3.6&nbsp;&nbsp;</span>OSError</a></span><ul class=\"toc-item\"><li><span><a href=\"#FileNotFoundError\" data-toc-modified-id=\"FileNotFoundError-3.6.1\"><span class=\"toc-item-num\">3.6.1&nbsp;&nbsp;</span>FileNotFoundError</a></span></li></ul></li><li><span><a href=\"#TimeOutError\" data-toc-modified-id=\"TimeOutError-3.7\"><span class=\"toc-item-num\">3.7&nbsp;&nbsp;</span>TimeOutError</a></span></li></ul></li><li><span><a href=\"#Exception-handling\" data-toc-modified-id=\"Exception-handling-4\"><span class=\"toc-item-num\">4&nbsp;&nbsp;</span>Exception handling</a></span><ul class=\"toc-item\"><li><span><a href=\"#What-not-to-do-when-handling-exceptions\" data-toc-modified-id=\"What-not-to-do-when-handling-exceptions-4.1\"><span class=\"toc-item-num\">4.1&nbsp;&nbsp;</span>What not to do when handling exceptions</a></span></li></ul></li><li><span><a href=\"#Data-validation-with-assert\" data-toc-modified-id=\"Data-validation-with-assert-5\"><span class=\"toc-item-num\">5&nbsp;&nbsp;</span>Data validation with <code>assert</code></a></span></li><li><span><a href=\"#Raise-errors\" data-toc-modified-id=\"Raise-errors-6\"><span class=\"toc-item-num\">6&nbsp;&nbsp;</span>Raise errors</a></span></li><li><span><a href=\"#Summary\" data-toc-modified-id=\"Summary-7\"><span class=\"toc-item-num\">7&nbsp;&nbsp;</span>Summary</a></span></li></ul></div>"
   ]
  },
  {
   "cell_type": "markdown",
   "id": "2a0e59df",
   "metadata": {
    "lang": "en"
   },
   "source": [
    "## Introduction\n",
    "\n",
    "In the world of programming, errors are a common occurrence. Even a tiny mistake, like a missing semicolon or a typo, can lead to unexpected issues in your code. In Python, these errors fall into two broad categories: syntax errors and runtime errors.\n",
    "\n",
    "**Syntax errors** occur when your code violates the rules of the Python language. These are usually straightforward to identify because Python will point you directly to the problematic line of code. For example, writing `while True print(\"Hello world\")` is a syntax error because the colon after `True` is missing."
   ]
  },
  {
   "cell_type": "code",
   "execution_count": null,
   "id": "f9b79396",
   "metadata": {},
   "outputs": [],
   "source": [
    "while True print(\"Hello world\")"
   ]
  },
  {
   "cell_type": "markdown",
   "id": "ab975d62",
   "metadata": {
    "lang": "en"
   },
   "source": [
    "**Runtime errors**, on the other hand, are trickier to catch. They occur while your program is running and typically stem from logical issues or unexpected inputs. For instance, dividing by zero, accessing an undefined variable, or trying to open a non-existent file can result in runtime errors. Unlike syntax errors, runtime errors may not always crash your program immediately, making them more challenging to diagnose.\n",
    "\n",
    "Error handling is a crucial skill for any programmer. Knowing how to detect, prevent, and gracefully handle errors can significantly improve the reliability and robustness of your code. Python provides powerful mechanisms to manage errors, and in this notebook, we will delve into various error-handling techniques.\n",
    "\n",
    "As we explore the world of error handling, remember that handling errors is not about eliminating them entirely but rather about responding to them effectively. Let's dive in and become skilled error handlers in Python!"
   ]
  },
  {
   "cell_type": "markdown",
   "id": "787b2a46",
   "metadata": {
    "lang": "en"
   },
   "source": [
    "## Syntax Errors\n",
    "\n",
    "Syntax errors, often referred to as syntax or Python interpreter errors, are a common stumbling block when learning a new programming language, especially for those transitioning from other languages. These errors typically occur due to unfamiliarity with or oversight of Python's lexical rules, and they are detected by the interpreter before your program can even run. In essence, syntax errors represent poorly formed expressions that violate the language's fundamental rules.\n",
    "\n",
    "In contrast to compiled languages like C, which perform code analysis to produce an executable file (catching errors before runtime), interpreted languages like Python lack this pre-execution phase. This means that Python interpreters accept our code with an inherent uncertainty about its correctness. However, the interpreter diligently scrutinizes your code as soon as it's read, well before executing any instructions.\n",
    "\n",
    "When Python encounters a syntax error, it processes your code line by line, and as soon as it detects a syntax violation, it promptly halts and points out the error's location. For instance, consider the following example:"
   ]
  },
  {
   "cell_type": "code",
   "execution_count": null,
   "id": "1cd85e49",
   "metadata": {},
   "outputs": [],
   "source": [
    "# 1. Reading / parses \n",
    "    # typos, syntax: colons, tabulation, etc\n",
    "    \n",
    "# 2. Execute the code\n",
    "    # content of the code\n",
    "    # variables have meaning: they are read"
   ]
  },
  {
   "cell_type": "code",
   "execution_count": null,
   "id": "ce4c5e01",
   "metadata": {},
   "outputs": [],
   "source": [
    "a = \"My name is something'"
   ]
  },
  {
   "cell_type": "code",
   "execution_count": null,
   "id": "1ab749d7",
   "metadata": {},
   "outputs": [],
   "source": [
    "# 1. Syntax\n",
    "    # We need to correct the wrong syntax\n",
    "\n",
    "# 2. Logic\n",
    "    # prevent error from happening if they are due to logic"
   ]
  },
  {
   "cell_type": "code",
   "execution_count": null,
   "id": "84e84a65",
   "metadata": {},
   "outputs": [],
   "source": [
    "10/0"
   ]
  },
  {
   "cell_type": "code",
   "execution_count": null,
   "id": "3ed74348",
   "metadata": {},
   "outputs": [],
   "source": [
    "try:\n",
    "    10 ////// 0\n",
    "except:\n",
    "    print(\"hello\")"
   ]
  },
  {
   "cell_type": "markdown",
   "id": "9a8f419f",
   "metadata": {},
   "source": [
    "`Fixing syntax errors`: "
   ]
  },
  {
   "cell_type": "markdown",
   "id": "1a34bf0a",
   "metadata": {
    "lang": "en"
   },
   "source": [
    "It is very helpful it'll indicate the place where it detected the error and, in addition, it does provide us with information about it. In this case it is indicating that the syntax from the print is not correct, so that we realize that we are making a mistake by not putting the colon after the True.\n",
    "In a syntax error message we distinguish two parts:\n",
    "- The path of the error: In the previous example, all the lines except the last one.\n",
    "- The description of the error: in the example above, the last line.\n",
    "\n",
    "Syntax errors are usually easy to fix, but sometimes an error that is triggered at one point can come from another point and that error path (or traceback) goes in descending order from the point at which the error was triggered, passing through various intermediate points (if any) to the point where the error occurred. In practice, this means that if we do not find anything on the line where the error is indicated, we will have to review the previous instructions until we find it."
   ]
  },
  {
   "cell_type": "markdown",
   "id": "d5e4b906",
   "metadata": {
    "lang": "en"
   },
   "source": [
    "## Exceptions / Errors \n",
    "An exception is a logical error that occurs at run time. In this case, the syntax of the instructions is correct and, for this reason, the Python interpreter will not stop or show any error when launching the program, but at the moment of execution it will stop and show an error, this is what is called a \"runtime error\".\n",
    "Exceptions are associated with different types, and that same type is the one that is shown in the error message. In addition to this information, details indicating the cause of the error are also displayed. All this will allow you to have enough information to find the fault and solve or manage it.\n",
    "Some examples of exceptions are as follows:\n",
    "- ZeroDivisionError: division by zero\n",
    "- NameError: name 'dflhjka' is not defined\n",
    "- TypeError: can only concatenate str (not \"int\") to str\n",
    "\n",
    "Python has a number of predefined exceptions, divided into base exceptions and concrete exceptions. The base exceptions are more generic and group the different types more specifically, which will allow you to make a more general treatment in your programs. On the contrary, the concrete exceptions offer more detail of the error produced.\n",
    "\n",
    "🚨⚠️Documentation [HERE](https://docs.python.org/3/library/exceptions.html)⚠️🚨\n",
    "\n",
    "Let's see some:"
   ]
  },
  {
   "cell_type": "markdown",
   "id": "49616421",
   "metadata": {
    "lang": "en"
   },
   "source": [
    "### LookupError\n",
    "This is the base class for exceptions that are raised when a key or index used in an assignment or sequence is invalid: IndexError, KeyError.\n",
    "#### KeyError\n",
    "Fired when a mapping key (dictionary) is not found in the set of existing keys."
   ]
  },
  {
   "cell_type": "code",
   "execution_count": null,
   "id": "d82ff0c9",
   "metadata": {},
   "outputs": [],
   "source": [
    "dict_ = {\"name\": \"Albert\",\n",
    "        \"age\": 30}"
   ]
  },
  {
   "cell_type": "code",
   "execution_count": null,
   "id": "c8fd746a",
   "metadata": {},
   "outputs": [],
   "source": [
    "dict_[\"city\"] = \"Mataró\""
   ]
  },
  {
   "cell_type": "code",
   "execution_count": null,
   "id": "6ff3eb2b",
   "metadata": {},
   "outputs": [],
   "source": [
    "dict_[\"city\"]"
   ]
  },
  {
   "cell_type": "code",
   "execution_count": null,
   "id": "33616433",
   "metadata": {},
   "outputs": [],
   "source": [
    "dict_[\"role\"]"
   ]
  },
  {
   "cell_type": "markdown",
   "id": "51499c48",
   "metadata": {
    "lang": "en"
   },
   "source": [
    "#### IndexError\n",
    "Thrown when a subscript in the sequence is out of range."
   ]
  },
  {
   "cell_type": "code",
   "execution_count": null,
   "id": "6b13989b",
   "metadata": {},
   "outputs": [],
   "source": [
    "lst_ = [1, 2, 3, 54]"
   ]
  },
  {
   "cell_type": "code",
   "execution_count": null,
   "id": "86e7280a",
   "metadata": {},
   "outputs": [],
   "source": [
    "lst_[3]"
   ]
  },
  {
   "cell_type": "code",
   "execution_count": null,
   "id": "05a7952c",
   "metadata": {},
   "outputs": [],
   "source": [
    "lst_[5]"
   ]
  },
  {
   "cell_type": "code",
   "execution_count": null,
   "id": "77ef4a08",
   "metadata": {},
   "outputs": [],
   "source": [
    "# if you're looping through something through the index: range(1, 11)\n",
    "#len(range(iterable)) last element + 1"
   ]
  },
  {
   "cell_type": "code",
   "execution_count": null,
   "id": "bdb79aec",
   "metadata": {},
   "outputs": [],
   "source": [
    "numbers = [1, 2, 3, 4]"
   ]
  },
  {
   "cell_type": "code",
   "execution_count": null,
   "id": "24901352",
   "metadata": {},
   "outputs": [],
   "source": [
    "new_list = []\n",
    "\n",
    "\n",
    "for i in range(7):\n",
    "    new_list.append(numbers[i]**2)\n",
    "                    #numbers[0] #position 0\n",
    "                    #numbers[4] # Error message\n",
    "    print(numbers[i]**2)\n",
    "    "
   ]
  },
  {
   "cell_type": "markdown",
   "id": "be0e47c1",
   "metadata": {
    "lang": "en"
   },
   "source": [
    "### ImportError\n",
    "Occurs when there are problems loading a module or when it is not found. is the base class of the `ModuleNotFoundError` exception"
   ]
  },
  {
   "cell_type": "code",
   "execution_count": null,
   "id": "46a9b610",
   "metadata": {},
   "outputs": [],
   "source": [
    "import maz #mispelt"
   ]
  },
  {
   "cell_type": "code",
   "execution_count": null,
   "id": "c327fd3d",
   "metadata": {},
   "outputs": [],
   "source": [
    "import selenium # INSTALLED but different environment"
   ]
  },
  {
   "cell_type": "code",
   "execution_count": null,
   "id": "d0eb718d",
   "metadata": {},
   "outputs": [],
   "source": [
    "import selenium #not installed"
   ]
  },
  {
   "cell_type": "code",
   "execution_count": null,
   "id": "0be8bbe1",
   "metadata": {},
   "outputs": [],
   "source": [
    "from vikingClasses import Soldier #path is wrong"
   ]
  },
  {
   "cell_type": "markdown",
   "id": "7ee3177f",
   "metadata": {
    "lang": "en"
   },
   "source": [
    "### AttributeError\n",
    "Thrown when a reference to an attribute or assignment fails."
   ]
  },
  {
   "cell_type": "code",
   "execution_count": null,
   "id": "97973d68",
   "metadata": {},
   "outputs": [],
   "source": [
    "num = 20"
   ]
  },
  {
   "cell_type": "markdown",
   "id": "a6866b2f",
   "metadata": {},
   "source": [
    "```python\n",
    "# bad example, don't do at home\n",
    "class Int (Object):\n",
    "    def __init__ (self):\n",
    "        pass\n",
    "    \n",
    "    def metodo (self):\n",
    "        pass\n",
    "    \n",
    "    #def upper():\n",
    "        #pass\n",
    "    \n",
    "num = Int(20)\n",
    "```"
   ]
  },
  {
   "cell_type": "code",
   "execution_count": null,
   "id": "8fbea814",
   "metadata": {},
   "outputs": [],
   "source": [
    "num.upper()"
   ]
  },
  {
   "cell_type": "code",
   "execution_count": null,
   "id": "2fd04934",
   "metadata": {},
   "outputs": [],
   "source": [
    "# Using a mehtod to an object that is different than you think"
   ]
  },
  {
   "cell_type": "code",
   "execution_count": null,
   "id": "0eafd9c7",
   "metadata": {},
   "outputs": [],
   "source": [
    "nested_lists = [[[1, 2, 3]]]"
   ]
  },
  {
   "cell_type": "code",
   "execution_count": null,
   "id": "4a9e415a",
   "metadata": {},
   "outputs": [],
   "source": [
    "# include prints\n",
    "   # if you do loops "
   ]
  },
  {
   "cell_type": "code",
   "execution_count": null,
   "id": "5a6a7a24",
   "metadata": {},
   "outputs": [],
   "source": [
    "flat_list = [k for i in nested_lists for x in i for num in x for k in num] "
   ]
  },
  {
   "cell_type": "code",
   "execution_count": null,
   "id": "e1650e29",
   "metadata": {},
   "outputs": [],
   "source": [
    "flat_list"
   ]
  },
  {
   "cell_type": "markdown",
   "id": "9fd663c8",
   "metadata": {
    "lang": "en"
   },
   "source": [
    "### ValueError\n",
    "Thrown when a function receives an argument of a correct type, but with an incorrect value.\n",
    "Passing arguments of the wrong type (for example, passing a list when an int is expected) should result in a TypeError, but passing arguments with the wrong value (for example, a number outside the expected bounds) should result in a ValueError."
   ]
  },
  {
   "cell_type": "code",
   "execution_count": null,
   "id": "5940d1eb",
   "metadata": {},
   "outputs": [],
   "source": [
    "variable = 10"
   ]
  },
  {
   "cell_type": "code",
   "execution_count": null,
   "id": "262c6c22",
   "metadata": {},
   "outputs": [],
   "source": [
    "lst_ =  [1, 2, 3, 4, 5 ,6 ,7, 8, 9]"
   ]
  },
  {
   "cell_type": "code",
   "execution_count": null,
   "id": "8cf163af",
   "metadata": {},
   "outputs": [],
   "source": [
    "lst_.remove(3)"
   ]
  },
  {
   "cell_type": "code",
   "execution_count": null,
   "id": "1744af1f",
   "metadata": {},
   "outputs": [],
   "source": [
    "lst_.remove(10)"
   ]
  },
  {
   "cell_type": "code",
   "execution_count": null,
   "id": "d3d3ca76",
   "metadata": {},
   "outputs": [],
   "source": [
    "lst_"
   ]
  },
  {
   "cell_type": "markdown",
   "id": "f5fbf98e",
   "metadata": {
    "lang": "en"
   },
   "source": [
    "### TypeError\n",
    "Occurs when an operation or function is applied to an object of the wrong type. The associated value is a string giving details about the type mismatch."
   ]
  },
  {
   "cell_type": "code",
   "execution_count": null,
   "id": "5f9cb8e2",
   "metadata": {},
   "outputs": [],
   "source": [
    "\"This is a string\" + \"something else\""
   ]
  },
  {
   "cell_type": "code",
   "execution_count": null,
   "id": "98c0267a",
   "metadata": {},
   "outputs": [],
   "source": [
    "\"This is a string\" * \"something else\""
   ]
  },
  {
   "cell_type": "code",
   "execution_count": null,
   "id": "95a16dd7",
   "metadata": {},
   "outputs": [],
   "source": [
    "\"Hello\" * 2 #HelloHello ?"
   ]
  },
  {
   "cell_type": "code",
   "execution_count": null,
   "id": "20e8a27f",
   "metadata": {},
   "outputs": [],
   "source": [
    "\"Hello\" * 2.0"
   ]
  },
  {
   "cell_type": "code",
   "execution_count": null,
   "id": "0cd14399",
   "metadata": {},
   "outputs": [],
   "source": [
    "\"Hello\" * int(2.0)"
   ]
  },
  {
   "cell_type": "code",
   "execution_count": null,
   "id": "3d4a926f",
   "metadata": {},
   "outputs": [],
   "source": [
    "\"Hello\" + \"2\""
   ]
  },
  {
   "cell_type": "code",
   "execution_count": null,
   "id": "15bf6566",
   "metadata": {},
   "outputs": [],
   "source": [
    "\"Hello\" + 2"
   ]
  },
  {
   "cell_type": "code",
   "execution_count": null,
   "id": "73c92eea",
   "metadata": {},
   "outputs": [],
   "source": [
    "\"string\" * int(2.9)\n",
    "\n",
    "# Error\n",
    "# result: 2 (truncates) ?"
   ]
  },
  {
   "cell_type": "markdown",
   "id": "94f5f2bf",
   "metadata": {
    "lang": "en"
   },
   "source": [
    "### OSError\n",
    "Occurs when a system-related error occurs, such as an input/output operation failure, files not found, etc. It is the base class and the exceptions that we will see the most are:\n"
   ]
  },
  {
   "attachments": {
    "OSError.png": {
     "image/png": "[encoded data removed]"
    }
   },
   "cell_type": "markdown",
   "id": "9bf73372",
   "metadata": {},
   "source": [
    "![OSError.png](attachment:OSError.png)"
   ]
  },
  {
   "cell_type": "markdown",
   "id": "678f4a80",
   "metadata": {},
   "source": [
    "#### FileNotFoundError\n",
    "File or directory does not exist"
   ]
  },
  {
   "cell_type": "code",
   "execution_count": null,
   "id": "cb923755",
   "metadata": {},
   "outputs": [],
   "source": [
    "import pandas as pd"
   ]
  },
  {
   "cell_type": "code",
   "execution_count": null,
   "id": "9b29189f",
   "metadata": {},
   "outputs": [],
   "source": [
    "# Find the actual path to this file: \"avocado_kaggle.csv\"\n",
    "\n",
    "# bash: grep/find"
   ]
  },
  {
   "cell_type": "code",
   "execution_count": null,
   "id": "8f7eb059",
   "metadata": {},
   "outputs": [],
   "source": [
    "!code ."
   ]
  },
  {
   "cell_type": "code",
   "execution_count": null,
   "id": "e913990a",
   "metadata": {},
   "outputs": [],
   "source": [
    "import os \n",
    "\n",
    "bash_command = \"\"\"\n",
    "ls;\n",
    "open .;\n",
    "\"\"\"\n",
    "os.system(bash_command)"
   ]
  },
  {
   "cell_type": "code",
   "execution_count": null,
   "id": "71b975d1",
   "metadata": {},
   "outputs": [],
   "source": [
    "!ls ../datasets"
   ]
  },
  {
   "cell_type": "code",
   "execution_count": null,
   "id": "44a6e696",
   "metadata": {},
   "outputs": [],
   "source": [
    "df = pd.read_csv(\"../\")"
   ]
  },
  {
   "cell_type": "code",
   "execution_count": null,
   "id": "ca7332cf",
   "metadata": {},
   "outputs": [],
   "source": [
    "df = pd.read_csv(\"../datasets/avocado_kaggle.csv\")\n",
    "df.sample()"
   ]
  },
  {
   "cell_type": "code",
   "execution_count": null,
   "id": "4ccef662",
   "metadata": {},
   "outputs": [],
   "source": [
    "df = pd.read_csv(\"../datasets/avocado_kaggle.csv\") #relative to this notebook"
   ]
  },
  {
   "cell_type": "code",
   "execution_count": null,
   "id": "aea38c90",
   "metadata": {},
   "outputs": [],
   "source": [
    "df = pd.read_csv(\"/Users/fernandocosta/IRONHACK/ft/lectures/datasets/avocado_kaggle.csv\") #?\n",
    "df.head()"
   ]
  },
  {
   "cell_type": "markdown",
   "id": "611249ca",
   "metadata": {
    "lang": "en"
   },
   "source": [
    "### TimeOutError\n",
    "Occurs when the waiting time is exceeded (we will see it in Katas and API calls, we will not handle it as such)"
   ]
  },
  {
   "cell_type": "code",
   "execution_count": null,
   "id": "ab9bb799",
   "metadata": {},
   "outputs": [],
   "source": [
    "def addition (x):\n",
    "    num = 1\n",
    "    while num > 0:\n",
    "        return addition(num)"
   ]
  },
  {
   "cell_type": "code",
   "execution_count": null,
   "id": "10af8805",
   "metadata": {},
   "outputs": [],
   "source": [
    "addition(1)"
   ]
  },
  {
   "cell_type": "code",
   "execution_count": null,
   "id": "59da9f19",
   "metadata": {},
   "outputs": [],
   "source": [
    "# tests\n",
    "# servers\n",
    "    # timeout error"
   ]
  },
  {
   "cell_type": "markdown",
   "id": "cb685743",
   "metadata": {
    "lang": "en"
   },
   "source": [
    "## Exception handling\n",
    "Exception handling is a programming technique to control errors that occur during the execution of an application. They are handled in a similar way to a conditional statement. If an exception (General or specific) does not occur, which would be the normal case, the application continues with the following instructions and, if one occurs, the instructions indicated by the developer for its treatment will be executed, which can continue the application or stop it, depending on the case. Exception handling in Python starts with a keyword structure, like this:\n",
    "```python\n",
    "try:\n",
    "    instructions\n",
    "except:\n",
    "    instructions if that exception occurs\n",
    "```"
   ]
  },
  {
   "cell_type": "code",
   "execution_count": null,
   "id": "5f8cb236",
   "metadata": {},
   "outputs": [],
   "source": [
    "# errros: give us info\n",
    "# they stop the code\n",
    "    # didnt anticipate the issue\n",
    "    # we did anticipate: keep things running"
   ]
  },
  {
   "cell_type": "markdown",
   "id": "289d32a8",
   "metadata": {
    "lang": "en"
   },
   "source": [
    "In this exception management, the type of the exception can be generic or specific. The best way to control and handle what happened is to do it as specifically as possible, by writing multiple except clauses for the same try, each handling a different type of exception. This is recommended because in this way we will make a more precise management of the detected error cases.\n",
    "```python\n",
    "try:\n",
    "    instructions\n",
    "    except exception type 1:\n",
    "        instructions if that exception occurs 1\n",
    "    except exception type 2:\n",
    "        instructions if that exception occurs\n",
    "```"
   ]
  },
  {
   "cell_type": "code",
   "execution_count": null,
   "id": "afbde5ab",
   "metadata": {},
   "outputs": [],
   "source": [
    "try:\n",
    "    pass\n",
    "except:\n",
    "    pass"
   ]
  },
  {
   "cell_type": "code",
   "execution_count": null,
   "id": "92baf839",
   "metadata": {},
   "outputs": [],
   "source": [
    "lst_ = [1, 2, 3, 4, 5, \"6\", 7, 8, 9]"
   ]
  },
  {
   "cell_type": "code",
   "execution_count": null,
   "id": "ce533647",
   "metadata": {},
   "outputs": [],
   "source": [
    "[i**2 for i in lst_]"
   ]
  },
  {
   "cell_type": "code",
   "execution_count": null,
   "id": "5a93ba23",
   "metadata": {},
   "outputs": [],
   "source": [
    "squared_list = []\n",
    "\n",
    "for i in lst_:\n",
    "    squared_list.append(i**2)\n",
    "\n",
    "squared_list"
   ]
  },
  {
   "cell_type": "code",
   "execution_count": null,
   "id": "559fedcd",
   "metadata": {},
   "outputs": [],
   "source": [
    "squared_list = []\n",
    "\n",
    "for i in lst_:\n",
    "    try:\n",
    "        squared_list.append(i**2)\n",
    "    except:\n",
    "        print(f\"The element {i} cannot be squared, it is of type {type(i)}\")\n",
    "\n",
    "squared_list"
   ]
  },
  {
   "cell_type": "code",
   "execution_count": null,
   "id": "3d6b7b8f",
   "metadata": {},
   "outputs": [],
   "source": [
    "squared_list = []\n",
    "exceptions_list = []\n",
    "\n",
    "for i in lst_:\n",
    "    try:\n",
    "        squared_list.append(i**2)\n",
    "    except:\n",
    "        exceptions_list.append(i)\n",
    "        print(f\"The element {i} cannot be squared, it is of type {type(i)}\")\n",
    "\n",
    "squared_list\n",
    "exceptions_list"
   ]
  },
  {
   "cell_type": "code",
   "execution_count": null,
   "id": "1bbc44b6",
   "metadata": {},
   "outputs": [],
   "source": [
    "def elements_powered (lst_):\n",
    "    squared_list = []\n",
    "    exceptions_list = []\n",
    "\n",
    "    for i in lst_:\n",
    "        try:\n",
    "            squared_list.append(i**2)\n",
    "        except:\n",
    "            exceptions_list.append(i)\n",
    "            print(f\"The element {i} cannot be squared, it is of type {type(i)}\")\n",
    "\n",
    "    return squared_list, exceptions_list"
   ]
  },
  {
   "cell_type": "code",
   "execution_count": null,
   "id": "d5d36ce1",
   "metadata": {},
   "outputs": [],
   "source": [
    "a, b = (10, 20)"
   ]
  },
  {
   "cell_type": "code",
   "execution_count": null,
   "id": "25bcb423",
   "metadata": {},
   "outputs": [],
   "source": [
    "a"
   ]
  },
  {
   "cell_type": "code",
   "execution_count": null,
   "id": "78b58853",
   "metadata": {},
   "outputs": [],
   "source": [
    "b "
   ]
  },
  {
   "cell_type": "code",
   "execution_count": null,
   "id": "6a06fb16",
   "metadata": {},
   "outputs": [],
   "source": [
    "elements_powered ([1, 2, 3, 4, 5, \"6\", 7, 8, 9, \"10\", [0]])"
   ]
  },
  {
   "cell_type": "code",
   "execution_count": null,
   "id": "8dd8e400",
   "metadata": {},
   "outputs": [],
   "source": [
    "powered, exceptions = elements_powered ([1, 2, 3, 4, 5, \"6\", 7, 8, 9, \"10\", [0]])"
   ]
  },
  {
   "cell_type": "code",
   "execution_count": null,
   "id": "5790eddb",
   "metadata": {},
   "outputs": [],
   "source": [
    "powered"
   ]
  },
  {
   "cell_type": "code",
   "execution_count": null,
   "id": "ef2a32eb",
   "metadata": {},
   "outputs": [],
   "source": [
    "exceptions"
   ]
  },
  {
   "cell_type": "markdown",
   "id": "f98b0eef",
   "metadata": {
    "lang": "en"
   },
   "source": [
    "### What not to do when handling exceptions"
   ]
  },
  {
   "cell_type": "markdown",
   "id": "0b3f1a0f",
   "metadata": {},
   "source": [
    "⚠️: TO AVOID"
   ]
  },
  {
   "cell_type": "code",
   "execution_count": null,
   "id": "02fc35fb",
   "metadata": {},
   "outputs": [],
   "source": [
    "try:\n",
    "    #\n",
    "    #\n",
    "    #\n",
    "    #\n",
    "    #\n",
    "    pass\n",
    "except:\n",
    "    pass"
   ]
  },
  {
   "cell_type": "code",
   "execution_count": null,
   "id": "18e65614",
   "metadata": {},
   "outputs": [],
   "source": [
    "try: #IF this works: do this\n",
    "    \n",
    "except: #ELIF it doesn't: do this\n",
    "\n",
    "except:"
   ]
  },
  {
   "cell_type": "code",
   "execution_count": null,
   "id": "5bdc321f",
   "metadata": {},
   "outputs": [],
   "source": [
    "lst_ = [1, 2, 3, 4, 5, \"a string\"]"
   ]
  },
  {
   "cell_type": "code",
   "execution_count": null,
   "id": "05a9d8d4",
   "metadata": {},
   "outputs": [],
   "source": [
    "new_list = []"
   ]
  },
  {
   "cell_type": "code",
   "execution_count": null,
   "id": "8ff86b83",
   "metadata": {},
   "outputs": [],
   "source": [
    "lst_[1] ** 2"
   ]
  },
  {
   "cell_type": "code",
   "execution_count": null,
   "id": "91485543",
   "metadata": {},
   "outputs": [],
   "source": [
    "for i in range(20):\n",
    "    try:\n",
    "        new_list.append(lst_[i]**2)\n",
    "    except IndexError: \n",
    "        print(f\"The length is less than {i} \")\n",
    "    except TypeError:\n",
    "        print(f\"The type of {i} is {type(i)}\")"
   ]
  },
  {
   "cell_type": "code",
   "execution_count": null,
   "id": "c8a236f0",
   "metadata": {},
   "outputs": [],
   "source": [
    "def squaring_numbers (lst_):\n",
    "    new_list = []\n",
    "    \n",
    "    for i in range(20):\n",
    "        try:\n",
    "            new_list.append(lst_[i]**2)\n",
    "        except IndexError: \n",
    "            print(f\"The length is less than {i} \")\n",
    "        except TypeError as ERRORSITO:\n",
    "            print(f\"The type of {i} is {type(i)}: errorsito {ERRORSITO}\")\n",
    "    \n",
    "    return new_list"
   ]
  },
  {
   "cell_type": "code",
   "execution_count": null,
   "id": "069ab550",
   "metadata": {},
   "outputs": [],
   "source": [
    "squaring_numbers (lst_)"
   ]
  },
  {
   "cell_type": "code",
   "execution_count": null,
   "id": "1d499fb8",
   "metadata": {},
   "outputs": [],
   "source": [
    "# Test driven development\n",
    "    # 1. First write the test\n",
    "    # 2. Write the code\n",
    "    # 3. You make the code pass your test (that you did before)"
   ]
  },
  {
   "cell_type": "markdown",
   "id": "1b5badee",
   "metadata": {
    "lang": "en"
   },
   "source": [
    "## Data validation with `assert`"
   ]
  },
  {
   "cell_type": "markdown",
   "id": "d629a7b9",
   "metadata": {
    "lang": "en"
   },
   "source": [
    "Python provides a way to set enforceable conditions, that is, conditions that an object must meet or else an exception will be thrown. It is like a kind of \"safety net\" against possible failures of the programmer. The `assert` statement adds controls for debugging a program. It allows us to express a condition that must always be true, and that, if not, will interrupt the program, generating an exception to handle called AssertionError. The way to call this expression is as follows:\n",
    "```python\n",
    "assert boolean condition\n",
    "```\n",
    "In case the boolean expression is true, assert does nothing. If it is false, it throws an exception. Let's see an example to understand it."
   ]
  },
  {
   "cell_type": "code",
   "execution_count": null,
   "id": "ae46bb62",
   "metadata": {},
   "outputs": [],
   "source": [
    "#AssertionError: 250 != 300"
   ]
  },
  {
   "cell_type": "code",
   "execution_count": null,
   "id": "b19c2c5a",
   "metadata": {},
   "outputs": [],
   "source": [
    "assert #MAKE SURE THIS IS THIS"
   ]
  },
  {
   "cell_type": "code",
   "execution_count": null,
   "id": "9502aa96",
   "metadata": {},
   "outputs": [],
   "source": [
    "assert 10 == 10, \"sdsd\""
   ]
  },
  {
   "cell_type": "code",
   "execution_count": null,
   "id": "d808ef7d",
   "metadata": {},
   "outputs": [],
   "source": [
    "assert 10 == 11, \"Not equal\""
   ]
  },
  {
   "cell_type": "code",
   "execution_count": null,
   "id": "f733af06",
   "metadata": {},
   "outputs": [],
   "source": [
    "assert 10 == 11, \"Harold didnt die :)\""
   ]
  },
  {
   "cell_type": "markdown",
   "id": "85fa8694",
   "metadata": {
    "lang": "en"
   },
   "source": [
    "## Raise errors\n",
    "We write a function that multiplies a number by 2 as long as the input argument is an integer."
   ]
  },
  {
   "cell_type": "code",
   "execution_count": null,
   "id": "28288436",
   "metadata": {},
   "outputs": [],
   "source": [
    "# Syntax errors\n",
    "# Erros / exceptions\n",
    "\n",
    "# I want the code to continue running even if I find an error  -> try/except\n",
    "# I want to stop the code EVEN if there's no errors\n",
    "   # stop the execution of code:\n",
    "    # assert\n",
    "    # raiseExceptions"
   ]
  },
  {
   "cell_type": "markdown",
   "id": "41d8c8f4",
   "metadata": {
    "lang": "en"
   },
   "source": [
    "We ask the user to enter the character c to continue or the character f to end. However, we cannot guarantee that you will always enter any of these characters. Therefore, we create our own exception, which we call MyException. In this way, if the user enters a character other than c and f, the created exception will be thrown and an error message will be displayed indicating that the character entered is not valid."
   ]
  },
  {
   "cell_type": "code",
   "execution_count": null,
   "id": "d72d52c2",
   "metadata": {},
   "outputs": [],
   "source": [
    "def multiply_by_2 (x):\n",
    "    return x*2"
   ]
  },
  {
   "cell_type": "code",
   "execution_count": null,
   "id": "0ca306e7",
   "metadata": {},
   "outputs": [],
   "source": [
    "multiply_by_2(10)"
   ]
  },
  {
   "cell_type": "code",
   "execution_count": null,
   "id": "aa7b073f",
   "metadata": {},
   "outputs": [],
   "source": [
    "multiply_by_2(\"10\")"
   ]
  },
  {
   "cell_type": "code",
   "execution_count": null,
   "id": "70cfe7ae",
   "metadata": {},
   "outputs": [],
   "source": [
    "def multiply_by_2 (x):\n",
    "    if type(x) == int:\n",
    "        return x*2\n",
    "    else:\n",
    "        raise ValueError"
   ]
  },
  {
   "cell_type": "code",
   "execution_count": null,
   "id": "827df70f",
   "metadata": {},
   "outputs": [],
   "source": [
    "multiply_by_2 (10)"
   ]
  },
  {
   "cell_type": "code",
   "execution_count": null,
   "id": "e8e1d513",
   "metadata": {},
   "outputs": [],
   "source": [
    "multiply_by_2 (\"10\")"
   ]
  },
  {
   "cell_type": "code",
   "execution_count": null,
   "id": "e02e761d",
   "metadata": {},
   "outputs": [],
   "source": [
    "def multiply_by_2 (x):\n",
    "    if type(x) == int:\n",
    "        return x*2\n",
    "    elif type(x) == str:\n",
    "        try:\n",
    "            return int(x) * 2\n",
    "        except:\n",
    "            raise ValueError\n",
    "    else:\n",
    "        print(\"Hello! I'm within the else\")\n",
    "        raise ValueError"
   ]
  },
  {
   "cell_type": "code",
   "execution_count": null,
   "id": "a79a8c3a",
   "metadata": {},
   "outputs": [],
   "source": [
    "multiply_by_2 (10)"
   ]
  },
  {
   "cell_type": "code",
   "execution_count": null,
   "id": "96392563",
   "metadata": {},
   "outputs": [],
   "source": [
    "multiply_by_2 (\"10\") # elif: str"
   ]
  },
  {
   "cell_type": "code",
   "execution_count": null,
   "id": "04c8b112",
   "metadata": {},
   "outputs": [],
   "source": [
    "multiply_by_2 ([10]) #else"
   ]
  },
  {
   "cell_type": "markdown",
   "id": "7b938acd",
   "metadata": {},
   "source": [
    "Using except Exception will allow us to later on check for the type it was:\n",
    "\n",
    "\n",
    "```python\n",
    "except Exception as variable_saved:\n",
    "    # TypeError\n",
    "    print(type(variable_saved)) #-> It was indeed a TypeError\n",
    "\n",
    "    \n",
    "except: # on it's own, not a lot of info\n",
    "```"
   ]
  },
  {
   "cell_type": "code",
   "execution_count": null,
   "id": "4f7feb75",
   "metadata": {},
   "outputs": [],
   "source": [
    "class MyCoolException(Exception):\n",
    "    def __init__ (self, string):\n",
    "        self.value = string\n",
    "        \n",
    "    def __str__ (self):\n",
    "        return f\"There was an error here: {self.value}\""
   ]
  },
  {
   "cell_type": "code",
   "execution_count": null,
   "id": "27dda4e4",
   "metadata": {},
   "outputs": [],
   "source": [
    "def multiply_by_2 (x):\n",
    "    if type(x) == int:\n",
    "        return x*2\n",
    "    else:\n",
    "        raise MyCoolException(\"errorsito\")"
   ]
  },
  {
   "cell_type": "code",
   "execution_count": null,
   "id": "bb2f69f6",
   "metadata": {},
   "outputs": [],
   "source": [
    "multiply_by_2 (\"567\")"
   ]
  },
  {
   "cell_type": "markdown",
   "id": "16cf46ff",
   "metadata": {
    "lang": "en"
   },
   "source": [
    "## Summary\n",
    "It's your turn, what have we learned today?\n"
   ]
  },
  {
   "cell_type": "markdown",
   "id": "2f8ab521",
   "metadata": {},
   "source": []
  }
 ],
 "metadata": {
  "kernelspec": {
   "display_name": "Python 3 (ipykernel)",
   "language": "python",
   "name": "python3"
  },
  "language_info": {
   "codemirror_mode": {
    "name": "ipython",
    "version": 3
   },
   "file_extension": ".py",
   "mimetype": "text/x-python",
   "name": "python",
   "nbconvert_exporter": "python",
   "pygments_lexer": "ipython3",
   "version": "3.11.8"
  },
  "nbTranslate": {
   "displayLangs": [
    "en",
    "es"
   ],
   "hotkey": "alt-a",
   "langInMainMenu": true,
   "sourceLang": "es",
   "targetLang": "en",
   "useGoogleTranslate": true
  },
  "toc": {
   "base_numbering": 1,
   "nav_menu": {},
   "number_sections": true,
   "sideBar": true,
   "skip_h1_title": true,
   "title_cell": "Table of Contents",
   "title_sidebar": "Contents",
   "toc_cell": true,
   "toc_position": {
    "height": "calc(100% - 180px)",
    "left": "10px",
    "top": "150px",
    "width": "165px"
   },
   "toc_section_display": true,
   "toc_window_display": true
  }
 },
 "nbformat": 4,
 "nbformat_minor": 5
}
