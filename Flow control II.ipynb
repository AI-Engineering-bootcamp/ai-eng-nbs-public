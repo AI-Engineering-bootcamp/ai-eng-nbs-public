{
 "cells": [
  {
   "cell_type": "markdown",
   "id": "raised-meter",
   "metadata": {
    "toc": true
   },
   "source": [
    "<h1>Flow Control<span class=\"tocSkip\"></span></h1>\n",
    "<h3>Table of Contents<span class=\"tocSkip\"></span></h3>\n",
    "<div class=\"toc\"><ul class=\"toc-item\"><li><span><a href=\"#The-&quot;while&quot;-statement\" data-toc-modified-id=\"The-&quot;while&quot;-statement-1\"><span class=\"toc-item-num\">1&nbsp;&nbsp;</span>The \"while\" statement</a></span></li><li><span><a href=\"#Pass,--continue-&amp;-break\" data-toc-modified-id=\"Pass,--continue-&amp;-break-2\"><span class=\"toc-item-num\">2&nbsp;&nbsp;</span>Pass,  continue &amp; break</a></span></li><li><span><a href=\"#For\" data-toc-modified-id=\"For-3\"><span class=\"toc-item-num\">3&nbsp;&nbsp;</span>For</a></span><ul class=\"toc-item\"><li><span><a href=\"#Iterate-through-strings\" data-toc-modified-id=\"Iterate-through-strings-3.1\"><span class=\"toc-item-num\">3.1&nbsp;&nbsp;</span>Iterate through strings</a></span></li><li><span><a href=\"#Iterate-through-a-list\" data-toc-modified-id=\"Iterate-through-a-list-3.2\"><span class=\"toc-item-num\">3.2&nbsp;&nbsp;</span>Iterate through a list</a></span></li><li><span><a href=\"#We-iterate-through-lists-over-their-index\" data-toc-modified-id=\"We-iterate-through-lists-over-their-index-3.3\"><span class=\"toc-item-num\">3.3&nbsp;&nbsp;</span>We iterate through lists over their index</a></span></li><li><span><a href=\"#Loop-through-two-lists-at-the-same-time\" data-toc-modified-id=\"Loop-through-two-lists-at-the-same-time-3.4\"><span class=\"toc-item-num\">3.4&nbsp;&nbsp;</span>Loop through two lists at the same time</a></span></li><li><span><a href=\"#Iterate-over-the-elements-of-a-dictionary\" data-toc-modified-id=\"Iterate-over-the-elements-of-a-dictionary-3.5\"><span class=\"toc-item-num\">3.5&nbsp;&nbsp;</span>Iterate over the elements of a dictionary</a></span></li></ul></li><li><span><a href=\"#Summary\" data-toc-modified-id=\"Summary-4\"><span class=\"toc-item-num\">4&nbsp;&nbsp;</span>Summary</a></span></li></ul></div>"
   ]
  },
  {
   "cell_type": "markdown",
   "id": "constant-discovery",
   "metadata": {},
   "source": [
    "# Let's keep the flow going"
   ]
  },
  {
   "cell_type": "markdown",
   "id": "genetic-output",
   "metadata": {},
   "source": [
    "![FLOW](https://media.giphy.com/media/h8y265b9iKtzKT0pDj/giphy.gif)"
   ]
  },
  {
   "cell_type": "markdown",
   "id": "17832115",
   "metadata": {
    "lang": "en"
   },
   "source": [
    "Welcome back to the wild world of Python programming! In our previous sessions, we've conquered the art of conditional statements and dipped our toes into the magical land of \"for\" loops. Now, it's time to level up and embark on a thrilling journey through the enchanting realm of loops.\n",
    "\n",
    "In this notebook, we'll be unraveling the mysteries of the \"while\" statement, mastering the secrets of \"pass,\" \"continue,\" and \"break,\" and depeer exploring the versatile \"for\" loop. We'll learn to dance with strings, groove with lists, synchronize our moves with dictionaries, and much more.\n",
    "\n",
    "So buckle up, fellow Python adventurer! It's time to dive into the world of loops and embrace the power of iteration. Whether you're a seasoned coder or just starting your Python voyage, there's something here for everyone. Let's set sail on this coding adventure together! 🐍🌟\n",
    "\n",
    "## The \"while\" statement\n",
    "\n",
    "In Python, the `while` statement is a powerful tool when you need to execute a block of code repeatedly as long as a certain condition holds true. Think of it as your trusty sidekick for those dynamic scenarios where you don't know exactly how many iterations you'll need in advance.\n",
    "\n",
    "**When to Use \"while\" Instead of \"for\"**\n",
    "\n",
    "Imagine you're building a business application, and you want to keep processing customer orders until your inventory is empty or until a specific sales target is met. This is where the \"while\" statement shines. In a business context, you'd use the \"while\" loop when:\n",
    "\n",
    "1. **Dynamic Conditions:** You have a situation where the number of iterations isn't predetermined. For instance, you're continuously processing customer orders until a specific sales goal is reached, and that goal varies from day to day.\n",
    "\n",
    "2. **Real-time Monitoring:** You need to monitor a system or process in real-time and take action based on changing conditions. For example, you want to adjust production levels in response to fluctuations in demand.\n",
    "\n",
    "3. **Interactive User Input:** You're designing an interactive application that waits for user input, such as a chatbot that responds to user messages until the user decides to exit the conversation.\n",
    "\n",
    "The \"while\" statement allows your program to adapt dynamically to the changing conditions of the real world. It keeps running until a specific condition becomes false, making it ideal for scenarios where flexibility and responsiveness are key.\n",
    "\n",
    "So, while the \"for\" loop excels in situations where you have a fixed sequence or collection of items to iterate through, the \"while\" loop is your go-to choice when dealing with scenarios that demand dynamic, condition-driven iteration in the ever-changing landscape of business operations.\n",
    "\n",
    "\n",
    "**Note:** Beware of infinite recursions!"
   ]
  },
  {
   "cell_type": "code",
   "execution_count": null,
   "id": "13143a55",
   "metadata": {},
   "outputs": [],
   "source": [
    "# Initialize the age variable\n",
    "age = 10\n",
    "\n",
    "# Define the upper age limit for the loop\n",
    "age_limit = 18\n",
    "\n",
    "# Use a while loop to iterate as long as age is less than or equal to the age limit\n",
    "while age <= age_limit:\n",
    "    # Print the current age\n",
    "    print(f\"Current age is {age}\")\n",
    "    \n",
    "    # Increment the age by 1 in each iteration\n",
    "    age += 1\n",
    "\n",
    "# The loop will exit when age becomes greater than the age limit\n",
    "print(\"You are now an adult!\")"
   ]
  },
  {
   "cell_type": "markdown",
   "id": "cbe52113",
   "metadata": {},
   "source": [
    "In this example, we're using a \"while\" loop to simulate a person's age incrementing from 10 to 18, which is typically considered the transition from childhood to adulthood. Here's a breakdown of the code:\n",
    "\n",
    "1. We start with an initial age of 10 and set the age_limit to 18, the age at which the loop will exit.\n",
    "\n",
    "2. Inside the \"while\" loop, we check if age is less than or equal to age_limit. If this condition is true, the loop continues to execute.\n",
    "\n",
    "3. Inside the loop, we print the current age using an f-string to provide a clear message.\n",
    "\n",
    "4. We then increment the age by 1 in each iteration using `age += 1`.\n",
    "\n",
    "5. The loop repeats until age becomes greater than age_limit, at which point the loop exits.\n",
    "\n",
    "6. Finally, we print a message indicating that the person is now an adult.\n",
    "\n",
    "This example demonstrates how to use a \"while\" loop to perform a series of actions until a specific condition is met. It's a common pattern for iterative tasks that don't have a predetermined number of iterations. Another example:\n"
   ]
  },
  {
   "cell_type": "code",
   "execution_count": null,
   "id": "b5737ced",
   "metadata": {},
   "outputs": [],
   "source": [
    "# Initialize principal amount, interest rate, and time period in years\n",
    "principal = 1000\n",
    "rate = 5  # 5% annual interest rate\n",
    "years = 10\n",
    "\n",
    "# Calculate compound interest using the formula\n",
    "# A = P(1 + r/n)^(nt)\n",
    "# where A is the final amount, P is the principal, r is the annual interest rate, n is the number of times interest is compounded per year, and t is the time in years.\n",
    "n = 1  # Compounded annually\n",
    "\n",
    "# Initialize the counter for years\n",
    "current_year = 1\n",
    "\n",
    "while current_year <= years:\n",
    "    # Calculate compound interest for the current year\n",
    "    amount = principal * (1 + (rate / (100 * n))) ** (n * current_year)\n",
    "    \n",
    "    # Print the result for the current year\n",
    "    print(f\"Year {current_year}: ${amount:.2f}\")\n",
    "    \n",
    "    # Increment the current year\n",
    "    current_year += 1"
   ]
  },
  {
   "cell_type": "markdown",
   "id": "ba1c5adf",
   "metadata": {
    "lang": "en"
   },
   "source": [
    "In this example, we use a \"while\" loop to calculate compound interest over a specified number of years. Compound interest is the interest calculated on both the initial principal and the accumulated interest from previous periods.\n",
    "\n",
    "**Key Concepts:**\n",
    "- Principal: The initial amount of money invested or borrowed.\n",
    "- Annual Interest Rate: The annual interest rate as a percentage.\n",
    "- Time Period: The number of years for which we want to calculate the compound interest.\n",
    "- Compounding Frequency: How often the interest is compounded per year. In this example, it's compounded annually (once a year).\n",
    "\n",
    "**Explanation:**\n",
    "\n",
    "1. We initialize the principal amount, annual interest rate, and the time period in years. For instance, we start with a principal of $1,000, an annual interest rate of 5%, and a time period of 10 years.\n",
    "\n",
    "2. The formula for calculating compound interest is used, which is:\n",
    "   \n",
    "   ![Compound Interest Formula](https://latex.codecogs.com/gif.latex?A&space;=&space;P&space;\\left(1&space;&plus;&space;\\frac{r}{n}\\right)^{nt})\n",
    "\n",
    "   Where:\n",
    "   - A is the final amount.\n",
    "   - P is the principal.\n",
    "   - r is the annual interest rate.\n",
    "   - n is the number of times interest is compounded per year.\n",
    "   - t is the time in years.\n",
    "\n",
    "3. We set the compounding frequency (n) to 1, indicating that the interest is compounded annually.\n",
    "\n",
    "4. Using a \"while\" loop, we iterate over each year from 1 to the specified number of years. For each year, we calculate the compound interest based on the formula.\n",
    "\n",
    "5. The calculated amount for each year is printed, showing how the investment grows over time.\n",
    "\n",
    "This example demonstrates how to use a \"while\" loop to simulate the growth of an investment over multiple years, considering compound interest. It's a practical application of mathematics and programming for financial calculations.\n",
    "\n",
    "\n",
    "In the case of while True the expression will always evaluate to true by definition.\n",
    "It would be equivalent to:\n",
    "\n",
    "```python\n",
    "as long as true is true:\n",
    "    do something\n",
    "   ````"
   ]
  },
  {
   "cell_type": "markdown",
   "id": "587399ed",
   "metadata": {
    "lang": "en"
   },
   "source": [
    "🐒 - We write a program that asks the user for a letter between a and d forever until he enters one correctly."
   ]
  },
  {
   "cell_type": "code",
   "execution_count": null,
   "id": "7e2abd0d",
   "metadata": {},
   "outputs": [],
   "source": [
    "# Initialize the letter variable\n",
    "letter = input(\"Letter between a-d: \")\n",
    "\n",
    "# Define the accepted letters\n",
    "accepted_letters = [\"a\", \"b\", \"c\", \"d\"]\n",
    "\n",
    "# Use a while loop to repeatedly ask for input until a valid option is provided\n",
    "while letter not in accepted_letters:\n",
    "    print(\"Invalid input. Please enter a letter between 'a' and 'd'.\")\n",
    "    letter = input(\"Letter between a-d: \")\n",
    "\n",
    "# The loop exits when a valid letter is provided\n",
    "print(f\"You entered the letter: {letter}\")"
   ]
  },
  {
   "cell_type": "markdown",
   "id": "1fad63ba",
   "metadata": {},
   "source": [
    "In this example, we use a \"while\" loop to repeatedly ask the user for input until they provide a valid option. The goal is to ensure that the user's input falls within a specified range of accepted values.\n",
    "\n",
    "**Key Concepts:**\n",
    "- User Input: We prompt the user to enter a letter.\n",
    "- Validation: We want to ensure that the entered letter is one of the accepted options (in this case, letters between 'a' and 'd').\n",
    "- \"while\" Loop: We use a \"while\" loop to keep asking for input until a valid option is provided.\n",
    "\n",
    "**Explanation:**\n",
    "\n",
    "1. We initially ask the user to enter a letter using the `input` function. The input is stored in the `letter` variable.\n",
    "\n",
    "2. We create a list called `accepted_letters` that contains the valid options, which are \"a,\" \"b,\" \"c,\" and \"d.\"\n",
    "\n",
    "3. Using a \"while\" loop, we check if the entered `letter` is not in the `accepted_letters` list. If it's not, the loop continues to execute.\n",
    "\n",
    "4. Inside the loop, we ask the user for input again, reassigning the value to the `letter` variable. This process repeats until the user provides a valid option.\n",
    "\n",
    "5. Once the user enters a letter within the accepted range, the loop exits, and the program proceeds to the next steps or actions.\n",
    "\n",
    "This example demonstrates how to create a simple user input validation mechanism using a \"while\" loop. It ensures that the user's input conforms to specified criteria before moving forward with the program's execution.\n",
    "\n",
    "### Business Challenge: Identify Profitable Investment Opportunities\n",
    "\n",
    "**Task:** Write a Python program to help a financial analyst identify potentially profitable investment opportunities based on historical data.\n",
    "\n",
    "**Instructions:**\n",
    "\n",
    "0. **fist of all, provide the pseudo code of this exercise.**\n",
    "1. Ask the user to input two integers: the number of investment opportunities to analyze and the minimum acceptable profit margin (as a percentage).\n",
    "2. For each investment opportunity, prompt the user to enter the investment name and its associated profit margin (as a percentage).\n",
    "3. Check and print the names of investment opportunities that meet or exceed the minimum acceptable profit margin.\n",
    "4. Ensure that the user enters a valid number of opportunities and a valid profit margin.\n",
    "5. Use a for loop to iterate through each investment opportunity.\n",
    "6. Implement a condition to check if the profit margin is greater than or equal to the minimum acceptable margin.\n",
    "7. Print the names of the profitable investment opportunities.\n",
    "\n",
    "**Hints:**\n",
    "\n",
    "- Ensure that the user enters a valid number of investment opportunities and profit margin (both should be positive).\n",
    "- Use formatted strings to display the results clearly.\n",
    "\n",
    "**Example Output:**\n",
    "\n",
    "```python\n",
    "Welcome to the Investment Opportunity Analyzer!\n",
    "Please enter the number of investment opportunities: 3\n",
    "Please enter the minimum acceptable profit margin (as a percentage): 10\n",
    "\n",
    "Enter details for investment opportunity 1:\n",
    "Investment Name: Stock XYZ\n",
    "Profit Margin (as a percentage): 15\n",
    "\n",
    "Enter details for investment opportunity 2:\n",
    "Investment Name: Real Estate Project\n",
    "Profit Margin (as a percentage): 8\n",
    "\n",
    "Enter details for investment opportunity 3:\n",
    "Investment Name: Tech Startup\n",
    "Profit Margin (as a percentage): 12\n",
    "\n",
    "Profitable investment opportunities (with a profit margin of 10% or higher):\n",
    "1. Stock XYZ\n",
    "3. Tech Startup\n",
    "```"
   ]
  },
  {
   "cell_type": "code",
   "execution_count": null,
   "id": "05dc47aa",
   "metadata": {},
   "outputs": [],
   "source": [
    "# Welcome message\n",
    "print(\"Welcome to the Investment Opportunity Analyzer!\")\n",
    "\n",
    "# Input validation using a while loop\n",
    "num_opportunities = int(input(\"Please enter the number of investment opportunities: \"))\n",
    "profit_margin = float(input(\"Please enter the minimum acceptable profit margin (as a percentage): \"))\n",
    "\n",
    "# Initialize a list to store profitable opportunities\n",
    "profitable_opportunities = []\n",
    "\n",
    "# Gather details for each investment opportunity\n",
    "# for i in opportunities: (continue this code)\n",
    "\n",
    "\n",
    "# Print profitable investment opportunities\n",
    "# if profitable_opportunities: (continue this part)"
   ]
  },
  {
   "cell_type": "markdown",
   "id": "9af78e68",
   "metadata": {
    "lang": "en"
   },
   "source": [
    "## Pass,  continue & break\n",
    "In Python, we have control flow statements that allow us to manage the flow of our programs. These statements help us make decisions, control loops, and handle various situations. Let's explore three important control flow statements: `pass`, `continue`, and `break`.[docs](https://docs.python.org/3/tutorial/controlflow.html))\n",
    "\n",
    "- **Pass:**\n",
    "\n",
    "  The `pass` statement serves as a placeholder in Python. When you're writing code and need a statement at a certain place but don't want it to perform any action yet, you can use `pass`. It's a way of telling Python, \"I know there should be something here, but I'm not ready to write it yet.\" It's commonly used when you're designing the structure of your code and need to fill in the details later. For example, when defining a function or a class, you might use `pass` until you're ready to write the actual code inside them.\n",
    "\n",
    "- **Continue:**\n",
    "\n",
    "  The `continue` statement is used within loops (like `for` or `while`) to skip the rest of the current iteration and move on to the next one. Imagine you're iterating over a list of numbers and, when a specific condition is met, you want to skip that number and proceed to the next. You can use `continue` to achieve this. It's like saying, \"I'm done with this part of the loop; let's move to the next element.\"\n",
    "\n",
    "- **Break:**\n",
    "\n",
    "  The `break` statement is also used within loops but is more powerful. When encountered, it immediately exits the loop, even if the loop's conditions are not met. It's like saying, \"I'm done with this loop; let's get out of here.\" You might use `break` when searching for a specific element in a list. Once you find it, you can break the loop instead of continuing to iterate unnecessarily.\n",
    "\n",
    "These control flow statements help you manage the flow of your program and make decisions based on conditions, ensuring that your code behaves the way you intend. They are essential tools for any programmer and can simplify complex logic.\n"
   ]
  },
  {
   "cell_type": "markdown",
   "id": "9a7bc1ee",
   "metadata": {},
   "source": [
    "- `pass`: ignores, does things and goes to next iteration\n",
    "\n",
    "**Example 1:**"
   ]
  },
  {
   "cell_type": "code",
   "execution_count": null,
   "id": "a798c2c2",
   "metadata": {},
   "outputs": [],
   "source": [
    "# Example using the pass statement within a conditional block\n",
    "x = 2\n",
    "\n",
    "if x > 5:\n",
    "    print(\"x is greater than 5\")\n",
    "elif x < 5:\n",
    "    pass # work in the future\n",
    "else:\n",
    "    print('check done')\n",
    "\n",
    "# Explanation:\n",
    "# In this example, we have a variable x with a value of 10.\n",
    "# We use a conditional statement (if-elif-else) to check x's value.\n",
    "# - If x is greater than 5, it prints the message \"x is greater than 5.\"\n",
    "# - If x is less than 10 but not greater than 5, the pass statement is used as a placeholder.\n",
    "# - In the \"else\" block, it prints the message \"check done.\""
   ]
  },
  {
   "cell_type": "markdown",
   "id": "34fd0c0c",
   "metadata": {},
   "source": [
    "**Example 2:**"
   ]
  },
  {
   "cell_type": "code",
   "execution_count": null,
   "id": "deaed70a",
   "metadata": {},
   "outputs": [],
   "source": [
    "# Example using the pass statement within a loop\n",
    "list_of_names = [\"Alice\", \"Bob\", \"Charlie\", \"Dave\", \"Eve\"]\n",
    "\n",
    "for i in list_of_names:\n",
    "    if i.startswith(\"C\"):\n",
    "        pass\n",
    "    else:\n",
    "        print(\"It doesn't start with a C\")\n",
    "\n",
    "# Explanation:\n",
    "# We have a list of names stored in the 'list_of_names' variable.\n",
    "# We use a 'for' loop to iterate through each name in the list.\n",
    "# Inside the loop, we check if the name starts with the letter 'C' using the 'startswith' method. \n",
    "# We don't know yet what the condition will do, but it allows us to check if the loop is working."
   ]
  },
  {
   "cell_type": "markdown",
   "id": "6630b66a",
   "metadata": {},
   "source": [
    "- `continue`: stops and goes to next iteration\n",
    "\n",
    "**Example 1:**"
   ]
  },
  {
   "cell_type": "code",
   "execution_count": null,
   "id": "9d2b1483",
   "metadata": {},
   "outputs": [],
   "source": [
    "list_of_names = [\"Clara\", \"Albert\", \"Laura\", \"Carla\"]\n",
    "\n",
    "for i in list_of_names:\n",
    "    if i.startswith(\"C\"):\n",
    "        # Continue with the NEXT iteration if the name starts with \"C\"\n",
    "        continue  # This line instructs the program to skip the remaining code in this iteration\n",
    "        print(i)  # This line is not executed for names starting with \"C\"\n",
    "    else:\n",
    "        # Print names that do not start with \"C\"\n",
    "        print(i)"
   ]
  },
  {
   "cell_type": "markdown",
   "id": "d57347a0",
   "metadata": {},
   "source": [
    "- `break` stops the loop\n",
    "\n",
    "**Example 1:**"
   ]
  },
  {
   "cell_type": "code",
   "execution_count": null,
   "id": "7a77b47f",
   "metadata": {},
   "outputs": [],
   "source": [
    "# List of names\n",
    "list_of_names = [\"Albert\", \"Clara\", \"Laura\", \"Carla\"]\n",
    "\n",
    "# Iterate through the list\n",
    "for i in list_of_names:\n",
    "    # Check if the name starts with \"C\"\n",
    "    if i.startswith(\"C\"):\n",
    "        # If it does, exit the loop immediately using \"break\"\n",
    "        break\n",
    "        # The following line will not be executed for names starting with \"C\"\n",
    "        print(i)\n",
    "    else:\n",
    "        # Print names that do not start with \"C\"\n",
    "        print(i)"
   ]
  },
  {
   "cell_type": "markdown",
   "id": "classical-passenger",
   "metadata": {},
   "source": [
    "## For\n",
    "![](https://i.imgflip.com/p8urh.jpg)"
   ]
  },
  {
   "cell_type": "markdown",
   "id": "fdb36275",
   "metadata": {
    "lang": "en"
   },
   "source": [
    "In our journey of mastering Python, we've already become acquainted with the basics of `for` loops, which allow us to iterate through sequences of data. Now, it's time to delve into more advanced aspects of `for` loops that provide us with even greater control and versatility.\n",
    "\n",
    "- **The Power of Range:** Imagine having the ability to generate sequences of numbers effortlessly, providing a structured way to control your loops. That's where the `range()` function comes into play. We'll explore how to use it to define the start, stop, and step of your sequences.\n",
    "\n",
    "- **Iterating Through Lists:** While iterating through a list is a common use case, we'll uncover advanced techniques. We'll learn how to access elements both by their value and by their index, allowing us to perform more complex operations efficiently.\n",
    "\n",
    "- **Simultaneous Looping with Zip:** Sometimes, we need to work with multiple lists or sequences in parallel. Python's `zip()` function enables us to pair corresponding elements from different sequences together, simplifying tasks that involve working with correlated data.\n",
    "\n",
    "- **Harnessing the Power of Dictionaries:** Dictionaries, Python's key-value stores, are versatile data structures. We'll explore how to iterate through a dictionary's keys, values, or both, providing valuable insights into how to extract and manipulate data within this structured container.\n",
    "\n",
    "Through these advanced concepts, we'll equip ourselves with the tools needed to tackle even more complex programming challenges. Let's embark on this journey to unlock the full potential of `for` loops in Python!"
   ]
  },
  {
   "cell_type": "markdown",
   "id": "c0ff1577",
   "metadata": {},
   "source": [
    "**Example 1:**"
   ]
  },
  {
   "cell_type": "code",
   "execution_count": null,
   "id": "0402485f",
   "metadata": {},
   "outputs": [],
   "source": [
    "number = \"5678\"\n",
    "\n",
    "# Uncomment the following line to convert 'number' to an integer\n",
    "# number = int(number)\n",
    "\n",
    "# Iterate through each character in the 'number' string\n",
    "for i in number:\n",
    "    # Print each character\n",
    "    print(i)"
   ]
  },
  {
   "cell_type": "markdown",
   "id": "2469d9ff",
   "metadata": {},
   "source": [
    "**Example 2:**"
   ]
  },
  {
   "cell_type": "code",
   "execution_count": null,
   "id": "d05f9080",
   "metadata": {},
   "outputs": [],
   "source": [
    "# You cannot iterate numbers\n",
    "number = 5678.567\n",
    "# number_str = str(number)  # Convert the number to a string\n",
    "for digit in number_str:\n",
    "    print(digit)"
   ]
  },
  {
   "cell_type": "markdown",
   "id": "c0ab8879",
   "metadata": {},
   "source": [
    "**Example 3:**"
   ]
  },
  {
   "cell_type": "code",
   "execution_count": null,
   "id": "480131c0",
   "metadata": {},
   "outputs": [],
   "source": [
    "greetings_list = [\"Hello\", \"How\", \"are\", \"you\"]\n",
    "\n",
    "# Iterate through each item in greetings_list\n",
    "for _ in greetings_list:\n",
    "    # Print \"Hey!\" for each item (underscore _ is used when we don't need the current item)\n",
    "    print(\"Hey!\")"
   ]
  },
  {
   "cell_type": "markdown",
   "id": "a968f25d",
   "metadata": {
    "lang": "en"
   },
   "source": [
    "When we need a counter that increments with each iteration, Python provides the `range()` function, which generates sequences of integers. This function is versatile and can be invoked in different ways:\n",
    "\n",
    "- `range(int)`: When called with a single argument, it generates a sequence of integers starting from 0 and going up to (but not including) the specified integer."
   ]
  },
  {
   "cell_type": "code",
   "execution_count": null,
   "id": "28d8962f",
   "metadata": {},
   "outputs": [],
   "source": [
    "# Define a list of greetings\n",
    "greetings_list = [\"Hello\", \"How\", \"are\", \"you\"]\n",
    "\n",
    "# Use a for loop to iterate over a range of indices of the list\n",
    "for i in range(len(greetings_list)):\n",
    "    # Print \"Hey!\" for each iteration\n",
    "    print(\"Hey!\")"
   ]
  },
  {
   "cell_type": "code",
   "execution_count": null,
   "id": "19c9bdcd",
   "metadata": {},
   "outputs": [],
   "source": [
    "# Use a for loop to iterate over a range of numbers from 0 to 3 (exclusive)\n",
    "for i in range(4):\n",
    "    # Print the current value of 'i' during each iteration\n",
    "    print(i)"
   ]
  },
  {
   "cell_type": "markdown",
   "id": "88f9f5a9",
   "metadata": {
    "lang": "en"
   },
   "source": [
    "- `range(int, int)`  With two arguments. The first parameter is the initial value and the second the value below which the elements of the list must be:"
   ]
  },
  {
   "cell_type": "code",
   "execution_count": null,
   "id": "b6aead72",
   "metadata": {},
   "outputs": [],
   "source": [
    "# Use a for loop to iterate over a range of numbers from 10 to 20 (exclusive)\n",
    "for i in range(10, 21):\n",
    "    # Print the current value of 'i' during each iteration\n",
    "    print(i)"
   ]
  },
  {
   "cell_type": "markdown",
   "id": "81739599",
   "metadata": {
    "lang": "en"
   },
   "source": [
    "- With three arguments. Same as above, but the third parameter indicates the increment that occurs from one element to the next: `range(int, int, increment)` "
   ]
  },
  {
   "cell_type": "code",
   "execution_count": null,
   "id": "9cfcda02",
   "metadata": {},
   "outputs": [],
   "source": [
    "# Use a for loop to iterate over a range of numbers from 10 to 20 (exclusive), with a increment of two\n",
    "for i in range(10, 21, 2):\n",
    "    # Print the current value of 'i' during each iteration\n",
    "    print(i)"
   ]
  },
  {
   "cell_type": "markdown",
   "id": "closing-pound",
   "metadata": {
    "lang": "es"
   },
   "source": [
    "**Iterating Through Strings**\n",
    "\n",
    "When working with strings in Python, you may often need to access individual characters or substrings within a string. The process of iterating through a string involves traversing each character one by one. Python provides simple and efficient ways to iterate through strings, allowing you to perform various operations on them.\n",
    "\n",
    "Let's explore how to iterate through strings in Python and leverage this capability for a wide range of text-processing tasks.\n",
    "\n",
    "**Example 1:**"
   ]
  },
  {
   "cell_type": "code",
   "execution_count": null,
   "id": "280c5c8c",
   "metadata": {},
   "outputs": [],
   "source": [
    "# Initial variable\n",
    "greeting = \"Hello How Are youuUUuu\"\n",
    "\n",
    "# what do you think it will do\n",
    "for i in greeting:\n",
    "    print(i)"
   ]
  },
  {
   "cell_type": "markdown",
   "id": "d7f87167",
   "metadata": {},
   "source": [
    "**Example 2:**"
   ]
  },
  {
   "cell_type": "code",
   "execution_count": null,
   "id": "9a46553c",
   "metadata": {},
   "outputs": [],
   "source": [
    "# Create an empty list to store uppercase characters from the 'greeting' string.\n",
    "new_list = []\n",
    "\n",
    "# Iterate through each character (letter) in the 'greeting' string.\n",
    "for i in greeting:\n",
    "    # Check if the current character 'i' is uppercase.\n",
    "    if i.isupper():\n",
    "        # If the character is uppercase, add it to the 'new_list'.\n",
    "        new_list.append(i)\n",
    "\n",
    "# Remove duplicates by converting 'new_list' to a set and then back to a list.\n",
    "new_list = list(set(new_list))\n",
    "\n",
    "# 'new_list' now contains unique uppercase characters from the 'greeting' string.\n",
    "new_list"
   ]
  },
  {
   "cell_type": "markdown",
   "id": "e873ede0",
   "metadata": {
    "lang": "en"
   },
   "source": [
    "### Iterating Through Lists Over Their Index\n",
    "\n",
    "When working with lists in Python, you can iterate through the elements of a list using their indices. This approach allows you to access both the index and the element itself within the loop. In this section, we'll explore how to iterate through lists by their index, along with some built-in functions and the `enumerate()` function, which can be particularly helpful in such scenarios.\n",
    "\n",
    "For more details, you can refer to the [Python Built-in Functions](https://docs.python.org/3/library/functions.html) documentation and the [enumerate()](https://book.pythontips.com/en/latest/enumerate.html) function documentation.\n",
    "\n",
    "**Example 1:**"
   ]
  },
  {
   "cell_type": "code",
   "execution_count": null,
   "id": "21aed269",
   "metadata": {},
   "outputs": [],
   "source": [
    "fruits = [\"apple\", \"banana\", \"cherry\", \"date\"]\n",
    "\n",
    "# Iterating through the list using a for loop and the range() function\n",
    "for i in range(len(fruits)):\n",
    "    print(f\"Index {i}: {fruits[i]}\")"
   ]
  },
  {
   "cell_type": "markdown",
   "id": "f39d1be6",
   "metadata": {},
   "source": [
    "**Example 2:**"
   ]
  },
  {
   "cell_type": "code",
   "execution_count": null,
   "id": "4b7d6241",
   "metadata": {},
   "outputs": [],
   "source": [
    "fruits = [\"apple\", \"banana\", \"cherry\", \"date\"]\n",
    "\n",
    "# Iterating through the list using the enumerate() function\n",
    "for index, fruit in enumerate(fruits):\n",
    "    print(f\"Index {index}: {fruit}\")"
   ]
  },
  {
   "cell_type": "markdown",
   "id": "73b7e30f",
   "metadata": {
    "lang": "en"
   },
   "source": [
    "### Loop through two lists at the same time\n",
    "\n",
    "In Python, you often encounter situations where you need to work with multiple lists simultaneously. Whether you're comparing elements, performing calculations, or extracting data from two lists, Python provides a convenient way to iterate through them together using the `zip` function.\n",
    "\n",
    "The [zip](https://docs.python.org/3/library/functions.html#zip) function pairs up elements from two or more lists, creating an iterable that combines corresponding elements. This allows you to access elements from each list simultaneously during the iteration process.\n",
    "\n",
    "It's important to note that the `zip` function works seamlessly even if the lists are of different sizes. However, keep in mind that the iteration will continue until the shortest list is exhausted.\n",
    "\n",
    "In the following examples, we will explore how to use the `zip` function to loop through two lists simultaneously and perform various operations on their elements.\n",
    "\n",
    "**Example 1:**"
   ]
  },
  {
   "cell_type": "code",
   "execution_count": null,
   "id": "07432d76",
   "metadata": {},
   "outputs": [],
   "source": [
    "# Two lists containing names and cities\n",
    "list_of_names = [\"Albert\", \"Clara\", \"Laura\"]\n",
    "list_of_cities = [\"Mataró\", \"Bcn\", \"Mataró\"]\n",
    "\n",
    "# Loop through the lists simultaneously using zip\n",
    "for name, city in zip(list_of_names, list_of_cities):\n",
    "    # Print a formatted message for each pair of elements\n",
    "    print(f\"My name is {name} and I'm from {city}\")"
   ]
  },
  {
   "cell_type": "markdown",
   "id": "cd947a90",
   "metadata": {},
   "source": [
    "**Example 2:**"
   ]
  },
  {
   "cell_type": "code",
   "execution_count": null,
   "id": "0894d63a",
   "metadata": {},
   "outputs": [],
   "source": [
    "# Lists containing names, cities, and ages\n",
    "list_of_names = [\"Albert\", \"Clara\", \"Laura\"]\n",
    "list_of_cities = [\"Mataró\", \"Bcn\", \"Mataró\"]\n",
    "list_of_ages = [30, 30, 30]\n",
    "\n",
    "# Loop through the lists simultaneously using enumerate and zip\n",
    "for index, (name, city, age) in enumerate(zip(list_of_names, list_of_cities, list_of_ages)):\n",
    "    # Print a formatted message for each person\n",
    "    print(f\"Person {index + 1}: 'My name is {name}, and I am from {city}. I am {age}'\")"
   ]
  },
  {
   "cell_type": "markdown",
   "id": "a7f5de97",
   "metadata": {},
   "source": [
    "- `zip_longest`: whate if I want to keep the longest list?\n",
    "\n",
    "**Example 1**:"
   ]
  },
  {
   "cell_type": "code",
   "execution_count": null,
   "id": "e83994db",
   "metadata": {},
   "outputs": [],
   "source": [
    "from itertools import zip_longest\n",
    "\n",
    "# Lists with different lengths\n",
    "list1 = [1, 2, 3, 4, 5]\n",
    "list2 = ['a', 'b', 'c']\n",
    "\n",
    "# Using zip_longest to keep the longest list\n",
    "result = list(zip_longest(list1, list2, fillvalue=None))\n",
    "\n",
    "# Printing the result\n",
    "print(result)"
   ]
  },
  {
   "cell_type": "markdown",
   "id": "79ec05ae",
   "metadata": {},
   "source": [
    "**Example 2:**"
   ]
  },
  {
   "cell_type": "code",
   "execution_count": null,
   "id": "70c6d699",
   "metadata": {},
   "outputs": [],
   "source": [
    "from itertools import zip_longest\n",
    "\n",
    "list1 = [1, 2, 3, 4, 5]\n",
    "list2 = ['a', 'b', 'c']\n",
    "\n",
    "# Using zip_longest to keep the longest list\n",
    "result = list(zip_longest(list1, list2, fillvalue=None))\n",
    "\n",
    "# Iterating through the zipped result in a for loop\n",
    "for item in result:\n",
    "    print(item)"
   ]
  },
  {
   "cell_type": "markdown",
   "id": "cd740c33",
   "metadata": {
    "lang": "en"
   },
   "source": [
    "### Iterate over the elements of a dictionary\n",
    "\n",
    "Iterating over the elements of a dictionary allows you to access and process each key-value pair (item) stored in the dictionary one by one. Python provides several methods and techniques to achieve this, making it easy to work with dictionary data.\n",
    "\n",
    "You can iterate over a dictionary in different ways, depending on the specific aspect of the dictionary you want to work with:\n",
    "\n",
    "1. **Iterating Over Keys:**\n",
    "   You can use a `for` loop to iterate over the keys of a dictionary. In this case, you iterate through the dictionary's keys, and then you can access the corresponding values using these keys.\n",
    "\n",
    "2. **Iterating Over Key-Value Pairs:**\n",
    "   You can use the `items()` method to iterate over both the keys and values simultaneously. This method returns a view object containing tuples of key-value pairs, which you can easily unpack within the loop.\n",
    "\n",
    "3. **Iterating Over Values:**\n",
    "   If you only need to iterate through the values in the dictionary, you can use the `values()` method. This allows you to access and process the values without needing the associated keys.\n",
    "\n",
    "Iterating over the elements of a dictionary is a fundamental technique for working with structured data in Python. Depending on your specific needs, you can choose the appropriate method to access and manipulate the data within the dictionary.\n",
    "\n",
    "- **Iterating Over Keys**: You can use a `for` loop to iterate over the keys of a dictionary. In this case, you iterate through the dictionary's keys, and then you can access the corresponding values using these keys. Here's an example:"
   ]
  },
  {
   "cell_type": "code",
   "execution_count": null,
   "id": "4812c22e",
   "metadata": {},
   "outputs": [],
   "source": [
    "# Define a dictionary of student grades\n",
    "student_grades = {\n",
    "    \"Alice\": 95,\n",
    "    \"Bob\": 89,\n",
    "    \"Charlie\": 92,\n",
    "    \"David\": 88\n",
    "}\n",
    "\n",
    "# Iterate over the keys and print student names and grades\n",
    "for student in student_grades:\n",
    "    print(f\"{student}: {student_grades[student]}\")"
   ]
  },
  {
   "cell_type": "markdown",
   "id": "bd904111",
   "metadata": {},
   "source": [
    "- **Iterating Over Key-Value Pairs**: You can use the `items()` method to iterate over both the keys and values of a dictionary simultaneously. This method returns a view object containing tuples of key-value pairs, which you can easily unpack within the loop."
   ]
  },
  {
   "cell_type": "code",
   "execution_count": null,
   "id": "b9a130cb",
   "metadata": {},
   "outputs": [],
   "source": [
    "# Define a dictionary of student grades\n",
    "student_grades = {\n",
    "    \"Alice\": 95,\n",
    "    \"Bob\": 89,\n",
    "    \"Charlie\": 92,\n",
    "    \"David\": 88\n",
    "}\n",
    "\n",
    "# Iterate over key-value pairs and print student names and grades\n",
    "for student, grade in student_grades.items():\n",
    "    print(f\"{student}: {grade}\")"
   ]
  },
  {
   "cell_type": "markdown",
   "id": "cb6bd705",
   "metadata": {},
   "source": [
    "- **Iterating Over Values**: If you only need to iterate through the values in a dictionary, you can use the values() method. This allows you to access and process the values without needing the associated keys."
   ]
  },
  {
   "cell_type": "code",
   "execution_count": null,
   "id": "8abaca73",
   "metadata": {},
   "outputs": [],
   "source": [
    "# Define a dictionary of student grades\n",
    "student_grades = {\n",
    "    \"Alice\": 95,\n",
    "    \"Bob\": 89,\n",
    "    \"Charlie\": 92,\n",
    "    \"David\": 88\n",
    "}\n",
    "\n",
    "# Iterate over values and print student grades\n",
    "for grade in student_grades.values():\n",
    "    print(grade)"
   ]
  },
  {
   "cell_type": "markdown",
   "id": "8dad50f1",
   "metadata": {},
   "source": [
    "### Business challenge: Taxi Company Data Management\n",
    "\n",
    "**Business Scenario:**\n",
    "You are tasked with developing a Python program for a taxi company in Barcelona. The program should help the company manage data related to their taxis, drivers, and trips. The taxi company needs to store and manipulate this data efficiently to optimize their operations.\n",
    "\n",
    "**Instructions:**\n",
    "\n",
    "1. Create a dictionary to store information about taxi drivers. Each driver should have a unique driver ID (a numerical value) and the following details:\n",
    "   - Driver's full name\n",
    "   - Contact number\n",
    "   - Total number of trips conducted\n",
    "\n",
    "2. Create a list to store information about taxi trips. Each trip should include the following details:\n",
    "   - Trip ID (a unique identifier)\n",
    "   - Driver ID (to associate the trip with a driver)\n",
    "   - Customer name\n",
    "   - Trip distance (in kilometers)\n",
    "   - Trip fare (in euros)\n",
    "\n",
    "3. Implement the following functionalities within your Python program:\n",
    "   - Provide the pseudo code\n",
    "   - Add new drivers to the driver dictionary.\n",
    "   - Record new taxi trips with relevant details.\n",
    "   - Calculate and update the total number of trips conducted by each driver.\n",
    "   - Calculate the total revenue generated by the taxi company.\n",
    "   - Find the driver with the highest number of trips.\n",
    "   - Find the driver with the highest total revenue.\n",
    "   - List all the trips conducted by a specific driver."
   ]
  },
  {
   "cell_type": "code",
   "execution_count": null,
   "id": "def091dd",
   "metadata": {},
   "outputs": [],
   "source": [
    "# Initialize dictionaries and lists to store driver and trip data\n",
    "driver_data = {}\n",
    "trip_data = []\n",
    "\n",
    "# Add new drivers to the driver dictionary\n",
    "driver_data[1] = {\"full_name\": \"John Doe\", \"contact_number\": \"123-456-7890\", \"total_trips\": 0}\n",
    "# continue with more\n",
    "\n",
    "# Record new taxi trips with relevant details\n",
    "trip_data.append({\"trip_id\": 101, \"driver_id\": 1, \"customer_name\": \"Customer A\", \"distance\": 10.5, \"fare\": 15.75})\n",
    "# continue with more\n",
    "\n",
    "# Your code goes here "
   ]
  },
  {
   "cell_type": "markdown",
   "id": "5f8559a8",
   "metadata": {
    "lang": "en"
   },
   "source": [
    "## Summary\n",
    "It's your turn, what have we learned today?\n"
   ]
  },
  {
   "cell_type": "markdown",
   "id": "d276cc0c",
   "metadata": {},
   "source": [
    "### CONDITIONS\n",
    "\n",
    "- `if/elif/else`\n",
    "    - if vs elif\n",
    "        - if & if: more than 1 condition at once: not exclusive\n",
    "        - if & elif: exclusive conditions\n",
    "    - else: useful but be careful not to be too general\n",
    "    \n",
    "- `booleans: data type`\n",
    "    - truthies/falsies\n",
    "        - truthy: the rest\n",
    "        - falsie: empty, 0, False, None\n",
    "    - bool()\n",
    "    - True / False\n",
    "    \n",
    "### LOOP\n",
    "\n",
    "- while (as long as there's a condition not met)\n",
    "    - until a condition is met: keep things running until it happens\n",
    "\n",
    "- for (as long as there's elements to loop)\n",
    "    - iterables:\n",
    "        - data types: strings\n",
    "        - data strucures: lists, tuples, sets, dictionaries\n",
    "            - dictionary: i, .items, .keys, .values\n",
    "            \n",
    "    - elements OR/AND the index\n",
    "        - `for element in iterable:`\n",
    "            - element: element\n",
    "        - `for index in range(len(iterable)):`\n",
    "            - `index`\n",
    "            - element: iterable[index]\n",
    "    \n",
    "    - ranges\n",
    "        - range(4): 0, 1, 2, 3\n",
    "        - range(10, 21, 2): 10, 12, 14, 16, 18, 20\n",
    "    \n",
    "    - enumerate: index & element\n",
    "        - `for index, element in iterable`\n",
    "    \n",
    "    - zip: more than one iterable at once\n",
    "        - `for el1, el2, el3 in zip(iterable1, iterable2, iterable3)`\n",
    "    \n",
    "    - zip & enumerate can be used together\n",
    "    \n",
    "    - loops can be nested: [[[[]]]]\n",
    "        - for i in iterable\n",
    "            - for j in i\n",
    "                - for k in j\n",
    "                       - for l in k ....\n",
    "    \n",
    "    \n",
    "- pass/continue/break\n",
    "    - pass: ignores\n",
    "    - continue: ignores down below and goes forward w/ next iteration\n",
    "    - break: stops the whole loop"
   ]
  },
  {
   "cell_type": "markdown",
   "id": "bec5343f",
   "metadata": {},
   "source": [
    "### Solutions"
   ]
  },
  {
   "cell_type": "code",
   "execution_count": null,
   "id": "4843fe43",
   "metadata": {},
   "outputs": [],
   "source": [
    "## Business Challenge: Identify Profitable Investment Opportunities\n",
    "\n",
    "# Welcome message\n",
    "print(\"Welcome to the Investment Opportunity Analyzer!\")\n",
    "\n",
    "# Input validation using a while loop\n",
    "num_opportunities = int(input(\"Please enter the number of investment opportunities: \"))\n",
    "profit_margin = float(input(\"Please enter the minimum acceptable profit margin (as a percentage): \"))\n",
    "\n",
    "# Initialize a list to store profitable opportunities\n",
    "profitable_opportunities = []\n",
    "\n",
    "# Gather details for each investment opportunity\n",
    "for i in range(1, num_opportunities + 1):\n",
    "    print(f\"\\nEnter details for investment opportunity {i}:\")\n",
    "    investment_name = input(\"Investment Name: \")\n",
    "    investment_margin = float(input(\"Profit Margin (as a percentage): \"))\n",
    "    \n",
    "    # Check if the profit margin meets or exceeds the minimum acceptable margin\n",
    "    if investment_margin >= profit_margin:\n",
    "        profitable_opportunities.append(investment_name)\n",
    "\n",
    "# Print profitable investment opportunities\n",
    "if profitable_opportunities:\n",
    "    print(\"\\nProfitable investment opportunities (with a profit margin of \"\n",
    "          f\"{profit_margin}% or higher):\")\n",
    "    for idx, opportunity in enumerate(profitable_opportunities, start=1):\n",
    "        print(f\"{idx}. {opportunity}\")\n",
    "else:\n",
    "    print(\"\\nNo profitable investment opportunities found.\")"
   ]
  },
  {
   "cell_type": "code",
   "execution_count": null,
   "id": "6865b909",
   "metadata": {},
   "outputs": [],
   "source": [
    "# ### Business challenge: Taxi Company Data Management\n",
    "# Initialize dictionaries and lists to store driver and trip data\n",
    "driver_data = {}\n",
    "trip_data = []\n",
    "\n",
    "# Add new drivers to the driver dictionary\n",
    "driver_data[1] = {\"full_name\": \"John Doe\", \"contact_number\": \"123-456-7890\", \"total_trips\": 0}\n",
    "driver_data[2] = {\"full_name\": \"Alice Smith\", \"contact_number\": \"987-654-3210\", \"total_trips\": 0}\n",
    "driver_data[3] = {\"full_name\": \"Bob Johnson\", \"contact_number\": \"555-123-4567\", \"total_trips\": 0}\n",
    "\n",
    "# Record new taxi trips with relevant details\n",
    "trip_data.append({\"trip_id\": 101, \"driver_id\": 1, \"customer_name\": \"Customer A\", \"distance\": 10.5, \"fare\": 15.75})\n",
    "trip_data.append({\"trip_id\": 102, \"driver_id\": 2, \"customer_name\": \"Customer B\", \"distance\": 8.7, \"fare\": 12.50})\n",
    "trip_data.append({\"trip_id\": 103, \"driver_id\": 3, \"customer_name\": \"Customer C\", \"distance\": 12.3, \"fare\": 18.25})\n",
    "trip_data.append({\"trip_id\": 104, \"driver_id\": 1, \"customer_name\": \"Customer D\", \"distance\": 9.8, \"fare\": 14.00})\n",
    "\n",
    "# Calculate total revenue generated by the taxi company\n",
    "total_revenue = 0\n",
    "for trip in trip_data:\n",
    "    total_revenue += trip[\"fare\"]\n",
    "print(f\"Total revenue: ${total_revenue:.2f}\")\n",
    "\n",
    "# Find the driver with the highest number of trips\n",
    "max_trips_driver_id = 0\n",
    "max_trips = 0\n",
    "for driver_id, driver_info in driver_data.items():\n",
    "    if driver_info[\"total_trips\"] > max_trips:\n",
    "        max_trips_driver_id = driver_id\n",
    "        max_trips = driver_info[\"total_trips\"]\n",
    "print(f\"Driver with the most trips (Driver ID {max_trips_driver_id}): {driver_data[max_trips_driver_id]['full_name']}\")\n",
    "\n",
    "# Find the driver with the highest total revenue\n",
    "max_revenue_driver_id = 0\n",
    "max_revenue = 0\n",
    "for driver_id, driver_info in driver_data.items():\n",
    "    driver_revenue = sum(trip[\"fare\"] for trip in trip_data if trip[\"driver_id\"] == driver_id)\n",
    "    if driver_revenue > max_revenue:\n",
    "        max_revenue_driver_id = driver_id\n",
    "        max_revenue = driver_revenue\n",
    "print(f\"Driver with the highest revenue (Driver ID {max_revenue_driver_id}): {driver_data[max_revenue_driver_id]['full_name']}\")\n",
    "\n",
    "# List all the trips conducted by a specific driver\n",
    "driver_id_to_list = 1\n",
    "print(f\"Trips conducted by Driver ID {driver_id_to_list} ({driver_data[driver_id_to_list]['full_name']}):\")\n",
    "for trip in trip_data:\n",
    "    if trip[\"driver_id\"] == driver_id_to_list:\n",
    "        print(f\"Trip ID {trip['trip_id']}: Customer {trip['customer_name']}, Distance: {trip['distance']} km, Fare: ${trip['fare']:.2f}\")\n"
   ]
  }
 ],
 "metadata": {
  "kernelspec": {
   "display_name": "Python 3 (ipykernel)",
   "language": "python",
   "name": "python3"
  },
  "language_info": {
   "codemirror_mode": {
    "name": "ipython",
    "version": 3
   },
   "file_extension": ".py",
   "mimetype": "text/x-python",
   "name": "python",
   "nbconvert_exporter": "python",
   "pygments_lexer": "ipython3",
   "version": "3.11.8"
  },
  "nbTranslate": {
   "displayLangs": [
    "en",
    "es"
   ],
   "hotkey": "alt-a",
   "langInMainMenu": true,
   "sourceLang": "es",
   "targetLang": "en",
   "useGoogleTranslate": true
  },
  "toc": {
   "base_numbering": 1,
   "nav_menu": {},
   "number_sections": true,
   "sideBar": true,
   "skip_h1_title": true,
   "title_cell": "Table of Contents",
   "title_sidebar": "Contents",
   "toc_cell": true,
   "toc_position": {
    "height": "calc(100% - 180px)",
    "left": "10px",
    "top": "150px",
    "width": "253.097px"
   },
   "toc_section_display": true,
   "toc_window_display": true
  }
 },
 "nbformat": 4,
 "nbformat_minor": 5
}
