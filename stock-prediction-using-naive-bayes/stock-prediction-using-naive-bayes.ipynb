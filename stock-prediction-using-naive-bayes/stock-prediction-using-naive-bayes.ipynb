{
 "cells": [
  {
   "cell_type": "markdown",
   "id": "f13e3686",
   "metadata": {
    "papermill": {
     "duration": 0.022481,
     "end_time": "2022-04-08T16:00:20.779030",
     "exception": false,
     "start_time": "2022-04-08T16:00:20.756549",
     "status": "completed"
    },
    "tags": []
   },
   "source": [
    "# Relationship between stock movements and news headlines\n",
    "\n",
    "# Data set\n",
    "\n",
    "We will predict whether the stock price for a given stock will raise or drop based on the related news headlines.\n",
    "\n",
    "# Topic Covered\n",
    "\n",
    "Classifiers: Random Forest vs Naive Bayes\n",
    "\n",
    "Feature Transformation: Count Vectorizer vs TF-IDF Vectorizer"
   ]
  },
  {
   "cell_type": "code",
   "execution_count": 3,
   "id": "90c89f21-e177-45c5-acad-e8ebbb620885",
   "metadata": {
    "papermill": {
     "duration": 1.617389,
     "end_time": "2022-04-08T16:00:22.418890",
     "exception": false,
     "start_time": "2022-04-08T16:00:20.801501",
     "status": "completed"
    },
    "tags": []
   },
   "outputs": [],
   "source": [
    "import pandas as pd\n",
    "from sklearn.feature_extraction.text import CountVectorizer\n",
    "from sklearn.feature_extraction.text import TfidfVectorizer\n",
    "from sklearn.naive_bayes import MultinomialNB\n",
    "from sklearn.ensemble import RandomForestClassifier\n",
    "from sklearn.metrics import classification_report,confusion_matrix,accuracy_score"
   ]
  },
  {
   "cell_type": "code",
   "execution_count": 9,
   "id": "9978320b-d650-4e6e-a550-1b571a85a036",
   "metadata": {
    "papermill": {
     "duration": 1.617389,
     "end_time": "2022-04-08T16:00:22.418890",
     "exception": false,
     "start_time": "2022-04-08T16:00:20.801501",
     "status": "completed"
    },
    "tags": []
   },
   "outputs": [],
   "source": [
    "#Encoding are in general UTF-8(default setting), Latin-1 (also known as ISO-8859-1) or Windows-1251\n",
    "df=pd.read_csv('./datasets/Combined_News_DJIA.csv', encoding = \"ISO-8859-1\")"
   ]
  },
  {
   "cell_type": "markdown",
   "id": "811e2693",
   "metadata": {
    "papermill": {
     "duration": 0.021516,
     "end_time": "2022-04-08T16:00:22.462900",
     "exception": false,
     "start_time": "2022-04-08T16:00:22.441384",
     "status": "completed"
    },
    "tags": []
   },
   "source": [
    "# Data Inspection\n",
    "First, let's have a look at our dataset.\n",
    "Our data is made of different news headlines related to a company and a label of wether the companies'stock price will increase or decrease.(0:decrease, 1: increase)"
   ]
  },
  {
   "cell_type": "code",
   "execution_count": 2,
   "id": "2088c2d8",
   "metadata": {
    "execution": {
     "iopub.execute_input": "2022-04-08T16:00:22.520143Z",
     "iopub.status.busy": "2022-04-08T16:00:22.514707Z",
     "iopub.status.idle": "2022-04-08T16:00:22.543767Z",
     "shell.execute_reply": "2022-04-08T16:00:22.544258Z",
     "shell.execute_reply.started": "2022-04-07T11:09:40.894364Z"
    },
    "papermill": {
     "duration": 0.060019,
     "end_time": "2022-04-08T16:00:22.544494",
     "exception": false,
     "start_time": "2022-04-08T16:00:22.484475",
     "status": "completed"
    },
    "tags": []
   },
   "outputs": [
    {
     "data": {
      "text/html": [
       "<div>\n",
       "<style scoped>\n",
       "    .dataframe tbody tr th:only-of-type {\n",
       "        vertical-align: middle;\n",
       "    }\n",
       "\n",
       "    .dataframe tbody tr th {\n",
       "        vertical-align: top;\n",
       "    }\n",
       "\n",
       "    .dataframe thead th {\n",
       "        text-align: right;\n",
       "    }\n",
       "</style>\n",
       "<table border=\"1\" class=\"dataframe\">\n",
       "  <thead>\n",
       "    <tr style=\"text-align: right;\">\n",
       "      <th></th>\n",
       "      <th>Date</th>\n",
       "      <th>Label</th>\n",
       "      <th>Top1</th>\n",
       "      <th>Top2</th>\n",
       "      <th>Top3</th>\n",
       "      <th>Top4</th>\n",
       "      <th>Top5</th>\n",
       "      <th>Top6</th>\n",
       "      <th>Top7</th>\n",
       "      <th>Top8</th>\n",
       "      <th>...</th>\n",
       "      <th>Top16</th>\n",
       "      <th>Top17</th>\n",
       "      <th>Top18</th>\n",
       "      <th>Top19</th>\n",
       "      <th>Top20</th>\n",
       "      <th>Top21</th>\n",
       "      <th>Top22</th>\n",
       "      <th>Top23</th>\n",
       "      <th>Top24</th>\n",
       "      <th>Top25</th>\n",
       "    </tr>\n",
       "  </thead>\n",
       "  <tbody>\n",
       "    <tr>\n",
       "      <th>0</th>\n",
       "      <td>2008-08-08</td>\n",
       "      <td>0</td>\n",
       "      <td>b\"Georgia 'downs two Russian warplanes' as cou...</td>\n",
       "      <td>b'BREAKING: Musharraf to be impeached.'</td>\n",
       "      <td>b'Russia Today: Columns of troops roll into So...</td>\n",
       "      <td>b'Russian tanks are moving towards the capital...</td>\n",
       "      <td>b\"Afghan children raped with 'impunity,' U.N. ...</td>\n",
       "      <td>b'150 Russian tanks have entered South Ossetia...</td>\n",
       "      <td>b\"Breaking: Georgia invades South Ossetia, Rus...</td>\n",
       "      <td>b\"The 'enemy combatent' trials are nothing but...</td>\n",
       "      <td>...</td>\n",
       "      <td>b'Georgia Invades South Ossetia - if Russia ge...</td>\n",
       "      <td>b'Al-Qaeda Faces Islamist Backlash'</td>\n",
       "      <td>b'Condoleezza Rice: \"The US would not act to p...</td>\n",
       "      <td>b'This is a busy day:  The European Union has ...</td>\n",
       "      <td>b\"Georgia will withdraw 1,000 soldiers from Ir...</td>\n",
       "      <td>b'Why the Pentagon Thinks Attacking Iran is a ...</td>\n",
       "      <td>b'Caucasus in crisis: Georgia invades South Os...</td>\n",
       "      <td>b'Indian shoe manufactory  - And again in a se...</td>\n",
       "      <td>b'Visitors Suffering from Mental Illnesses Ban...</td>\n",
       "      <td>b\"No Help for Mexico's Kidnapping Surge\"</td>\n",
       "    </tr>\n",
       "    <tr>\n",
       "      <th>1</th>\n",
       "      <td>2008-08-11</td>\n",
       "      <td>1</td>\n",
       "      <td>b'Why wont America and Nato help us? If they w...</td>\n",
       "      <td>b'Bush puts foot down on Georgian conflict'</td>\n",
       "      <td>b\"Jewish Georgian minister: Thanks to Israeli ...</td>\n",
       "      <td>b'Georgian army flees in disarray as Russians ...</td>\n",
       "      <td>b\"Olympic opening ceremony fireworks 'faked'\"</td>\n",
       "      <td>b'What were the Mossad with fraudulent New Zea...</td>\n",
       "      <td>b'Russia angered by Israeli military sale to G...</td>\n",
       "      <td>b'An American citizen living in S.Ossetia blam...</td>\n",
       "      <td>...</td>\n",
       "      <td>b'Israel and the US behind the Georgian aggres...</td>\n",
       "      <td>b'\"Do not believe TV, neither Russian nor Geor...</td>\n",
       "      <td>b'Riots are still going on in Montreal (Canada...</td>\n",
       "      <td>b'China to overtake US as largest manufacturer'</td>\n",
       "      <td>b'War in South Ossetia [PICS]'</td>\n",
       "      <td>b'Israeli Physicians Group Condemns State Tort...</td>\n",
       "      <td>b' Russia has just beaten the United States ov...</td>\n",
       "      <td>b'Perhaps *the* question about the Georgia - R...</td>\n",
       "      <td>b'Russia is so much better at war'</td>\n",
       "      <td>b\"So this is what it's come to: trading sex fo...</td>\n",
       "    </tr>\n",
       "    <tr>\n",
       "      <th>2</th>\n",
       "      <td>2008-08-12</td>\n",
       "      <td>0</td>\n",
       "      <td>b'Remember that adorable 9-year-old who sang a...</td>\n",
       "      <td>b\"Russia 'ends Georgia operation'\"</td>\n",
       "      <td>b'\"If we had no sexual harassment we would hav...</td>\n",
       "      <td>b\"Al-Qa'eda is losing support in Iraq because ...</td>\n",
       "      <td>b'Ceasefire in Georgia: Putin Outmaneuvers the...</td>\n",
       "      <td>b'Why Microsoft and Intel tried to kill the XO...</td>\n",
       "      <td>b'Stratfor: The Russo-Georgian War and the Bal...</td>\n",
       "      <td>b\"I'm Trying to Get a Sense of This Whole Geor...</td>\n",
       "      <td>...</td>\n",
       "      <td>b'U.S. troops still in Georgia (did you know t...</td>\n",
       "      <td>b'Why Russias response to Georgia was right'</td>\n",
       "      <td>b'Gorbachev accuses U.S. of making a \"serious ...</td>\n",
       "      <td>b'Russia, Georgia, and NATO: Cold War Two'</td>\n",
       "      <td>b'Remember that adorable 62-year-old who led y...</td>\n",
       "      <td>b'War in Georgia: The Israeli connection'</td>\n",
       "      <td>b'All signs point to the US encouraging Georgi...</td>\n",
       "      <td>b'Christopher King argues that the US and NATO...</td>\n",
       "      <td>b'America: The New Mexico?'</td>\n",
       "      <td>b\"BBC NEWS | Asia-Pacific | Extinction 'by man...</td>\n",
       "    </tr>\n",
       "    <tr>\n",
       "      <th>3</th>\n",
       "      <td>2008-08-13</td>\n",
       "      <td>0</td>\n",
       "      <td>b' U.S. refuses Israel weapons to attack Iran:...</td>\n",
       "      <td>b\"When the president ordered to attack Tskhinv...</td>\n",
       "      <td>b' Israel clears troops who killed Reuters cam...</td>\n",
       "      <td>b'Britain\\'s policy of being tough on drugs is...</td>\n",
       "      <td>b'Body of 14 year old found in trunk; Latest (...</td>\n",
       "      <td>b'China has moved 10 *million* quake survivors...</td>\n",
       "      <td>b\"Bush announces Operation Get All Up In Russi...</td>\n",
       "      <td>b'Russian forces sink Georgian ships '</td>\n",
       "      <td>...</td>\n",
       "      <td>b'Elephants extinct by 2020?'</td>\n",
       "      <td>b'US humanitarian missions soon in Georgia - i...</td>\n",
       "      <td>b\"Georgia's DDOS came from US sources\"</td>\n",
       "      <td>b'Russian convoy heads into Georgia, violating...</td>\n",
       "      <td>b'Israeli defence minister: US against strike ...</td>\n",
       "      <td>b'Gorbachev: We Had No Choice'</td>\n",
       "      <td>b'Witness: Russian forces head towards Tbilisi...</td>\n",
       "      <td>b' Quarter of Russians blame U.S. for conflict...</td>\n",
       "      <td>b'Georgian president  says US military will ta...</td>\n",
       "      <td>b'2006: Nobel laureate Aleksander Solzhenitsyn...</td>\n",
       "    </tr>\n",
       "    <tr>\n",
       "      <th>4</th>\n",
       "      <td>2008-08-14</td>\n",
       "      <td>1</td>\n",
       "      <td>b'All the experts admit that we should legalis...</td>\n",
       "      <td>b'War in South Osetia - 89 pictures made by a ...</td>\n",
       "      <td>b'Swedish wrestler Ara Abrahamian throws away ...</td>\n",
       "      <td>b'Russia exaggerated the death toll in South O...</td>\n",
       "      <td>b'Missile That Killed 9 Inside Pakistan May Ha...</td>\n",
       "      <td>b\"Rushdie Condemns Random House's Refusal to P...</td>\n",
       "      <td>b'Poland and US agree to missle defense deal. ...</td>\n",
       "      <td>b'Will the Russians conquer Tblisi? Bet on it,...</td>\n",
       "      <td>...</td>\n",
       "      <td>b'Bank analyst forecast Georgian crisis 2 days...</td>\n",
       "      <td>b\"Georgia confict could set back Russia's US r...</td>\n",
       "      <td>b'War in the Caucasus is as much the product o...</td>\n",
       "      <td>b'\"Non-media\" photos of South Ossetia/Georgia ...</td>\n",
       "      <td>b'Georgian TV reporter shot by Russian sniper ...</td>\n",
       "      <td>b'Saudi Arabia: Mother moves to block child ma...</td>\n",
       "      <td>b'Taliban wages war on humanitarian aid workers'</td>\n",
       "      <td>b'Russia: World  \"can forget about\" Georgia\\'s...</td>\n",
       "      <td>b'Darfur rebels accuse Sudan of mounting major...</td>\n",
       "      <td>b'Philippines : Peace Advocate say Muslims nee...</td>\n",
       "    </tr>\n",
       "  </tbody>\n",
       "</table>\n",
       "<p>5 rows × 27 columns</p>\n",
       "</div>"
      ],
      "text/plain": [
       "         Date  Label                                               Top1  \\\n",
       "0  2008-08-08      0  b\"Georgia 'downs two Russian warplanes' as cou...   \n",
       "1  2008-08-11      1  b'Why wont America and Nato help us? If they w...   \n",
       "2  2008-08-12      0  b'Remember that adorable 9-year-old who sang a...   \n",
       "3  2008-08-13      0  b' U.S. refuses Israel weapons to attack Iran:...   \n",
       "4  2008-08-14      1  b'All the experts admit that we should legalis...   \n",
       "\n",
       "                                                Top2  \\\n",
       "0            b'BREAKING: Musharraf to be impeached.'   \n",
       "1        b'Bush puts foot down on Georgian conflict'   \n",
       "2                 b\"Russia 'ends Georgia operation'\"   \n",
       "3  b\"When the president ordered to attack Tskhinv...   \n",
       "4  b'War in South Osetia - 89 pictures made by a ...   \n",
       "\n",
       "                                                Top3  \\\n",
       "0  b'Russia Today: Columns of troops roll into So...   \n",
       "1  b\"Jewish Georgian minister: Thanks to Israeli ...   \n",
       "2  b'\"If we had no sexual harassment we would hav...   \n",
       "3  b' Israel clears troops who killed Reuters cam...   \n",
       "4  b'Swedish wrestler Ara Abrahamian throws away ...   \n",
       "\n",
       "                                                Top4  \\\n",
       "0  b'Russian tanks are moving towards the capital...   \n",
       "1  b'Georgian army flees in disarray as Russians ...   \n",
       "2  b\"Al-Qa'eda is losing support in Iraq because ...   \n",
       "3  b'Britain\\'s policy of being tough on drugs is...   \n",
       "4  b'Russia exaggerated the death toll in South O...   \n",
       "\n",
       "                                                Top5  \\\n",
       "0  b\"Afghan children raped with 'impunity,' U.N. ...   \n",
       "1      b\"Olympic opening ceremony fireworks 'faked'\"   \n",
       "2  b'Ceasefire in Georgia: Putin Outmaneuvers the...   \n",
       "3  b'Body of 14 year old found in trunk; Latest (...   \n",
       "4  b'Missile That Killed 9 Inside Pakistan May Ha...   \n",
       "\n",
       "                                                Top6  \\\n",
       "0  b'150 Russian tanks have entered South Ossetia...   \n",
       "1  b'What were the Mossad with fraudulent New Zea...   \n",
       "2  b'Why Microsoft and Intel tried to kill the XO...   \n",
       "3  b'China has moved 10 *million* quake survivors...   \n",
       "4  b\"Rushdie Condemns Random House's Refusal to P...   \n",
       "\n",
       "                                                Top7  \\\n",
       "0  b\"Breaking: Georgia invades South Ossetia, Rus...   \n",
       "1  b'Russia angered by Israeli military sale to G...   \n",
       "2  b'Stratfor: The Russo-Georgian War and the Bal...   \n",
       "3  b\"Bush announces Operation Get All Up In Russi...   \n",
       "4  b'Poland and US agree to missle defense deal. ...   \n",
       "\n",
       "                                                Top8  ...  \\\n",
       "0  b\"The 'enemy combatent' trials are nothing but...  ...   \n",
       "1  b'An American citizen living in S.Ossetia blam...  ...   \n",
       "2  b\"I'm Trying to Get a Sense of This Whole Geor...  ...   \n",
       "3             b'Russian forces sink Georgian ships '  ...   \n",
       "4  b'Will the Russians conquer Tblisi? Bet on it,...  ...   \n",
       "\n",
       "                                               Top16  \\\n",
       "0  b'Georgia Invades South Ossetia - if Russia ge...   \n",
       "1  b'Israel and the US behind the Georgian aggres...   \n",
       "2  b'U.S. troops still in Georgia (did you know t...   \n",
       "3                      b'Elephants extinct by 2020?'   \n",
       "4  b'Bank analyst forecast Georgian crisis 2 days...   \n",
       "\n",
       "                                               Top17  \\\n",
       "0                b'Al-Qaeda Faces Islamist Backlash'   \n",
       "1  b'\"Do not believe TV, neither Russian nor Geor...   \n",
       "2       b'Why Russias response to Georgia was right'   \n",
       "3  b'US humanitarian missions soon in Georgia - i...   \n",
       "4  b\"Georgia confict could set back Russia's US r...   \n",
       "\n",
       "                                               Top18  \\\n",
       "0  b'Condoleezza Rice: \"The US would not act to p...   \n",
       "1  b'Riots are still going on in Montreal (Canada...   \n",
       "2  b'Gorbachev accuses U.S. of making a \"serious ...   \n",
       "3             b\"Georgia's DDOS came from US sources\"   \n",
       "4  b'War in the Caucasus is as much the product o...   \n",
       "\n",
       "                                               Top19  \\\n",
       "0  b'This is a busy day:  The European Union has ...   \n",
       "1    b'China to overtake US as largest manufacturer'   \n",
       "2         b'Russia, Georgia, and NATO: Cold War Two'   \n",
       "3  b'Russian convoy heads into Georgia, violating...   \n",
       "4  b'\"Non-media\" photos of South Ossetia/Georgia ...   \n",
       "\n",
       "                                               Top20  \\\n",
       "0  b\"Georgia will withdraw 1,000 soldiers from Ir...   \n",
       "1                     b'War in South Ossetia [PICS]'   \n",
       "2  b'Remember that adorable 62-year-old who led y...   \n",
       "3  b'Israeli defence minister: US against strike ...   \n",
       "4  b'Georgian TV reporter shot by Russian sniper ...   \n",
       "\n",
       "                                               Top21  \\\n",
       "0  b'Why the Pentagon Thinks Attacking Iran is a ...   \n",
       "1  b'Israeli Physicians Group Condemns State Tort...   \n",
       "2          b'War in Georgia: The Israeli connection'   \n",
       "3                     b'Gorbachev: We Had No Choice'   \n",
       "4  b'Saudi Arabia: Mother moves to block child ma...   \n",
       "\n",
       "                                               Top22  \\\n",
       "0  b'Caucasus in crisis: Georgia invades South Os...   \n",
       "1  b' Russia has just beaten the United States ov...   \n",
       "2  b'All signs point to the US encouraging Georgi...   \n",
       "3  b'Witness: Russian forces head towards Tbilisi...   \n",
       "4   b'Taliban wages war on humanitarian aid workers'   \n",
       "\n",
       "                                               Top23  \\\n",
       "0  b'Indian shoe manufactory  - And again in a se...   \n",
       "1  b'Perhaps *the* question about the Georgia - R...   \n",
       "2  b'Christopher King argues that the US and NATO...   \n",
       "3  b' Quarter of Russians blame U.S. for conflict...   \n",
       "4  b'Russia: World  \"can forget about\" Georgia\\'s...   \n",
       "\n",
       "                                               Top24  \\\n",
       "0  b'Visitors Suffering from Mental Illnesses Ban...   \n",
       "1                 b'Russia is so much better at war'   \n",
       "2                        b'America: The New Mexico?'   \n",
       "3  b'Georgian president  says US military will ta...   \n",
       "4  b'Darfur rebels accuse Sudan of mounting major...   \n",
       "\n",
       "                                               Top25  \n",
       "0           b\"No Help for Mexico's Kidnapping Surge\"  \n",
       "1  b\"So this is what it's come to: trading sex fo...  \n",
       "2  b\"BBC NEWS | Asia-Pacific | Extinction 'by man...  \n",
       "3  b'2006: Nobel laureate Aleksander Solzhenitsyn...  \n",
       "4  b'Philippines : Peace Advocate say Muslims nee...  \n",
       "\n",
       "[5 rows x 27 columns]"
      ]
     },
     "execution_count": 2,
     "metadata": {},
     "output_type": "execute_result"
    }
   ],
   "source": [
    "df.head()"
   ]
  },
  {
   "cell_type": "code",
   "execution_count": 23,
   "id": "fe2a5831-c41f-461b-b0fc-af17f6a94bcb",
   "metadata": {
    "tags": []
   },
   "outputs": [
    {
     "data": {
      "text/plain": [
       "(1989, 27)"
      ]
     },
     "execution_count": 23,
     "metadata": {},
     "output_type": "execute_result"
    }
   ],
   "source": [
    "df.shape"
   ]
  },
  {
   "cell_type": "markdown",
   "id": "aebce03d",
   "metadata": {
    "papermill": {
     "duration": 0.022641,
     "end_time": "2022-04-08T16:00:22.590469",
     "exception": false,
     "start_time": "2022-04-08T16:00:22.567828",
     "status": "completed"
    },
    "tags": []
   },
   "source": [
    "# Train-Test Split \n",
    "\n",
    "In time series problems, old data are used to predict later data. Therefore, we set test data to be the latest data."
   ]
  },
  {
   "cell_type": "code",
   "execution_count": 26,
   "id": "39b31884",
   "metadata": {
    "papermill": {
     "duration": 0.037336,
     "end_time": "2022-04-08T16:00:22.650133",
     "exception": false,
     "start_time": "2022-04-08T16:00:22.612797",
     "status": "completed"
    },
    "tags": []
   },
   "outputs": [],
   "source": [
    "train = df[df['Date'] < '20150101']\n",
    "test = df[df['Date'] > '20141231']"
   ]
  },
  {
   "cell_type": "markdown",
   "id": "43dfffad",
   "metadata": {
    "papermill": {
     "duration": 0.022309,
     "end_time": "2022-04-08T16:00:22.694858",
     "exception": false,
     "start_time": "2022-04-08T16:00:22.672549",
     "status": "completed"
    },
    "tags": []
   },
   "source": [
    "# Feature Transformation\n",
    "From inpecting the data, we learned that there are a lot of punctuations which will not contribute to understanding the sentiment in the message. We can use \"replace(\"[^a-zA-Z]\",\" \",regex=True, inplace=True)\" to replace everything apart from a-z and A-Z with blank space and store in-place in the \"data\" variable. \n",
    "\n",
    "In other NLP applications, stop words like articles, prepositions, pronouns, conjunction are removed to give more emphasis to the important words. It was not done here as news headlines are generally condensed and every word have particular meaning.\n",
    "\n",
    "Regular expressions (regex) are essentially text patterns that you can use to automate searching through and replacing elements within strings of text. This can make cleaning and working with text-based data sets much easier, saving you the trouble of having to search through mountains of text by hand."
   ]
  },
  {
   "cell_type": "code",
   "execution_count": 29,
   "id": "c79ebc27",
   "metadata": {
    "papermill": {
     "duration": 0.382341,
     "end_time": "2022-04-08T16:00:23.101265",
     "exception": false,
     "start_time": "2022-04-08T16:00:22.718924",
     "status": "completed"
    },
    "tags": []
   },
   "outputs": [
    {
     "data": {
      "text/html": [
       "<div>\n",
       "<style scoped>\n",
       "    .dataframe tbody tr th:only-of-type {\n",
       "        vertical-align: middle;\n",
       "    }\n",
       "\n",
       "    .dataframe tbody tr th {\n",
       "        vertical-align: top;\n",
       "    }\n",
       "\n",
       "    .dataframe thead th {\n",
       "        text-align: right;\n",
       "    }\n",
       "</style>\n",
       "<table border=\"1\" class=\"dataframe\">\n",
       "  <thead>\n",
       "    <tr style=\"text-align: right;\">\n",
       "      <th></th>\n",
       "      <th>0</th>\n",
       "      <th>1</th>\n",
       "      <th>2</th>\n",
       "      <th>3</th>\n",
       "      <th>4</th>\n",
       "      <th>5</th>\n",
       "      <th>6</th>\n",
       "      <th>7</th>\n",
       "      <th>8</th>\n",
       "      <th>9</th>\n",
       "      <th>...</th>\n",
       "      <th>15</th>\n",
       "      <th>16</th>\n",
       "      <th>17</th>\n",
       "      <th>18</th>\n",
       "      <th>19</th>\n",
       "      <th>20</th>\n",
       "      <th>21</th>\n",
       "      <th>22</th>\n",
       "      <th>23</th>\n",
       "      <th>24</th>\n",
       "    </tr>\n",
       "  </thead>\n",
       "  <tbody>\n",
       "    <tr>\n",
       "      <th>0</th>\n",
       "      <td>b Georgia  downs two Russian warplanes  as cou...</td>\n",
       "      <td>b BREAKING  Musharraf to be impeached</td>\n",
       "      <td>b Russia Today  Columns of troops roll into So...</td>\n",
       "      <td>b Russian tanks are moving towards the capital...</td>\n",
       "      <td>b Afghan children raped with  impunity   U N  ...</td>\n",
       "      <td>b     Russian tanks have entered South Ossetia...</td>\n",
       "      <td>b Breaking  Georgia invades South Ossetia  Rus...</td>\n",
       "      <td>b The  enemy combatent  trials are nothing but...</td>\n",
       "      <td>b Georgian troops retreat from S  Osettain cap...</td>\n",
       "      <td>b Did the U S  Prep Georgia for War with Russia</td>\n",
       "      <td>...</td>\n",
       "      <td>b Georgia Invades South Ossetia   if Russia ge...</td>\n",
       "      <td>b Al Qaeda Faces Islamist Backlash</td>\n",
       "      <td>b Condoleezza Rice   The US would not act to p...</td>\n",
       "      <td>b This is a busy day   The European Union has ...</td>\n",
       "      <td>b Georgia will withdraw       soldiers from Ir...</td>\n",
       "      <td>b Why the Pentagon Thinks Attacking Iran is a ...</td>\n",
       "      <td>b Caucasus in crisis  Georgia invades South Os...</td>\n",
       "      <td>b Indian shoe manufactory    And again in a se...</td>\n",
       "      <td>b Visitors Suffering from Mental Illnesses Ban...</td>\n",
       "      <td>b No Help for Mexico s Kidnapping Surge</td>\n",
       "    </tr>\n",
       "    <tr>\n",
       "      <th>1</th>\n",
       "      <td>b Why wont America and Nato help us  If they w...</td>\n",
       "      <td>b Bush puts foot down on Georgian conflict</td>\n",
       "      <td>b Jewish Georgian minister  Thanks to Israeli ...</td>\n",
       "      <td>b Georgian army flees in disarray as Russians ...</td>\n",
       "      <td>b Olympic opening ceremony fireworks  faked</td>\n",
       "      <td>b What were the Mossad with fraudulent New Zea...</td>\n",
       "      <td>b Russia angered by Israeli military sale to G...</td>\n",
       "      <td>b An American citizen living in S Ossetia blam...</td>\n",
       "      <td>b Welcome To World War IV  Now In High Definit...</td>\n",
       "      <td>b Georgia s move  a mistake of monumental prop...</td>\n",
       "      <td>...</td>\n",
       "      <td>b Israel and the US behind the Georgian aggres...</td>\n",
       "      <td>b  Do not believe TV  neither Russian nor Geor...</td>\n",
       "      <td>b Riots are still going on in Montreal  Canada...</td>\n",
       "      <td>b China to overtake US as largest manufacturer</td>\n",
       "      <td>b War in South Ossetia  PICS</td>\n",
       "      <td>b Israeli Physicians Group Condemns State Tort...</td>\n",
       "      <td>b  Russia has just beaten the United States ov...</td>\n",
       "      <td>b Perhaps  the  question about the Georgia   R...</td>\n",
       "      <td>b Russia is so much better at war</td>\n",
       "      <td>b So this is what it s come to  trading sex fo...</td>\n",
       "    </tr>\n",
       "    <tr>\n",
       "      <th>2</th>\n",
       "      <td>b Remember that adorable   year old who sang a...</td>\n",
       "      <td>b Russia  ends Georgia operation</td>\n",
       "      <td>b  If we had no sexual harassment we would hav...</td>\n",
       "      <td>b Al Qa eda is losing support in Iraq because ...</td>\n",
       "      <td>b Ceasefire in Georgia  Putin Outmaneuvers the...</td>\n",
       "      <td>b Why Microsoft and Intel tried to kill the XO...</td>\n",
       "      <td>b Stratfor  The Russo Georgian War and the Bal...</td>\n",
       "      <td>b I m Trying to Get a Sense of This Whole Geor...</td>\n",
       "      <td>b The US military was surprised by the timing ...</td>\n",
       "      <td>b U S  Beats War Drum as Iran Dumps the Dollar</td>\n",
       "      <td>...</td>\n",
       "      <td>b U S  troops still in Georgia  did you know t...</td>\n",
       "      <td>b Why Russias response to Georgia was right</td>\n",
       "      <td>b Gorbachev accuses U S  of making a  serious ...</td>\n",
       "      <td>b Russia  Georgia  and NATO  Cold War Two</td>\n",
       "      <td>b Remember that adorable    year old who led y...</td>\n",
       "      <td>b War in Georgia  The Israeli connection</td>\n",
       "      <td>b All signs point to the US encouraging Georgi...</td>\n",
       "      <td>b Christopher King argues that the US and NATO...</td>\n",
       "      <td>b America  The New Mexico</td>\n",
       "      <td>b BBC NEWS   Asia Pacific   Extinction  by man...</td>\n",
       "    </tr>\n",
       "    <tr>\n",
       "      <th>3</th>\n",
       "      <td>b  U S  refuses Israel weapons to attack Iran ...</td>\n",
       "      <td>b When the president ordered to attack Tskhinv...</td>\n",
       "      <td>b  Israel clears troops who killed Reuters cam...</td>\n",
       "      <td>b Britain  s policy of being tough on drugs is...</td>\n",
       "      <td>b Body of    year old found in trunk  Latest  ...</td>\n",
       "      <td>b China has moved     million  quake survivors...</td>\n",
       "      <td>b Bush announces Operation Get All Up In Russi...</td>\n",
       "      <td>b Russian forces sink Georgian ships</td>\n",
       "      <td>b The commander of a Navy air reconnaissance s...</td>\n",
       "      <td>b     of CNN readers  Russia s actions in Geor...</td>\n",
       "      <td>...</td>\n",
       "      <td>b Elephants extinct by</td>\n",
       "      <td>b US humanitarian missions soon in Georgia   i...</td>\n",
       "      <td>b Georgia s DDOS came from US sources</td>\n",
       "      <td>b Russian convoy heads into Georgia  violating...</td>\n",
       "      <td>b Israeli defence minister  US against strike ...</td>\n",
       "      <td>b Gorbachev  We Had No Choice</td>\n",
       "      <td>b Witness  Russian forces head towards Tbilisi...</td>\n",
       "      <td>b  Quarter of Russians blame U S  for conflict...</td>\n",
       "      <td>b Georgian president  says US military will ta...</td>\n",
       "      <td>b       Nobel laureate Aleksander Solzhenitsyn...</td>\n",
       "    </tr>\n",
       "    <tr>\n",
       "      <th>4</th>\n",
       "      <td>b All the experts admit that we should legalis...</td>\n",
       "      <td>b War in South Osetia      pictures made by a ...</td>\n",
       "      <td>b Swedish wrestler Ara Abrahamian throws away ...</td>\n",
       "      <td>b Russia exaggerated the death toll in South O...</td>\n",
       "      <td>b Missile That Killed   Inside Pakistan May Ha...</td>\n",
       "      <td>b Rushdie Condemns Random House s Refusal to P...</td>\n",
       "      <td>b Poland and US agree to missle defense deal  ...</td>\n",
       "      <td>b Will the Russians conquer Tblisi  Bet on it ...</td>\n",
       "      <td>b Russia exaggerating South Ossetian death tol...</td>\n",
       "      <td>b  Musharraf expected to resign rather than fa...</td>\n",
       "      <td>...</td>\n",
       "      <td>b Bank analyst forecast Georgian crisis   days...</td>\n",
       "      <td>b Georgia confict could set back Russia s US r...</td>\n",
       "      <td>b War in the Caucasus is as much the product o...</td>\n",
       "      <td>b  Non media  photos of South Ossetia Georgia ...</td>\n",
       "      <td>b Georgian TV reporter shot by Russian sniper ...</td>\n",
       "      <td>b Saudi Arabia  Mother moves to block child ma...</td>\n",
       "      <td>b Taliban wages war on humanitarian aid workers</td>\n",
       "      <td>b Russia  World   can forget about  Georgia  s...</td>\n",
       "      <td>b Darfur rebels accuse Sudan of mounting major...</td>\n",
       "      <td>b Philippines   Peace Advocate say Muslims nee...</td>\n",
       "    </tr>\n",
       "  </tbody>\n",
       "</table>\n",
       "<p>5 rows × 25 columns</p>\n",
       "</div>"
      ],
      "text/plain": [
       "                                                   0  \\\n",
       "0  b Georgia  downs two Russian warplanes  as cou...   \n",
       "1  b Why wont America and Nato help us  If they w...   \n",
       "2  b Remember that adorable   year old who sang a...   \n",
       "3  b  U S  refuses Israel weapons to attack Iran ...   \n",
       "4  b All the experts admit that we should legalis...   \n",
       "\n",
       "                                                   1  \\\n",
       "0            b BREAKING  Musharraf to be impeached     \n",
       "1        b Bush puts foot down on Georgian conflict    \n",
       "2                 b Russia  ends Georgia operation     \n",
       "3  b When the president ordered to attack Tskhinv...   \n",
       "4  b War in South Osetia      pictures made by a ...   \n",
       "\n",
       "                                                   2  \\\n",
       "0  b Russia Today  Columns of troops roll into So...   \n",
       "1  b Jewish Georgian minister  Thanks to Israeli ...   \n",
       "2  b  If we had no sexual harassment we would hav...   \n",
       "3  b  Israel clears troops who killed Reuters cam...   \n",
       "4  b Swedish wrestler Ara Abrahamian throws away ...   \n",
       "\n",
       "                                                   3  \\\n",
       "0  b Russian tanks are moving towards the capital...   \n",
       "1  b Georgian army flees in disarray as Russians ...   \n",
       "2  b Al Qa eda is losing support in Iraq because ...   \n",
       "3  b Britain  s policy of being tough on drugs is...   \n",
       "4  b Russia exaggerated the death toll in South O...   \n",
       "\n",
       "                                                   4  \\\n",
       "0  b Afghan children raped with  impunity   U N  ...   \n",
       "1      b Olympic opening ceremony fireworks  faked     \n",
       "2  b Ceasefire in Georgia  Putin Outmaneuvers the...   \n",
       "3  b Body of    year old found in trunk  Latest  ...   \n",
       "4  b Missile That Killed   Inside Pakistan May Ha...   \n",
       "\n",
       "                                                   5  \\\n",
       "0  b     Russian tanks have entered South Ossetia...   \n",
       "1  b What were the Mossad with fraudulent New Zea...   \n",
       "2  b Why Microsoft and Intel tried to kill the XO...   \n",
       "3  b China has moved     million  quake survivors...   \n",
       "4  b Rushdie Condemns Random House s Refusal to P...   \n",
       "\n",
       "                                                   6  \\\n",
       "0  b Breaking  Georgia invades South Ossetia  Rus...   \n",
       "1  b Russia angered by Israeli military sale to G...   \n",
       "2  b Stratfor  The Russo Georgian War and the Bal...   \n",
       "3  b Bush announces Operation Get All Up In Russi...   \n",
       "4  b Poland and US agree to missle defense deal  ...   \n",
       "\n",
       "                                                   7  \\\n",
       "0  b The  enemy combatent  trials are nothing but...   \n",
       "1  b An American citizen living in S Ossetia blam...   \n",
       "2  b I m Trying to Get a Sense of This Whole Geor...   \n",
       "3             b Russian forces sink Georgian ships     \n",
       "4  b Will the Russians conquer Tblisi  Bet on it ...   \n",
       "\n",
       "                                                   8  \\\n",
       "0  b Georgian troops retreat from S  Osettain cap...   \n",
       "1  b Welcome To World War IV  Now In High Definit...   \n",
       "2  b The US military was surprised by the timing ...   \n",
       "3  b The commander of a Navy air reconnaissance s...   \n",
       "4  b Russia exaggerating South Ossetian death tol...   \n",
       "\n",
       "                                                   9  ...  \\\n",
       "0  b Did the U S  Prep Georgia for War with Russia    ...   \n",
       "1  b Georgia s move  a mistake of monumental prop...  ...   \n",
       "2    b U S  Beats War Drum as Iran Dumps the Dollar   ...   \n",
       "3  b     of CNN readers  Russia s actions in Geor...  ...   \n",
       "4  b  Musharraf expected to resign rather than fa...  ...   \n",
       "\n",
       "                                                  15  \\\n",
       "0  b Georgia Invades South Ossetia   if Russia ge...   \n",
       "1  b Israel and the US behind the Georgian aggres...   \n",
       "2  b U S  troops still in Georgia  did you know t...   \n",
       "3                      b Elephants extinct by          \n",
       "4  b Bank analyst forecast Georgian crisis   days...   \n",
       "\n",
       "                                                  16  \\\n",
       "0                b Al Qaeda Faces Islamist Backlash    \n",
       "1  b  Do not believe TV  neither Russian nor Geor...   \n",
       "2       b Why Russias response to Georgia was right    \n",
       "3  b US humanitarian missions soon in Georgia   i...   \n",
       "4  b Georgia confict could set back Russia s US r...   \n",
       "\n",
       "                                                  17  \\\n",
       "0  b Condoleezza Rice   The US would not act to p...   \n",
       "1  b Riots are still going on in Montreal  Canada...   \n",
       "2  b Gorbachev accuses U S  of making a  serious ...   \n",
       "3             b Georgia s DDOS came from US sources    \n",
       "4  b War in the Caucasus is as much the product o...   \n",
       "\n",
       "                                                  18  \\\n",
       "0  b This is a busy day   The European Union has ...   \n",
       "1    b China to overtake US as largest manufacturer    \n",
       "2         b Russia  Georgia  and NATO  Cold War Two    \n",
       "3  b Russian convoy heads into Georgia  violating...   \n",
       "4  b  Non media  photos of South Ossetia Georgia ...   \n",
       "\n",
       "                                                  19  \\\n",
       "0  b Georgia will withdraw       soldiers from Ir...   \n",
       "1                     b War in South Ossetia  PICS     \n",
       "2  b Remember that adorable    year old who led y...   \n",
       "3  b Israeli defence minister  US against strike ...   \n",
       "4  b Georgian TV reporter shot by Russian sniper ...   \n",
       "\n",
       "                                                  20  \\\n",
       "0  b Why the Pentagon Thinks Attacking Iran is a ...   \n",
       "1  b Israeli Physicians Group Condemns State Tort...   \n",
       "2          b War in Georgia  The Israeli connection    \n",
       "3                     b Gorbachev  We Had No Choice    \n",
       "4  b Saudi Arabia  Mother moves to block child ma...   \n",
       "\n",
       "                                                  21  \\\n",
       "0  b Caucasus in crisis  Georgia invades South Os...   \n",
       "1  b  Russia has just beaten the United States ov...   \n",
       "2  b All signs point to the US encouraging Georgi...   \n",
       "3  b Witness  Russian forces head towards Tbilisi...   \n",
       "4   b Taliban wages war on humanitarian aid workers    \n",
       "\n",
       "                                                  22  \\\n",
       "0  b Indian shoe manufactory    And again in a se...   \n",
       "1  b Perhaps  the  question about the Georgia   R...   \n",
       "2  b Christopher King argues that the US and NATO...   \n",
       "3  b  Quarter of Russians blame U S  for conflict...   \n",
       "4  b Russia  World   can forget about  Georgia  s...   \n",
       "\n",
       "                                                  23  \\\n",
       "0  b Visitors Suffering from Mental Illnesses Ban...   \n",
       "1                 b Russia is so much better at war    \n",
       "2                        b America  The New Mexico     \n",
       "3  b Georgian president  says US military will ta...   \n",
       "4  b Darfur rebels accuse Sudan of mounting major...   \n",
       "\n",
       "                                                  24  \n",
       "0           b No Help for Mexico s Kidnapping Surge   \n",
       "1  b So this is what it s come to  trading sex fo...  \n",
       "2  b BBC NEWS   Asia Pacific   Extinction  by man...  \n",
       "3  b       Nobel laureate Aleksander Solzhenitsyn...  \n",
       "4  b Philippines   Peace Advocate say Muslims nee...  \n",
       "\n",
       "[5 rows x 25 columns]"
      ]
     },
     "execution_count": 29,
     "metadata": {},
     "output_type": "execute_result"
    }
   ],
   "source": [
    "# Removing punctuations\n",
    "data=train.iloc[:,2:27]\n",
    "data.replace(\"[^a-zA-Z]\",\" \",regex=True, inplace=True)\n",
    "\n",
    "# Renaming column names for ease of access\n",
    "list1= [i for i in range(25)]\n",
    "new_Index=[str(i) for i in list1]\n",
    "data.columns= new_Index\n",
    "data.head(5)"
   ]
  },
  {
   "cell_type": "markdown",
   "id": "3ae9fc45",
   "metadata": {
    "papermill": {
     "duration": 0.023132,
     "end_time": "2022-04-08T16:00:23.148291",
     "exception": false,
     "start_time": "2022-04-08T16:00:23.125159",
     "status": "completed"
    },
    "tags": []
   },
   "source": [
    "As the case of letters in the words does not affect its sentiment, we can convert all the characters to lower case."
   ]
  },
  {
   "cell_type": "code",
   "execution_count": 31,
   "id": "68533f45",
   "metadata": {
    "papermill": {
     "duration": 0.081602,
     "end_time": "2022-04-08T16:00:23.253311",
     "exception": false,
     "start_time": "2022-04-08T16:00:23.171709",
     "status": "completed"
    },
    "tags": []
   },
   "outputs": [
    {
     "data": {
      "text/html": [
       "<div>\n",
       "<style scoped>\n",
       "    .dataframe tbody tr th:only-of-type {\n",
       "        vertical-align: middle;\n",
       "    }\n",
       "\n",
       "    .dataframe tbody tr th {\n",
       "        vertical-align: top;\n",
       "    }\n",
       "\n",
       "    .dataframe thead th {\n",
       "        text-align: right;\n",
       "    }\n",
       "</style>\n",
       "<table border=\"1\" class=\"dataframe\">\n",
       "  <thead>\n",
       "    <tr style=\"text-align: right;\">\n",
       "      <th></th>\n",
       "      <th>0</th>\n",
       "      <th>1</th>\n",
       "      <th>2</th>\n",
       "      <th>3</th>\n",
       "      <th>4</th>\n",
       "      <th>5</th>\n",
       "      <th>6</th>\n",
       "      <th>7</th>\n",
       "      <th>8</th>\n",
       "      <th>9</th>\n",
       "      <th>...</th>\n",
       "      <th>15</th>\n",
       "      <th>16</th>\n",
       "      <th>17</th>\n",
       "      <th>18</th>\n",
       "      <th>19</th>\n",
       "      <th>20</th>\n",
       "      <th>21</th>\n",
       "      <th>22</th>\n",
       "      <th>23</th>\n",
       "      <th>24</th>\n",
       "    </tr>\n",
       "  </thead>\n",
       "  <tbody>\n",
       "    <tr>\n",
       "      <th>0</th>\n",
       "      <td>b georgia  downs two russian warplanes  as cou...</td>\n",
       "      <td>b breaking  musharraf to be impeached</td>\n",
       "      <td>b russia today  columns of troops roll into so...</td>\n",
       "      <td>b russian tanks are moving towards the capital...</td>\n",
       "      <td>b afghan children raped with  impunity   u n  ...</td>\n",
       "      <td>b     russian tanks have entered south ossetia...</td>\n",
       "      <td>b breaking  georgia invades south ossetia  rus...</td>\n",
       "      <td>b the  enemy combatent  trials are nothing but...</td>\n",
       "      <td>b georgian troops retreat from s  osettain cap...</td>\n",
       "      <td>b did the u s  prep georgia for war with russia</td>\n",
       "      <td>...</td>\n",
       "      <td>b georgia invades south ossetia   if russia ge...</td>\n",
       "      <td>b al qaeda faces islamist backlash</td>\n",
       "      <td>b condoleezza rice   the us would not act to p...</td>\n",
       "      <td>b this is a busy day   the european union has ...</td>\n",
       "      <td>b georgia will withdraw       soldiers from ir...</td>\n",
       "      <td>b why the pentagon thinks attacking iran is a ...</td>\n",
       "      <td>b caucasus in crisis  georgia invades south os...</td>\n",
       "      <td>b indian shoe manufactory    and again in a se...</td>\n",
       "      <td>b visitors suffering from mental illnesses ban...</td>\n",
       "      <td>b no help for mexico s kidnapping surge</td>\n",
       "    </tr>\n",
       "  </tbody>\n",
       "</table>\n",
       "<p>1 rows × 25 columns</p>\n",
       "</div>"
      ],
      "text/plain": [
       "                                                   0  \\\n",
       "0  b georgia  downs two russian warplanes  as cou...   \n",
       "\n",
       "                                         1  \\\n",
       "0  b breaking  musharraf to be impeached     \n",
       "\n",
       "                                                   2  \\\n",
       "0  b russia today  columns of troops roll into so...   \n",
       "\n",
       "                                                   3  \\\n",
       "0  b russian tanks are moving towards the capital...   \n",
       "\n",
       "                                                   4  \\\n",
       "0  b afghan children raped with  impunity   u n  ...   \n",
       "\n",
       "                                                   5  \\\n",
       "0  b     russian tanks have entered south ossetia...   \n",
       "\n",
       "                                                   6  \\\n",
       "0  b breaking  georgia invades south ossetia  rus...   \n",
       "\n",
       "                                                   7  \\\n",
       "0  b the  enemy combatent  trials are nothing but...   \n",
       "\n",
       "                                                   8  \\\n",
       "0  b georgian troops retreat from s  osettain cap...   \n",
       "\n",
       "                                                   9  ...  \\\n",
       "0  b did the u s  prep georgia for war with russia    ...   \n",
       "\n",
       "                                                  15  \\\n",
       "0  b georgia invades south ossetia   if russia ge...   \n",
       "\n",
       "                                    16  \\\n",
       "0  b al qaeda faces islamist backlash    \n",
       "\n",
       "                                                  17  \\\n",
       "0  b condoleezza rice   the us would not act to p...   \n",
       "\n",
       "                                                  18  \\\n",
       "0  b this is a busy day   the european union has ...   \n",
       "\n",
       "                                                  19  \\\n",
       "0  b georgia will withdraw       soldiers from ir...   \n",
       "\n",
       "                                                  20  \\\n",
       "0  b why the pentagon thinks attacking iran is a ...   \n",
       "\n",
       "                                                  21  \\\n",
       "0  b caucasus in crisis  georgia invades south os...   \n",
       "\n",
       "                                                  22  \\\n",
       "0  b indian shoe manufactory    and again in a se...   \n",
       "\n",
       "                                                  23  \\\n",
       "0  b visitors suffering from mental illnesses ban...   \n",
       "\n",
       "                                         24  \n",
       "0  b no help for mexico s kidnapping surge   \n",
       "\n",
       "[1 rows x 25 columns]"
      ]
     },
     "execution_count": 31,
     "metadata": {},
     "output_type": "execute_result"
    }
   ],
   "source": [
    "# Convertng headlines to lower case\n",
    "for index in new_Index:\n",
    "    data[index]=data[index].str.lower()\n",
    "data.head(1)"
   ]
  },
  {
   "cell_type": "markdown",
   "id": "374eb0af",
   "metadata": {
    "papermill": {
     "duration": 0.023465,
     "end_time": "2022-04-08T16:00:23.301189",
     "exception": false,
     "start_time": "2022-04-08T16:00:23.277724",
     "status": "completed"
    },
    "tags": []
   },
   "source": [
    "Next, we are going to combine the headings so that we can convert it to a vector so that we can apply the it to the NLP (NLP models usually involve working with vectors).\n",
    "\n",
    "We will join every headings a link them with blank spaces. \".iloc\" is Purely integer-location based indexing for selection by position. "
   ]
  },
  {
   "cell_type": "code",
   "execution_count": 6,
   "id": "8fef43f8",
   "metadata": {
    "execution": {
     "iopub.execute_input": "2022-04-08T16:00:23.379046Z",
     "iopub.status.busy": "2022-04-08T16:00:23.373976Z",
     "iopub.status.idle": "2022-04-08T16:00:23.586319Z",
     "shell.execute_reply": "2022-04-08T16:00:23.585767Z",
     "shell.execute_reply.started": "2022-04-07T11:38:06.653453Z"
    },
    "papermill": {
     "duration": 0.261555,
     "end_time": "2022-04-08T16:00:23.586479",
     "exception": false,
     "start_time": "2022-04-08T16:00:23.324924",
     "status": "completed"
    },
    "tags": []
   },
   "outputs": [],
   "source": [
    "headlines = []\n",
    "for row in range(0,len(data.index)):\n",
    "    headlines.append(' '.join(str(x) for x in data.iloc[row,0:25]))"
   ]
  },
  {
   "cell_type": "markdown",
   "id": "066dc033",
   "metadata": {
    "papermill": {
     "duration": 0.023665,
     "end_time": "2022-04-08T16:00:23.633957",
     "exception": false,
     "start_time": "2022-04-08T16:00:23.610292",
     "status": "completed"
    },
    "tags": []
   },
   "source": [
    "All the sentences are included in a list as shown below."
   ]
  },
  {
   "cell_type": "code",
   "execution_count": 7,
   "id": "e0e258c5",
   "metadata": {
    "execution": {
     "iopub.execute_input": "2022-04-08T16:00:23.684845Z",
     "iopub.status.busy": "2022-04-08T16:00:23.684231Z",
     "iopub.status.idle": "2022-04-08T16:00:23.688691Z",
     "shell.execute_reply": "2022-04-08T16:00:23.689142Z",
     "shell.execute_reply.started": "2022-04-07T11:38:19.904489Z"
    },
    "papermill": {
     "duration": 0.031569,
     "end_time": "2022-04-08T16:00:23.689326",
     "exception": false,
     "start_time": "2022-04-08T16:00:23.657757",
     "status": "completed"
    },
    "tags": []
   },
   "outputs": [
    {
     "data": {
      "text/plain": [
       "'b georgia  downs two russian warplanes  as countries move to brink of war  b breaking  musharraf to be impeached   b russia today  columns of troops roll into south ossetia  footage from fighting  youtube   b russian tanks are moving towards the capital of south ossetia  which has reportedly been completely destroyed by georgian artillery fire  b afghan children raped with  impunity   u n  official says   this is sick  a three year old was raped and they do nothing  b     russian tanks have entered south ossetia whilst georgia shoots down two russian jets   b breaking  georgia invades south ossetia  russia warned it would intervene on so s side  b the  enemy combatent  trials are nothing but a sham  salim haman has been sentenced to       years  but will be kept longer anyway just because they feel like it   b georgian troops retreat from s  osettain capital  presumably leaving several hundred people killed   video   b did the u s  prep georgia for war with russia   b rice gives green light for israel to attack iran  says u s  has no veto over israeli military ops  b announcing class action lawsuit on behalf of american public against the fbi  b so   russia and georgia are at war and the nyt s top story is opening ceremonies of the olympics   what a fucking disgrace and yet further proof of the decline of journalism   b china tells bush to stay out of other countries  affairs  b did world war iii start today   b georgia invades south ossetia   if russia gets involved  will nato absorb georgia and unleash a full scale war   b al qaeda faces islamist backlash  b condoleezza rice   the us would not act to prevent an israeli strike on iran   israeli defense minister ehud barak   israel is prepared for uncompromising victory in the case of military hostilities    b this is a busy day   the european union has approved new sanctions against iran in protest at its nuclear programme   b georgia will withdraw       soldiers from iraq to help fight off russian forces in georgia s breakaway region of south ossetia  b why the pentagon thinks attacking iran is a bad idea   us news  amp  world report  b caucasus in crisis  georgia invades south ossetia  b indian shoe manufactory    and again in a series of  you do not like your work    b visitors suffering from mental illnesses banned from olympics  b no help for mexico s kidnapping surge '"
      ]
     },
     "execution_count": 7,
     "metadata": {},
     "output_type": "execute_result"
    }
   ],
   "source": [
    "headlines[0]"
   ]
  },
  {
   "cell_type": "markdown",
   "id": "3e319157",
   "metadata": {
    "papermill": {
     "duration": 0.023892,
     "end_time": "2022-04-08T16:00:23.737756",
     "exception": false,
     "start_time": "2022-04-08T16:00:23.713864",
     "status": "completed"
    },
    "tags": []
   },
   "source": [
    "# Count Vectorizer\n",
    "Count Vectorizer will represent words by numbers so that they can be processed by algorithms. This is done by making each unique word a column and count the number of times each word appear and then make it the row values. An example is given below.\n",
    "\n",
    "![](https://www.educative.io/api/edpresso/shot/5197621598617600/image/6596233398321152)\n",
    "\n",
    "ngram is set as 2,2 so that pairs of words appearing together are used as features (columns)\n",
    "If we set (1, 1) means only unigrams(sngle words), (1, 2) means unigrams and bigrams(2 words), and (2, 2) means only bigrams."
   ]
  },
  {
   "cell_type": "code",
   "execution_count": 8,
   "id": "279541b3",
   "metadata": {
    "execution": {
     "iopub.execute_input": "2022-04-08T16:00:23.811701Z",
     "iopub.status.busy": "2022-04-08T16:00:23.795812Z",
     "iopub.status.idle": "2022-04-08T16:00:26.195026Z",
     "shell.execute_reply": "2022-04-08T16:00:26.194508Z",
     "shell.execute_reply.started": "2022-04-07T11:38:57.847453Z"
    },
    "papermill": {
     "duration": 2.432329,
     "end_time": "2022-04-08T16:00:26.195173",
     "exception": false,
     "start_time": "2022-04-08T16:00:23.762844",
     "status": "completed"
    },
    "tags": []
   },
   "outputs": [],
   "source": [
    "## implement BAG OF WORDS\n",
    "countvector=CountVectorizer(ngram_range=(2,2))\n",
    "traindataset=countvector.fit_transform(headlines)"
   ]
  },
  {
   "cell_type": "markdown",
   "id": "ad483b49",
   "metadata": {
    "papermill": {
     "duration": 0.025065,
     "end_time": "2022-04-08T16:00:26.244463",
     "exception": false,
     "start_time": "2022-04-08T16:00:26.219398",
     "status": "completed"
    },
    "tags": []
   },
   "source": [
    "# Model - RandomForest\n",
    "RandomForest is a flexible, easy to use machine learning algorithm that produces, even without hyper-parameter tuning, a great result most of the time. It is also one of the most used algorithms, because of its simplicity and diversity. It works by creating a set of decision trees from a randomly selected subset of the training set. It is basically a set of decision trees (DT) from a randomly selected subset of the training set and then It collects the votes from different decision trees to decide the final prediction.\n",
    "\n",
    "![](https://upload.wikimedia.org/wikipedia/commons/thumb/7/76/Random_forest_diagram_complete.png/220px-Random_forest_diagram_complete.png)\n",
    "\n",
    "The parameters for our classifier are as follow:\n",
    "* n_estimators : This is the number of trees you want to build before taking the maximum voting or averages of predictions. Higher number of trees give you better performance but makes your code slower.\n",
    "* crierion : This is how each node of the tree is selected. There are 2 options:\n",
    "  * gini: much faster \n",
    "  * entropy: obtained results are slightly better\n",
    "\n",
    "RandomForest Classifier is used here because we want sboth speed and accuracy.\n",
    "\n",
    "For details on selecting ML models, please refer to the below cheatsheet.\n",
    "![](https://miro.medium.com/max/1400/1*fXm06pz5UGX_N_Y0j9X2IA.png)"
   ]
  },
  {
   "cell_type": "code",
   "execution_count": 9,
   "id": "4d6b6210",
   "metadata": {
    "execution": {
     "iopub.execute_input": "2022-04-08T16:00:26.300901Z",
     "iopub.status.busy": "2022-04-08T16:00:26.299592Z",
     "iopub.status.idle": "2022-04-08T16:00:41.758985Z",
     "shell.execute_reply": "2022-04-08T16:00:41.758487Z",
     "shell.execute_reply.started": "2022-04-07T11:39:08.573139Z"
    },
    "papermill": {
     "duration": 15.48961,
     "end_time": "2022-04-08T16:00:41.759125",
     "exception": false,
     "start_time": "2022-04-08T16:00:26.269515",
     "status": "completed"
    },
    "tags": []
   },
   "outputs": [
    {
     "data": {
      "text/plain": [
       "RandomForestClassifier(criterion='entropy', n_estimators=200)"
      ]
     },
     "execution_count": 9,
     "metadata": {},
     "output_type": "execute_result"
    }
   ],
   "source": [
    "# implement RandomForest Classifier\n",
    "randomclassifier=RandomForestClassifier(n_estimators=200,criterion='entropy')\n",
    "randomclassifier.fit(traindataset,train['Label'])"
   ]
  },
  {
   "cell_type": "markdown",
   "id": "e478d487",
   "metadata": {
    "papermill": {
     "duration": 0.023955,
     "end_time": "2022-04-08T16:00:41.807615",
     "exception": false,
     "start_time": "2022-04-08T16:00:41.783660",
     "status": "completed"
    },
    "tags": []
   },
   "source": [
    "Same feature transformations are done for the test set:\n"
   ]
  },
  {
   "cell_type": "code",
   "execution_count": 10,
   "id": "7cde9e26",
   "metadata": {
    "execution": {
     "iopub.execute_input": "2022-04-08T16:00:41.871383Z",
     "iopub.status.busy": "2022-04-08T16:00:41.866126Z",
     "iopub.status.idle": "2022-04-08T16:00:42.517355Z",
     "shell.execute_reply": "2022-04-08T16:00:42.517786Z",
     "shell.execute_reply.started": "2022-04-07T11:40:41.890952Z"
    },
    "papermill": {
     "duration": 0.684751,
     "end_time": "2022-04-08T16:00:42.517965",
     "exception": false,
     "start_time": "2022-04-08T16:00:41.833214",
     "status": "completed"
    },
    "tags": []
   },
   "outputs": [],
   "source": [
    "## Predict for the Test Dataset\n",
    "test_transform= []\n",
    "for row in range(0,len(test.index)):\n",
    "    test_transform.append(' '.join(str(x) for x in test.iloc[row,2:27]))\n",
    "test_dataset = countvector.transform(test_transform)\n",
    "predictions = randomclassifier.predict(test_dataset)"
   ]
  },
  {
   "cell_type": "markdown",
   "id": "ef49482a",
   "metadata": {
    "papermill": {
     "duration": 0.024282,
     "end_time": "2022-04-08T16:00:42.566949",
     "exception": false,
     "start_time": "2022-04-08T16:00:42.542667",
     "status": "completed"
    },
    "tags": []
   },
   "source": [
    "Great! We have completed oour first prediction. Let's see how it performed.\n",
    "\n",
    "# Evaluation for Random Forest + Count Vectorizer\n",
    "\n",
    "First we will take a look at its confusion matrix\n",
    "\n",
    "![](http://rasbt.github.io/mlxtend/user_guide/evaluate/confusion_matrix_files/confusion_matrix_1.png)\n",
    "\n",
    "Then let's take a look at the accuracy score and a detailed report.\n",
    "\n",
    "Support is the number of actual occurrences of the class in the specified datase. We can see if the samples are balanced or not.\n",
    "\n",
    "The other terms related are defined as:\n",
    "\n",
    "![](https://i.ytimg.com/vi/ji48Lz6amMc/maxresdefault.jpg)\n",
    "\n"
   ]
  },
  {
   "cell_type": "code",
   "execution_count": 11,
   "id": "45b7f09b",
   "metadata": {
    "execution": {
     "iopub.execute_input": "2022-04-08T16:00:42.622264Z",
     "iopub.status.busy": "2022-04-08T16:00:42.621679Z",
     "iopub.status.idle": "2022-04-08T16:00:42.633149Z",
     "shell.execute_reply": "2022-04-08T16:00:42.632638Z",
     "shell.execute_reply.started": "2022-04-07T11:40:46.02552Z"
    },
    "papermill": {
     "duration": 0.04196,
     "end_time": "2022-04-08T16:00:42.633293",
     "exception": false,
     "start_time": "2022-04-08T16:00:42.591333",
     "status": "completed"
    },
    "tags": []
   },
   "outputs": [
    {
     "name": "stdout",
     "output_type": "stream",
     "text": [
      "[[131  55]\n",
      " [  0 192]]\n",
      "0.8544973544973545\n",
      "              precision    recall  f1-score   support\n",
      "\n",
      "           0       1.00      0.70      0.83       186\n",
      "           1       0.78      1.00      0.87       192\n",
      "\n",
      "    accuracy                           0.85       378\n",
      "   macro avg       0.89      0.85      0.85       378\n",
      "weighted avg       0.89      0.85      0.85       378\n",
      "\n"
     ]
    }
   ],
   "source": [
    "matrix=confusion_matrix(test['Label'],predictions)\n",
    "print(matrix)\n",
    "score=accuracy_score(test['Label'],predictions)\n",
    "print(score)\n",
    "report=classification_report(test['Label'],predictions)\n",
    "print(report)"
   ]
  },
  {
   "cell_type": "markdown",
   "id": "77227e3d",
   "metadata": {
    "papermill": {
     "duration": 0.024498,
     "end_time": "2022-04-08T16:00:42.682728",
     "exception": false,
     "start_time": "2022-04-08T16:00:42.658230",
     "status": "completed"
    },
    "tags": []
   },
   "source": [
    "From the similar supports across two classes, we see that the dataset is balanced.\n",
    "The Accuracy is decent as well.\n",
    "\n",
    "In CountVectorizer we only count the number of times a word appears in the document which results in biasing in favour of most frequent words. this ends up in ignoring rare words which could have helped is in processing our data more efficiently.\n",
    "\n",
    "To overcome this , we use TfidfVectorizer ."
   ]
  },
  {
   "cell_type": "markdown",
   "id": "86a06660",
   "metadata": {
    "papermill": {
     "duration": 0.024633,
     "end_time": "2022-04-08T16:00:42.732072",
     "exception": false,
     "start_time": "2022-04-08T16:00:42.707439",
     "status": "completed"
    },
    "tags": []
   },
   "source": [
    "# TF-IDF\n",
    "TF-IDF is an abbreviation for Term Frequency Inverse Document Frequency. It measures the relative importance of words by comparing the no. of times a word appear in a sample with the number of samples with that word. \n",
    "\n",
    "This time the vectors are made up of the TF-IDFs of the words in the headings.\n",
    "\n",
    "![](https://miro.medium.com/max/1400/1*qQgnyPLDIkUmeZKN2_ZWbQ.png)"
   ]
  },
  {
   "cell_type": "code",
   "execution_count": 12,
   "id": "5180451d",
   "metadata": {
    "execution": {
     "iopub.execute_input": "2022-04-08T16:00:42.785456Z",
     "iopub.status.busy": "2022-04-08T16:00:42.784753Z",
     "iopub.status.idle": "2022-04-08T16:00:45.349967Z",
     "shell.execute_reply": "2022-04-08T16:00:45.349347Z",
     "shell.execute_reply.started": "2022-04-07T13:33:01.795656Z"
    },
    "papermill": {
     "duration": 2.593275,
     "end_time": "2022-04-08T16:00:45.350103",
     "exception": false,
     "start_time": "2022-04-08T16:00:42.756828",
     "status": "completed"
    },
    "tags": []
   },
   "outputs": [],
   "source": [
    "## implement BAG OF WORDS\n",
    "tfidfvector=TfidfVectorizer(ngram_range=(2,2))\n",
    "traindataset=tfidfvector.fit_transform(headlines)"
   ]
  },
  {
   "cell_type": "code",
   "execution_count": 13,
   "id": "2e88973a",
   "metadata": {
    "execution": {
     "iopub.execute_input": "2022-04-08T16:00:45.404136Z",
     "iopub.status.busy": "2022-04-08T16:00:45.403565Z",
     "iopub.status.idle": "2022-04-08T16:00:59.099857Z",
     "shell.execute_reply": "2022-04-08T16:00:59.100361Z",
     "shell.execute_reply.started": "2022-04-07T13:33:07.73223Z"
    },
    "papermill": {
     "duration": 13.724513,
     "end_time": "2022-04-08T16:00:59.100539",
     "exception": false,
     "start_time": "2022-04-08T16:00:45.376026",
     "status": "completed"
    },
    "tags": []
   },
   "outputs": [
    {
     "data": {
      "text/plain": [
       "RandomForestClassifier(criterion='entropy', n_estimators=200)"
      ]
     },
     "execution_count": 13,
     "metadata": {},
     "output_type": "execute_result"
    }
   ],
   "source": [
    "# implement RandomForest Classifier\n",
    "randomclassifier=RandomForestClassifier(n_estimators=200,criterion='entropy')\n",
    "randomclassifier.fit(traindataset,train['Label'])"
   ]
  },
  {
   "cell_type": "code",
   "execution_count": 14,
   "id": "583d4429",
   "metadata": {
    "execution": {
     "iopub.execute_input": "2022-04-08T16:00:59.156160Z",
     "iopub.status.busy": "2022-04-08T16:00:59.155553Z",
     "iopub.status.idle": "2022-04-08T16:00:59.903837Z",
     "shell.execute_reply": "2022-04-08T16:00:59.904391Z",
     "shell.execute_reply.started": "2022-04-07T13:33:29.897344Z"
    },
    "papermill": {
     "duration": 0.777244,
     "end_time": "2022-04-08T16:00:59.904581",
     "exception": false,
     "start_time": "2022-04-08T16:00:59.127337",
     "status": "completed"
    },
    "tags": []
   },
   "outputs": [],
   "source": [
    "## Predict for the Test Dataset\n",
    "test_transform= []\n",
    "for row in range(0,len(test.index)):\n",
    "    test_transform.append(' '.join(str(x) for x in test.iloc[row,2:27]))\n",
    "test_dataset = tfidfvector.transform(test_transform)\n",
    "predictions = randomclassifier.predict(test_dataset)"
   ]
  },
  {
   "cell_type": "markdown",
   "id": "2d7c45d2",
   "metadata": {
    "papermill": {
     "duration": 0.025071,
     "end_time": "2022-04-08T16:00:59.954856",
     "exception": false,
     "start_time": "2022-04-08T16:00:59.929785",
     "status": "completed"
    },
    "tags": []
   },
   "source": [
    "Evaluation for Random Forest + TF-IDF "
   ]
  },
  {
   "cell_type": "code",
   "execution_count": 15,
   "id": "1b05f7f4",
   "metadata": {
    "execution": {
     "iopub.execute_input": "2022-04-08T16:01:00.008888Z",
     "iopub.status.busy": "2022-04-08T16:01:00.008228Z",
     "iopub.status.idle": "2022-04-08T16:01:00.020739Z",
     "shell.execute_reply": "2022-04-08T16:01:00.021244Z",
     "shell.execute_reply.started": "2022-04-07T13:33:34.145241Z"
    },
    "papermill": {
     "duration": 0.041242,
     "end_time": "2022-04-08T16:01:00.021439",
     "exception": false,
     "start_time": "2022-04-08T16:00:59.980197",
     "status": "completed"
    },
    "tags": []
   },
   "outputs": [
    {
     "name": "stdout",
     "output_type": "stream",
     "text": [
      "[[149  37]\n",
      " [ 25 167]]\n",
      "0.8359788359788359\n",
      "              precision    recall  f1-score   support\n",
      "\n",
      "           0       0.86      0.80      0.83       186\n",
      "           1       0.82      0.87      0.84       192\n",
      "\n",
      "    accuracy                           0.84       378\n",
      "   macro avg       0.84      0.84      0.84       378\n",
      "weighted avg       0.84      0.84      0.84       378\n",
      "\n"
     ]
    }
   ],
   "source": [
    "matrix=confusion_matrix(test['Label'],predictions)\n",
    "print(matrix)\n",
    "score=accuracy_score(test['Label'],predictions)\n",
    "print(score)\n",
    "report=classification_report(test['Label'],predictions)\n",
    "print(report)"
   ]
  },
  {
   "cell_type": "markdown",
   "id": "0211d9d0",
   "metadata": {
    "papermill": {
     "duration": 0.026824,
     "end_time": "2022-04-08T16:01:00.073760",
     "exception": false,
     "start_time": "2022-04-08T16:01:00.046936",
     "status": "completed"
    },
    "tags": []
   },
   "source": [
    "# Model - Naive Bayes\n",
    "The accuracy is slightly lower than before. This may be due to the fact that common words (words which will appear in multiple documents) are actually helpful in distinguishing between classes in this case.\n",
    "\n",
    "Next, we are going to use Naive Bayes Classifier.\n",
    "\n",
    "Naive Bayes is another algorithm based on the Bayes Theorem for calculating probabilities and conditional probabilities. It can be extremely fast relative to other classification algorithms.\n",
    "\n",
    "![](https://miro.medium.com/max/1200/1*39U1Ln3tSdFqsfQy6ndxOA.png)\n",
    "For more detail on NB Classifier, check out the tutorial below:\n",
    "https://www.analyticsvidhya.com/blog/2017/09/naive-bayes-explained/"
   ]
  },
  {
   "cell_type": "code",
   "execution_count": 16,
   "id": "510ab835",
   "metadata": {
    "execution": {
     "iopub.execute_input": "2022-04-08T16:01:00.130125Z",
     "iopub.status.busy": "2022-04-08T16:01:00.129512Z",
     "iopub.status.idle": "2022-04-08T16:01:00.165821Z",
     "shell.execute_reply": "2022-04-08T16:01:00.165313Z",
     "shell.execute_reply.started": "2022-04-07T13:56:07.136757Z"
    },
    "papermill": {
     "duration": 0.066511,
     "end_time": "2022-04-08T16:01:00.165964",
     "exception": false,
     "start_time": "2022-04-08T16:01:00.099453",
     "status": "completed"
    },
    "tags": []
   },
   "outputs": [
    {
     "data": {
      "text/plain": [
       "MultinomialNB()"
      ]
     },
     "execution_count": 16,
     "metadata": {},
     "output_type": "execute_result"
    }
   ],
   "source": [
    "naive=MultinomialNB()\n",
    "naive.fit(traindataset,train['Label'])"
   ]
  },
  {
   "cell_type": "code",
   "execution_count": 17,
   "id": "28b48850",
   "metadata": {
    "execution": {
     "iopub.execute_input": "2022-04-08T16:01:00.257112Z",
     "iopub.status.busy": "2022-04-08T16:01:00.251789Z",
     "iopub.status.idle": "2022-04-08T16:01:00.552087Z",
     "shell.execute_reply": "2022-04-08T16:01:00.551539Z",
     "shell.execute_reply.started": "2022-04-07T13:57:18.628621Z"
    },
    "papermill": {
     "duration": 0.360128,
     "end_time": "2022-04-08T16:01:00.552228",
     "exception": false,
     "start_time": "2022-04-08T16:01:00.192100",
     "status": "completed"
    },
    "tags": []
   },
   "outputs": [],
   "source": [
    "## Predict for the Test Dataset\n",
    "test_transform= []\n",
    "for row in range(0,len(test.index)):\n",
    "    test_transform.append(' '.join(str(x) for x in test.iloc[row,2:27]))\n",
    "test_dataset = tfidfvector.transform(test_transform)\n",
    "predictions = naive.predict(test_dataset)"
   ]
  },
  {
   "cell_type": "markdown",
   "id": "b7b100e9",
   "metadata": {
    "papermill": {
     "duration": 0.025807,
     "end_time": "2022-04-08T16:01:00.603943",
     "exception": false,
     "start_time": "2022-04-08T16:01:00.578136",
     "status": "completed"
    },
    "tags": []
   },
   "source": [
    "# Evaluation for NB + TF-IDF"
   ]
  },
  {
   "cell_type": "code",
   "execution_count": 18,
   "id": "3ed23a8f",
   "metadata": {
    "execution": {
     "iopub.execute_input": "2022-04-08T16:01:00.663748Z",
     "iopub.status.busy": "2022-04-08T16:01:00.661648Z",
     "iopub.status.idle": "2022-04-08T16:01:00.672867Z",
     "shell.execute_reply": "2022-04-08T16:01:00.672030Z",
     "shell.execute_reply.started": "2022-04-07T13:57:39.335133Z"
    },
    "papermill": {
     "duration": 0.043299,
     "end_time": "2022-04-08T16:01:00.673098",
     "exception": false,
     "start_time": "2022-04-08T16:01:00.629799",
     "status": "completed"
    },
    "tags": []
   },
   "outputs": [
    {
     "name": "stdout",
     "output_type": "stream",
     "text": [
      "[[130  56]\n",
      " [  0 192]]\n",
      "0.8518518518518519\n",
      "              precision    recall  f1-score   support\n",
      "\n",
      "           0       1.00      0.70      0.82       186\n",
      "           1       0.77      1.00      0.87       192\n",
      "\n",
      "    accuracy                           0.85       378\n",
      "   macro avg       0.89      0.85      0.85       378\n",
      "weighted avg       0.89      0.85      0.85       378\n",
      "\n"
     ]
    }
   ],
   "source": [
    "matrix=confusion_matrix(test['Label'],predictions)\n",
    "print(matrix)\n",
    "score=accuracy_score(test['Label'],predictions)\n",
    "print(score)\n",
    "report=classification_report(test['Label'],predictions)\n",
    "print(report)"
   ]
  },
  {
   "cell_type": "markdown",
   "id": "f2c0449b",
   "metadata": {
    "papermill": {
     "duration": 0.02626,
     "end_time": "2022-04-08T16:01:00.727177",
     "exception": false,
     "start_time": "2022-04-08T16:01:00.700917",
     "status": "completed"
    },
    "tags": []
   },
   "source": [
    "# Results\n",
    "\n",
    "This time we get a better result with 0 false negative. This shows that although Naive Bayes is generally considered the \"quick fix\", it may produce **equal or even better results** in many cases, especially in **textual applications**.\n",
    "\n",
    "These results also showed that we can produce **decent results on NLP even without the use of Deep Learning** techniques, which is very encouraging for a new Data Scientist.\n",
    "\n",
    "# Next Steps\n",
    "\n",
    "1. Apply LSTM and see if deep learning can produce better result than Naive Bayes.\n",
    "2. Write an User Interface to make the project end-to-end."
   ]
  },
  {
   "cell_type": "code",
   "execution_count": null,
   "id": "3edfdda3-9b19-4c1e-b547-f1deb5e7904a",
   "metadata": {},
   "outputs": [],
   "source": []
  }
 ],
 "metadata": {
  "kernelspec": {
   "display_name": "Python 3 (ipykernel)",
   "language": "python",
   "name": "python3"
  },
  "language_info": {
   "codemirror_mode": {
    "name": "ipython",
    "version": 3
   },
   "file_extension": ".py",
   "mimetype": "text/x-python",
   "name": "python",
   "nbconvert_exporter": "python",
   "pygments_lexer": "ipython3",
   "version": "3.11.8"
  },
  "papermill": {
   "default_parameters": {},
   "duration": 49.745462,
   "end_time": "2022-04-08T16:01:01.564010",
   "environment_variables": {},
   "exception": null,
   "input_path": "__notebook__.ipynb",
   "output_path": "__notebook__.ipynb",
   "parameters": {},
   "start_time": "2022-04-08T16:00:11.818548",
   "version": "2.3.3"
  }
 },
 "nbformat": 4,
 "nbformat_minor": 5
}
