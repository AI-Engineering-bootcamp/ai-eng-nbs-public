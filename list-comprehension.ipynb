{
 "cells": [
  {
   "cell_type": "markdown",
   "id": "4476bce5",
   "metadata": {
    "lang": "en"
   },
   "source": [
    "# List Comprehension"
   ]
  },
  {
   "cell_type": "markdown",
   "id": "ambient-dodge",
   "metadata": {},
   "source": [
    "![elgif](https://media.giphy.com/media/8vZY0QZZjJZqmfResk/giphy.gif)"
   ]
  },
  {
   "cell_type": "markdown",
   "id": "2d0ea60c",
   "metadata": {
    "lang": "en"
   },
   "source": [
    "## But what is this?\n",
    "\n",
    "List Comprehensions are like the magic wands of Python programming, allowing us to create and transform lists in the blink of an eye. 🪄 Imagine taking one list, giving it a shake, and, voilà, a brand new list appears, ready to dazzle you with its contents!\n",
    "\n",
    "These concise one-liners are a powerful tool for building lists based on existing ones, all while keeping your code neat and tidy. No more lengthy loops and repetitive lines – List Comprehensions do the heavy lifting for you.\n",
    "\n",
    "So, let's roll up our sleeves and dive into the enchanting world of List Comprehensions. 🚀 Get ready to unlock new levels of coding elegance and efficiency! 💻✨\n",
    "\n",
    "**What we know now:**"
   ]
  },
  {
   "cell_type": "code",
   "execution_count": null,
   "id": "4a5fbde9",
   "metadata": {},
   "outputs": [],
   "source": [
    "# Define a list of words\n",
    "list_of_words = [\"Barcelona\", \"Madrid\", \"Girona\", \"Murcia\"]\n",
    "\n",
    "# Create an empty list to store uppercase versions of the words\n",
    "uppercase_cities = []\n",
    "\n",
    "# Loop through each word in the list_of_words\n",
    "for word in list_of_words:\n",
    "    # Convert the word to uppercase using the upper() method and append it to the new list\n",
    "    uppercase_cities.append(word.upper())\n",
    "\n",
    "# Display the list of uppercase cities\n",
    "uppercase_cities"
   ]
  },
  {
   "cell_type": "markdown",
   "id": "4d3acae1",
   "metadata": {},
   "source": [
    "What if i tell you this can be simplified into:"
   ]
  },
  {
   "cell_type": "code",
   "execution_count": null,
   "id": "02c37a8f",
   "metadata": {},
   "outputs": [],
   "source": [
    "# Define a list of words\n",
    "list_of_words = [\"Barcelona\", \"Madrid\", \"Girona\", \"Murcia\"]\n",
    "\n",
    "# Create an empty list to store uppercase versions of the words\n",
    "uppercase_cities = [i.upper() for i in list_of_words]\n",
    "\n",
    "uppercase_cities"
   ]
  },
  {
   "cell_type": "markdown",
   "id": "2737e7d4",
   "metadata": {},
   "source": [
    "![](https://media.tenor.com/Oc4nf8N08jIAAAAC/mind-blow-galaxy.gif)"
   ]
  },
  {
   "cell_type": "markdown",
   "id": "012339ec",
   "metadata": {
    "lang": "en"
   },
   "source": [
    "Okay, but what is the magic behind it?\n",
    "\n",
    "![imagen_compr](https://stsewd.dev/charla-comprension-de-listas/img/listComprehensions.gif)"
   ]
  },
  {
   "cell_type": "markdown",
   "id": "c3b039b9",
   "metadata": {},
   "source": [
    "Let's do a more **spicy example**:"
   ]
  },
  {
   "cell_type": "code",
   "execution_count": null,
   "id": "c9ff4031",
   "metadata": {},
   "outputs": [],
   "source": [
    "# Define a list of words\n",
    "list_of_words = [\"Barcelona\", \"Madrid\", \"Girona\", \"Murcia\"]\n",
    "\n",
    "# Create an empty list to store words longer than 6 characters\n",
    "new_list = []\n",
    "\n",
    "# Loop through each word in the list_of_words\n",
    "for word in list_of_words:\n",
    "    # Check if the length of the word is greater than 6\n",
    "    if len(word) > 6:\n",
    "        # If the condition is met, append the word to the new_list\n",
    "        new_list.append(word)\n",
    "\n",
    "# Display the new_list containing words longer than 6 characters\n",
    "new_list"
   ]
  },
  {
   "cell_type": "markdown",
   "id": "fe0e1e77",
   "metadata": {},
   "source": [
    "again, we can simplify it to:"
   ]
  },
  {
   "cell_type": "code",
   "execution_count": null,
   "id": "6c8dc69f",
   "metadata": {},
   "outputs": [],
   "source": [
    "# Define a list of words\n",
    "list_of_words = [\"Barcelona\", \"Madrid\", \"Girona\", \"Murcia\"]\n",
    "\n",
    "# Mind blown:\n",
    "long_cities = [i for i in list_of_words if len(i) > 6]\n",
    "\n",
    "long_cities"
   ]
  },
  {
   "cell_type": "markdown",
   "id": "aa4b9751",
   "metadata": {
    "lang": "en"
   },
   "source": [
    "## Easy challenge 🤔\n",
    "We want a list containing the squares of the numbers 1 to 10."
   ]
  },
  {
   "cell_type": "code",
   "execution_count": null,
   "id": "281ba562",
   "metadata": {},
   "outputs": [],
   "source": [
    "# we compute square as i**2"
   ]
  },
  {
   "cell_type": "markdown",
   "id": "12b0ab16",
   "metadata": {},
   "source": [
    "### For loop"
   ]
  },
  {
   "cell_type": "code",
   "execution_count": null,
   "id": "de07f372",
   "metadata": {},
   "outputs": [],
   "source": []
  },
  {
   "cell_type": "markdown",
   "id": "e8ec7ee4",
   "metadata": {},
   "source": [
    "### Comprehension list"
   ]
  },
  {
   "cell_type": "code",
   "execution_count": null,
   "id": "2efdf34e",
   "metadata": {},
   "outputs": [],
   "source": []
  },
  {
   "cell_type": "markdown",
   "id": "04427900",
   "metadata": {
    "lang": "en"
   },
   "source": [
    "## Easy challenge 🤔\n",
    "Create a new list, substituting \"e's\" for \"a's\" in each word in the original `words` list."
   ]
  },
  {
   "cell_type": "code",
   "execution_count": null,
   "id": "cee227e9",
   "metadata": {},
   "outputs": [],
   "source": [
    "list_of_words = [\"Barcelona\", \"Madrid\", \"Gerona\", \"Murcia\"]"
   ]
  },
  {
   "cell_type": "markdown",
   "id": "2c1733cd",
   "metadata": {},
   "source": [
    "### For loop"
   ]
  },
  {
   "cell_type": "code",
   "execution_count": null,
   "id": "649b9114",
   "metadata": {},
   "outputs": [],
   "source": []
  },
  {
   "cell_type": "markdown",
   "id": "998fd911",
   "metadata": {},
   "source": [
    "### Comprehension list"
   ]
  },
  {
   "cell_type": "code",
   "execution_count": null,
   "id": "30c4a62a",
   "metadata": {},
   "outputs": [],
   "source": []
  },
  {
   "cell_type": "markdown",
   "id": "69146175",
   "metadata": {
    "lang": "en"
   },
   "source": [
    "## Conditions (we put IF in the comprehension)"
   ]
  },
  {
   "cell_type": "markdown",
   "id": "worthy-major",
   "metadata": {},
   "source": [
    "<img width=600 src=\"https://www.mrdbourke.com/content/images/2019/09/python-list-comprehension-article.png\">"
   ]
  },
  {
   "cell_type": "markdown",
   "id": "3a362f88",
   "metadata": {
    "lang": "en"
   },
   "source": [
    "## If / Else in comprehension\n",
    "\n",
    "List comprehensions can also include conditional statements with an `if-else` structure. This allows you to apply different transformations or filters to elements based on specific conditions. In this section, we'll dive into the world of conditional list comprehensions and see how they add even more flexibility to your Python code.\n",
    "\n",
    "**What we know:**"
   ]
  },
  {
   "cell_type": "code",
   "execution_count": null,
   "id": "334e2c1a",
   "metadata": {},
   "outputs": [],
   "source": [
    "# Original list of city names\n",
    "list_of_words = [\"Barcelona\", \"Madrid\", \"Girona\", \"Murcia\"]\n",
    "\n",
    "# Initialize an empty list to store modified city names\n",
    "new_list = []\n",
    "\n",
    "# Iterate through each city name in the original list\n",
    "for i in list_of_words:\n",
    "    # Check if the length of the city name is greater than 6 characters\n",
    "    if len(i) > 6:\n",
    "        # If it is, convert the city name to uppercase and append to new_list\n",
    "        new_list.append(i.upper())\n",
    "    else:\n",
    "        # If it's not, convert the city name to lowercase and append to new_list\n",
    "        new_list.append(i.lower())\n",
    "\n",
    "# The new_list contains the modified city names\n",
    "new_list"
   ]
  },
  {
   "cell_type": "markdown",
   "id": "8753f8c7",
   "metadata": {},
   "source": [
    "The **mind blown**:"
   ]
  },
  {
   "cell_type": "code",
   "execution_count": null,
   "id": "0b42514e",
   "metadata": {},
   "outputs": [],
   "source": [
    "transformed_cities = [i.upper() if len(i) > 6 else i.lower() for i in list_of_words]"
   ]
  },
  {
   "cell_type": "markdown",
   "id": "c5226e41",
   "metadata": {},
   "source": [
    "In the example provided, the conditional (the if-else statement) is placed before the value that should be included in the new list. This is a common structure for list comprehensions, and it follows the general syntax:\n",
    "\n",
    "```python\n",
    "\n",
    "new_list = [value_if_true if condition else value_if_false for element in iterable]\n",
    "\n",
    "```\n"
   ]
  },
  {
   "cell_type": "markdown",
   "id": "e5430c1d",
   "metadata": {
    "lang": "en"
   },
   "source": [
    "Be careful with the syntax, in this case it will change, the syntax of the comprehension will be:\n",
    "\n",
    "`[element if / else for element in whatever]`"
   ]
  },
  {
   "cell_type": "markdown",
   "id": "6e95c674",
   "metadata": {
    "lang": "es"
   },
   "source": [
    "## Nested list comprehensions\n",
    "\n",
    "List comprehensions are a powerful feature in Python for creating lists based on existing iterables in a concise and readable way. Nested list comprehensions take this concept further by allowing you to create lists of lists, often referred to as \"nested lists,\" in a similarly concise and expressive manner.\n",
    "\n",
    "In nested list comprehensions, you can have one or more `for` clauses and even include conditional expressions. This flexibility allows you to construct complex data structures and perform advanced operations on nested data.\n",
    "\n",
    "Nested list comprehensions are particularly useful when you need to work with multi-dimensional data or transform the structure of nested lists efficiently. In this section, we'll explore how to use nested list comprehensions and demonstrate their applications through examples.\n",
    "\n",
    "**Example:**"
   ]
  },
  {
   "cell_type": "code",
   "execution_count": null,
   "id": "de405011",
   "metadata": {},
   "outputs": [],
   "source": [
    "nested_list = [[1, 2], [3,4], [5, 6]]\n",
    "#expected output flat_list = [1, 2, 3, 4, 5, 6]"
   ]
  },
  {
   "cell_type": "markdown",
   "id": "18296b82",
   "metadata": {},
   "source": [
    "### For loop"
   ]
  },
  {
   "cell_type": "markdown",
   "id": "3dceac52",
   "metadata": {
    "lang": "en"
   },
   "source": [
    "Let's create a list of lists with a for loop"
   ]
  },
  {
   "cell_type": "code",
   "execution_count": null,
   "id": "c0921e98",
   "metadata": {},
   "outputs": [],
   "source": [
    "new_list = []  # Create an empty list to store the flattened elements.\n",
    "\n",
    "for i in nested_list:  # Iterate through the outer list.\n",
    "    for k in i:  # Iterate through the inner list within the outer list.\n",
    "        new_list.append(k)  # Append the individual element 'k' to the new_list.\n",
    "\n",
    "# The result will be a flattened list containing all elements from the nested list."
   ]
  },
  {
   "cell_type": "markdown",
   "id": "ac27117f",
   "metadata": {},
   "source": [
    "### Comprehension list: nested lists"
   ]
  },
  {
   "cell_type": "code",
   "execution_count": null,
   "id": "7b417e31",
   "metadata": {},
   "outputs": [],
   "source": [
    "flattened_list = [k for i in nested_list for k in i]\n",
    "flattened_list"
   ]
  },
  {
   "cell_type": "markdown",
   "id": "e9c37ab7",
   "metadata": {},
   "source": [
    "#### Unflattening a nested list with a comprehension list"
   ]
  },
  {
   "cell_type": "code",
   "execution_count": null,
   "id": "5f90b48b",
   "metadata": {},
   "outputs": [],
   "source": [
    "nested = [[[[1, 2], [3, 4]]]]"
   ]
  },
  {
   "cell_type": "code",
   "execution_count": null,
   "id": "cfd2c49e",
   "metadata": {},
   "outputs": [],
   "source": [
    "new_list = []\n",
    "\n",
    "for i in nested:\n",
    "    for k in i:\n",
    "        for j in k:\n",
    "            for h in j:\n",
    "                new_list.append(h)\n",
    "                \n",
    "new_list"
   ]
  },
  {
   "cell_type": "code",
   "execution_count": null,
   "id": "86fce8b4",
   "metadata": {},
   "outputs": [],
   "source": [
    "unnesting = [h for i in nested for k in i for j in k for h in j]\n",
    "unnesting"
   ]
  },
  {
   "cell_type": "markdown",
   "id": "4a95155e",
   "metadata": {},
   "source": [
    "**kindly reminder**\n",
    "\n",
    "![](https://i.redd.it/swj8tmlan1z91.png)\n",
    "\n",
    "Do you think we are respecting the zen of python?"
   ]
  },
  {
   "cell_type": "markdown",
   "id": "3cbc2ea4",
   "metadata": {
    "lang": "en"
   },
   "source": [
    "## Dictionary comprehensions\n",
    "\n",
    "Dictionary comprehensions are a concise way to create dictionaries in Python. They allow you to generate dictionaries using a single line of code, making your code more readable and efficient. With dictionary comprehensions, you can iterate over iterable objects, such as lists, and specify both the keys and values for your dictionary. This feature is particularly useful when you need to transform or filter data while constructing a dictionary.\n",
    "\n",
    "In this section, we'll explore how to use dictionary comprehensions to create dictionaries with ease and clarity. Whether you want to construct dictionaries based on existing data or perform data transformations, dictionary comprehensions are a valuable tool in your Python programming toolkit.\n"
   ]
  },
  {
   "cell_type": "markdown",
   "id": "a199d32c",
   "metadata": {
    "lang": "en"
   },
   "source": [
    "How would we do it with a normal loop?"
   ]
  },
  {
   "cell_type": "code",
   "execution_count": null,
   "id": "33a452d2",
   "metadata": {},
   "outputs": [],
   "source": [
    "names = [\"Clara\", \"Albert\", \"Laura\"]\n",
    "emojis = [\"🙃\", \"☝️\", \"🫂\"]"
   ]
  },
  {
   "cell_type": "markdown",
   "id": "11a48040",
   "metadata": {},
   "source": [
    "### For loop"
   ]
  },
  {
   "cell_type": "code",
   "execution_count": null,
   "id": "4a15be40",
   "metadata": {},
   "outputs": [],
   "source": [
    "dict_ = {\n",
    "    \"Clara\": \"🙃\"\n",
    "}"
   ]
  },
  {
   "cell_type": "code",
   "execution_count": null,
   "id": "8cb35950",
   "metadata": {},
   "outputs": [],
   "source": [
    "dict_ = {}  # Create an empty dictionary to store the key-value pairs.\n",
    "\n",
    "# Iterate through the 'names' and 'emojis' lists using the 'zip' function.\n",
    "for nombre, icono in zip(names, emojis):\n",
    "    dict_[nombre] = icono  # Assign each 'nombre' as the key and 'icono' as the value in the dictionary.\n",
    "\n",
    "# The result will be a dictionary where 'nombre' maps to 'icono'."
   ]
  },
  {
   "cell_type": "markdown",
   "id": "c8d2e4fa",
   "metadata": {
    "lang": "en"
   },
   "source": [
    "### Comprehension dict"
   ]
  },
  {
   "cell_type": "code",
   "execution_count": null,
   "id": "1cd4fc87",
   "metadata": {},
   "outputs": [],
   "source": [
    "name_emoji = {nombre:icono for nombre, icono in zip(names, emojis)}"
   ]
  },
  {
   "cell_type": "code",
   "execution_count": null,
   "id": "4b9ad253",
   "metadata": {},
   "outputs": [],
   "source": [
    "name_emoji"
   ]
  },
  {
   "cell_type": "markdown",
   "id": "c33cdd0a",
   "metadata": {
    "lang": "en"
   },
   "source": [
    "## Challenge 🤔\n",
    "They give you a list of words. Write a dictionary containing the length of each word."
   ]
  },
  {
   "cell_type": "code",
   "execution_count": null,
   "id": "db0de427",
   "metadata": {},
   "outputs": [],
   "source": [
    "list_of_words = [\"Barcelona\", \"Madrid\", \"Girona\", \"Murcia\"]"
   ]
  },
  {
   "cell_type": "markdown",
   "id": "6ecdeb74",
   "metadata": {},
   "source": [
    "### For loop"
   ]
  },
  {
   "cell_type": "code",
   "execution_count": null,
   "id": "b8a588fb",
   "metadata": {},
   "outputs": [],
   "source": []
  },
  {
   "cell_type": "markdown",
   "id": "c62375e0",
   "metadata": {},
   "source": [
    "### Comprehension dict"
   ]
  },
  {
   "cell_type": "code",
   "execution_count": null,
   "id": "15dce979",
   "metadata": {},
   "outputs": [],
   "source": []
  },
  {
   "cell_type": "markdown",
   "id": "1d669f94",
   "metadata": {},
   "source": [
    "# Business case: Customer Feedback Analysis\n",
    "\n",
    "## Business Scenario:\n",
    "You work for a retail company that values customer feedback. The company receives feedback from customers about its products and services. You are tasked with analyzing this feedback to identify common positive and negative keywords mentioned by customers. Your goal is to create lists of positive and negative keywords from the feedback data.\n",
    "\n",
    "## Instructions:\n",
    "\n",
    "1. You are provided with a list of customer feedback comments. Each comment is a string."
   ]
  },
  {
   "cell_type": "code",
   "execution_count": null,
   "id": "a8cf1c56",
   "metadata": {},
   "outputs": [],
   "source": [
    "feedback_comments = [\n",
    "    \"The product is excellent! I love it.\",\n",
    "    \"Terrible customer service. Never buying again.\",\n",
    "    \"Great quality and fast delivery.\",\n",
    "    \"Disappointing experience. The item arrived damaged.\",\n",
    "    \"Superb value for the price.\",\n",
    "]"
   ]
  },
  {
   "cell_type": "markdown",
   "id": "b5eb7593",
   "metadata": {},
   "source": [
    "0. Provide the pseudocode\n",
    "\n",
    "1. Create two lists:\n",
    "\n",
    "    - `positive_keywords`: Use a list comprehension to extract positive keywords from the feedback comments. Positive keywords are words like \"excellent,\" \"love,\" \"great,\" and \"superb.\"\n",
    "    - `negative_keywords`: Use another list comprehension to extract negative keywords from the feedback comments. Negative keywords are words like \"terrible,\" \"disappointing,\" and \"damaged.\"\n",
    "\n",
    "\n",
    "2. Print both lists to display the extracted keywords.\n",
    "\n",
    "## Hints:\n",
    "\n",
    "- You can use the `split()` method to split a comment into words.\n",
    "- To determine if a word is positive or negative, you can create lists of positive and negative words to check against.\n",
    "- Make sure the keywords are in lowercase to capture variations in the text.\n"
   ]
  },
  {
   "cell_type": "code",
   "execution_count": null,
   "id": "a7a6c365",
   "metadata": {},
   "outputs": [],
   "source": [
    "# List of feedback comments\n",
    "feedback_comments = [\n",
    "    \"The service was excellent and I love the product!\",\n",
    "    \"The quality of the item was great.\",\n",
    "    \"Unfortunately, the package arrived damaged.\",\n",
    "    \"I had a superb experience with your company.\",\n",
    "    \"The product was disappointing and terrible.\",\n",
    "]\n",
    "\n",
    "# List of positive and negative keywords\n",
    "positive_words = [\"excellent\", \"love\", \"great\", \"superb\"]\n",
    "negative_words = [\"terrible\", \"disappointing\", \"damaged\"]\n",
    "\n",
    "# Continue the code here (example of expected output)\n",
    "# Positive Keywords: ['excellent', 'love', 'great', 'superb']\n",
    "# Negative Keywords: ['terrible', 'disappointing', 'damaged']"
   ]
  },
  {
   "cell_type": "markdown",
   "id": "19d8a0d8",
   "metadata": {},
   "source": [
    "# RECAP"
   ]
  },
  {
   "cell_type": "markdown",
   "id": "21163bf7",
   "metadata": {},
   "source": [
    "## List Comprehensions\n",
    "\n",
    "List comprehensions are a powerful tool for creating lists based on existing lists, all in a single readable line of code. They are especially useful when you want to transform or filter data from one list into another. \n",
    "\n",
    "### Regular Syntax vs. Comprehension\n",
    "\n",
    "When working with lists, you have two main options: using the regular syntax or using list comprehensions. Each approach has its own advantages and use cases.\n",
    "\n",
    "#### Regular Syntax\n",
    "\n",
    "- **Easier to Write:** Regular loops using for and if statements are more flexible and allow you to have complete control over what you're doing. You can add print statements within the loops for debugging purposes.\n",
    "\n",
    "- **More Control:** You can use regular loops to write more complex logic and conditionals.\n",
    "\n",
    "- **Print Within Loops:** Debugging is easier with regular loops as you can insert print statements to see intermediate results.\n",
    "\n",
    "#### Comprehension\n",
    "\n",
    "- **More Efficient:** List comprehensions are more efficient and computationally less expensive, making them a good choice for simple operations. They can improve code performance.\n",
    "\n",
    "- **Simpler:** List comprehensions simplify code by reducing the number of steps required. There's no need to create a new list and use append statements.\n",
    "\n",
    "- **Quicker:** List comprehensions are quicker to write and often result in more concise code.\n",
    "\n",
    "- **Versatile:** They can be used with lists, dictionaries, sets, and other iterable objects.\n",
    "\n",
    "In summary, list comprehensions are a concise and efficient way to create lists, especially when the data transformation or filtering is straightforward. They can improve both code readability and performance in such cases."
   ]
  },
  {
   "cell_type": "markdown",
   "id": "16ef7bd9",
   "metadata": {},
   "source": [
    "## Solution"
   ]
  },
  {
   "cell_type": "code",
   "execution_count": null,
   "id": "3a778fef",
   "metadata": {},
   "outputs": [],
   "source": [
    "# List of feedback comments\n",
    "feedback_comments = [\n",
    "    \"The service was excellent and I love the product!\",\n",
    "    \"The quality of the item was great.\",\n",
    "    \"Unfortunately, the package arrived damaged.\",\n",
    "    \"I had a superb experience with your company.\",\n",
    "    \"The product was disappointing and terrible.\",\n",
    "]\n",
    "\n",
    "# List of positive and negative keywords\n",
    "positive_words = [\"excellent\", \"love\", \"great\", \"superb\"]\n",
    "negative_words = [\"terrible\", \"disappointing\", \"damaged\"]\n",
    "\n",
    "# Extract positive keywords using list comprehension\n",
    "positive_keywords = [word for comment in feedback_comments for word in comment.lower().split() if word in positive_words]\n",
    "\n",
    "# Extract negative keywords using list comprehension\n",
    "negative_keywords = [word for comment in feedback_comments for word in comment.lower().split() if word in negative_words]\n",
    "\n",
    "# Display the extracted keywords\n",
    "print(\"Positive Keywords:\", positive_keywords)\n",
    "print(\"Negative Keywords:\", negative_keywords)"
   ]
  }
 ],
 "metadata": {
  "kernelspec": {
   "display_name": "Python 3 (ipykernel)",
   "language": "python",
   "name": "python3"
  },
  "language_info": {
   "codemirror_mode": {
    "name": "ipython",
    "version": 3
   },
   "file_extension": ".py",
   "mimetype": "text/x-python",
   "name": "python",
   "nbconvert_exporter": "python",
   "pygments_lexer": "ipython3",
   "version": "3.11.8"
  },
  "nbTranslate": {
   "displayLangs": [
    "en",
    "es"
   ],
   "hotkey": "alt-a",
   "langInMainMenu": true,
   "sourceLang": "es",
   "targetLang": "en",
   "useGoogleTranslate": true
  },
  "toc": {
   "base_numbering": 1,
   "nav_menu": {},
   "number_sections": true,
   "sideBar": false,
   "skip_h1_title": true,
   "title_cell": "Table of Contents",
   "title_sidebar": "Contents",
   "toc_cell": false,
   "toc_position": {
    "height": "466px",
    "left": "91px",
    "top": "111.125px",
    "width": "256px"
   },
   "toc_section_display": true,
   "toc_window_display": false
  }
 },
 "nbformat": 4,
 "nbformat_minor": 5
}
