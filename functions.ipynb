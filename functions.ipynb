{
 "cells": [
  {
   "cell_type": "markdown",
   "id": "9eb0f57b",
   "metadata": {
    "lang": "en"
   },
   "source": [
    "# Functional Programming"
   ]
  },
  {
   "cell_type": "markdown",
   "id": "conceptual-behalf",
   "metadata": {},
   "source": [
    "![elgif](https://media.giphy.com/media/CuMiNoTRz2bYc/giphy.gif)\n",
    "\n",
    "\n",
    "Functional programming is a programming paradigm that treats computation as the evaluation of mathematical functions and avoids changing state and mutable data. It is a declarative style of programming that focuses on expressing what should be done rather than how it should be done. In functional programming, functions are first-class citizens, which means **they can be treated like any other data type, such as integers or strings.**\n",
    "\n",
    "Functional programming emphasizes the use of pure functions, which are functions that have no side effects and always produce the same output for the same input. Pure functions are deterministic and rely only on their input parameters to calculate the result, making them predictable and easy to reason about.\n",
    "\n",
    "Some key concepts in functional programming include:\n",
    "\n",
    "1. **Immutable Data**: In functional programming, data is typically immutable, which means once it is created, it cannot be modified. Instead, new data is created by applying transformations to existing data.\n",
    "\n",
    "2. **Higher-Order Functions**: Functional programming languages support higher-order functions, which are functions that can take other functions as arguments or return functions as results. This allows for more abstract and reusable code.\n",
    "\n",
    "3. **Recursion**: Recursion is often used in functional programming to solve problems by breaking them down into smaller, similar sub-problems. Recursion replaces loops in imperative programming.\n",
    "\n",
    "4. **First-Class Functions**: In functional programming languages, functions are first-class citizens, meaning they can be assigned to variables, passed as arguments, and returned as values.\n",
    "\n",
    "5. **Map, Filter, and Reduce**: Functional programming languages commonly use functions like `map`, `filter`, and `reduce` to process collections of data in a functional way. These functions abstract away the details of iteration and mutable state.\n",
    "\n",
    "Functional programming languages, such as Haskell, Lisp, and Erlang, are designed with functional principles in mind. However, many mainstream programming languages, including Python, JavaScript, and Ruby, also support functional programming to varying degrees. Developers can apply functional programming concepts and techniques in these languages to write more concise, predictable, and maintainable code.\n",
    "\n",
    "In this notebook, we will explore functional programming concepts and how they can be applied in practice using Python, a language that combines functional and imperative programming paradigms."
   ]
  },
  {
   "cell_type": "markdown",
   "id": "incorrect-serum",
   "metadata": {
    "toc": true
   },
   "source": [
    "<h3>Table of Contents<span class=\"tocSkip\"></span></h3>\n",
    "<div class=\"toc\"><ul class=\"toc-item\"><li><span><a href=\"#Your-contributions-🚀\" data-toc-modified-id=\"Your-contributions-🚀-1\"><span class=\"toc-item-num\">1&nbsp;&nbsp;</span>Your contributions 🚀</a></span></li><li><span><a href=\"#What-is-functional-programming?:-paradigms\" data-toc-modified-id=\"What-is-functional-programming?:-paradigms-2\"><span class=\"toc-item-num\">2&nbsp;&nbsp;</span>What is functional programming?: paradigms</a></span></li><li><span><a href=\"#Built-in-functions\" data-toc-modified-id=\"Built-in-functions-3\"><span class=\"toc-item-num\">3&nbsp;&nbsp;</span>Built-in functions</a></span></li><li><span><a href=\"#USER---DEFINED-FUNCTIONS\" data-toc-modified-id=\"USER---DEFINED-FUNCTIONS-4\"><span class=\"toc-item-num\">4&nbsp;&nbsp;</span>USER - DEFINED FUNCTIONS</a></span><ul class=\"toc-item\"><li><span><a href=\"#def\" data-toc-modified-id=\"def-4.1\"><span class=\"toc-item-num\">4.1&nbsp;&nbsp;</span>def</a></span></li><li><span><a href=\"#name\" data-toc-modified-id=\"name-4.2\"><span class=\"toc-item-num\">4.2&nbsp;&nbsp;</span>name</a></span></li><li><span><a href=\"#parameters\" data-toc-modified-id=\"parameters-4.3\"><span class=\"toc-item-num\">4.3&nbsp;&nbsp;</span>parameters</a></span></li><li><span><a href=\"#arguments\" data-toc-modified-id=\"arguments-4.4\"><span class=\"toc-item-num\">4.4&nbsp;&nbsp;</span>arguments</a></span><ul class=\"toc-item\"><li><span><a href=\"#default-parameters\" data-toc-modified-id=\"default-parameters-4.4.1\"><span class=\"toc-item-num\">4.4.1&nbsp;&nbsp;</span>default parameters</a></span></li><li><span><a href=\"#positional-arguments-&amp;-keyword-arguments\" data-toc-modified-id=\"positional-arguments-&amp;-keyword-arguments-4.4.2\"><span class=\"toc-item-num\">4.4.2&nbsp;&nbsp;</span>positional arguments &amp; keyword arguments</a></span></li><li><span><a href=\"#*args\" data-toc-modified-id=\"*args-4.4.3\"><span class=\"toc-item-num\">4.4.3&nbsp;&nbsp;</span><code>*args</code></a></span></li><li><span><a href=\"#**kwargs\" data-toc-modified-id=\"**kwargs-4.4.4\"><span class=\"toc-item-num\">4.4.4&nbsp;&nbsp;</span>**kwargs</a></span></li><li><span><a href=\"#order\" data-toc-modified-id=\"order-4.4.5\"><span class=\"toc-item-num\">4.4.5&nbsp;&nbsp;</span>order</a></span></li></ul></li><li><span><a href=\"#return\" data-toc-modified-id=\"return-4.5\"><span class=\"toc-item-num\">4.5&nbsp;&nbsp;</span>return</a></span></li><li><span><a href=\"#Docstrings:-documentation-strings\" data-toc-modified-id=\"Docstrings:-documentation-strings-4.6\"><span class=\"toc-item-num\">4.6&nbsp;&nbsp;</span>Docstrings: documentation strings</a></span></li><li><span><a href=\"#source-code\" data-toc-modified-id=\"source-code-4.7\"><span class=\"toc-item-num\">4.7&nbsp;&nbsp;</span>source code</a></span></li></ul></li><li><span><a href=\"#Scope-of-functions\" data-toc-modified-id=\"Scope-of-functions-5\"><span class=\"toc-item-num\">5&nbsp;&nbsp;</span>Scope of functions</a></span></li><li><span><a href=\"#Lambda\" data-toc-modified-id=\"Lambda-6\"><span class=\"toc-item-num\">6&nbsp;&nbsp;</span>Lambda</a></span><ul class=\"toc-item\"><li><span><a href=\"#Syntax-of-a-lambda\" data-toc-modified-id=\"Syntax-of-a-lambda-6.1\"><span class=\"toc-item-num\">6.1&nbsp;&nbsp;</span>Syntax of a lambda</a></span></li><li><span><a href=\"#lambda-examples\" data-toc-modified-id=\"lambda-examples-6.2\"><span class=\"toc-item-num\">6.2&nbsp;&nbsp;</span>lambda examples</a></span></li><li><span><a href=\"#lambda--as-the-option-of-some-other-built-in-functions\" data-toc-modified-id=\"lambda--as-the-option-of-some-other-built-in-functions-6.3\"><span class=\"toc-item-num\">6.3&nbsp;&nbsp;</span><code>lambda</code>  as the option of some other built-in functions</a></span></li></ul></li><li><span><a href=\"#Functions:-functions-as-return-of-another-function\" data-toc-modified-id=\"Functions:-functions-as-return-of-another-function-7\"><span class=\"toc-item-num\">7&nbsp;&nbsp;</span>Functions: functions as return of another function</a></span></li><li><span><a href=\"#Recursion\" data-toc-modified-id=\"Recursion-8\"><span class=\"toc-item-num\">8&nbsp;&nbsp;</span>Recursion</a></span></li><li><span><a href=\"#Summary\" data-toc-modified-id=\"Summary-9\"><span class=\"toc-item-num\">9&nbsp;&nbsp;</span>Summary</a></span></li></ul></div>"
   ]
  },
  {
   "cell_type": "markdown",
   "id": "c8dbbad6",
   "metadata": {
    "lang": "en"
   },
   "source": [
    "## Your contributions 🚀\n",
    "What are your thoughts on functions in functional programming? Do you have experiences, examples, or questions related to their properties and usefulness? Feel free to contribute your insights and engage in discussions with fellow learners as we delve deeper into the world of functional programming. Your contributions are valuable and can enhance our collective understanding of this programming paradigm."
   ]
  },
  {
   "cell_type": "markdown",
   "id": "67819644",
   "metadata": {},
   "source": [
    "#### A function is/does: ...\n",
    "\n",
    "![](https://media.makeameme.org/created/no-pressure-5b8539.jpg)"
   ]
  },
  {
   "cell_type": "markdown",
   "id": "199cb1a8",
   "metadata": {
    "lang": "en"
   },
   "source": [
    "**Usefulness of Functions:** Functions are incredibly useful in various programming scenarios, and they offer several advantages:\n",
    "\n",
    "- **Modularity**: Functions encapsulate specific behavior or logic, making it easier to organize and maintain code. Modular code is more reusable and easier to test.\n",
    "\n",
    "- **Abstraction**: Functions allow you to abstract away complex operations behind a simple interface. This abstraction simplifies code consumption and promotes a clear separation of concerns.\n",
    "\n",
    "- **Reusability**: Well-designed functions can be reused across different parts of your codebase or even in different projects. This reuse reduces duplicated code and promotes consistency.\n",
    "\n",
    "- **Testing**: Functions make it easier to write unit tests. With pure functions, you can predict the output for a given input, simplifying the testing process.\n",
    "\n",
    "- **Readability**: Functions with clear names and well-defined responsibilities improve code readability and make it easier for other developers (and your future self) to understand the code.\n",
    "\n",
    "![](https://www.thetechedvocate.org/wp-content/uploads/2023/05/1_709ugF12LLkYxvb839YNlg.png)\n",
    "\n",
    "\n",
    "## What is functional programming?: paradigms\n",
    "\n",
    "In the world of programming, a paradigm is a fundamental approach or style for structuring code and solving problems. Different programming languages are often associated with specific paradigms that guide how developers write and organize their code. **Python**, as a versatile and flexible language, is often referred to as a **multi-paradigm programming language**. But what exactly does this mean?\n",
    "\n",
    "When we say that Python is a multi-paradigm programming language, we mean that it welcomes and supports multiple programming styles or paradigms. These paradigms are like different lenses through which developers can view and address problems. Python is known for its philosophy, which emphasizes code readability and simplicity, and it accommodates various paradigms to offer developers the freedom to choose the most suitable approach for a given task.\n",
    "\n",
    "\n",
    "**The Three Predominant Paradigms:** Python primarily supports three predominant paradigms, each offering a distinct way of organizing and structuring code:"
   ]
  },
  {
   "cell_type": "markdown",
   "id": "1a292435",
   "metadata": {},
   "source": [
    "1. **Imperative Programming**: Imperative programming is a traditional and commonly used paradigm. It focuses on describing the sequence of steps or instructions to achieve a specific goal. In imperative programming, you write code that explicitly states how to perform actions, manipulate data, and control program flow. Python allows developers to write imperative code when needed."
   ]
  },
  {
   "cell_type": "code",
   "execution_count": null,
   "id": "f67456a2",
   "metadata": {},
   "outputs": [],
   "source": [
    "# Imperative Programming Example\n",
    "\n",
    "# Suppose we want to calculate the sum of the first 5 positive integers (1 + 2 + 3 + 4 + 5) using imperative programming.\n",
    "\n",
    "# Initialize a variable to store the sum\n",
    "sum_of_numbers = 0\n",
    "\n",
    "# Use a loop to iterate through the numbers\n",
    "for i in range(1, 6):\n",
    "    # Add the current number to the sum\n",
    "    sum_of_numbers += i\n",
    "\n",
    "# Print the result\n",
    "print(\"The sum of the first 5 positive integers is:\", sum_of_numbers)"
   ]
  },
  {
   "cell_type": "markdown",
   "id": "20b50a5d",
   "metadata": {},
   "source": [
    "In this example:\n",
    "\n",
    "- We start by initializing a variable `sum_of_numbers` to store the sum.\n",
    "\n",
    "- We use a for loop to iterate through the numbers from 1 to 5. Inside the loop:\n",
    "\n",
    "  - We add the current number `i` to the `sum_of_numbers` using the `+=` operator. This is the imperative part where we explicitly specify the steps to update the sum.\n",
    "\n",
    "- Finally, we print the result."
   ]
  },
  {
   "cell_type": "markdown",
   "id": "02cb1e2b",
   "metadata": {},
   "source": [
    "2. **Object-Oriented Programming (OOP)**: Python excels in object-oriented programming. In this paradigm, code is organized around objects, which are instances of classes. Objects encapsulate data and behavior, making it easier to model real-world entities and their interactions. Python provides robust support for creating and working with classes and objects."
   ]
  },
  {
   "cell_type": "markdown",
   "id": "77fcc965",
   "metadata": {},
   "source": [
    "```python\n",
    "# Define a class called \"Person\"\n",
    "class Person:\n",
    "    # Constructor method to initialize the object's properties\n",
    "    def __init__(self, name, age):\n",
    "        self.name = name\n",
    "        self.age = age\n",
    "```\n",
    "- We start by defining a class called \"Person.\" Think of a class as a blueprint for creating objects. In this case, we're creating a blueprint for representing people.\n",
    "\n",
    "- Inside the class, we have a special method called `__init__`. This method is a constructor, which means it gets called automatically when a new object of the class is created.\n",
    "\n",
    "- The `__init__` method takes three parameters: `self` (a reference to the object being created), `name`, and `age`. It initializes two properties of the object: `name` and `age`.\n",
    "\n",
    "```python\n",
    "\n",
    "    # Method to display information about the person\n",
    "    def display_info(self):\n",
    "        print(f\"Name: {self.name}, Age: {self.age}\")\n",
    "```\n",
    "\n",
    "- Next, we define a method called `display_info` within the class. This method is used to display information about the person.\n",
    "\n",
    "- The `self` parameter is a reference to the object itself. It allows us to access the object's properties (in this case, `name` and `age`) within the method.\n",
    "\n",
    "- Inside the `display_info` method, we use the `print` function to display the person's name and age.\n",
    "\n",
    "```python\n",
    "\n",
    "# Create two instances (objects) of the Person class\n",
    "person1 = Person(\"Alice\", 30)\n",
    "person2 = Person(\"Bob\", 25)\n",
    "```\n",
    "\n",
    "- Now, we create two instances (or objects) of the `Person` class: `person1` and `person2`. These objects represent individual people.\n",
    "\n",
    "- We provide values for the `name` and `age` properties when creating each object. For example, `person1` represents a person named \"Alice\" who is 30 years old.\n",
    "\n",
    "```python\n",
    "# Call the display_info() method for each person\n",
    "person1.display_info()\n",
    "person2.display_info()\n",
    "```\n",
    "\n",
    "- Finally, we call the `display_info` method for each person object. This method displays their name and age."
   ]
  },
  {
   "cell_type": "code",
   "execution_count": null,
   "id": "1a042fd3",
   "metadata": {},
   "outputs": [],
   "source": [
    "# Define a class called \"Person\"\n",
    "class Person:\n",
    "    # Constructor method to initialize the object's properties\n",
    "    def __init__(self, name, age):\n",
    "        self.name = name\n",
    "        self.age = age\n",
    "\n",
    "    # Method to display information about the person\n",
    "    def display_info(self):\n",
    "        print(f\"Name: {self.name}, Age: {self.age}\")\n",
    "\n",
    "# Create two instances (objects) of the Person class\n",
    "person1 = Person(\"Alice\", 30)\n",
    "person2 = Person(\"Bob\", 25)\n",
    "\n",
    "# Call the display_info() method for each person\n",
    "person1.display_info()\n",
    "person2.display_info()"
   ]
  },
  {
   "cell_type": "markdown",
   "id": "2a679fd0",
   "metadata": {},
   "source": [
    "3. **Functional Programming (FP)**: Functional programming is a paradigm that treats computation as the evaluation of mathematical functions and avoids changing state and mutable data. It encourages immutability, pure functions, and the use of higher-order functions. While Python is not a purely functional language like Haskell, it offers functional programming features and can be used in a functional style to write clean and concise code."
   ]
  },
  {
   "cell_type": "code",
   "execution_count": null,
   "id": "8a9c96f4",
   "metadata": {},
   "outputs": [],
   "source": [
    "# Define a function\n",
    "def greet(name):\n",
    "    return f\"Hello, {name}!\""
   ]
  },
  {
   "cell_type": "code",
   "execution_count": null,
   "id": "ba3d56c6",
   "metadata": {},
   "outputs": [],
   "source": [
    "greet(\"Santi\")"
   ]
  },
  {
   "cell_type": "code",
   "execution_count": null,
   "id": "c62ffe83",
   "metadata": {},
   "outputs": [],
   "source": [
    "greet(\"Clara\")"
   ]
  },
  {
   "cell_type": "code",
   "execution_count": null,
   "id": "f7cd903a",
   "metadata": {},
   "outputs": [],
   "source": [
    "greet(\"Laura\")"
   ]
  },
  {
   "cell_type": "markdown",
   "id": "7f89fd70",
   "metadata": {
    "lang": "en"
   },
   "source": [
    "## Built-in functions"
   ]
  },
  {
   "cell_type": "markdown",
   "id": "80919246",
   "metadata": {
    "lang": "en"
   },
   "source": [
    "Python provides a set of built-in functions and types that are readily available for use. These functions cover a wide range of common tasks and operations. You can find a comprehensive list of these functions in the [Python documentation](https://docs.python.org/3/library/functions.html), organized in alphabetical order.\n",
    "\n",
    "**Example: Using the `print()` Function**\n",
    "\n",
    "One of the most fundamental built-in functions in Python is `print()`. It allows you to display output to the console. Here's how you use it:"
   ]
  },
  {
   "cell_type": "code",
   "execution_count": null,
   "id": "b8e2371a",
   "metadata": {},
   "outputs": [],
   "source": [
    "print(\"Hello!\")"
   ]
  },
  {
   "cell_type": "markdown",
   "id": "d36c02f5",
   "metadata": {
    "lang": "en"
   },
   "source": [
    "Understand that these built-in functions are an integral part of Python and are implemented in C, which means their source code isn't directly accessible or inspectable from Python itself.\n",
    "\n",
    "While we can't view the code for built-in functions like `print()` using Python's `inspect module`, we can still use them effectively to perform a wide range of tasks in our Python programs. the Print function looks like this 👇🏻"
   ]
  },
  {
   "cell_type": "markdown",
   "id": "through-silicon",
   "metadata": {},
   "source": [
    "```C\n",
    "static PyObject *\n",
    "builtin_print(PyObject *self, PyObject *args, PyObject *kwds)\n",
    "{\n",
    "    static char *kwlist[] = {\"sep\", \"end\", \"file\", 0};\n",
    "    static PyObject *dummy_args = NULL;\n",
    "    static PyObject *unicode_newline = NULL, *unicode_space = NULL;\n",
    "    static PyObject *str_newline = NULL, *str_space = NULL;\n",
    "    PyObject *newline, *space;\n",
    "    PyObject *sep = NULL, *end = NULL, *file = NULL;\n",
    "    int i, err, use_unicode = 0;\n",
    "\n",
    "    if (dummy_args == NULL) {\n",
    "        if (!(dummy_args = PyTuple_New(0)))\n",
    "            return NULL;\n",
    "    }\n",
    "    if (str_newline == NULL) {\n",
    "        str_newline = PyString_FromString(\"\\n\");\n",
    "        if (str_newline == NULL)\n",
    "            return NULL;\n",
    "        str_space = PyString_FromString(\" \");\n",
    "        if (str_space == NULL) {\n",
    "            Py_CLEAR(str_newline);\n",
    "            return NULL;\n",
    "        }\n",
    "#ifdef Py_USING_UNICODE\n",
    "        unicode_newline = PyUnicode_FromString(\"\\n\");\n",
    "        if (unicode_newline == NULL) {\n",
    "            Py_CLEAR(str_newline);\n",
    "            Py_CLEAR(str_space);\n",
    "            return NULL;\n",
    "        }\n",
    "        unicode_space = PyUnicode_FromString(\" \");\n",
    "        if (unicode_space == NULL) {\n",
    "            Py_CLEAR(str_newline);\n",
    "            Py_CLEAR(str_space);\n",
    "            Py_CLEAR(unicode_space);\n",
    "            return NULL;\n",
    "        }\n",
    "#endif\n",
    "    }\n",
    "    if (!PyArg_ParseTupleAndKeywords(dummy_args, kwds, \"|OOO:print\",\n",
    "                                     kwlist, &sep, &end, &file))\n",
    "        return NULL;\n",
    "    if (file == NULL || file == Py_None) {\n",
    "        file = PySys_GetObject(\"stdout\");\n",
    "        /* sys.stdout may be None when FILE* stdout isn't connected */\n",
    "        if (file == Py_None)\n",
    "            Py_RETURN_NONE;\n",
    "    }\n",
    "    if (sep == Py_None) {\n",
    "        sep = NULL;\n",
    "    }\n",
    "    else if (sep) {\n",
    "        if (PyUnicode_Check(sep)) {\n",
    "            use_unicode = 1;\n",
    "        }\n",
    "        else if (!PyString_Check(sep)) {\n",
    "            PyErr_Format(PyExc_TypeError,\n",
    "                         \"sep must be None, str or unicode, not %.200s\",\n",
    "                         sep->ob_type->tp_name);\n",
    "            return NULL;\n",
    "        }\n",
    "    }\n",
    "    if (end == Py_None)\n",
    "        end = NULL;\n",
    "    else if (end) {\n",
    "        if (PyUnicode_Check(end)) {\n",
    "            use_unicode = 1;\n",
    "        }\n",
    "        else if (!PyString_Check(end)) {\n",
    "            PyErr_Format(PyExc_TypeError,\n",
    "                         \"end must be None, str or unicode, not %.200s\",\n",
    "                         end->ob_type->tp_name);\n",
    "            return NULL;\n",
    "        }\n",
    "    }\n",
    "\n",
    "    if (!use_unicode) {\n",
    "        for (i = 0; i < PyTuple_Size(args); i++) {\n",
    "            if (PyUnicode_Check(PyTuple_GET_ITEM(args, i))) {\n",
    "                use_unicode = 1;\n",
    "                break;\n",
    "            }\n",
    "        }\n",
    "    }\n",
    "    if (use_unicode) {\n",
    "        newline = unicode_newline;\n",
    "        space = unicode_space;\n",
    "    }\n",
    "    else {\n",
    "        newline = str_newline;\n",
    "        space = str_space;\n",
    "    }\n",
    "\n",
    "    for (i = 0; i < PyTuple_Size(args); i++) {\n",
    "        if (i > 0) {\n",
    "            if (sep == NULL)\n",
    "                err = PyFile_WriteObject(space, file,\n",
    "                                         Py_PRINT_RAW);\n",
    "            else\n",
    "                err = PyFile_WriteObject(sep, file,\n",
    "                                         Py_PRINT_RAW);\n",
    "            if (err)\n",
    "                return NULL;\n",
    "        }\n",
    "        err = PyFile_WriteObject(PyTuple_GetItem(args, i), file,\n",
    "                                 Py_PRINT_RAW);\n",
    "        if (err)\n",
    "            return NULL;\n",
    "    }\n",
    "\n",
    "    if (end == NULL)\n",
    "        err = PyFile_WriteObject(newline, file, Py_PRINT_RAW);\n",
    "    else\n",
    "        err = PyFile_WriteObject(end, file, Py_PRINT_RAW);\n",
    "    if (err)\n",
    "        return NULL;\n",
    "\n",
    "    Py_RETURN_NONE;\n",
    "}\n",
    "```"
   ]
  },
  {
   "cell_type": "code",
   "execution_count": null,
   "id": "f7695035",
   "metadata": {
    "scrolled": true
   },
   "outputs": [],
   "source": [
    "# All this code, to print hi ...\n",
    "print(\"hi!\")"
   ]
  },
  {
   "cell_type": "markdown",
   "id": "6b586df5",
   "metadata": {},
   "source": [
    "## Exercise: Paradigm Exploration\n",
    "\n",
    "**Background:**\n",
    "Python is a versatile programming language that supports multiple programming paradigms: imperative, object-oriented, and functional. Each paradigm offers a different approach to solving problems. In this exercise, you will explore these paradigms by working on a common task: processing a list of numbers.\n",
    "\n",
    "**Task:**\n",
    "You have been given a list of numbers: `[1, 2, 3, 4, 5]`.\n",
    "\n",
    "1. **Imperative Paradigm (Procedural Programming):**\n",
    "   Write a Python script using imperative programming to calculate the sum of all the numbers in the list and print the result.\n",
    "\n",
    "2. **Object-Oriented Paradigm:**\n",
    "   Create a Python class called `NumberProcessor`. This class should have a method called `calculate_sum` that calculates the sum of numbers in the list and returns the result. Instantiate the class, call the method, and print the result.\n",
    "\n",
    "3. **Functional Paradigm:**\n",
    "   Write a Python function called `calculate_sum_functional` using a functional programming approach. This function should take the list of numbers as its argument and return the sum. Use the `reduce` function from the `functools` module to achieve this. Call the function and print the result.\n",
    "\n",
    "**Hints:**\n",
    "- For the functional paradigm, you will need to import the `functools` module and use the `reduce` function.\n",
    "- You can create an instance variable in the object-oriented paradigm to store the list of numbers.\n",
    "\n",
    "**Expected Output:**\n",
    "You should have three separate implementations, each printing the same result: the sum of the numbers in the list `[1, 2, 3, 4, 5]`."
   ]
  },
  {
   "cell_type": "code",
   "execution_count": null,
   "id": "6651b251",
   "metadata": {},
   "outputs": [],
   "source": [
    "# Imperative Paradigm (Procedural Programming)\n",
    "# -------------------------------------------\n",
    "numbers = [1, 2, 3, 4, 5]\n",
    "sum_result = 0\n",
    "\n",
    "# [Some operation]\n",
    "\n",
    "print(\"Imperative Paradigm Result:\", sum_result)"
   ]
  },
  {
   "cell_type": "code",
   "execution_count": null,
   "id": "f03cdc23",
   "metadata": {},
   "outputs": [],
   "source": [
    "# Object-Oriented Paradigm\n",
    "# -------------------------------------------\n",
    "\n",
    "# Hint on operation: sum(self.numbers)\n",
    "\n",
    "# Instantiate the class and call the method\n",
    "number_processor = NumberProcessor([1, 2, 3, 4, 5])\n",
    "result_object_oriented = number_processor.calculate_sum()\n",
    "print(\"Object-Oriented Paradigm Result:\", result_object_oriented)"
   ]
  },
  {
   "cell_type": "code",
   "execution_count": null,
   "id": "64f58724",
   "metadata": {},
   "outputs": [],
   "source": [
    "# Functional Paradigm\n",
    "# -------------------------------------------\n",
    "from functools import reduce\n",
    "\n",
    "# Hint on reduce statement: reduce(lambda x, y: x + y, numbers)\n",
    "\n",
    "# Call the function\n",
    "numbers = [1, 2, 3, 4, 5]\n",
    "result_functional = calculate_sum_functional(numbers)\n",
    "print(\"Functional Paradigm Result:\", result_functional)"
   ]
  },
  {
   "cell_type": "markdown",
   "id": "9197a86b",
   "metadata": {},
   "source": [
    "## USER - DEFINED FUNCTIONS\n",
    "\n",
    "In Python, you can create your own functions to encapsulate a specific set of instructions and reuse them throughout your code. These functions are called user-defined functions. Let's break down the key components of user-defined functions:\n",
    "\n",
    "- **`def`**: The `def` keyword is used to define a new function. It is followed by the function's name, parentheses, and a colon. For example, `def my_function():` defines a function named `my_function`.\n",
    "\n",
    "- **`name`**: The name of the function is chosen by the programmer and should be descriptive of the function's purpose. It follows the `def` keyword, and in the example above, the name is `my_function`.\n",
    "\n",
    "- **`params`**: Inside the parentheses, you can specify parameters (also known as arguments) that the function will accept. Parameters are variables that act as placeholders for the values you pass into the function when you call it. For example, `def greet(name):` defines a function that accepts one parameter, `name`.\n",
    "\n",
    "- **`args`**: Arguments are the actual values that you provide when calling a function. For instance, when you call `greet(\"Alice\")`, `\"Alice\"` is the argument passed to the `name` parameter.\n",
    "\n",
    "- **`return`**: The `return` statement is used to specify what the function should output or return. Functions can perform calculations or processes and then return a result. For example, `def add(x, y): return x + y` defines a function that adds two numbers and returns the result.\n",
    "\n",
    "- **`docstrings`**: Docstrings (documentation strings) are used to provide a description of what the function does. They are enclosed in triple quotes (either single or double) and are placed immediately after the function definition. Docstrings help other programmers (and yourself) understand the purpose and usage of the function. For instance:\n",
    "\n",
    "  ```python\n",
    "  # Defining input and output type, is part of clean code standards (however, not many people use it)\n",
    "  def greet(name: str) -> str:\n",
    "      \"\"\"\n",
    "      This function greets the person passed in as a parameter.\n",
    "      \"\"\"\n",
    "      return f\"Hello, {name}!\"\n",
    "  ```\n",
    "- **`source code`**: The source code of the function contains the actual instructions that the function performs. It is indented below the function definition and is executed when the function is called."
   ]
  },
  {
   "cell_type": "markdown",
   "id": "85d6428d",
   "metadata": {
    "lang": "en"
   },
   "source": [
    "**Syntax for DEFINING a function**\n",
    "\n",
    "To define a function in Python, use the following syntax:\n",
    "\n",
    "```python\n",
    "\n",
    "def name_function(input params):\n",
    "    # The colon and the indentation indicate that we're defining a function.\n",
    "    # Inside the function, you take some action or perform a series of operations.\n",
    "    take an action\n",
    "    return() # The return statement specifies the value to be returned from the function.\n",
    "```\n",
    "\n",
    "In this syntax:\n",
    "\n",
    "- `def` is the keyword used to define a function.\n",
    "- `name_function` is the name you give to your function. It should follow Python naming conventions and be descriptive of the function's purpose.\n",
    "- `input_params` are the parameters (inputs) that the function expects. They are enclosed in parentheses and separated by commas if there are multiple parameters.\n",
    "- The colon `:` and the indentation (whitespace) are used to define the function's code block. Everything indented under the function definition is part of the function's body.\n",
    "- Inside the function, you write the code to perform specific actions or calculations.\n",
    "- The `return` statement specifies what value the function should produce as output. It ends the execution of the function and sends the result back to the caller.\n",
    "\n",
    "\n",
    "**Syntax for CALLING a function**\n",
    "\n",
    "To call (invoke) a function in Python, you use the following syntax:\n",
    "\n",
    "`name_of_the_function(argument1, argument2, ...)`\n",
    "\n",
    "\n",
    "- `name_of_the_function` is the name of the function you want to call.\n",
    "- `argument1, argument2, ...` are the values or expressions you want to pass as arguments to the function. These are the inputs that the function will work with.\n",
    "\n",
    "If you want to save the result returned by the function, you can assign it to a variable like this:\n",
    "\n",
    "`result = name_of_the_function(argument1, argument2, ...)`\n",
    "\n",
    "In this case, `result` will hold the value returned by the function, and you can use it in your code as needed."
   ]
  },
  {
   "cell_type": "markdown",
   "id": "d14ec799",
   "metadata": {},
   "source": [
    "### def\n",
    "\n",
    "The `def` statement serves as the starting point for creating your custom functions. It specifies the name of the function, the input parameters it expects, and the block of code that constitutes the function's body. Functions defined with `def` can be called multiple times throughout your program, making your code more modular, readable, and efficient."
   ]
  },
  {
   "cell_type": "code",
   "execution_count": null,
   "id": "758fc928",
   "metadata": {},
   "outputs": [],
   "source": [
    "# Simple function\n",
    "def addition (a, b):\n",
    "    result = a * b\n",
    "    #print(f\"Hello! The result is {result}\")\n",
    "    return result\n",
    "\n",
    "# Calling the function\n",
    "addition(10, 2)"
   ]
  },
  {
   "cell_type": "code",
   "execution_count": null,
   "id": "3ecf0294",
   "metadata": {},
   "outputs": [],
   "source": [
    "# That is how I like a function, clean and readable\n",
    "\n",
    "def addition(a: int, b: int) -> int:\n",
    "    \"\"\"\n",
    "    This function performs addition of two numbers.\n",
    "\n",
    "    Args:\n",
    "        a (int): The first number.\n",
    "        b (int): The second number.\n",
    "\n",
    "    Returns:\n",
    "        int: The result of the addition.\n",
    "    \"\"\"\n",
    "    result = a + b\n",
    "    return result\n",
    "\n",
    "# Calling the function\n",
    "result = addition(10, 2)\n",
    "print(f\"The result is {result}\")"
   ]
  },
  {
   "cell_type": "markdown",
   "id": "5808796f",
   "metadata": {},
   "source": [
    "**In this revised version:**\n",
    "\n",
    "- We've added clear and informative docstrings that describe what the function does, what arguments it accepts, and what it returns.\n",
    "\n",
    "- We've used data type annotations (`a: int`, `b: int`, `-> int`) to indicate the expected types for function parameters and return values.\n",
    "\n",
    "- We've provided a meaningful function name (`addition`) that accurately represents its purpose.\n",
    "\n",
    "- We've removed the commented-out `print` statement to keep the function focused on its primary task of addition.\n",
    "\n",
    "![](https://i.kym-cdn.com/entries/icons/facebook/000/006/077/so_good.jpg)"
   ]
  },
  {
   "cell_type": "markdown",
   "id": "f2e75efb",
   "metadata": {},
   "source": [
    "### name\n",
    "\n",
    "The name statement of a function in Python is a crucial aspect of code readability and understanding. Choosing descriptive and meaningful names for your functions enhances the clarity of your code, making it easier for both you and others to comprehend its purpose and functionality. **Example**:"
   ]
  },
  {
   "cell_type": "code",
   "execution_count": null,
   "id": "f654d98a",
   "metadata": {},
   "outputs": [],
   "source": [
    "def adder ():\n",
    "    return "
   ]
  },
  {
   "cell_type": "markdown",
   "id": "7f5f9741",
   "metadata": {},
   "source": [
    "Adder of what? Maybe, if we are more clear..."
   ]
  },
  {
   "cell_type": "code",
   "execution_count": null,
   "id": "2376e1bb",
   "metadata": {},
   "outputs": [],
   "source": [
    "def number_adder ():\n",
    "    return "
   ]
  },
  {
   "cell_type": "markdown",
   "id": "67664511",
   "metadata": {},
   "source": [
    "Now, seems to be more clear, we can event be more descriptive (it helps others!)"
   ]
  },
  {
   "cell_type": "code",
   "execution_count": null,
   "id": "20fcf39a",
   "metadata": {},
   "outputs": [],
   "source": [
    "def number_adder_of_numbers():\n",
    "    \"\"\"\n",
    "    This function uses snake_case for its name, which is a convention in Python.\n",
    "    snake_case makes function names readable and easy to understand by separating words with underscores.\n",
    "    \"\"\"\n",
    "    return"
   ]
  },
  {
   "cell_type": "markdown",
   "id": "8fcf282e",
   "metadata": {},
   "source": [
    "On the other hand ..."
   ]
  },
  {
   "cell_type": "code",
   "execution_count": null,
   "id": "f5fcd56a",
   "metadata": {},
   "outputs": [],
   "source": [
    "# Not recommended -> JavaScript\n",
    "def CamelCase(): # CamelCase\n",
    "    \"\"\"\n",
    "    In Python, it's not recommended to use CamelCase for function names.\n",
    "    CamelCase is typically used in languages like JavaScript, whereas Python conventionally\n",
    "    uses snake_case for function names to maintain consistency and readability.\n",
    "    \"\"\"\n",
    "    return"
   ]
  },
  {
   "cell_type": "markdown",
   "id": "80ee81e1",
   "metadata": {},
   "source": [
    "### parameters\n",
    "\n",
    "Function parameters in Python are used to pass values or data to a function when it's called. These parameters act as placeholders that receive the input values, allowing functions to work with specific data without hardcoding it. Python functions can accept zero or more parameters, and each parameter can have a default value or be specified as required. Parameters make functions versatile and reusable, enabling them to perform different actions based on the provided input.\n",
    "\n",
    "In Python, parameters are defined within the parentheses () when declaring a function, and their names serve as variables inside the function's code block. Let's explore how to work with function parameters in Python."
   ]
  },
  {
   "cell_type": "markdown",
   "id": "5ddcf19e",
   "metadata": {},
   "source": [
    "`()`"
   ]
  },
  {
   "cell_type": "code",
   "execution_count": null,
   "id": "94c35a70",
   "metadata": {},
   "outputs": [],
   "source": [
    "def greetings ():\n",
    "    return \"Hello!\""
   ]
  },
  {
   "cell_type": "code",
   "execution_count": null,
   "id": "4ef85cdd",
   "metadata": {},
   "outputs": [],
   "source": [
    "greetings()"
   ]
  },
  {
   "cell_type": "markdown",
   "id": "93588783",
   "metadata": {},
   "source": [
    "Now, let's define to params `(param_1, param_2)`."
   ]
  },
  {
   "cell_type": "code",
   "execution_count": null,
   "id": "0b1e2193",
   "metadata": {},
   "outputs": [],
   "source": [
    "def greetings (other_person, myself):\n",
    "    return f\"Hello {other_person}! My name is {myself}\""
   ]
  },
  {
   "cell_type": "code",
   "execution_count": null,
   "id": "33530bc7",
   "metadata": {},
   "outputs": [],
   "source": [
    "# This is how I like it!\n",
    "def greetings(other_person: str, myself: str) -> str:\n",
    "    \"\"\"\n",
    "    This function greets another person and introduces itself.\n",
    "\n",
    "    Args:\n",
    "        other_person (str): The name of the other person.\n",
    "        myself (str): The name of the person introducing themselves.\n",
    "\n",
    "    Returns:\n",
    "        str: A greeting message.\n",
    "\n",
    "    Example:\n",
    "        >>> greetings(\"Alice\", \"Bob\")\n",
    "        'Hello Alice! My name is Bob'\n",
    "    \"\"\"\n",
    "    return f\"Hello {other_person}! My name is {myself}\""
   ]
  },
  {
   "cell_type": "markdown",
   "id": "5308ad65",
   "metadata": {},
   "source": [
    "### arguments\n",
    "\n",
    "In Python, function arguments are the values or variables that we pass to a function when calling it. These arguments are essential for the function to perform its task. Python provides flexibility in how we can work with function arguments, allowing us to pass values in various ways, including positional arguments, keyword arguments, default values, and more. Understanding how to work with function arguments is crucial for creating versatile and reusable functions.\n"
   ]
  },
  {
   "cell_type": "code",
   "execution_count": null,
   "id": "75b18d78",
   "metadata": {},
   "outputs": [],
   "source": [
    "def greetings (other_person, myself):\n",
    "    return f\"Hello {other_person}! My name is {myself}\""
   ]
  },
  {
   "cell_type": "code",
   "execution_count": null,
   "id": "7f6cf64d",
   "metadata": {},
   "outputs": [],
   "source": [
    "greetings(\"Santi\", \"Clara\")"
   ]
  },
  {
   "cell_type": "code",
   "execution_count": null,
   "id": "3864fecc",
   "metadata": {},
   "outputs": [],
   "source": [
    "greetings(\"Laura\", \"Albert\", \"Santi\")"
   ]
  },
  {
   "cell_type": "markdown",
   "id": "9791b430",
   "metadata": {},
   "source": [
    "Recap:\n",
    "\n",
    "- **Parameters**: These are formal placeholders defined in the function declaration. They serve as symbolic names for the values that a function expects to receive and utilize within its body. Parameters are like variables waiting to be filled with real data.\n",
    "\n",
    "- **Arguments**: When we call a function, we provide actual data or values called arguments. These arguments are listed within parentheses after the function name during the function call. When the function is executed, these arguments are assigned to the corresponding parameters within the function's body.\n",
    "\n",
    "To illustrate, think of parameters as \"imaginary\" variables in the function definition—they have names but no values until you provide the arguments. On the other hand, arguments are the tangible, real data that you supply when invoking the function. They fill in the placeholders defined by the parameters.\n",
    "\n",
    "Understanding the distinction between parameters and arguments is fundamental when working with functions in programming."
   ]
  },
  {
   "cell_type": "markdown",
   "id": "ade26130",
   "metadata": {},
   "source": [
    "#### default parameters\n",
    "\n",
    "\n",
    "In Python, functions can have parameters with default values. These default parameters provide a way to define a value that will be used if the corresponding argument is not provided when calling the function. This feature allows you to make certain function arguments optional, enhancing the flexibility and usability of your functions. Default parameters are particularly useful when you want to provide sensible or common default values while still allowing users to customize them when needed.\n",
    "\n",
    "`(param_1, param_default = defaultvalue)` "
   ]
  },
  {
   "cell_type": "markdown",
   "id": "62729a1e",
   "metadata": {},
   "source": [
    "1. Let's come back to this example: `greetings_default(myself, someone_else, language=\"en\")`"
   ]
  },
  {
   "cell_type": "code",
   "execution_count": null,
   "id": "6ebd39c0",
   "metadata": {},
   "outputs": [],
   "source": [
    "def greetings_default(myself, someone_else, language=\"en\"):\n",
    "    if language == \"en\":\n",
    "        return f\"Hello {someone_else}! I'm {myself}\"\n",
    "    else:\n",
    "        return f\"Hola! {someone_else}, soy {myself}\""
   ]
  },
  {
   "cell_type": "code",
   "execution_count": null,
   "id": "703f8028",
   "metadata": {},
   "outputs": [],
   "source": [
    "def greetings_default(myself: str, someone_else: str, language: str = \"en\") -> str:\n",
    "    \"\"\"\n",
    "    Greets someone in English or Spanish.\n",
    "\n",
    "    Args:\n",
    "        myself (str): The name of the person greeting.\n",
    "        someone_else (str): The name of the person being greeted.\n",
    "        language (str, optional): The language of the greeting (\"en\" for English, \"es\" for Spanish).\n",
    "            Defaults to \"en\".\n",
    "\n",
    "    Returns:\n",
    "        str: A greeting message.\n",
    "\n",
    "    Example:\n",
    "        >>> greetings_default(\"Alice\", \"Bob\")\n",
    "        'Hello Bob! I'm Alice'\n",
    "\n",
    "        >>> greetings_default(\"Carlos\", \"Ana\", \"es\")\n",
    "        'Hola! Ana, soy Carlos'\n",
    "    \"\"\"\n",
    "    if language == \"en\":\n",
    "        return f\"Hello {someone_else}! I'm {myself}\"\n",
    "    else:\n",
    "        return f\"Hola! {someone_else}, soy {myself}\"\n"
   ]
  },
  {
   "cell_type": "markdown",
   "id": "401f6a19",
   "metadata": {},
   "source": [
    "Let's test it:"
   ]
  },
  {
   "cell_type": "code",
   "execution_count": null,
   "id": "6b6035a9",
   "metadata": {},
   "outputs": [],
   "source": [
    "greetings_default(\"Alfons\", \"Santi\", language=\"en\")"
   ]
  },
  {
   "cell_type": "code",
   "execution_count": null,
   "id": "295c16f5",
   "metadata": {},
   "outputs": [],
   "source": [
    "greetings_default(\"Alfons\", \"Santi\")"
   ]
  },
  {
   "cell_type": "markdown",
   "id": "fc5822af",
   "metadata": {},
   "source": [
    "what if..."
   ]
  },
  {
   "cell_type": "code",
   "execution_count": null,
   "id": "c475b080",
   "metadata": {},
   "outputs": [],
   "source": [
    "greetings_default(\"Alfons\", \"Santi\", \"es\")"
   ]
  },
  {
   "cell_type": "markdown",
   "id": "ee22d185",
   "metadata": {},
   "source": [
    "2. Another example `calculation (num_1, num_2, operation=\"+\")`"
   ]
  },
  {
   "cell_type": "code",
   "execution_count": null,
   "id": "5910d035",
   "metadata": {},
   "outputs": [],
   "source": [
    "# default arguments\n",
    "\n",
    "# Operation\n",
    "    # By default: add two numbers\n",
    "    # Multiply or divide two numbers"
   ]
  },
  {
   "cell_type": "code",
   "execution_count": null,
   "id": "8071738a",
   "metadata": {},
   "outputs": [],
   "source": [
    "def calculation (num1, num2, operation=\"+\"):\n",
    "    #  add two numbers\n",
    "    if operation == \"+\":\n",
    "        return num1 + num2\n",
    "    \n",
    "    # multiply\n",
    "    elif operation == \"*\":\n",
    "        return num1 * num2\n",
    "    \n",
    "    # divide: \"/\"\n",
    "    elif operation == \"/\":\n",
    "        return num1 / num2\n",
    "    \n",
    "    else:\n",
    "        return \"Watch out. This is not permitted\""
   ]
  },
  {
   "cell_type": "code",
   "execution_count": null,
   "id": "34184c02",
   "metadata": {},
   "outputs": [],
   "source": [
    "def calculation(num1: float, num2: float, operation: str = \"+\") -> float:\n",
    "    \"\"\"\n",
    "    Perform mathematical calculations on two numbers.\n",
    "\n",
    "    Args:\n",
    "        num1 (float): The first number.\n",
    "        num2 (float): The second number.\n",
    "        operation (str, optional): The mathematical operation to perform.\n",
    "            Can be \"+\", \"*\", \"/\", or any other string. Defaults to \"+\".\n",
    "\n",
    "    Returns:\n",
    "        float: The result of the mathematical operation.\n",
    "\n",
    "    Example:\n",
    "        >>> calculation(5, 3)\n",
    "        8.0\n",
    "\n",
    "        >>> calculation(5, 3, \"*\")\n",
    "        15.0\n",
    "\n",
    "        >>> calculation(5, 3, \"/\")\n",
    "        1.6666666666666667\n",
    "\n",
    "        >>> calculation(5, 3, \"-\")\n",
    "        'Watch out. This is not permitted'\n",
    "    \"\"\"\n",
    "    if operation == \"+\":\n",
    "        return num1 + num2\n",
    "    elif operation == \"*\":\n",
    "        return num1 * num2\n",
    "    elif operation == \"/\":\n",
    "        return num1 / num2\n",
    "    else:\n",
    "        return \"Watch out. This is not permitted\""
   ]
  },
  {
   "cell_type": "code",
   "execution_count": null,
   "id": "8923e42c",
   "metadata": {},
   "outputs": [],
   "source": [
    "calculation (10, 4, operation=\"+\")"
   ]
  },
  {
   "cell_type": "code",
   "execution_count": null,
   "id": "f6d59ff5",
   "metadata": {},
   "outputs": [],
   "source": [
    "calculation (10, 4) # defaults we don't need to call"
   ]
  },
  {
   "cell_type": "markdown",
   "id": "a58e3590",
   "metadata": {},
   "source": [
    "Let's try different operations:"
   ]
  },
  {
   "cell_type": "code",
   "execution_count": null,
   "id": "b8a91b6d",
   "metadata": {},
   "outputs": [],
   "source": [
    "calculation (10, 4, \"*\")"
   ]
  },
  {
   "cell_type": "code",
   "execution_count": null,
   "id": "faa5f70a",
   "metadata": {},
   "outputs": [],
   "source": [
    "calculation (10, 4, \"/\")"
   ]
  },
  {
   "cell_type": "code",
   "execution_count": null,
   "id": "c5b8ebbc",
   "metadata": {},
   "outputs": [],
   "source": [
    "calculation (10, 4, \"**\") # else"
   ]
  },
  {
   "cell_type": "code",
   "execution_count": null,
   "id": "b701d546",
   "metadata": {},
   "outputs": [],
   "source": [
    "calculation (10, 4, \"//\") # else"
   ]
  },
  {
   "cell_type": "markdown",
   "id": "37fbea85",
   "metadata": {},
   "source": [
    "#### positional arguments & keyword arguments\n",
    "\n",
    "In Python functions, you can define parameters that accept values either through their position in the function call (positional arguments) or by specifying the parameter names explicitly (keyword arguments). Here's how they work:\n",
    "\n",
    "`def addition (num_1, some_name=withavalue)`\n",
    "\n",
    "#### Positional Arguments\n",
    "\n",
    "Positional arguments are passed to a function based on their position in the function call. The order of the arguments matters, and they are assigned to the corresponding parameters in the function definition.\n",
    "\n",
    "Example:\n",
    "\n",
    "```python\n",
    "def addition(num_1, num_2):\n",
    "    return num_1 + num_2\n",
    "\n",
    "result = addition(5, 3)  # num_1 gets 5, num_2 gets 3\n",
    "```\n",
    "\n",
    "#### Keyword Arguments\n",
    "\n",
    "Keyword arguments are passed by specifying the parameter names along with their values in the function call. This allows you to pass arguments out of order or omit some arguments if their default values are defined in the function.\n",
    "\n",
    "```python\n",
    "def greeting(name, age=30):\n",
    "    return f\"Hello, {name}! You are {age} years old.\"\n",
    "\n",
    "message = greeting(name=\"Alice\", age=25)\n",
    "```"
   ]
  },
  {
   "cell_type": "markdown",
   "id": "b77b53ca",
   "metadata": {},
   "source": [
    "#### `*args`\n",
    "\n",
    "In Python, the special parameter `*args` in a function is used to optionally pass a variable number of **positional** arguments. It allows you to pass any number of arguments to the function, and they are collected into a tuple.\n",
    "\n",
    "Let's apply what we've learned so far by working through a practical example. We'll create a Python function that calculates the total cost of a shopping cart. This function will take item prices as positional arguments and apply a discount using a keyword argument.\n",
    "\n",
    "But first, let's check a regular expression:"
   ]
  },
  {
   "cell_type": "code",
   "execution_count": null,
   "id": "bc375e98",
   "metadata": {},
   "outputs": [],
   "source": [
    "def addition (a, b, c):\n",
    "    return a + b + c"
   ]
  },
  {
   "cell_type": "code",
   "execution_count": null,
   "id": "3020c336",
   "metadata": {},
   "outputs": [],
   "source": [
    "addition(10, 4, 10)"
   ]
  },
  {
   "cell_type": "code",
   "execution_count": null,
   "id": "43417ee1",
   "metadata": {},
   "outputs": [],
   "source": [
    "addition(1, 2)"
   ]
  },
  {
   "cell_type": "markdown",
   "id": "7fee6e45",
   "metadata": {},
   "source": [
    "What `*args` provide to us, and `unkown number of arguments`"
   ]
  },
  {
   "cell_type": "code",
   "execution_count": null,
   "id": "79a12629",
   "metadata": {},
   "outputs": [],
   "source": [
    "def calculate_total_cost(discount=0, *items):\n",
    "    \"\"\"\n",
    "    Calculate the total cost of items in a shopping cart, considering an optional discount.\n",
    "\n",
    "    Args:\n",
    "        discount (float): A discount percentage (0-100) to apply to the total cost. Defaults to 0.\n",
    "        *items (float): Positional arguments representing the prices of individual items.\n",
    "\n",
    "    Returns:\n",
    "        float: The total cost after applying the discount.\n",
    "\n",
    "    Example:\n",
    "        >>> calculate_total_cost(10, 20, 30, 40)  # Applying a 10% discount to items\n",
    "        108.0\n",
    "    \"\"\"\n",
    "    total_cost = sum(items)\n",
    "    discounted_cost = total_cost * (1 - discount / 100)\n",
    "    return discounted_cost"
   ]
  },
  {
   "cell_type": "markdown",
   "id": "e2ec9579",
   "metadata": {},
   "source": [
    "In this example:\n",
    "\n",
    "- We define a function `calculate_total_cost` that accepts an optional discount (a percentage) as a keyword argument and any number of item prices as positional arguments using `*items`.\n",
    "- We calculate the total cost of the items by summing up their prices.\n",
    "- We apply the discount if provided, and the final cost is returned."
   ]
  },
  {
   "cell_type": "code",
   "execution_count": null,
   "id": "05860f96",
   "metadata": {},
   "outputs": [],
   "source": [
    "# Calculate the total cost of items with a 10% discount\n",
    "total1 = calculate_total_cost(10, 20, 30, 40)\n",
    "print(\"Total Cost (10% Discount):\", total1)"
   ]
  },
  {
   "cell_type": "code",
   "execution_count": null,
   "id": "5974500a",
   "metadata": {},
   "outputs": [],
   "source": [
    "# Calculate the total cost of items with a 20% discount\n",
    "total2 = calculate_total_cost(20, 50, 75, 100, 500)\n",
    "print(\"Total Cost (20% Discount):\", total2)"
   ]
  },
  {
   "cell_type": "markdown",
   "id": "67833de1",
   "metadata": {},
   "source": [
    "#### **kwargs\n",
    "\n",
    "In Python, `**kwargs` is a special parameter in a function that allows you to pass a variable number of keyword arguments. These keyword arguments are passed as a dictionary, allowing you to handle named arguments flexibly within your function. This can be especially useful when you want to provide optional parameters or handle a variety of keyword arguments in a single function. Let's explore how `**kwargs` works and how to use it effectively.\n",
    "\n",
    "**Example 1:**"
   ]
  },
  {
   "cell_type": "code",
   "execution_count": null,
   "id": "2b500cfb",
   "metadata": {},
   "outputs": [],
   "source": [
    "from typing import Dict, Any\n",
    "\n",
    "# Example 1: Using **kwargs for Keyword Arguments\n",
    "\n",
    "def display_user_info(name: str, age: int, **kwargs: Any) -> str:\n",
    "    \"\"\"\n",
    "    Displays user information.\n",
    "\n",
    "    Args:\n",
    "        name (str): The user's name.\n",
    "        age (int): The user's age.\n",
    "        **kwargs: Additional keyword arguments for user information (e.g., city, country).\n",
    "\n",
    "    Returns:\n",
    "        str: A formatted user information string.\n",
    "\n",
    "    Example:\n",
    "        >>> display_user_info(\"Alice\", 30, city=\"New York\", country=\"USA\")\n",
    "        'Name: Alice, Age: 30, City: New York, Country: USA'\n",
    "    \"\"\"\n",
    "    user_info = {\n",
    "        \"Name\": name,\n",
    "        \"Age\": age,\n",
    "        **kwargs,\n",
    "    }\n",
    "    info_str = \", \".join(f\"{key}: {value}\" for key, value in user_info.items())\n",
    "    return info_str"
   ]
  },
  {
   "cell_type": "code",
   "execution_count": null,
   "id": "52e82ecf",
   "metadata": {},
   "outputs": [],
   "source": [
    "# Example usage:\n",
    "user_info = display_user_info(\"Alice\", 30, city=\"New York\", country=\"USA\")\n",
    "print(user_info)"
   ]
  },
  {
   "cell_type": "code",
   "execution_count": null,
   "id": "77ce5545",
   "metadata": {},
   "outputs": [],
   "source": [
    "# Example 2: Using *args and **kwargs Together\n",
    "\n",
    "# when you annotate **kwargs with Dict[str, Any], you are indicating that it should be a dictionary where \n",
    "# the keys are strings, and the values can be of any data type.\n",
    "\n",
    "def process_data(*args: int, **kwargs: Dict[str, Any]) -> int:\n",
    "    \"\"\"\n",
    "    Processes data by performing operations on positional arguments and using keyword arguments.\n",
    "\n",
    "    Args:\n",
    "        *args (int): Variable number of integer values for processing.\n",
    "        **kwargs: Keyword arguments to specify the operation ('add' or 'multiply').\n",
    "\n",
    "    Returns:\n",
    "        int: The result of the data processing.\n",
    "\n",
    "    Example:\n",
    "        >>> process_data(2, 3, 4, operation='add')\n",
    "        9\n",
    "        >>> process_data(2, 3, 4, operation='multiply')\n",
    "        24\n",
    "    \"\"\"\n",
    "    # The first argument is the key we want to retrieve from the dictionary ('operation' in this case).\n",
    "    # The second argument is a default value that will be returned if the key is not found in the dictionary \n",
    "    # ('add' in this case).\n",
    "    operation = kwargs.get('operation', 'add')\n",
    "    \n",
    "    if operation == 'add':\n",
    "        result = sum(args)\n",
    "    elif operation == 'multiply':\n",
    "        result = 1\n",
    "        for value in args:\n",
    "            result *= value\n",
    "    else:\n",
    "        raise ValueError(\"Invalid operation specified.\")\n",
    "    \n",
    "    return result"
   ]
  },
  {
   "cell_type": "code",
   "execution_count": null,
   "id": "73533b82",
   "metadata": {},
   "outputs": [],
   "source": [
    "result1 = process_data(2, 3, 4, operation='add')\n",
    "result2 = process_data(2, 3, 4, operation='multiply')\n",
    "print(result1)\n",
    "print(result2)"
   ]
  },
  {
   "cell_type": "markdown",
   "id": "8821d732",
   "metadata": {},
   "source": [
    "#### order\n",
    "\n",
    "In Python, `**kwargs` is a commonly used name for the parameter that collects keyword arguments in a function. While you can technically use a different name for this parameter (e.g., `**custom_args`), it is a widely accepted convention to use `**kwargs` to make your code more readable and maintainable. Using the standard `**kwargs` name helps other Python developers understand your code and follow Python conventions.\n",
    "\n",
    "`def example(arg1, arg2, *args,**kwargs)`"
   ]
  },
  {
   "cell_type": "code",
   "execution_count": null,
   "id": "63a80e56",
   "metadata": {},
   "outputs": [],
   "source": [
    "def a_function (posarg1, posarg2, *args, **kwargs):\n",
    "    pass"
   ]
  },
  {
   "cell_type": "markdown",
   "id": "7cc86acc",
   "metadata": {},
   "source": [
    "Remember, `**kwargs` is always represented as a dictionary in Python. It is a special syntax that allows you to pass a variable number of keyword arguments to a function, and those keyword arguments are collected and stored as key-value pairs in a dictionary within the function."
   ]
  },
  {
   "cell_type": "markdown",
   "id": "e84ee79f",
   "metadata": {},
   "source": [
    "### Exercise: Sales Report Generator\n",
    "\n",
    "**Business Scenario:**\n",
    "Imagine you are working for a retail company that sells electronic gadgets. Your task is to create a Python program that generates sales reports based on various parameters. You need to define a function that takes multiple arguments, including optional ones, and returns a summary of sales data.\n",
    "\n",
    "**Instructions:**\n",
    "\n",
    "1. Define a function called `generate_sales_report` with the following parameters:\n",
    "   - `store_name` (str): The name of the retail store.\n",
    "   - `date` (str): The date for the sales report.\n",
    "   - `sales_data` (list of tuples): A list of sales data. Each tuple in the list represents the sale of an electronic gadget and contains the following elements:\n",
    "     - Item name (str)\n",
    "     - Unit price (float)\n",
    "     - Quantity sold (int)\n",
    "\n",
    "2. Use **data type annotations** to specify the expected data types for each parameter.\n",
    "\n",
    "3. Include a **docstring** that explains what the function does and describes each parameter.\n",
    "\n",
    "4. Implement the function to calculate and return the following information:\n",
    "   - The **total sales amount** for all items.\n",
    "   - The **average unit price** of the sold items.\n",
    "   - The **total number of items** sold.\n",
    "   - The **most expensive item** sold (item name and price).\n",
    "   - The **least expensive item** sold (item name and price).\n",
    "\n",
    "5. Use the `*args` parameter to allow for a variable number of sales data tuples. The function should be able to handle any number of sales data tuples.\n",
    "\n",
    "6. Use the `**kwargs` parameter to allow for optional keyword arguments. Include the following optional keyword arguments:\n",
    "   - `include_tax` (bool, default False): If True, calculate the total sales amount including a 10% sales tax.\n",
    "   - `currency` (str, default 'USD'): The currency symbol to use in the report.\n",
    "\n",
    "7. Create an example sales report using the `generate_sales_report` function. Include a mix of different gadgets, quantities, and prices in the sales data.\n",
    "\n",
    "8. Print the sales report, including all the calculated information, in a user-friendly format.\n",
    "\n",
    "9. Test the function with different sets of sales data and optional keyword arguments to ensure it works as expected.\n",
    "\n",
    "**Note:** You can assume that the sales data will always be provided as a list of tuples, but the number of sales data tuples can vary.\n",
    "\n",
    "This exercise will help you practice defining functions with various parameters, handling optional keyword arguments, and producing informative reports."
   ]
  },
  {
   "cell_type": "code",
   "execution_count": null,
   "id": "804008c2",
   "metadata": {},
   "outputs": [],
   "source": [
    "from typing import List, Tuple\n",
    "\n",
    "def generate_sales_report()  :\n",
    "    \"\"\"\n",
    "       COMMENT HERE\n",
    "    \"\"\"\n",
    "    # Your code here\n",
    "\n",
    "    return report\n",
    "\n",
    "# Example usage:\n",
    "sales_report = generate_sales_report(\"Gadget Store\", \"2023-09-15\", (\"Phone\", 499.99, 10), (\"Tablet\", 299.99, 5), include_tax=True, currency='EUR')\n",
    "print(sales_report)"
   ]
  },
  {
   "cell_type": "markdown",
   "id": "5a76c906",
   "metadata": {},
   "source": [
    "### return\n",
    "\n",
    "- The `return` statement is used to give something back from a function.\n",
    "- A function can have more than one `return` statement, but only one of them is executed when the function is called.\n",
    "- Importantly, after a function returns something, the execution of the function stops, and control is handed back to the caller.\n",
    "\n",
    "\n",
    "`function with return`:\n",
    "\n",
    "In Python, functions often include the `return` statement to provide a result or value back to the code that called the function. Here's an example of a simple function with a `return` statement:"
   ]
  },
  {
   "cell_type": "code",
   "execution_count": null,
   "id": "0c028389",
   "metadata": {},
   "outputs": [],
   "source": [
    "def addition_return (a, b):\n",
    "    return a + b"
   ]
  },
  {
   "cell_type": "code",
   "execution_count": null,
   "id": "0d7be21c",
   "metadata": {},
   "outputs": [],
   "source": [
    "addition_return (2, 3)"
   ]
  },
  {
   "cell_type": "markdown",
   "id": "0b503b81",
   "metadata": {},
   "source": [
    "In this example:\n",
    "\n",
    "- The function `addition_return` takes two arguments, `a` and `b`.\n",
    "- It uses the `return` statement to calculate the sum of `a` and `b`.\n",
    "- When you call this function with `addition_return(2, 3)`, it returns `5`, which is the result of adding `2` and `3`."
   ]
  },
  {
   "cell_type": "markdown",
   "id": "b61cca6c",
   "metadata": {},
   "source": [
    "`function with no return`: NoneType\n",
    "\n",
    "In Python, not all functions are designed to return a value. Some functions are intended to perform actions or operations without producing a specific result that needs to be captured. These functions are referred to as having a return type of `NoneType`, which is represented by the keyword `None`. When a function does not include a `return` statement or includes a `return` statement without an expression, it implicitly returns `None`.\n",
    "\n",
    "Let's explore functions with no return value using an example:"
   ]
  },
  {
   "cell_type": "code",
   "execution_count": null,
   "id": "03cf5bb8",
   "metadata": {},
   "outputs": [],
   "source": [
    "def addition_print(a, b):\n",
    "    print(a + b)"
   ]
  },
  {
   "cell_type": "code",
   "execution_count": null,
   "id": "2ec08a06",
   "metadata": {},
   "outputs": [],
   "source": [
    "addition_print(2, 3)"
   ]
  },
  {
   "cell_type": "markdown",
   "id": "20c9945b",
   "metadata": {},
   "source": [
    "In this example, the `addition_print` function takes two arguments, `a` and `b`, and performs the addition of these values. However, instead of using a return statement to provide a result, it uses the print function to display the result in the console.\n",
    "\n",
    "When you call `addition_print(2, 3)`, it performs the addition `2 + 3`, which results in `5`. However, there's no explicit return statement, so the function implicitly returns `None`. Therefore, if you were to assign the result of `addition_print(2, 3)` to a variable, that variable would hold the value `None`.\n",
    "\n",
    "Functions like these are commonly used when you want to perform some action or side effect, such as printing output, without returning a specific value.**But, what are the types?**\n"
   ]
  },
  {
   "cell_type": "code",
   "execution_count": null,
   "id": "f3b3d067",
   "metadata": {},
   "outputs": [],
   "source": [
    "type(addition_return (2, 3))"
   ]
  },
  {
   "cell_type": "code",
   "execution_count": null,
   "id": "99757fb5",
   "metadata": {},
   "outputs": [],
   "source": [
    "type(addition_print (2, 3))"
   ]
  },
  {
   "cell_type": "markdown",
   "id": "3f0b4787",
   "metadata": {},
   "source": [
    "`accessing the value of the result of the function`: print & return\n",
    "\n",
    "In Python, functions play a crucial role in performing various tasks and calculations. When you call a function, it can provide you with a result, which you might want to access or use in your program. This section explores two common ways to access the value of the result of a function: using `print` statements and utilizing the `return` statement.\n",
    "\n",
    "Let's delve into these two approaches to understand how they allow us to work with the results produced by functions. **Let's start with return:**\n"
   ]
  },
  {
   "cell_type": "code",
   "execution_count": null,
   "id": "fcb32bfa",
   "metadata": {},
   "outputs": [],
   "source": [
    "def addition (a, b):\n",
    "    return a + b"
   ]
  },
  {
   "cell_type": "code",
   "execution_count": null,
   "id": "b5203222",
   "metadata": {},
   "outputs": [],
   "source": [
    "addition (3, 5)"
   ]
  },
  {
   "cell_type": "code",
   "execution_count": null,
   "id": "412e2160",
   "metadata": {},
   "outputs": [],
   "source": [
    "result = addition (3, 5)"
   ]
  },
  {
   "cell_type": "code",
   "execution_count": null,
   "id": "be03cb6e",
   "metadata": {},
   "outputs": [],
   "source": [
    "result * 100"
   ]
  },
  {
   "cell_type": "code",
   "execution_count": null,
   "id": "ae49f5bb",
   "metadata": {},
   "outputs": [],
   "source": [
    "def greeting (name):\n",
    "    return f\"Hello! My name is {name}\"\n",
    "\n",
    "laura_says = greeting(\"Laura\")\n",
    "laura_says.upper()"
   ]
  },
  {
   "cell_type": "markdown",
   "id": "2ea59d04",
   "metadata": {},
   "source": [
    "**Now, with print:**"
   ]
  },
  {
   "cell_type": "code",
   "execution_count": null,
   "id": "dc72ddbd",
   "metadata": {},
   "outputs": [],
   "source": [
    "def greeting (name):\n",
    "    print(f\"Hello! My name is {name}\")"
   ]
  },
  {
   "cell_type": "code",
   "execution_count": null,
   "id": "258cf7d5",
   "metadata": {},
   "outputs": [],
   "source": [
    "laura_says = greeting(\"Laura\")"
   ]
  },
  {
   "cell_type": "code",
   "execution_count": null,
   "id": "34617699",
   "metadata": {},
   "outputs": [],
   "source": [
    "laura_says.upper()"
   ]
  },
  {
   "cell_type": "markdown",
   "id": "309bb330",
   "metadata": {},
   "source": [
    "`more than one return`\n",
    "\n",
    "In Python, functions are versatile tools that can perform multiple checks or tasks and provide results based on various conditions. This section explores the concept of having more than one return statement within a function.\n",
    "\n",
    "Consider the example function `password_validator`. It checks two conditions: the length of a password and the presence of a dash character (\"-\"). Depending on these conditions, the function may return different messages.\n",
    "\n",
    "Let's examine how functions can have multiple return points to provide different outcomes based on specific criteria.\n"
   ]
  },
  {
   "cell_type": "code",
   "execution_count": null,
   "id": "479b49f3",
   "metadata": {},
   "outputs": [],
   "source": [
    "def password_validator (password):\n",
    "    \n",
    "    if len(password) > 8:\n",
    "        print(\"long\")\n",
    "        \n",
    "    if \"-\" in password:\n",
    "        print(\"there's a dash\")\n"
   ]
  },
  {
   "cell_type": "code",
   "execution_count": null,
   "id": "fd673246",
   "metadata": {},
   "outputs": [],
   "source": [
    "password_validator (\"test-8characters\")"
   ]
  },
  {
   "cell_type": "markdown",
   "id": "a49885c6",
   "metadata": {},
   "source": [
    "Another example:"
   ]
  },
  {
   "cell_type": "code",
   "execution_count": null,
   "id": "25678952",
   "metadata": {},
   "outputs": [],
   "source": [
    "def password_validator (password):\n",
    "    \n",
    "    if len(password) > 8:\n",
    "        print(\"BEFORE RETURN\")\n",
    "        return \"ok\"\n",
    "        print(\"AFTER RETURN\")\n",
    "        \n",
    "    if \"-\" in password:\n",
    "        print(\"BEFORE RETURN\")\n",
    "        return \"ok2\"\n",
    "        print(\"AFTER RETURN\")"
   ]
  },
  {
   "cell_type": "markdown",
   "id": "f78d8de1",
   "metadata": {},
   "source": [
    "password_validator (\"test-8characters\")"
   ]
  },
  {
   "cell_type": "markdown",
   "id": "d4a7b05b",
   "metadata": {},
   "source": [
    "### Docstrings: documentation strings"
   ]
  },
  {
   "cell_type": "markdown",
   "id": "65bd3a59",
   "metadata": {},
   "source": [
    "In programming, writing code that is clear, concise, and well-documented is essential. Code isn't just for computers; it's also for humans who read, understand, and maintain it. The quality of your code can significantly impact your team's productivity and collaboration.\n",
    "\n",
    "### The Importance of Code Readability\n",
    "\n",
    "1. **Written Once, Read Many Times**: Code is typically written once but read and maintained many times throughout its lifespan. Therefore, it's crucial to make your code easy to understand.\n",
    "\n",
    "2. **Understanding Your Work**: When you write code, think about your colleagues and future developers who may need to work with it. Clear and self-explanatory code helps them understand your intentions.\n",
    "\n",
    "3. **Documentation with Docstrings**: One way to improve code clarity is by using docstrings. A docstring is a multi-line comment that describes a function, class, or module's purpose, parameters, and return values.\n",
    "\n",
    "### Example: The Cat Function\n",
    "\n",
    "In this example, we've defined a simple function called `cat`. This function returns the string \"meow.\" To make this code more comprehensible, we've added a docstring that explains what the `cat` function does.\n"
   ]
  },
  {
   "cell_type": "code",
   "execution_count": null,
   "id": "288ce2bd",
   "metadata": {},
   "outputs": [],
   "source": [
    "def cat():\n",
    "    \"\"\"\n",
    "    This function returns the sound of a cat, which is 'meow.'\n",
    "    \"\"\"\n",
    "    return \"meow\""
   ]
  },
  {
   "cell_type": "markdown",
   "id": "14e0777b",
   "metadata": {},
   "source": [
    "In this example, we have defined a cat function that returns meow. We have declared a docstring that explains what the function does. To get the docstring of a function, we need to display the doc attribute (print(cat.__doc__))\n",
    "Photo reference, description and more info about docstring [here](https://techiestuff.netlify.app/blog/what-is-a-python-docstring/)"
   ]
  },
  {
   "cell_type": "code",
   "execution_count": null,
   "id": "23dba97f",
   "metadata": {},
   "outputs": [],
   "source": [
    "cat.__doc__"
   ]
  },
  {
   "cell_type": "code",
   "execution_count": null,
   "id": "620ff812",
   "metadata": {},
   "outputs": [],
   "source": [
    "help(cat)"
   ]
  },
  {
   "cell_type": "markdown",
   "id": "64cd7628",
   "metadata": {},
   "source": [
    "Clean code standards for docstring:"
   ]
  },
  {
   "cell_type": "code",
   "execution_count": null,
   "id": "3f02a6d4",
   "metadata": {},
   "outputs": [],
   "source": [
    "\"\"\"\n",
    "Describes the function's purpose and usage.\n",
    "\n",
    "Parameters:\n",
    "    param_1 (data_type): Description of the first parameter.\n",
    "    param_2 (data_type): Description of the second parameter. (If applicable)\n",
    "    ...\n",
    "    param_n (data_type): Description of the nth parameter. (If applicable)\n",
    "    \n",
    "Arguments:\n",
    "    arg_1 (data_type): Description of the first argument. (If applicable)\n",
    "    arg_2 (data_type): Description of the second argument. (If applicable)\n",
    "    ...\n",
    "    arg_n (data_type): Description of the nth argument. (If applicable)\n",
    "\n",
    "Keyword Arguments:\n",
    "    kwarg_1 (data_type): Description of the first keyword argument. (If applicable)\n",
    "    kwarg_2 (data_type): Description of the second keyword argument. (If applicable)\n",
    "    ...\n",
    "    kwarg_n (data_type): Description of the nth keyword argument. (If applicable)\n",
    "\n",
    "Returns:\n",
    "    return_type: Description of the return value.\n",
    "\n",
    "Examples:\n",
    "    >>> function_name(arg_1, arg_2, kwarg_1=value)\n",
    "    Expected output or description of the result.\n",
    "    >>> another_function(arg)\n",
    "    Expected output or description of the result.\n",
    "\"\"\""
   ]
  },
  {
   "cell_type": "markdown",
   "id": "1bcd1e17",
   "metadata": {},
   "source": [
    "### source code\n",
    "\n",
    "In this section, we'll explore how to access and print the source code of a function using Python's `inspect` module. We'll learn how to retrieve the actual code that defines a function. This can be useful for understanding how a function is implemented or for debugging purposes.\n",
    "\n",
    "Let's dive into how you can access and display the source code of a function in Python."
   ]
  },
  {
   "cell_type": "code",
   "execution_count": null,
   "id": "6a6334c9",
   "metadata": {},
   "outputs": [],
   "source": [
    "import inspect\n",
    "print(inspect.getsource(cat))"
   ]
  },
  {
   "cell_type": "markdown",
   "id": "86c5ccda",
   "metadata": {
    "lang": "en"
   },
   "source": [
    "## Scope of functions\n",
    "\n",
    "In Python, the scope of a variable refers to the region of code where that variable can be accessed or modified. Understanding variable scope is crucial when working with functions, as it determines which variables a function can see and manipulate.\n",
    "\n",
    "There are two main directions of variable scope in Python: \"outer to inner\" and \"inner to outer.\" In the \"outer to inner\" direction, variables defined outside a function are accessible within the function. In the \"inner to outer\" direction, variables defined within a function are not accessible outside that function.\n",
    "\n",
    "We'll explore both of these scenarios and discuss how variable scope affects function behavior."
   ]
  },
  {
   "cell_type": "markdown",
   "id": "a353567d",
   "metadata": {},
   "source": [
    "`outer to inner`"
   ]
  },
  {
   "cell_type": "code",
   "execution_count": null,
   "id": "3ac13319",
   "metadata": {},
   "outputs": [],
   "source": [
    "def addition (a, b):\n",
    "    return a + b\n",
    "\n",
    "a = 10\n",
    "\n",
    "addition(a, 10)"
   ]
  },
  {
   "cell_type": "code",
   "execution_count": null,
   "id": "7264106c",
   "metadata": {},
   "outputs": [],
   "source": [
    "print(a)"
   ]
  },
  {
   "cell_type": "markdown",
   "id": "c26ce173",
   "metadata": {},
   "source": [
    "`inner to outter` "
   ]
  },
  {
   "cell_type": "code",
   "execution_count": null,
   "id": "c481462a",
   "metadata": {},
   "outputs": [],
   "source": [
    "def addition (a, b):\n",
    "    d = a + b\n",
    "    return c\n",
    "\n",
    "addition(10, 10)"
   ]
  },
  {
   "cell_type": "code",
   "execution_count": null,
   "id": "9543059d",
   "metadata": {},
   "outputs": [],
   "source": [
    "print(d)"
   ]
  },
  {
   "cell_type": "markdown",
   "id": "80ccf4fe",
   "metadata": {},
   "source": [
    "[Extra: global variables](https://www.w3schools.com/python/python_variables_global.asp)"
   ]
  },
  {
   "cell_type": "markdown",
   "id": "28a2d72b",
   "metadata": {
    "lang": "en"
   },
   "source": [
    "## Lambda\n",
    "Lambda functions, also known as anonymous functions, are a concise way to define small, simple functions in Python. Unlike regular functions defined using the `def` keyword, lambda functions are anonymous and often used for short, one-off operations.\n",
    "\n",
    "### Syntax of a Lambda Function\n",
    "\n",
    "A lambda function has the following syntax:\n",
    "\n",
    "```python\n",
    "lambda <param list>:<return expression>\n",
    "```\n",
    "In this syntax, `<param list>` represents the list of parameters the lambda function takes, and `<return expression>` is the expression that defines what the lambda function returns. Lambda functions are particularly useful when you need to pass a simple function as an argument to another function or use them in situations where a full function definition is unnecessary."
   ]
  },
  {
   "cell_type": "code",
   "execution_count": null,
   "id": "70f92966",
   "metadata": {},
   "outputs": [],
   "source": [
    "# Example 1: Lambda function that adds two numbers\n",
    "add = lambda x, y: x + y\n",
    "result = add(3, 5)  # Result will be 8"
   ]
  },
  {
   "cell_type": "code",
   "execution_count": null,
   "id": "bb727a71",
   "metadata": {},
   "outputs": [],
   "source": [
    "# Example 2: Lambda function that calculates the square of a number\n",
    "square = lambda x: x ** 2\n",
    "result = square(4)  # Result will be 16"
   ]
  },
  {
   "cell_type": "code",
   "execution_count": null,
   "id": "b9db6d51",
   "metadata": {},
   "outputs": [],
   "source": [
    "# Example 3: Lambda function to check if a number is even\n",
    "is_even = lambda x: x % 2 == 0\n",
    "result = is_even(6)  # Result will be True"
   ]
  },
  {
   "cell_type": "code",
   "execution_count": null,
   "id": "df627f42",
   "metadata": {},
   "outputs": [],
   "source": [
    "# Example 4: Lambda function to extract the last character of a string\n",
    "get_last_char = lambda s: s[-1]\n",
    "result = get_last_char(\"Hello\")  # Result will be \"o\""
   ]
  },
  {
   "cell_type": "markdown",
   "id": "5add6142",
   "metadata": {},
   "source": [
    "These lambda functions are concise and can be used in situations where you need a quick, short function to perform a specific task. Lambda functions are often used with functions like `map()`, `filter()`, and `sorted()` to define custom behavior for sorting or processing data.\n",
    "\n",
    "\n",
    "### Lambda challenge\n",
    "\n",
    "Convert this regular functions into lambda. **Challenge 1:**"
   ]
  },
  {
   "cell_type": "code",
   "execution_count": null,
   "id": "dd5493ea",
   "metadata": {},
   "outputs": [],
   "source": [
    "def add(a, b):\n",
    "    return a + b"
   ]
  },
  {
   "cell_type": "code",
   "execution_count": null,
   "id": "6237abf3",
   "metadata": {},
   "outputs": [],
   "source": [
    "# your code here"
   ]
  },
  {
   "cell_type": "markdown",
   "id": "8c07de69",
   "metadata": {},
   "source": [
    "**Challenge 2:**"
   ]
  },
  {
   "cell_type": "code",
   "execution_count": null,
   "id": "9bfaf3b5",
   "metadata": {},
   "outputs": [],
   "source": [
    "def square(x):\n",
    "    return x ** 2"
   ]
  },
  {
   "cell_type": "code",
   "execution_count": null,
   "id": "30643e09",
   "metadata": {},
   "outputs": [],
   "source": [
    "# your code here"
   ]
  },
  {
   "cell_type": "markdown",
   "id": "71527046",
   "metadata": {},
   "source": [
    "**Challenge 3:**"
   ]
  },
  {
   "cell_type": "code",
   "execution_count": null,
   "id": "cd9679c2",
   "metadata": {},
   "outputs": [],
   "source": [
    "def is_even(num):\n",
    "    return num % 2 == 0"
   ]
  },
  {
   "cell_type": "code",
   "execution_count": null,
   "id": "c3fce30a",
   "metadata": {},
   "outputs": [],
   "source": [
    "# your code here"
   ]
  },
  {
   "cell_type": "markdown",
   "id": "6f67a9bf",
   "metadata": {},
   "source": [
    "### `lambda`  as the option of some other built-in functions\n",
    "\n",
    "In addition to using `lambda` functions in standalone expressions, they can also be employed as arguments in calls to other functions. This capability allows for custom behavior when working with various built-in functions, such as `sorted()`, `filter()`, `map()`, and more.\n",
    "\n",
    "One common use case is providing a `lambda` function as an argument to the key parameter in sorting functions like `sorted()` and `list.sort()`. This enables you to define custom sorting criteria for your data.\n",
    "\n",
    "Here's a general syntax example of using `lambda` functions as sorting keys:"
   ]
  },
  {
   "cell_type": "code",
   "execution_count": null,
   "id": "31abf911",
   "metadata": {},
   "outputs": [],
   "source": [
    "sorted_list = sorted(iterable, key=lambda item: custom_sort_logic(item))"
   ]
  },
  {
   "cell_type": "markdown",
   "id": "37d4bc2b",
   "metadata": {},
   "source": [
    "In this syntax:\n",
    "\n",
    "- `iterable` is the collection of items you want to sort.\n",
    "- `custom_sort_logic(item)` is the lambda function that defines how items should be compared and sorted based on some custom logic.\n",
    "\n",
    "Let's take a look at an example to illustrate this concept further:"
   ]
  },
  {
   "cell_type": "code",
   "execution_count": null,
   "id": "e037ed5a",
   "metadata": {},
   "outputs": [],
   "source": [
    "students = [\n",
    "    {\"name\": \"Alice\", \"age\": 25},\n",
    "    {\"name\": \"Bob\", \"age\": 22},\n",
    "    {\"name\": \"Charlie\", \"age\": 28},\n",
    "]\n",
    "\n",
    "# Sort the students based on their ages using a lambda function\n",
    "sorted_students = sorted(students, key=lambda student: student[\"age\"])\n",
    "\n",
    "print(sorted_students)"
   ]
  },
  {
   "cell_type": "markdown",
   "id": "8463923f",
   "metadata": {},
   "source": [
    "In this example, we use a `lambda` function as the `key` argument in the `sorted()` function to sort the list of students based on their ages. The `lambda` function specifies that we want to sort the students by their **\"age\"** key.\n",
    "\n",
    "This flexibility of using `lambda` functions as arguments allows you to tailor the behavior of built-in functions to suit your specific requirements, making your code more expressive and adaptable."
   ]
  },
  {
   "cell_type": "markdown",
   "id": "51204969",
   "metadata": {},
   "source": [
    "## Functions: functions as return of another function\n",
    "\n",
    "In Python, functions are not limited to being just blocks of code that perform specific tasks; they can also be used as data. This means you can define functions inside other functions and even return functions from other functions.\n",
    "\n",
    "Functions that return other functions are known as higher-order functions. These higher-order functions allow you to create specialized functions on the fly, making your code more dynamic and adaptable. Here's how it works:\n",
    "\n",
    "1. A function can be defined within another function.\n",
    "2. The inner function can capture and remember the variables from its containing (outer) function. This concept is known as \"closure.\"\n",
    "3. The outer function can return the inner function as a result.\n",
    "\n",
    "This functionality enables you to customize the behavior of functions based on certain conditions or configurations, which can be extremely useful in various programming scenarios.\n",
    "\n",
    "Let's explore this concept further with some examples to see how functions can be returned from other functions.\n"
   ]
  },
  {
   "cell_type": "code",
   "execution_count": null,
   "id": "8f32911f",
   "metadata": {},
   "outputs": [],
   "source": [
    "def greater_function (a, b):\n",
    "    if a > b:\n",
    "        return a\n",
    "    elif b > a:\n",
    "        return b"
   ]
  },
  {
   "cell_type": "code",
   "execution_count": null,
   "id": "abb606b1",
   "metadata": {},
   "outputs": [],
   "source": [
    "greater_function (3, 10)"
   ]
  },
  {
   "cell_type": "code",
   "execution_count": null,
   "id": "f08c4f12",
   "metadata": {},
   "outputs": [],
   "source": [
    "def lesser_function (x, y):\n",
    "    if x > y:\n",
    "        return y\n",
    "    elif y > x:\n",
    "        return x"
   ]
  },
  {
   "cell_type": "code",
   "execution_count": null,
   "id": "ceb69a36",
   "metadata": {},
   "outputs": [],
   "source": [
    "lesser_function (3, 10)"
   ]
  },
  {
   "cell_type": "code",
   "execution_count": null,
   "id": "216673ca",
   "metadata": {},
   "outputs": [],
   "source": [
    "def comparison (type_of_comparison): # lesser, greater\n",
    "    if type_of_comparison == \"greater\":\n",
    "        return greater_function\n",
    "    \n",
    "    elif type_of_comparison == \"lesser\":\n",
    "        return lesser_function"
   ]
  },
  {
   "cell_type": "code",
   "execution_count": null,
   "id": "581ecfc7",
   "metadata": {},
   "outputs": [],
   "source": [
    "comparison(\"greater\")(3, 10)"
   ]
  },
  {
   "cell_type": "code",
   "execution_count": null,
   "id": "d53723db",
   "metadata": {},
   "outputs": [],
   "source": [
    "comparison(\"lesser\")(3, 10)"
   ]
  },
  {
   "cell_type": "markdown",
   "id": "709d11f3",
   "metadata": {},
   "source": [
    "In the given example:\n",
    "\n",
    "1. We have three functions: `greater_function`, `lesser_function`, and `comparison`.\n",
    "\n",
    "2. `greater_function` and `lesser_function` are responsible for comparing two values and returning the greater or lesser value, respectively.\n",
    "\n",
    "3. The `comparison` function takes a `type_of_comparison` argument, which can be either \"greater\" or \"lesser.\"\n",
    "\n",
    "4. Inside the `comparison` function, we use conditional statements to determine which function (`greater_function` or `lesser_function`) to return based on the `type_of_comparison`.\n",
    "\n",
    "5. When we call `comparison(\"greater\")`, it returns a reference to `greater_function` but does not execute it immediately.\n",
    "\n",
    "6. Now that we have a reference to `greater_function`, we can invoke it with specific arguments, such as `greater_function(3, 10)`.\n",
    "\n",
    "7. The call `comparison(\"greater\")(3, 10)` is equivalent to `greater_function(3, 10)`, where `greater_function` is executed with the arguments `3` and `10`.\n",
    "\n",
    "8. As a result, it returns the greater of the two numbers, which is `10`.\n",
    "\n",
    "This demonstrates the concept of returning functions as first-class objects in Python, allowing for dynamic selection and execution of functions based on conditions. Using lambda, inside a function:\n"
   ]
  },
  {
   "cell_type": "code",
   "execution_count": null,
   "id": "c4e20987",
   "metadata": {},
   "outputs": [],
   "source": [
    "def comparison (type_of_comparison): # lesser, greater\n",
    "    if type_of_comparison == \"greater\":\n",
    "        return greater_function\n",
    "    \n",
    "    elif type_of_comparison == \"lesser\":\n",
    "        return lambda x, y: x if x < y else y"
   ]
  },
  {
   "cell_type": "code",
   "execution_count": null,
   "id": "8a120314",
   "metadata": {},
   "outputs": [],
   "source": [
    "comparison(\"lesser\")(3, 10)"
   ]
  },
  {
   "cell_type": "markdown",
   "id": "f90508d9",
   "metadata": {
    "lang": "en"
   },
   "source": [
    "## Recursion\n",
    "It is called recursive call (or recursion), to those functions that in their algorithm, refer to itself.\n",
    "\n",
    "Recursive calls are usually very useful in very specific cases, but due to their great feasibility of falling into infinite iterations, adequate preventive measures should be taken and only used when strictly necessary and there is no viable alternative way to solve the problem. avoiding recursion.\n",
    "\n",
    "Python supports recursive calls, allowing a function to call itself, just as it does when calling another function."
   ]
  },
  {
   "cell_type": "code",
   "execution_count": null,
   "id": "ac573bbc",
   "metadata": {},
   "outputs": [],
   "source": [
    "def user ():\n",
    "    \n",
    "    value = input(\"Please enter a value less than 5: \")\n",
    "    \n",
    "    while int(value) > 5:\n",
    "        value = input(\"Please enter a value less than 5: \")\n",
    "        \n",
    "    return int(value)"
   ]
  },
  {
   "cell_type": "code",
   "execution_count": null,
   "id": "b63b5f66",
   "metadata": {},
   "outputs": [],
   "source": [
    "user()"
   ]
  },
  {
   "cell_type": "markdown",
   "id": "419b6db5",
   "metadata": {},
   "source": [
    "`ins't it the same as a while loop?`"
   ]
  },
  {
   "cell_type": "code",
   "execution_count": null,
   "id": "00fb81e1",
   "metadata": {},
   "outputs": [],
   "source": [
    "def user ():\n",
    "    \n",
    "    value = input(\"Please enter a value less than 5: \")\n",
    "    \n",
    "    if int(value) > 5:\n",
    "        user()\n",
    "        \n",
    "    return int(value)"
   ]
  },
  {
   "cell_type": "code",
   "execution_count": null,
   "id": "948f43bd",
   "metadata": {},
   "outputs": [],
   "source": [
    "user()"
   ]
  },
  {
   "cell_type": "markdown",
   "id": "cff37fea",
   "metadata": {},
   "source": [
    "## Business challenge: Yoga Class Management\n",
    "\n",
    "### Task Description:\n",
    "\n",
    "Imagine you are developing a program to manage yoga classes and students. Create a Python program that handles the following tasks:\n",
    "\n",
    "**1. Create Yoga Classes:**\n",
    "\n",
    "   Write a Python function called `create_yoga_class` that allows the user to create a new yoga class. The function should store information about the class, such as the class name, date, time, and maximum capacity. Use a dictionary to represent a class.\n",
    "\n",
    "**2. Register Students:**\n",
    "\n",
    "   Implement a function called `register_student` that allows students to register for a specific yoga class. Ensure that the program checks if the class is full before allowing registration.\n",
    "\n",
    "**3. Display Class Details:**\n",
    "\n",
    "   Write a function named `display_class_details` that takes a yoga class dictionary as input and displays all its details, including the class name, date, time, registered students, and available spots.\n",
    "\n",
    "**4. List All Classes:**\n",
    "\n",
    "   Create a function called `list_all_classes` that displays a list of all available yoga classes with their names and the number of available spots.\n",
    "\n",
    "**5. Search for Classes:**\n",
    "\n",
    "   Implement a function called `search_classes` that allows the user to search for yoga classes by specifying criteria such as date, time, or class name. Display a list of matching classes.\n",
    "\n",
    "**6. Remove Students:**\n",
    "\n",
    "   Write a function named `remove_student` that removes a student from a yoga class if they need to cancel their registration.\n",
    "\n",
    "**7. Generate Attendance Report:**\n",
    "\n",
    "   Create a function called `generate_attendance_report` that generates an attendance report for a specific yoga class. The report should include the names of all registered students.\n",
    "\n",
    "**Additional Instructions:**\n",
    "\n",
    "- Use appropriate data structures (lists, dictionaries) for storing yoga class information and managing student registrations.\n",
    "- Ensure that functions include proper docstrings, data type annotations, and clear variable naming.\n",
    "- Test your functions with sample data to verify their correctness.\n",
    "- Allow the program to handle multiple yoga classes simultaneously.\n",
    "\n",
    "**Bonus Challenge:**\n",
    "\n",
    "Extend the exercise by implementing user authentication to allow only authorized instructors to create and manage classes.\n",
    "\n",
    "This exercise will help students practice creating and using functions to manage yoga classes and students effectively.\n"
   ]
  },
  {
   "cell_type": "code",
   "execution_count": null,
   "id": "95c13bf2",
   "metadata": {},
   "outputs": [],
   "source": [
    "# Dictionary to store yoga classes and their details\n",
    "yoga_classes = {}\n",
    "\n",
    "\n",
    "def create_yoga_class(name, date, time, max_capacity):\n",
    "    #[your code here]\n",
    "\n",
    "\n",
    "def register_student(class_name, student_name):\n",
    "    #[your code here]\n",
    "\n",
    "\n",
    "def remove_student(class_name, student_name):\n",
    "    #[your code here]\n",
    "\n",
    "\n",
    "def generate_attendance_report(class_name):\n",
    "    #[your code here]\n",
    "\n",
    "\n",
    "def list_all_classes():\n",
    "    #[your code here]\n",
    "\n",
    "\n",
    "def search_classes(criteria):\n",
    "    #[your code here]\n",
    "\n",
    "\n",
    "# Sample usage of the functions\n",
    "print(create_yoga_class(\"Hatha Yoga\", \"2023-09-20\", \"10:00 AM\", 10))\n",
    "print(create_yoga_class(\"Vinyasa Flow\", \"2023-09-21\", \"2:00 PM\", 15))\n",
    "print(register_student(\"Hatha Yoga\", \"Alice\"))\n",
    "print(register_student(\"Hatha Yoga\", \"Bob\"))\n",
    "print(register_student(\"Vinyasa Flow\", \"Carol\"))\n",
    "print(generate_attendance_report(\"Hatha Yoga\"))\n",
    "print(remove_student(\"Hatha Yoga\", \"Alice\"))\n",
    "print(list_all_classes())\n",
    "print(search_classes(\"Vinyasa\"))"
   ]
  },
  {
   "cell_type": "markdown",
   "id": "4cb268d0",
   "metadata": {
    "lang": "en"
   },
   "source": [
    "## Summary"
   ]
  },
  {
   "cell_type": "markdown",
   "id": "f2f15921",
   "metadata": {},
   "source": [
    "- **FUNCTIONS**\n",
    "    - Code that performs actions.\n",
    "    - Three main types:\n",
    "        - Built-in\n",
    "        - User-defined\n",
    "        - Lambda\n",
    "            - Temporary and on-the-spot for simple tasks.\n",
    "            - Similar syntax to list comprehensions.\n",
    "            - Commonly used in pandas and other functions like `sorted(iterable, key=lambda...)`.\n",
    "\n",
    "- **PARADIGMS FOR CODING**\n",
    "    - Imperative\n",
    "    - Object-Oriented Programming (OOP)\n",
    "    - Functional\n",
    "\n",
    "- **PROCESS**\n",
    "    - 1. Define a function: `def name():`\n",
    "    - 2. Call a function: `name()`\n",
    "\n",
    "- **PARAMETERS**\n",
    "    - Parameters vs. Arguments\n",
    "        - Parameters: (placeholder1, placeholder2)\n",
    "        - Arguments: (3, 5)\n",
    "    - `*args`: For a variable number of arguments.\n",
    "    - `**kwargs`: For a variable number of keyword arguments.\n",
    "    - Default Parameters: `param_default=30`\n",
    "\n",
    "- **RETURN**\n",
    "    - Stops code execution after reading/executing.\n",
    "        - Be cautious with loops and multiple conditions.\n",
    "    - Allows storing the result in a variable.\n",
    "    - Functions can return variables and even other functions.\n",
    "    - Difference between `return` and `print`:\n",
    "        - `return`: Provides a value/something.\n",
    "        - `print`: Gives you NoneType; not suitable for further use.\n",
    "\n",
    "- **SCOPE**\n",
    "    - What happens in the function stays in the function unless saved to a return value.\n",
    "    \n",
    "    ```python\n",
    "    def addition(a, b):\n",
    "        something = a + b\n",
    "        return something\n",
    "    \n",
    "    result = addition(3, 5)\n",
    "    ```\n",
    "\n",
    "- **CALLING FUNCTIONS**\n",
    "    - Functions can be called inside other functions.\n",
    "    - Functions can call themselves (recursive functions).\n",
    "\n",
    "- **DOCSTRINGS**\n",
    "    - Descriptions of functions:\n",
    "        - What the function does.\n",
    "        - Parameters it accepts.\n",
    "        - What it returns.\n"
   ]
  },
  {
   "cell_type": "markdown",
   "id": "a9e5057e",
   "metadata": {},
   "source": [
    "## Solutions"
   ]
  },
  {
   "cell_type": "code",
   "execution_count": null,
   "id": "670b21ca",
   "metadata": {},
   "outputs": [],
   "source": [
    "# Exercise: Paradigm Exploration\n",
    "\n",
    "# Imperative Paradigm (Procedural Programming)\n",
    "# -------------------------------------------\n",
    "numbers = [1, 2, 3, 4, 5]\n",
    "sum_result = 0\n",
    "\n",
    "for num in numbers:\n",
    "    sum_result += num\n",
    "\n",
    "print(\"Imperative Paradigm Result:\", sum_result)\n",
    "\n",
    "# Object-Oriented Paradigm\n",
    "# -------------------------------------------\n",
    "class NumberProcessor:\n",
    "    def __init__(self, numbers):\n",
    "        self.numbers = numbers\n",
    "\n",
    "    def calculate_sum(self):\n",
    "        return sum(self.numbers)\n",
    "\n",
    "# Instantiate the class and call the method\n",
    "number_processor = NumberProcessor([1, 2, 3, 4, 5])\n",
    "result_object_oriented = number_processor.calculate_sum()\n",
    "print(\"Object-Oriented Paradigm Result:\", result_object_oriented)\n",
    "\n",
    "# Functional Paradigm\n",
    "# -------------------------------------------\n",
    "from functools import reduce\n",
    "\n",
    "def calculate_sum_functional(numbers):\n",
    "    return reduce(lambda x, y: x + y, numbers)\n",
    "\n",
    "# Call the function\n",
    "numbers = [1, 2, 3, 4, 5]\n",
    "result_functional = calculate_sum_functional(numbers)\n",
    "print(\"Functional Paradigm Result:\", result_functional)"
   ]
  },
  {
   "cell_type": "code",
   "execution_count": null,
   "id": "4ec427fb",
   "metadata": {},
   "outputs": [],
   "source": [
    "# Exercise: Sales Report Generator\n",
    "from typing import List, Tuple\n",
    "\n",
    "def generate_sales_report(store_name: str, date: str, *sales_data: Tuple[str, float, int], **kwargs) -> str:\n",
    "    \"\"\"\n",
    "    Generates a sales report based on store sales data.\n",
    "\n",
    "    Args:\n",
    "        store_name (str): The name of the retail store.\n",
    "        date (str): The date for the sales report.\n",
    "        *sales_data (Tuple[str, float, int]): Variable number of sales data tuples.\n",
    "            Each tuple contains (Item name, Unit price, Quantity sold).\n",
    "        **kwargs: Optional keyword arguments.\n",
    "            - include_tax (bool, default False): If True, calculate total sales with tax.\n",
    "            - currency (str, default 'USD'): The currency symbol to use in the report.\n",
    "\n",
    "    Returns:\n",
    "        str: A formatted sales report.\n",
    "\n",
    "    Example:\n",
    "        >>> generate_sales_report(\"Gadget Store\", \"2023-09-15\", (\"Phone\", 499.99, 10), (\"Tablet\", 299.99, 5), include_tax=True, currency='EUR')\n",
    "    \"\"\"\n",
    "    include_tax = kwargs.get('include_tax', False)\n",
    "    currency = kwargs.get('currency', 'USD')\n",
    "\n",
    "    total_sales = sum(price * quantity for _, price, quantity in sales_data)\n",
    "    total_items_sold = sum(quantity for _, _, quantity in sales_data)\n",
    "    average_unit_price = total_sales / total_items_sold if total_items_sold > 0 else 0.0\n",
    "\n",
    "    if include_tax:\n",
    "        total_sales_with_tax = total_sales * 1.10  # 10% sales tax\n",
    "    else:\n",
    "        total_sales_with_tax = total_sales\n",
    "\n",
    "    most_expensive_item = max(sales_data, key=lambda x: x[1])\n",
    "    least_expensive_item = min(sales_data, key=lambda x: x[1])\n",
    "\n",
    "    report = f\"Sales Report for {store_name} ({date})\\n\"\n",
    "    report += f\"---------------------------------\\n\"\n",
    "    report += f\"Total Sales Amount: {currency}{total_sales:.2f}\\n\"\n",
    "    report += f\"Average Unit Price: {currency}{average_unit_price:.2f}\\n\"\n",
    "    report += f\"Total Items Sold: {total_items_sold}\\n\"\n",
    "    report += f\"Most Expensive Item: {most_expensive_item[0]} ({currency}{most_expensive_item[1]:.2f})\\n\"\n",
    "    report += f\"Least Expensive Item: {least_expensive_item[0]} ({currency}{least_expensive_item[1]:.2f})\\n\"\n",
    "\n",
    "    if include_tax:\n",
    "        report += f\"Total Sales Amount (with 10% Tax): {currency}{total_sales_with_tax:.2f}\\n\"\n",
    "\n",
    "    return report\n",
    "\n",
    "# Example usage:\n",
    "sales_report = generate_sales_report(\"Gadget Store\", \"2023-09-15\", (\"Phone\", 499.99, 10), (\"Tablet\", 299.99, 5), include_tax=True, currency='EUR')\n",
    "print(sales_report)\n"
   ]
  },
  {
   "cell_type": "code",
   "execution_count": null,
   "id": "49cb040e",
   "metadata": {},
   "outputs": [],
   "source": [
    "# Business challenge: Yoga Class Management (Clean code)\n",
    "from typing import Dict, List, Optional\n",
    "\n",
    "# Dictionary to store yoga classes and their details\n",
    "yoga_classes: Dict[str, Dict[str, List[str]]] = {}\n",
    "\n",
    "\n",
    "def create_yoga_class(\n",
    "    name: str,\n",
    "    date: str,\n",
    "    time: str,\n",
    "    max_capacity: int\n",
    ") -> str:\n",
    "    \"\"\"\n",
    "    Create a new yoga class.\n",
    "\n",
    "    Args:\n",
    "        name (str): The name of the yoga class.\n",
    "        date (str): The date of the class (e.g., \"2023-09-20\").\n",
    "        time (str): The time of the class (e.g., \"10:00 AM\").\n",
    "        max_capacity (int): The maximum capacity of the class.\n",
    "\n",
    "    Returns:\n",
    "        str: A message indicating the result of the operation.\n",
    "    \"\"\"\n",
    "    if name not in yoga_classes:\n",
    "        yoga_classes[name] = {\n",
    "            \"date\": date,\n",
    "            \"time\": time,\n",
    "            \"max_capacity\": max_capacity,\n",
    "            \"students\": []\n",
    "        }\n",
    "        return f\"{name} class has been created.\"\n",
    "    else:\n",
    "        return f\"A class with the name {name} already exists.\"\n",
    "\n",
    "\n",
    "def register_student(\n",
    "    class_name: str,\n",
    "    student_name: str\n",
    ") -> str:\n",
    "    \"\"\"\n",
    "    Register a student for a yoga class.\n",
    "\n",
    "    Args:\n",
    "        class_name (str): The name of the yoga class.\n",
    "        student_name (str): The name of the student.\n",
    "\n",
    "    Returns:\n",
    "        str: A message indicating the result of the registration.\n",
    "    \"\"\"\n",
    "    if class_name in yoga_classes:\n",
    "        yoga_class = yoga_classes[class_name]\n",
    "        if len(yoga_class[\"students\"]) < yoga_class[\"max_capacity\"]:\n",
    "            yoga_class[\"students\"].append(student_name)\n",
    "            return f\"{student_name} has been registered for {class_name}.\"\n",
    "        else:\n",
    "            return f\"Sorry, {class_name} is full. Cannot register {student_name}.\"\n",
    "    else:\n",
    "        return f\"No class found with the name {class_name}.\"\n",
    "\n",
    "\n",
    "def remove_student(\n",
    "    class_name: str,\n",
    "    student_name: str\n",
    ") -> str:\n",
    "    \"\"\"\n",
    "    Remove a student from a yoga class.\n",
    "\n",
    "    Args:\n",
    "        class_name (str): The name of the yoga class.\n",
    "        student_name (str): The name of the student.\n",
    "\n",
    "    Returns:\n",
    "        str: A message indicating the result of the removal.\n",
    "    \"\"\"\n",
    "    if class_name in yoga_classes:\n",
    "        yoga_class = yoga_classes[class_name]\n",
    "        if student_name in yoga_class[\"students\"]:\n",
    "            yoga_class[\"students\"].remove(student_name)\n",
    "            return f\"{student_name} has been removed from {class_name}.\"\n",
    "        else:\n",
    "            return f\"{student_name} is not registered for {class_name}.\"\n",
    "    else:\n",
    "        return f\"No class found with the name {class_name}.\"\n",
    "\n",
    "\n",
    "def generate_attendance_report(\n",
    "    class_name: str\n",
    ") -> str:\n",
    "    \"\"\"\n",
    "    Generate an attendance report for a yoga class.\n",
    "\n",
    "    Args:\n",
    "        class_name (str): The name of the yoga class.\n",
    "\n",
    "    Returns:\n",
    "        str: The attendance report.\n",
    "    \"\"\"\n",
    "    if class_name in yoga_classes:\n",
    "        yoga_class = yoga_classes[class_name]\n",
    "        return f\"Attendance report for {class_name}:\\n{', '.join(yoga_class['students'])}\"\n",
    "    else:\n",
    "        return f\"No class found with the name {class_name}.\"\n",
    "\n",
    "\n",
    "def list_all_classes() -> str:\n",
    "    \"\"\"\n",
    "    List all available yoga classes.\n",
    "\n",
    "    Returns:\n",
    "        str: A list of all available classes.\n",
    "    \"\"\"\n",
    "    return f\"All Available Classes: {', '.join(yoga_classes.keys())}\"\n",
    "\n",
    "\n",
    "def search_classes(\n",
    "    criteria: str\n",
    ") -> str:\n",
    "    \"\"\"\n",
    "    Search for yoga classes based on a search criteria.\n",
    "\n",
    "    Args:\n",
    "        criteria (str): The search criteria.\n",
    "\n",
    "    Returns:\n",
    "        str: A list of matching classes.\n",
    "    \"\"\"\n",
    "    matching_classes = [class_name for class_name, details in yoga_classes.items()\n",
    "                        if criteria in class_name or criteria in details[\"date\"] or criteria in details[\"time\"]]\n",
    "    if matching_classes:\n",
    "        return f\"Matching Classes: {', '.join(matching_classes)}\"\n",
    "    else:\n",
    "        return f\"No classes found matching the criteria '{criteria}'.\"\n",
    "\n",
    "\n",
    "# Sample usage of the functions\n",
    "print(create_yoga_class(\"Hatha Yoga\", \"2023-09-20\", \"10:00 AM\", 10))\n",
    "print(create_yoga_class(\"Vinyasa Flow\", \"2023-09-21\", \"2:00 PM\", 15))\n",
    "\n",
    "print(register_student(\"Hatha Yoga\", \"Alice\"))\n",
    "print(register_student(\"Hatha Yoga\", \"Bob\"))\n",
    "print(register_student(\"Vinyasa Flow\", \"Carol\"))\n",
    "\n",
    "print(generate_attendance_report(\"Hatha Yoga\"))\n",
    "\n",
    "print(remove_student(\"Hatha Yoga\", \"Alice\"))\n",
    "\n",
    "print(list_all_classes())\n",
    "\n",
    "print(search_classes(\"Vinyasa\"))"
   ]
  },
  {
   "cell_type": "code",
   "execution_count": null,
   "id": "7d62dfb4",
   "metadata": {},
   "outputs": [],
   "source": [
    "# Business challenge: Yoga Class Management\n",
    "# Dictionary to store yoga classes and their details\n",
    "yoga_classes = {}\n",
    "\n",
    "\n",
    "def create_yoga_class(name, date, time, max_capacity):\n",
    "    if name not in yoga_classes:\n",
    "        yoga_classes[name] = {\n",
    "            \"date\": date,\n",
    "            \"time\": time,\n",
    "            \"max_capacity\": max_capacity,\n",
    "            \"students\": []\n",
    "        }\n",
    "        return f\"{name} class has been created.\"\n",
    "    else:\n",
    "        return f\"A class with the name {name} already exists.\"\n",
    "\n",
    "\n",
    "def register_student(class_name, student_name):\n",
    "    if class_name in yoga_classes:\n",
    "        yoga_class = yoga_classes[class_name]\n",
    "        if len(yoga_class[\"students\"]) < yoga_class[\"max_capacity\"]:\n",
    "            yoga_class[\"students\"].append(student_name)\n",
    "            return f\"{student_name} has been registered for {class_name}.\"\n",
    "        else:\n",
    "            return f\"Sorry, {class_name} is full. Cannot register {student_name}.\"\n",
    "    else:\n",
    "        return f\"No class found with the name {class_name}.\"\n",
    "\n",
    "\n",
    "def remove_student(class_name, student_name):\n",
    "    if class_name in yoga_classes:\n",
    "        yoga_class = yoga_classes[class_name]\n",
    "        if student_name in yoga_class[\"students\"]:\n",
    "            yoga_class[\"students\"].remove(student_name)\n",
    "            return f\"{student_name} has been removed from {class_name}.\"\n",
    "        else:\n",
    "            return f\"{student_name} is not registered for {class_name}.\"\n",
    "    else:\n",
    "        return f\"No class found with the name {class_name}.\"\n",
    "\n",
    "\n",
    "def generate_attendance_report(class_name):\n",
    "    if class_name in yoga_classes:\n",
    "        yoga_class = yoga_classes[class_name]\n",
    "        return f\"Attendance report for {class_name}:\\n{', '.join(yoga_class['students'])}\"\n",
    "    else:\n",
    "        return f\"No class found with the name {class_name}.\"\n",
    "\n",
    "\n",
    "def list_all_classes():\n",
    "    return f\"All Available Classes: {', '.join(yoga_classes.keys())}\"\n",
    "\n",
    "\n",
    "def search_classes(criteria):\n",
    "    matching_classes = [class_name for class_name, details in yoga_classes.items()\n",
    "                        if criteria in class_name or criteria in details[\"date\"] or criteria in details[\"time\"]]\n",
    "    if matching_classes:\n",
    "        return f\"Matching Classes: {', '.join(matching_classes)}\"\n",
    "    else:\n",
    "        return f\"No classes found matching the criteria '{criteria}'.\"\n",
    "\n",
    "\n",
    "# Sample usage of the functions\n",
    "print(create_yoga_class(\"Hatha Yoga\", \"2023-09-20\", \"10:00 AM\", 10))\n",
    "print(create_yoga_class(\"Vinyasa Flow\", \"2023-09-21\", \"2:00 PM\", 15))\n",
    "\n",
    "print(register_student(\"Hatha Yoga\", \"Alice\"))\n",
    "print(register_student(\"Hatha Yoga\", \"Bob\"))\n",
    "print(register_student(\"Vinyasa Flow\", \"Carol\"))\n",
    "\n",
    "print(generate_attendance_report(\"Hatha Yoga\"))\n",
    "\n",
    "print(remove_student(\"Hatha Yoga\", \"Alice\"))\n",
    "\n",
    "print(list_all_classes())\n",
    "\n",
    "print(search_classes(\"Vinyasa\"))\n"
   ]
  }
 ],
 "metadata": {
  "kernelspec": {
   "display_name": "Python 3 (ipykernel)",
   "language": "python",
   "name": "python3"
  },
  "language_info": {
   "codemirror_mode": {
    "name": "ipython",
    "version": 3
   },
   "file_extension": ".py",
   "mimetype": "text/x-python",
   "name": "python",
   "nbconvert_exporter": "python",
   "pygments_lexer": "ipython3",
   "version": "3.11.8"
  },
  "nbTranslate": {
   "displayLangs": [
    "en",
    "es"
   ],
   "hotkey": "alt-a",
   "langInMainMenu": true,
   "sourceLang": "es",
   "targetLang": "en",
   "useGoogleTranslate": true
  },
  "toc": {
   "base_numbering": 1,
   "nav_menu": {},
   "number_sections": true,
   "sideBar": true,
   "skip_h1_title": true,
   "title_cell": "Table of Contents",
   "title_sidebar": "Contents",
   "toc_cell": true,
   "toc_position": {
    "height": "calc(100% - 180px)",
    "left": "10px",
    "top": "150px",
    "width": "288px"
   },
   "toc_section_display": true,
   "toc_window_display": false
  }
 },
 "nbformat": 4,
 "nbformat_minor": 5
}
