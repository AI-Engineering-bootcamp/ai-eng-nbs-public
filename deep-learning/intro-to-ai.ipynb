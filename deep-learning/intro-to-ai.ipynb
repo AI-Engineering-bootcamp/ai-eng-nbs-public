{
 "cells": [
  {
   "cell_type": "markdown",
   "id": "16079b8e-67dc-4ec5-b79b-0f5ab4aaf21e",
   "metadata": {},
   "source": [
    "# Intro to AI"
   ]
  },
  {
   "cell_type": "markdown",
   "id": "79d48821-4d32-4474-9e9c-8a35c16746d1",
   "metadata": {},
   "source": [
    "## Overview\n",
    "Artificial Intelligence (AI) is the theory and development of computer systems capable of performing tasks that typically require human intelligence. These tasks include recognizing speech, making decisions, identifying patterns, and solving problems. AI encompasses a wide range of technologies, such as machine learning, deep learning, and natural language processing (NLP). It powers many services and goods we use daily, from recommendation systems to real-time customer support chatbots.\n",
    "\n",
    "AI can be categorized into two main types:\n",
    "\n",
    "1. Narrow AI: This is AI that is designed to perform a specific task with intelligence comparable to that of a human. Most of the AI applications we see today fall into this category.\n",
    "\n",
    "2. General AI (GAI): This refers to AI that has the ability to understand, learn, and apply its intelligence broadly across a wide range of tasks, similar to a human's cognitive abilities. GAI is still a goal for the future.\n",
    "\n",
    "The field of AI is rapidly evolving, with applications ranging from simple tasks like making song recommendations to more complex ones like driving autonomous vehicles or providing medical diagnoses. AI technologies continue to advance, bringing us closer to creating systems that can operate with a high degree of autonomy and adaptability."
   ]
  },
  {
   "cell_type": "markdown",
   "id": "b73c8f79-d43e-41a7-ac0c-c4d16a5d9d4f",
   "metadata": {},
   "source": [
    "## Learning objectives"
   ]
  },
  {
   "cell_type": "markdown",
   "id": "5a93f923-bb9f-4094-863a-4f2795401da9",
   "metadata": {
    "tags": []
   },
   "source": [
    "1. Gain a foundational understanding of core AI concepts in neural networks, deep learning and its implementation\n",
    "\n",
    "2. Engage with basic AI tools and platforms to gain practical experience in implementing simple AI models."
   ]
  },
  {
   "cell_type": "markdown",
   "id": "48fef17a-136e-4480-8fa7-b9417f83719f",
   "metadata": {},
   "source": [
    "### What is AI?\n",
    "\n",
    "Artificial Intelligence (AI) refers to the simulation of human intelligence processes by machines, particularly computer systems. These processes include learning (the acquisition of information and rules for using it), reasoning (using rules to reach approximate or definite conclusions), and self-correction.\n",
    "\n",
    "AI encompasses a broad range of techniques and approaches, including machine learning, where systems can learn from data and improve over time without being explicitly programmed. Other areas include natural language processing, which enables computers to understand and generate human language, computer vision, which allows computers to interpret and understand visual information from the world, and robotics, which involves the design and creation of physical machines capable of performing tasks autonomously.\n",
    "\n",
    "Overall, the goal of AI is to create systems that can perform tasks that would typically require human intelligence, such as decision-making, problem-solving, perception, and understanding natural language. These systems have applications across various industries, including healthcare, finance, transportation, education, and many others."
   ]
  },
  {
   "cell_type": "markdown",
   "id": "2ce5adf3-cc7e-4b33-9e29-326ddf9279e0",
   "metadata": {},
   "source": [
    "### From Biological to Artificial Neurons\n",
    "<table><tr>\n",
    "<td> <img src=\"https://education-team-2020.s3.eu-west-1.amazonaws.com/ai-eng/neuron.png\" alt=\"Drawing\" style=\"width: 500px;\"/> </td>\n",
    "<td> <img src=\"https://education-team-2020.s3.eu-west-1.amazonaws.com/ai-eng/neurons.png\" alt=\"Drawing\" style=\"width: 500px;\"/> </td>\n",
    "</tr></table>\n",
    "\n",
    "Individual biological neurons seem to behave in a rather simple way, but they are organized in a vast network of billions of neurons, each neuron typically connected to thousands of other neurons. Highly complex computations can be performed by a vast network of fairly simple neurons, much like a complex anthill can emerge from the combined efforts of simple ants. So, a neural network is a model inspired by the neuronal organization found in the biological neural networks in animal brains. A DL model can have hundreds of neurons and tens of layers\n",
    "\n",
    "Artificial Neural Network is the backbone of AI. We will delve into this in much details through out the remainder of this lesson."
   ]
  },
  {
   "cell_type": "markdown",
   "id": "77c17eba-0bd0-4f4f-a453-f26d6ca40dd2",
   "metadata": {
    "tags": []
   },
   "source": [
    "  ### Machine Learning vs. Deep Learning\n",
    "<div>\n",
    "<img src=\"https://education-team-2020.s3.eu-west-1.amazonaws.com/ai-eng/ml_dnn.png\" width=\"500\"/>\n",
    "</div>\n",
    "\n",
    "    .Deep Learning (DL) is a machine learning subfield that uses multiple layers for learning data representations\n",
    "    .DL is exceptionally effective at learning patterns\n",
    "    .ML is relies on human-designed features representation\n",
    "\n",
    "    .Deep Learning uses multiple layers, each applying/learning his own transformation.\n",
    "    .Deep Learning learns multiple level of representation of the data.\n",
    "    \n",
    "The first one means, that one will design different parts - layers - of his neural network to learn different things. This is a difference with vanilla neural networks that just stack the same layer.\n",
    "\n",
    "This make the second point possible, and this is why deep learning rocks. We manage to learn different level of representation of data thanks to multiple somehow specialized layers.\n",
    "\n",
    "Level of representation? Don’t like the term? Well, in other words, if you have a picture as an input, you can imagine you want to recognize:\n",
    "\n",
    "    -basic shapes\n",
    "    -items\n",
    "    -colors\n",
    "    \n",
    "If you have a text, you wan’t to learn\n",
    "\n",
    "    1. syntax\n",
    "    2. emantic\n",
    "    3. grammar\n",
    "    ..\n",
    "    \n",
    "In deep learning, each level learns to transform its input data into a slightly more abstract and composite representation. In an image recognition application, the raw input may be a matrix of pixels; the first representational layer may abstract the pixels and encode edges; the second layer may compose and encode arrangements of edges; the third layer may encode a nose and eyes; and the fourth layer may recognize that the image contains a face. Importantly, a deep learning process can learn which features to optimally place in which level on its own. (Of course, this does not completely eliminate the need for hand-tuning; for example, varying numbers of layers and layer sizes can provide different degrees of abstraction.)\n",
    "\n",
    "Classifying those kind of features oftenly non-linear. Some of Machine Learning algorithms ;like Kernel Support Vector Machines, Random Forest, KNN, are able to learn non-linear features of data. But in various tasks, Artificial Neural Networks are more effective.\n",
    "\n",
    "<div>\n",
    "<img src=\"https://education-team-2020.s3.eu-west-1.amazonaws.com/ai-eng/dnn.png\" width=\"500\"/>"
   ]
  },
  {
   "cell_type": "markdown",
   "id": "41de4292-1977-4bc3-afb2-e763c08f4d11",
   "metadata": {},
   "source": [
    " ### A simple NN with one hidden layer and one output layar - architecture"
   ]
  },
  {
   "cell_type": "markdown",
   "id": "d7c6ad7a-d858-4efd-a616-7bba32187a46",
   "metadata": {},
   "source": [
    "<table><tr>\n",
    "<td> <img src=\"https://education-team-2020.s3.eu-west-1.amazonaws.com/ai-eng/nn_eg.png\" alt=\"Drawing\" style=\"width: 500px;\"/> </td>\n",
    "<td> <img src=\"https://education-team-2020.s3.eu-west-1.amazonaws.com/ai-eng/nn_arc.png\" alt=\"Drawing\" style=\"width: 500px;\"/> </td>\n",
    "</tr></table>"
   ]
  },
  {
   "cell_type": "markdown",
   "id": "1d45f6ad-f300-4d87-84ee-85a4ff5b1232",
   "metadata": {},
   "source": [
    "<table><tr>\n",
    "<td> <img src=\"https://education-team-2020.s3.eu-west-1.amazonaws.com/ai-eng/mnist_2.png\" alt=\"Drawing\" style=\"width: 500px;\"/> </td>\n",
    "<td> <img src=\"https://education-team-2020.s3.eu-west-1.amazonaws.com/ai-eng/mnist_ov.png\" alt=\"Drawing\" style=\"width: 500px;\"/> </td>\n",
    "</tr></table>"
   ]
  },
  {
   "cell_type": "markdown",
   "id": "ab5e3d14-0926-43e3-b4af-0077896937a5",
   "metadata": {},
   "source": [
    "<div>\n",
    "<img src=\"https://education-team-2020.s3.eu-west-1.amazonaws.com/ai-eng/mnist_4.png\" width=\"500\"/>\n",
    "</div>"
   ]
  },
  {
   "cell_type": "markdown",
   "id": "1ec6eb2b-8762-4f33-ac8c-419293b5295b",
   "metadata": {},
   "source": [
    "### Anatomy of the neural network\n",
    "\n",
    "    .Layers\n",
    "    .Input data and targets\n",
    "    .Loss function\n",
    "    .Optimizer\n",
    "<div>\n",
    "<img src=\"https://education-team-2020.s3.eu-west-1.amazonaws.com/ai-eng/nn_b.png\" width=\"500\"/>\n",
    "</div>"
   ]
  },
  {
   "cell_type": "markdown",
   "id": "18bbd7cd-cdd1-444d-9a3f-24fead8c2773",
   "metadata": {},
   "source": [
    "### Loss function\n",
    "\n",
    "    .The quantity to be minimized (optimized) during training\n",
    "        .the only thing the network cares about\n",
    "        .there might also be other metrics you care about\n",
    "    .Common tasks have “standard” loss functions:\n",
    "        .mean squared error for regression\n",
    "        .binary cross-entropy for two-class classification\n",
    "        .categorical cross-entropy for multi-class classification\n",
    "    ...  \n",
    "https://lossfunctions.tumblr.com/ \n",
    "\n",
    "<div>\n",
    "<img src=\"https://education-team-2020.s3.eu-west-1.amazonaws.com/ai-eng/loss_fun.png\" width=\"1000\"/>\n",
    "</div>"
   ]
  },
  {
   "cell_type": "markdown",
   "id": "ed259b75-dfd9-40f0-88be-513e43252fc4",
   "metadata": {},
   "source": [
    "<div>\n",
    "<img src=\"https://education-team-2020.s3.eu-west-1.amazonaws.com/ai-eng/mnist_1.png\" width=\"500\"/>\n",
    "</div>"
   ]
  },
  {
   "cell_type": "markdown",
   "id": "55443f1b-3cd5-4bee-835d-b9a4c6d507b3",
   "metadata": {},
   "source": [
    "### Optimizer\n",
    "\n",
    "    .How to update the weights based on the loss function\n",
    "    .Learning rate (+scheduling)\n",
    "    .Stochastic gradient descent, momentum, and their variants\n",
    "        .RMSProp is usually a good first choice\n",
    "more info: http://ruder.io/optimizing-gradient-descent/ \n",
    "\n",
    "<div>\n",
    "<img src=\"https://education-team-2020.s3.eu-west-1.amazonaws.com/ai-eng/opt_diag.png\" width=\"500\"/>\n",
    "</div>"
   ]
  },
  {
   "cell_type": "markdown",
   "id": "d823ef1e-f4c2-46df-b216-7cd2c093467f",
   "metadata": {},
   "source": [
    "<div>\n",
    "<img src=\"https://education-team-2020.s3.eu-west-1.amazonaws.com/ai-eng/rgd.png\" width=\"1000\"/>\n",
    "</div>"
   ]
  },
  {
   "cell_type": "markdown",
   "id": "6fa3f711-d0cb-4ed8-9c7f-5dee5ed93e4d",
   "metadata": {},
   "source": [
    "<div>\n",
    "<img src=\"https://education-team-2020.s3.eu-west-1.amazonaws.com/ai-eng/sgd.png\" width=\"1000\"/>\n",
    "</div>"
   ]
  },
  {
   "cell_type": "markdown",
   "id": "1ca738dd-5001-489e-b5d6-f2e609067998",
   "metadata": {},
   "source": [
    "<div>\n",
    "<img src=\"https://education-team-2020.s3.eu-west-1.amazonaws.com/ai-eng/mb_sgd.png\" width=\"1000\"/>\n",
    "</div>"
   ]
  },
  {
   "cell_type": "markdown",
   "id": "6b1bdc55-f305-4d73-8f00-eea7e558cc34",
   "metadata": {
    "tags": []
   },
   "source": [
    "### Activation functions\n",
    "Below we show a sample of activation functions. There are many more. You may even concieve you own:-)"
   ]
  },
  {
   "cell_type": "code",
   "execution_count": 131,
   "id": "024a0e3c-e4d9-4c5b-b639-09a8c3b87ce0",
   "metadata": {
    "tags": []
   },
   "outputs": [
    {
     "data": {
      "image/png": "[encoded data removed]",
      "text/plain": [
       "<Figure size 1000x700 with 6 Axes>"
      ]
     },
     "metadata": {},
     "output_type": "display_data"
    }
   ],
   "source": [
    "import numpy as np\n",
    "import matplotlib.pyplot as plt\n",
    "fig, axs = plt.subplots(2,3,figsize = (10,7))\n",
    "x = range(-10,11)\n",
    "\n",
    "identity_y = np.array(x)\n",
    "sign_y = np.array([1 if point>0 else 0 for point in x ])\n",
    "sigmoid_y = np.array(1/(1+np.exp(-np.array(x))))\n",
    "tanh_y = np.array((np.exp(2 * np.array(x)) - 1)/(np.exp(2* np.array(x)) + 1))\n",
    "relu_y = np.array([0 if point<0 else point for point in x])\n",
    "hardtanh_y = np.array([maxp if maxp>-1 else -1 for maxp in [point if point<1 else 1 for point in np.array(x)]])\n",
    "\n",
    "\n",
    "axs[0,0].plot(x,identity_y)\n",
    "axs[0,0].set_title('identitiy')\n",
    "axs[0,1].plot(x,sign_y)\n",
    "axs[0,1].set_title('sign')\n",
    "axs[0,2].plot(x,sigmoid_y)\n",
    "axs[0,2].set_title('sigmoid')\n",
    "axs[1,0].plot(x,tanh_y)\n",
    "axs[1,0].set_title('tanh (famous for RNNs)')\n",
    "axs[1,1].plot(x,relu_y)\n",
    "axs[1,1].set_title('relu (famous for CNNs)')\n",
    "axs[1,2].plot(x,hardtanh_y)\n",
    "axs[1,2].set_title('hard tanh');"
   ]
  },
  {
   "cell_type": "markdown",
   "id": "893ac3ac-c9d9-4592-984e-63d526a0885a",
   "metadata": {},
   "source": [
    "<div>\n",
    "<img src=\"https://education-team-2020.s3.eu-west-1.amazonaws.com/ai-eng/act_fun.png\" width=\"500\"/>\n",
    "</div>"
   ]
  },
  {
   "cell_type": "markdown",
   "id": "d4e8ac04-9cea-4b39-92c5-00a1e2e8c304",
   "metadata": {},
   "source": [
    "<div>\n",
    "<img src=\"https://education-team-2020.s3.eu-west-1.amazonaws.com/ai-eng/back_prop.png\" width=\"1000\"/>\n",
    "</div>"
   ]
  },
  {
   "cell_type": "markdown",
   "id": "ad0f2c5e-eb46-4a80-adab-b59b94a90ae1",
   "metadata": {},
   "source": [
    "<div>\n",
    "<img src=\"https://education-team-2020.s3.eu-west-1.amazonaws.com/ai-eng/overfit.png\" width=\"1000\"/>\n",
    "</div>"
   ]
  },
  {
   "cell_type": "markdown",
   "id": "3ca3a6c6-7f65-4a9b-9900-89f0bf08cb55",
   "metadata": {},
   "source": [
    "<div>\n",
    "<img src=\"https://education-team-2020.s3.eu-west-1.amazonaws.com/ai-eng/l2_reg.png\" width=\"1000\"/>\n",
    "</div>"
   ]
  },
  {
   "cell_type": "markdown",
   "id": "06637b81-8c62-497d-98e8-c0c4df78189f",
   "metadata": {},
   "source": [
    "<div>\n",
    "<img src=\"https://education-team-2020.s3.eu-west-1.amazonaws.com/ai-eng/drop_reg.png\" width=\"1000\"/>\n",
    "</div>"
   ]
  },
  {
   "cell_type": "markdown",
   "id": "305a58ba-4b19-4b5e-bce1-06b204c5dfd3",
   "metadata": {},
   "source": [
    "<div>\n",
    "<img src=\"https://education-team-2020.s3.eu-west-1.amazonaws.com/ai-eng/early_reg.png\" width=\"1000\"/>\n",
    "</div>"
   ]
  },
  {
   "cell_type": "markdown",
   "id": "c072d6ac-8ff6-4e08-9cd8-762516d911ab",
   "metadata": {},
   "source": [
    "### What else can go wrong during training - The gradient can either explode or implode\n",
    "\n",
    "1. Gradient clipping - This involves capping the gradients during backpropagation to prevent them from growing too large\n",
    "2. Weight Regularization: Adding a regularization term to the loss function can help keep the weights small and control the gradient\n",
    "3. Change Activation Function: Using activation functions like ReLU, which do not saturate, can help prevent gradients from exploding\n",
    "4. Diminishing (Vanishing) Gradients:  Use ReLU or Leaky ReLU: These activation functions help prevent vanishing gradients because they do not saturate in the positive domain.\n",
    "5. Weight Initialization: Properly initializing weights, such as using He initialization for ReLU activations, can mitigate vanishing gradients.\n",
    "6. Use Residual Networks (ResNets): These networks have skip connections that allow gradients to flow through the network without diminishing.\n",
    "7. Use LSTM or GRU for RNNs: These architectures are designed to combat vanishing gradients in sequences by using gates and memory cells.\n",
    "\n",
    " ...\n"
   ]
  },
  {
   "cell_type": "markdown",
   "id": "88880e40-4f0f-4b19-a815-b23a53bc0ff2",
   "metadata": {},
   "source": [
    "### Hyper-parameters tuning"
   ]
  },
  {
   "cell_type": "markdown",
   "id": "e11a5da9-22fc-4656-ba4a-18139d160c60",
   "metadata": {},
   "source": [
    "<table><tr>\n",
    "<td> <img src=\"https://education-team-2020.s3.eu-west-1.amazonaws.com/ai-eng/hyper_p.png\" alt=\"Drawing\" style=\"width: 500px;\"/> </td>\n",
    "<td> <img src=\"https://education-team-2020.s3.eu-west-1.amazonaws.com/ai-eng/grid_s.png\" alt=\"Drawing\" style=\"width: 500px;\"/> </td>\n",
    "</tr></table>"
   ]
  }
 ],
 "metadata": {
  "kernelspec": {
   "display_name": "Python 3 (ipykernel)",
   "language": "python",
   "name": "python3"
  },
  "language_info": {
   "codemirror_mode": {
    "name": "ipython",
    "version": 3
   },
   "file_extension": ".py",
   "mimetype": "text/x-python",
   "name": "python",
   "nbconvert_exporter": "python",
   "pygments_lexer": "ipython3",
   "version": "3.11.8"
  }
 },
 "nbformat": 4,
 "nbformat_minor": 5
}
