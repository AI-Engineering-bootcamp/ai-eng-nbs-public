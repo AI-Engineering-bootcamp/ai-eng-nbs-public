{
 "cells": [
  {
   "cell_type": "markdown",
   "id": "romance-consistency",
   "metadata": {},
   "source": [
    "# Intro to GIT and Version Control"
   ]
  },
  {
   "cell_type": "markdown",
   "id": "generic-notification",
   "metadata": {},
   "source": [
    "![git](https://media.giphy.com/media/kH6CqYiquZawmU1HI6/giphy.gif)"
   ]
  },
  {
   "cell_type": "markdown",
   "id": "negative-upper",
   "metadata": {
    "toc": true
   },
   "source": [
    "<h1>Table of Contents<span class=\"tocSkip\"></span></h1>\n",
    "<div class=\"toc\"><ul class=\"toc-item\"><li><span><a href=\"#What-is-version-control-and-why-should-we-care?\" data-toc-modified-id=\"What-is-version-control-and-why-should-we-care?-1\"><span class=\"toc-item-num\">1&nbsp;&nbsp;</span>What is version control and why should we care?</a></span></li><li><span><a href=\"#GIT's-graph-model\" data-toc-modified-id=\"GIT's-graph-model-2\"><span class=\"toc-item-num\">2&nbsp;&nbsp;</span>GIT's graph model</a></span></li><li><span><a href=\"#Git-VS-Github\" data-toc-modified-id=\"Git-VS-Github-3\"><span class=\"toc-item-num\">3&nbsp;&nbsp;</span>Git VS Github</a></span></li><li><span><a href=\"#Terminology\" data-toc-modified-id=\"Terminology-4\"><span class=\"toc-item-num\">4&nbsp;&nbsp;</span>Terminology</a></span></li><li><span><a href=\"#Commands\" data-toc-modified-id=\"Commands-5\"><span class=\"toc-item-num\">5&nbsp;&nbsp;</span>Commands</a></span></li><li><span><a href=\"#Hands-on-tutorial!\" data-toc-modified-id=\"Hands-on-tutorial!-6\"><span class=\"toc-item-num\">6&nbsp;&nbsp;</span>Hands on tutorial!</a></span><ul class=\"toc-item\"><li><span><a href=\"#How-do-we-create-a-repository?\" data-toc-modified-id=\"How-do-we-create-a-repository?-6.1\"><span class=\"toc-item-num\">6.1&nbsp;&nbsp;</span>How do we create a repository?</a></span><ul class=\"toc-item\"><li><span><a href=\"#We-can-create-a-repository-locally-and-then-link-it\" data-toc-modified-id=\"We-can-create-a-repository-locally-and-then-link-it-6.1.1\"><span class=\"toc-item-num\">6.1.1&nbsp;&nbsp;</span>We can create a repository locally and then link it</a></span></li><li><span><a href=\"#We-can-create-a-remote-repository-and-then-download-it\" data-toc-modified-id=\"We-can-create-a-remote-repository-and-then-download-it-6.1.2\"><span class=\"toc-item-num\">6.1.2&nbsp;&nbsp;</span>We can create a remote repository and then download it</a></span></li></ul></li><li><span><a href=\"#Forking-a-repo\" data-toc-modified-id=\"Forking-a-repo-6.2\"><span class=\"toc-item-num\">6.2&nbsp;&nbsp;</span>Forking a repo</a></span></li><li><span><a href=\"#Working-with-branches\" data-toc-modified-id=\"Working-with-branches-6.3\"><span class=\"toc-item-num\">6.3&nbsp;&nbsp;</span>Working with branches</a></span><ul class=\"toc-item\"><li><span><a href=\"#Contribute-to-a-forked-repository\" data-toc-modified-id=\"Contribute-to-a-forked-repository-6.3.1\"><span class=\"toc-item-num\">6.3.1&nbsp;&nbsp;</span>Contribute to a forked repository</a></span></li></ul></li></ul></li><li><span><a href=\"#Summary-🚀🔥\" data-toc-modified-id=\"Summary-🚀🔥-7\"><span class=\"toc-item-num\">7&nbsp;&nbsp;</span>Summary 🚀🔥</a></span></li><li><span><a href=\"#Further-materials\" data-toc-modified-id=\"Further-materials-8\"><span class=\"toc-item-num\">8&nbsp;&nbsp;</span>Further materials</a></span></li></ul></div>"
   ]
  },
  {
   "cell_type": "markdown",
   "id": "87f1f53c",
   "metadata": {
    "lang": "en"
   },
   "source": [
    "## What is version control and why should we care?"
   ]
  },
  {
   "cell_type": "markdown",
   "id": "4a7a3c2c",
   "metadata": {
    "lang": "en"
   },
   "source": [
    "What kind of dark magic is this?\n",
    "![gif](https://media.giphy.com/media/NmerZ36iBkmKk/giphy.gif)"
   ]
  },
  {
   "cell_type": "markdown",
   "id": "2497d9ca",
   "metadata": {
    "lang": "en"
   },
   "source": [
    "Version control is a system that records changes made to a file or set of files over time so that specific versions can be retrieved later. For the examples in this notebook, we will use the source code of the software as the files that are version controlled, although in reality you can do this with almost any type of file on a computer.\n",
    "\n",
    "If you're a web or graphic designer and you want to keep all versions of an image or design (which you certainly will), a version control system (VCS) is a very smart thing to do. It allows you to revert selected files to a previous state, revert the entire project to a previous state, compare changes over time, see who was the last to modify something that might be causing a problem, who introduced a problem and when, and much more. Using a VCS also generally means that if things mess up or files are lost, it can be easily recovered. In addition, all this is achieved with very little expense.\n",
    "\n",
    "GIT is a VCS system designed with the following goals:\n",
    "\n",
    "* speed\n",
    "* Simple design\n",
    "* Strong support for non-linear development (thousands of parallel branches)\n",
    "* Fully distributed #entire copy\n",
    "* Able to handle large projects like the Linux kernel efficiently (speed and data size)\n",
    "\n",
    "**It's an absolute industry standard**\n",
    "\n",
    "* **Note:** Documentation mainly taken from [docs](https://git-scm.com/book/en/v2/Getting-Started-About-Version-Control)"
   ]
  },
  {
   "cell_type": "markdown",
   "id": "4c42d2f4",
   "metadata": {
    "lang": "en"
   },
   "source": [
    "## GIT's graph model\n",
    "\n",
    "\n",
    "Git models the history of your projects as [directed acyclic graph](https://en.wikipedia.org/wiki/Directed_acyclic_graph) (a DAG). Let's understand these three words:\n",
    "\n",
    "* A **Graph** is a way of modeling connected things. More technically, a graph is a collection of \"nodes\" connected by \"edges\". Think, for example, of a social network, in which individuals are the nodes and relationships are the \"edges\" (also called links).\n",
    "\n",
    "* **Acyclic** means that the graph does not contain circles. This means that you cannot find a path that starts and ends at the same node following the direction of the edges.\n",
    "\n",
    "* **Directed** means that edges can only go in one direction. Think for example of \"father\", \"son\", and the relationship \"is son of\" --- no, you can't be father and son of the same person.\n",
    "\n",
    "Also:\n",
    "\n",
    "*The **chart as a whole** contains a [project history](https://www.youtube.com/watch?v=zuRd_Eneuk8).\n",
    "* **Nodes** in Git represent commits (remember: snapshots of your project)\n",
    "* **Edges** point from a commit to its parents.\n",
    "* A **branch** occurs if a commit has more than one child.\n",
    "* A **merge** occurs when a commit has more than one parent.\n",
    "\n",
    "\n",
    "[Link to super cool visualization!](https://agripongit.vincenttunru.com/)"
   ]
  },
  {
   "cell_type": "markdown",
   "id": "increasing-quantity",
   "metadata": {},
   "source": [
    "![cool_kid_dab](https://img.devrant.com/devrant/rant/r_361939_fGjf5.jpg)"
   ]
  },
  {
   "cell_type": "markdown",
   "id": "intellectual-lodging",
   "metadata": {},
   "source": [
    "## Git VS Github"
   ]
  },
  {
   "cell_type": "markdown",
   "id": "annoying-instrument",
   "metadata": {},
   "source": [
    "![gitvsgithub](https://devmountain.com/wp-content/uploads/2022/01/Gitvs_Github-1a-1.jpg)"
   ]
  },
  {
   "cell_type": "markdown",
   "id": "520f445f",
   "metadata": {
    "lang": "en"
   },
   "source": [
    "- **Git** is a local VCS software that allows developers to save snapshots of their projects over time. It is generally better for individual use.\n",
    "- **GitHub** is a web-based platform that incorporates the version control features of git so they can be used collaboratively. It also includes project and team management features, as well as opportunities for networking and social coding."
   ]
  },
  {
   "cell_type": "markdown",
   "id": "3d48a00e",
   "metadata": {
    "lang": "en"
   },
   "source": [
    "## Terminology\n",
    "- `repository` | `repo` : storage location of a software package (\"a git-tracked folder\")\n",
    "- `untracked` : a file or directory not tracked by git, does not belong to the repository, but can be inside the folder.\n",
    "- `tracked` : a file that git has ordered to track (via the `add` command.)\n",
    "- `commit` : a point in the timeline of a repository. A \"snapshot\" of all the changes that we have \"officialized\", or the last state of the files scanned before committing.\n",
    "Each commit has a unique identifier and must have a commit message. The more descriptive the message, the better.\n",
    "- `local repo` : A code repository on the computer you are currently using.\n",
    "- `remote` : A repository on a different machine (for example: Github).\n",
    "- `forking a repo` : create an alternate timeline for a repo, usually someone else's repo that we want to have as a copy of our own.\n",
    "- `cloning a repo` : make a local copy of a remote repo.\n",
    "- `push` : Push changes from local to remote repository.\n",
    "- `pull` : pull changes from a remote repository to a local one.\n",
    "- `.gitignore` : text file with the files/folders we don't want git to track or query.\n",
    "    - e.g.:\n",
    "        \n",
    "        logo.jpg `# git ignore file with specific name`\n",
    "\n",
    "        develop_test/ `# git ignores the specified named directory and all its contents. Note the / after the name.`\n",
    "\n",
    "        *.jpg `# git ignores all files with a given extension`\n",
    "- `branch` : the different `timelines` of a repository. Allows parallel development.\n",
    "- `merge` : Merge changes from one branch to another. It is the opposite of branching, instead of separating, it joins two \"timelines\".\n",
    "- `pull request` : the act of asking the owner of a repository to merge changes into their fork/branch. It is literally the request that you `pull` your changes."
   ]
  },
  {
   "cell_type": "markdown",
   "id": "b8f4528c",
   "metadata": {
    "lang": "en"
   },
   "source": [
    "## Commands\n",
    "\n",
    "`git init`\n",
    "- Turn a folder into a repository\n",
    "\n",
    "`git add <file>`\n",
    "- Add a file to a repo storage area\n",
    "\n",
    "`git restore --staged <file>`\n",
    "- Delete a file from the staging area. It unstages\n",
    "\n",
    "`git commit -m \"<message>\"`\n",
    "- Save the changes with the message that we put. Makes \"the photo\", \"the snapshot\" in the timeline.\n",
    "\n",
    "- `-a`\n",
    "    - \"Commits\" all the changes in the files that belong to the repo (all the files that were previously added)\n",
    "- `-m`\n",
    "    - Allows you to write the message on command\n",
    "- `-am` == `-a -m`\n",
    "\n",
    "`git log`\n",
    "- Shows all commits of a repo\n",
    "\n",
    "`git reset --hard <commit_id>`\n",
    "- HARD resets the branch to the specified commit. \"Go back in time.\" We return to the point where it was in the repository when we made that commit to the one we specified.\n",
    "\n",
    "`git remote add <name> <url>`\n",
    "- Connects the current local repo to a remote one at `url` by calling it `name`.\n",
    "\n",
    "`git clone <url>`\n",
    "- Makes a local copy of the remote repository\n",
    "\n",
    "`git pull <remote> <branch>`\n",
    "- e.g.: `git pull origin main`\n",
    "- Fetches the changes from the remote \"branch\" to the current one.\n",
    "\n",
    "`git push <remote> <branch>`\n",
    "- e.g.: `git push origin main`\n",
    "- Push changes from the local repository to the remote `branch`\n",
    "\n",
    "`git branch`\n",
    "- Lists all branches of the current repository\n",
    "\n",
    "`git branch <name>`\n",
    "- Creates a branch with a certain name\n",
    "\n",
    "`git checkout <branch>`\n",
    "- Changes the active branch for the indicated one. It is the way to switch between branches, but only one can be active at a time.\n",
    "\n",
    "`git checkout -b <branch>`\n",
    "- Creates and checkouts a new branch with a single command.\n",
    "\n",
    "`git merge <branch>`\n",
    "- Brings the changes from \\<branch\\> to the current one. It merges the branch that we have active with the one that we indicate."
   ]
  },
  {
   "cell_type": "markdown",
   "id": "9f02d8f9",
   "metadata": {},
   "source": [
    ":warning: Git-rebase: keep the version we reset to"
   ]
  },
  {
   "cell_type": "markdown",
   "id": "patient-potato",
   "metadata": {},
   "source": [
    "## Hands on tutorial!"
   ]
  },
  {
   "cell_type": "markdown",
   "id": "b2424e3a",
   "metadata": {
    "lang": "en"
   },
   "source": [
    "Let's create our own repository and play with it\n",
    "We have to always keep this wonder in mind... -->> [**OH SHIT, GIT!**](https://ohshitgit.com/) 🙃"
   ]
  },
  {
   "cell_type": "markdown",
   "id": "96883a35",
   "metadata": {
    "lang": "en"
   },
   "source": [
    "### How do we create a repository?"
   ]
  },
  {
   "cell_type": "markdown",
   "id": "958209ad",
   "metadata": {
    "lang": "en"
   },
   "source": [
    "There are two ways:\n",
    "#### We can create a repository locally and then link it\n",
    "\n",
    "```bash\n",
    "cd somewhere # if you need to                \n",
    "mkdir first_repo\n",
    "cd first_repo\n",
    "git init\n",
    "```"
   ]
  },
  {
   "cell_type": "markdown",
   "id": "2e0a5640",
   "metadata": {},
   "source": [
    "Extra: Let´s go deep! --> .git  \n",
    "we check that .git was created when doing ls -a\n",
    "```bash\n",
    "ls -a\n",
    "```"
   ]
  },
  {
   "cell_type": "markdown",
   "id": "98838383",
   "metadata": {
    "lang": "en"
   },
   "source": [
    "To upload our local repository to an online repository, we must first create a repository on an online site like GitHub."
   ]
  },
  {
   "cell_type": "markdown",
   "id": "3486ecca",
   "metadata": {},
   "source": [
    "```bash\n",
    "git remote add origin <url of repo>\n",
    "```"
   ]
  },
  {
   "cell_type": "markdown",
   "id": "fe845bc1",
   "metadata": {
    "lang": "en"
   },
   "source": [
    "#### We can create a remote repository and then download it"
   ]
  },
  {
   "cell_type": "markdown",
   "id": "ea812f01",
   "metadata": {},
   "source": [
    "```bash\n",
    "git clone <url of repo>\n",
    "```"
   ]
  },
  {
   "cell_type": "markdown",
   "id": "4ad7ec60",
   "metadata": {
    "lang": "en"
   },
   "source": [
    "Much easier and less dangerous, right?"
   ]
  },
  {
   "cell_type": "markdown",
   "id": "imported-witch",
   "metadata": {},
   "source": [
    "![think](https://media.giphy.com/media/IedrY2VP5IO5ivDQAD/giphy.gif)"
   ]
  },
  {
   "cell_type": "markdown",
   "id": "fbf99e2c",
   "metadata": {
    "lang": "en"
   },
   "source": [
    "### Forking a repo"
   ]
  },
  {
   "cell_type": "markdown",
   "id": "b58f27e4",
   "metadata": {
    "lang": "en"
   },
   "source": [
    "Forking a repository means copying it. Copying a repository allows us to freely experiment without affecting the original project, obviously because our fork is a copy, which will be found in our github account.\n"
   ]
  },
  {
   "cell_type": "markdown",
   "id": "5a7ec9db",
   "metadata": {
    "lang": "en"
   },
   "source": [
    "### Working with branches"
   ]
  },
  {
   "cell_type": "markdown",
   "id": "40af06fb",
   "metadata": {
    "lang": "en"
   },
   "source": [
    "A branch in Git is simply a copy of how the repository is at the time you make it. The default branch name in Git is main . When you start committing, you are given a main branch that points to the last commit you made. Every time you commit, the main branch pointer moves forward automatically. Or the branch you commit to."
   ]
  },
  {
   "cell_type": "markdown",
   "id": "separated-period",
   "metadata": {},
   "source": [
    "![branches](https://education-team-2020.s3.eu-west-1.amazonaws.com/ai-eng/git-branching-graph.png)"
   ]
  },
  {
   "cell_type": "markdown",
   "id": "regular-terror",
   "metadata": {},
   "source": [
    "- https://medium.com/faun/branching-with-git-the-multiverse-theory-83d3d1372746"
   ]
  },
  {
   "cell_type": "markdown",
   "id": "808f9d76",
   "metadata": {
    "lang": "en"
   },
   "source": [
    "#### Contribute to a forked repository"
   ]
  },
  {
   "cell_type": "markdown",
   "id": "59ab05ea",
   "metadata": {
    "lang": "en"
   },
   "source": [
    "A pull request (PR) is a request sent to a GitHub repository to merge code into that project. The PR allows requested reviewers to view and discuss the proposed code. Once the PR passes all review standards and all necessary reviews have been done, it can be merged into the code base.\n",
    "Let's go!"
   ]
  },
  {
   "cell_type": "markdown",
   "id": "f14d3a41",
   "metadata": {},
   "source": []
  },
  {
   "cell_type": "markdown",
   "id": "56e37032",
   "metadata": {},
   "source": []
  },
  {
   "cell_type": "markdown",
   "id": "traditional-petroleum",
   "metadata": {},
   "source": [
    "# Git Areas"
   ]
  },
  {
   "cell_type": "markdown",
   "id": "designing-poland",
   "metadata": {},
   "source": [
    "![git_areas](../images/git_areas.png)"
   ]
  },
  {
   "cell_type": "markdown",
   "id": "0ca765d0",
   "metadata": {
    "lang": "en"
   },
   "source": [
    "# Examples of workflows:\n",
    "\n",
    "- Working on **my own repo** that I started locally:\n",
    "    - `git init` to start the repo.\n",
    "    - `git add <files>` to track files.\n",
    "    - `git commit -m \"<message>\"` to commit the changes.\n",
    "    - `git remote add <name> <url>` to connect the repo to a remote one (create an empty github repo to avoid conflicts).\n",
    "\n",
    "- Working on a **remote** to which I have privileges:\n",
    "    - `git clone <url>` to make a crazy copy\n",
    "    - `git add <files>` and `git commit -m \"<message>\"` to commit the changes.\n",
    "    - `git pull` BEFORE pushing. We want to bring the foreign exchanges before we send ours to avoid conflicts.\n",
    "    - `git push` to push our changes.\n",
    "    - It's also good to `git pull` before starting work on each session to make sure we have the latest version of the code.\n",
    "\n",
    "- Working on a **remote that I don't have privileges for**:\n",
    "    - `fork` on github to create your own alternative\n",
    "    - `git clone` to copy our fork to the local\n",
    "    - `git commit`, `git add`, `git push` so that our changes are reflected in our remote copy\n",
    "    - `pull request` to see if the owner accepts our changes."
   ]
  },
  {
   "cell_type": "markdown",
   "id": "8adb3589",
   "metadata": {
    "lang": "en"
   },
   "source": [
    "## Summary 🚀🔥\n",
    "Now it's your turn: What have we learned?\n"
   ]
  },
  {
   "cell_type": "markdown",
   "id": "collect-right",
   "metadata": {},
   "source": [
    "![fire](https://gorkamudev.files.wordpress.com/2016/10/in-case-of-fire-1-git-commit-2-git-push-3-leave-building2.png?w=600)"
   ]
  },
  {
   "cell_type": "markdown",
   "id": "c58daa3e",
   "metadata": {},
   "source": [
    "[Extra: hands-on, learngitbranching](https://learngitbranching.js.org/?locale=es_EN)"
   ]
  },
  {
   "cell_type": "markdown",
   "id": "90ddcde7",
   "metadata": {},
   "source": [
    "# RECAP\n"
   ]
  },
  {
   "cell_type": "code",
   "execution_count": null,
   "id": "3881629f",
   "metadata": {},
   "outputs": [],
   "source": []
  },
  {
   "cell_type": "markdown",
   "id": "affected-syndicate",
   "metadata": {
    "lang": "es"
   },
   "source": [
    "## Further materials\n",
    "* Github for Dummies [here](https://github.com/firstcontributions/first-contributions)\n",
    "* Meet Linus Torvals, the mind behind git [TED talk](https://www.ted.com/talks/linus_torvalds_the_mind_behind_linux?language=en)\n",
    "* Check these [GIT documents](https://git-scm.com/)\n",
    "* A bit more of [info](http://justinhileman.info/article/git-pretty/git-pretty.png)\n",
    "* Or this [simple guide](https://rogerdudler.github.io/git-guide/index.html) \n",
    "* And don't forget your [Cheatsheet](https://www.atlassian.com/dam/jcr:8132028b-024f-4b6b-953e-e68fcce0c5fa/atlassian-git-cheatsheet.pdf)\n"
   ]
  }
 ],
 "metadata": {
  "kernelspec": {
   "display_name": "Python 3 (ipykernel)",
   "language": "python",
   "name": "python3"
  },
  "language_info": {
   "codemirror_mode": {
    "name": "ipython",
    "version": 3
   },
   "file_extension": ".py",
   "mimetype": "text/x-python",
   "name": "python",
   "nbconvert_exporter": "python",
   "pygments_lexer": "ipython3",
   "version": "3.11.8"
  },
  "nbTranslate": {
   "displayLangs": [
    "en",
    "es"
   ],
   "hotkey": "alt-a",
   "langInMainMenu": true,
   "sourceLang": "es",
   "targetLang": "en",
   "useGoogleTranslate": true
  },
  "toc": {
   "base_numbering": 1,
   "nav_menu": {},
   "number_sections": true,
   "sideBar": true,
   "skip_h1_title": true,
   "title_cell": "Table of Contents",
   "title_sidebar": "Contents",
   "toc_cell": true,
   "toc_position": {
    "height": "calc(100% - 180px)",
    "left": "10px",
    "top": "150px",
    "width": "165px"
   },
   "toc_section_display": true,
   "toc_window_display": true
  }
 },
 "nbformat": 4,
 "nbformat_minor": 5
}
