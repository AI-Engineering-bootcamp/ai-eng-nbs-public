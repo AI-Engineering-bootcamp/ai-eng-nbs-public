{
 "cells": [
  {
   "cell_type": "markdown",
   "metadata": {},
   "source": [
    "# Virtual Envs"
   ]
  },
  {
   "cell_type": "markdown",
   "metadata": {},
   "source": [
    "## Intro notes"
   ]
  },
  {
   "cell_type": "markdown",
   "metadata": {
    "vscode": {
     "languageId": "plaintext"
    }
   },
   "source": [
    "### Create a venv with pip\n",
    "\n",
    "How to create a requirements.txt file using pip\n",
    "\n",
    "Create a new environment : ```$python -m venv 'env_name'```\n",
    "\n",
    "Activate new environment: \n",
    "\n",
    " - Windows: ```$'env_name'\\Scripts\\activate```; \n",
    " - Mac: ```source env_name/bin/activate```\n",
    "\n",
    "See that there are no packages in it: ```$pip freeze```\n",
    "\n",
    "Instal a Package: ```$pip install numpy```\n",
    "\n",
    "Check the package: ```$pip freeze```\n",
    "\n",
    "Save the packages list: ```$pip freeze > requirements.txt```\n",
    "\n",
    "Deactivate environment: ```$deactivate```\n",
    "\n",
    "------\n",
    "\n",
    "\n",
    "When you ever need to install many packages in another envirionemnt: ```$pip install -r requirements.txt```\n",
    "\n",
    "\n"
   ]
  },
  {
   "cell_type": "markdown",
   "metadata": {},
   "source": [
    "### Create venv with conda\n",
    "\n",
    "\n",
    "How to create a requirements.txt file using conda \n",
    "\n",
    "Create a new environment : ```$conda create -n 'env name'```\n",
    "\n",
    "Activate new environment: ```$conda activate 'env name'```\n",
    "\n",
    "See that there are no packages in it: ```$conda list```\n",
    "\n",
    "Instal a Package: ```$conda install -c conda-forge time```\n",
    "\n",
    "Check the package: ```$conda list```\n",
    "\n",
    "Choose a directory to save the packages list: ```$conda list -- export > requirements.txt```\n",
    "\n",
    "Install the packages in a new env: ```$conda create -n 'new env name'-- file requirements.txt```"
   ]
  },
  {
   "cell_type": "markdown",
   "metadata": {},
   "source": [
    "## Venv Tutorial\n",
    "\n",
    "This exercise is for you to simulate having to start coding python in a different machine. Whether it is because you are moving the code to a cloud service or you simply changed computer, it is important to know how to replicate what you have right now, in your machine, in another machine"
   ]
  },
  {
   "cell_type": "markdown",
   "metadata": {},
   "source": [
    "Please follow this tutorial:\n",
    "- Get a project that you have done before (lets do this only with python, dont use a project that involves SQL, WebApps, Tableau, etc)\n",
    "- Create new venv (like mentioned on the notes) and try to run the code there:\n",
    "  - You will notice that many packages are missing\n",
    "- Install only the necessary packages in this new virtual environment  \n",
    "- Create the requirements.txt file\n",
    "\n",
    "You are now ready to move your code....\n",
    "\n",
    "------\n",
    "\n",
    "In a different machine (it can be yours if you dont have an alternative)\n",
    " - Create a new venv\n",
    " - Install the requirements.txt file\n",
    " - Run the code\n"
   ]
  },
  {
   "cell_type": "markdown",
   "metadata": {},
   "source": [
    "### Example of code you can use in your venv tutorial"
   ]
  },
  {
   "cell_type": "code",
   "execution_count": 1,
   "metadata": {},
   "outputs": [
    {
     "name": "stdout",
     "output_type": "stream",
     "text": [
      "Marie Curie\n",
      "Born\n",
      "Died\n",
      "Cause of death\n",
      "Citizenship\n",
      "Alma mater\n",
      "Known for\n",
      "Spouse\n",
      "Children\n",
      "Awards\n",
      "Fields\n",
      "Institutions\n",
      "Thesis\n",
      "Doctoral advisor\n",
      "Doctoral students\n",
      "Signature\n",
      "Notes\n"
     ]
    }
   ],
   "source": [
    "# the main library you will need for webscraping is called Beautiful Soup\n",
    "from bs4 import BeautifulSoup\n",
    "\n",
    "# the second package we will need we already know it\n",
    "import requests\n",
    "\n",
    "\n",
    "url = \"https://en.wikipedia.org/wiki/Marie_Curie\"\n",
    "\n",
    "response = requests.get(url)\n",
    "soup = BeautifulSoup(response.content)\n",
    "tables = soup.find_all('table', attrs= {'class' : 'infobox biography vcard'})\n",
    "for line in tables[0].find_all('th'):\n",
    "  print(line.text)"
   ]
  }
 ],
 "metadata": {
  "kernelspec": {
   "display_name": "venv_ironhack",
   "language": "python",
   "name": "python3"
  },
  "language_info": {
   "codemirror_mode": {
    "name": "ipython",
    "version": 3
   },
   "file_extension": ".py",
   "mimetype": "text/x-python",
   "name": "python",
   "nbconvert_exporter": "python",
   "pygments_lexer": "ipython3",
   "version": "3.11.9"
  }
 },
 "nbformat": 4,
 "nbformat_minor": 2
}
